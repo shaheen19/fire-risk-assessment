{
 "cells": [
  {
   "cell_type": "code",
   "execution_count": 1,
   "metadata": {
    "ExecuteTime": {
     "end_time": "2020-06-17T19:05:40.068853Z",
     "start_time": "2020-06-17T19:05:40.064864Z"
    }
   },
   "outputs": [],
   "source": [
    "NAME = \"Robina Shaheen\"\n",
    "DATE = \"06172020\"\n",
    "COLLABORATORS = \"\""
   ]
  },
  {
   "cell_type": "markdown",
   "metadata": {},
   "source": [
    "# Scikit-learn\n",
    "\n",
    "Scikit-learn is a simple and efficient tools for predictive data analysis.\n",
    "\n",
    "It is designed for machine learning in python and built on NumPy, SciPy, and matplotlib.\n",
    "\n",
    "In this notebook I have employed Scikkit-learn to understand relationship between ozone and its precursors.\n",
    "\n",
    "Ozone formation depends on the presence of oxide of nitrogen, carbon monoxide and volatile organic compounds.\n",
    "\n",
    "However, VOC's are not measured at all the stations and few stations have values measured for half of the year. \n",
    "These msissing values cannot be predicted or filled due to spatial variability of its sources. \n"
   ]
  },
  {
   "cell_type": "code",
   "execution_count": null,
   "metadata": {
    "ExecuteTime": {
     "start_time": "2020-06-17T19:05:40.040Z"
    }
   },
   "outputs": [],
   "source": [
    "# Import packages/ modules\n",
    "import os\n",
    "import matplotlib.pyplot as plt\n",
    "import numpy as np\n",
    "import pandas as pd\n",
    "import earthpy as et\n",
    "import matplotlib.pyplot as plt  \n",
    "import matplotlib.dates as mdates\n",
    "from matplotlib.dates import DateFormatter\n",
    "import seaborn as sns\n",
    "import datetime\n",
    "from textwrap import wrap\n",
    "from statsmodels.formula.api import ols\n",
    "\n",
    "# Handle date time conversions between pandas and matplotlib\n",
    "from pandas.plotting import register_matplotlib_converters\n",
    "register_matplotlib_converters()\n",
    "\n",
    "# Scikit learn to train model and make predictions.\n",
    "from sklearn.model_selection import train_test_split \n",
    "from sklearn.linear_model import LinearRegression\n",
    "from sklearn import metrics\n",
    "\n",
    "\n",
    "# Use white grid plot background from seaborn\n",
    "sns.set(font_scale=1.5, style=\"whitegrid\")\n",
    "%matplotlib inline"
   ]
  },
  {
   "cell_type": "code",
   "execution_count": null,
   "metadata": {
    "ExecuteTime": {
     "start_time": "2020-06-17T19:05:40.044Z"
    }
   },
   "outputs": [],
   "source": [
    "# Conditional statement to check and set working directory. \n",
    "ea_path = os.path.join(et.io.HOME, 'earth-analytics')\n",
    "\n",
    "if os.path.exists(ea_path):\n",
    "    os.chdir(ea_path)\n",
    "    print(\"working directory is set to earth-analytics\") \n",
    "else:     \n",
    "    print(\"This path does not exist\")\n",
    "    \n",
    "# Set base path to download data \n",
    "base_path = os.path.join(ea_path, \"data\")\n",
    "base_path"
   ]
  },
  {
   "cell_type": "code",
   "execution_count": null,
   "metadata": {
    "ExecuteTime": {
     "start_time": "2020-06-17T19:05:40.047Z"
    }
   },
   "outputs": [],
   "source": [
    "file_path21 = os.path.join(base_path,\"output_figures\",\"sandiego_2014_fires\", \"air_quality_csv\",                     \n",
    "                         \"sd_chemical_composition_2014_mean_v02.csv\")\n",
    "\n",
    "# To check if path is created\n",
    "os.path.exists(file_path21)"
   ]
  },
  {
   "cell_type": "code",
   "execution_count": null,
   "metadata": {
    "ExecuteTime": {
     "start_time": "2020-06-17T19:05:40.050Z"
    }
   },
   "outputs": [],
   "source": [
    "sd_atm_df = pd.read_csv(file_path21, parse_dates=['Date Local'],\n",
    "                                index_col=['Date Local'])\n",
    "sd_atm_df.head(2)\n",
    "sd_atm_df.columns"
   ]
  },
  {
   "cell_type": "code",
   "execution_count": null,
   "metadata": {
    "ExecuteTime": {
     "start_time": "2020-06-17T19:05:40.052Z"
    }
   },
   "outputs": [],
   "source": [
    "sd_atm_df.shape"
   ]
  },
  {
   "cell_type": "code",
   "execution_count": null,
   "metadata": {
    "ExecuteTime": {
     "start_time": "2020-06-17T19:05:40.054Z"
    }
   },
   "outputs": [],
   "source": [
    "sd_atm_df.describe()"
   ]
  },
  {
   "cell_type": "code",
   "execution_count": null,
   "metadata": {
    "ExecuteTime": {
     "start_time": "2020-06-17T19:05:40.056Z"
    }
   },
   "outputs": [],
   "source": [
    "sd_atm_df.plot(x='NO2 (ppb)', y='CO_ppm', style='o', c='b')\n",
    "plt.title('Figure 1. Changes in CO with NO2')  \n",
    "plt.xlabel('NO2 (ppb)')  \n",
    "plt.ylabel('CO_ppm')  \n",
    "plt.show()"
   ]
  },
  {
   "cell_type": "code",
   "execution_count": null,
   "metadata": {
    "ExecuteTime": {
     "start_time": "2020-06-17T19:05:40.058Z"
    }
   },
   "outputs": [],
   "source": [
    "plt.figure(figsize=(4,4))\n",
    "sns.distplot(sd_atm_df['NO2 (ppb)'], color = 'b')\n",
    "plt.title('Figure 2. Distribution pattern of NO2')\n",
    "plt.show()\n",
    "# plt.tight_layout()"
   ]
  },
  {
   "cell_type": "code",
   "execution_count": null,
   "metadata": {
    "ExecuteTime": {
     "start_time": "2020-06-17T19:05:40.060Z"
    }
   },
   "outputs": [],
   "source": [
    "plt.figure(figsize=(4,4))\n",
    "sns.distplot(sd_atm_df['CO_ppm'], color = 'red')\n",
    "plt.title('Figure 3. Distribution pattern of CO')\n",
    "plt.tight_layout()"
   ]
  },
  {
   "cell_type": "markdown",
   "metadata": {},
   "source": [
    "Our next step is to divide the data into “attributes” and “labels”.\n",
    "Attributes are the independent variables while labels are dependent variables whose values are to be predicted. In our dataset, we only have two columns. We want to predict the MaxTemp depending upon the MinTemp recorded. Therefore our attribute set will consist of the “MinTemp” column which is stored in the X variable, and the label will be the “MaxTemp” column which is stored in y variable."
   ]
  },
  {
   "cell_type": "code",
   "execution_count": null,
   "metadata": {
    "ExecuteTime": {
     "start_time": "2020-06-17T19:05:40.063Z"
    }
   },
   "outputs": [],
   "source": [
    "X = sd_atm_df['NO2 (ppb)'].values.reshape(-1,1)\n",
    "y = sd_atm_df['CO_ppm'].values.reshape(-1,1)"
   ]
  },
  {
   "cell_type": "markdown",
   "metadata": {},
   "source": [
    "Next, we split 80% of the data to the training set while 20% of the data to test set using below code.\n",
    "The test_size variable is where we actually specify the proportion of the test set."
   ]
  },
  {
   "cell_type": "code",
   "execution_count": null,
   "metadata": {
    "ExecuteTime": {
     "start_time": "2020-06-17T19:05:40.065Z"
    }
   },
   "outputs": [],
   "source": [
    "X_train, X_test, y_train, y_test = train_test_split(X, y, test_size=0.2, random_state=0)"
   ]
  },
  {
   "cell_type": "markdown",
   "metadata": {},
   "source": [
    "After splitting the data into training and testing sets, finally, the time is to train our algorithm. \n",
    "\n",
    "For that, we need to import LinearRegression class, instantiate it, \n",
    "and call the fit() method along with our training data.\n",
    "\n",
    "As we have discussed that the linear regression model basically finds the best value for the intercept and slope, which results in a line that best fits the data. To see the value of the intercept and slope calculated by the linear regression algorithm for our dataset, execute the following code."
   ]
  },
  {
   "cell_type": "code",
   "execution_count": null,
   "metadata": {
    "ExecuteTime": {
     "start_time": "2020-06-17T19:05:40.067Z"
    }
   },
   "outputs": [],
   "source": [
    "regressor = LinearRegression()  \n",
    "regressor.fit(X_train, y_train) #training the algorithm"
   ]
  },
  {
   "cell_type": "code",
   "execution_count": null,
   "metadata": {
    "ExecuteTime": {
     "start_time": "2020-06-17T19:05:40.068Z"
    }
   },
   "outputs": [],
   "source": [
    "#To retrieve the intercept:\n",
    "print(regressor.intercept_)\n",
    "#For retrieving the slope:\n",
    "print(regressor.coef_)"
   ]
  },
  {
   "cell_type": "markdown",
   "metadata": {},
   "source": [
    "This means that for every one unit of change in NO2_mean, the change in the CO is about 0.029%.\n",
    "Now that we have trained our algorithm, it’s time to make some predictions. To do so, we will use our test data and see how accurately our algorithm predicts the percentage score. To make predictions on the test data, execute the following script:"
   ]
  },
  {
   "cell_type": "code",
   "execution_count": null,
   "metadata": {
    "ExecuteTime": {
     "start_time": "2020-06-17T19:05:40.071Z"
    }
   },
   "outputs": [],
   "source": [
    "y_pred = regressor.predict(X_test)"
   ]
  },
  {
   "cell_type": "markdown",
   "metadata": {},
   "source": [
    "Now compare the actual output values for X_test with the predicted values, execute the following script:"
   ]
  },
  {
   "cell_type": "code",
   "execution_count": null,
   "metadata": {
    "ExecuteTime": {
     "start_time": "2020-06-17T19:05:40.073Z"
    }
   },
   "outputs": [],
   "source": [
    "# Taking 20% data for CO and NO2 only\n",
    "df = pd.DataFrame({'Actual': y_test.flatten(), 'Predicted': y_pred.flatten()})\n",
    "df.head()"
   ]
  },
  {
   "cell_type": "markdown",
   "metadata": {},
   "source": [
    "We can also visualize comparison result as a bar graph using the below script :\n",
    "Note: As the number of records is huge, for representation purpose I’m taking just 15 records."
   ]
  },
  {
   "cell_type": "code",
   "execution_count": null,
   "metadata": {
    "ExecuteTime": {
     "start_time": "2020-06-17T19:05:40.075Z"
    }
   },
   "outputs": [],
   "source": [
    "df1 = df.head(15)\n",
    "df1.plot(kind='bar',figsize=(8,5))\n",
    "plt.grid(which='major', linestyle='-', linewidth='0.5', color='green')\n",
    "# plt.grid(which='minor', linestyle=':', linewidth='0.5', color='black')\n",
    "plt.title('Figure 4. Predicted and actual values of CO')\n",
    "plt.show()"
   ]
  },
  {
   "cell_type": "markdown",
   "metadata": {},
   "source": [
    "This model seems to work well as the predicted percentages are within the error limits for the actual ones.\n",
    "The overall variation was not high as all 10 monitoring station were averaged. \n",
    "\n",
    "The O3 formation and dissociation is complex process and depends on many parameters and hence changes in these variables will also affect ozone concentration at photochemical equilibrium."
   ]
  },
  {
   "cell_type": "code",
   "execution_count": null,
   "metadata": {
    "ExecuteTime": {
     "start_time": "2020-06-17T19:05:40.077Z"
    },
    "scrolled": true
   },
   "outputs": [],
   "source": [
    "# plotting straight line with the test data.\n",
    "plt.scatter(X_test, y_test,  color='gray')\n",
    "plt.plot(X_test, y_pred, color='red', linewidth=2)\n",
    "plt.title('Figure 5. linear fit (redline) between CO  NO2')\n",
    "plt.show()"
   ]
  },
  {
   "attachments": {
    "MAE%20formulae.png": {
     "image/png": "[encoded data removed]"
    },
    "MSE_formulae.png": {
     "image/png": "[encoded data removed]"
    },
    "RMSE_formulae.png": {
     "image/png": "[encoded data removed]"
    }
   },
   "cell_type": "markdown",
   "metadata": {},
   "source": [
    "# Statistical Analysis (One Variable)\n",
    "\n",
    "The straight line in the above graph shows our algorithm is correct.\n",
    "\n",
    "The final step is to evaluate the performance of the algorithm. \n",
    "This step is particularly important to compare how well different algorithms perform on a particular dataset. For regression algorithms, three evaluation metrics are commonly used:\n",
    "\n",
    "1. Mean Absolute Error (MAE) is the mean of the absolute value of the errors. It is calculated as:\n",
    "    \n",
    "![MAE%20formulae.png](attachment:MAE%20formulae.png)\n",
    "\n",
    "\n",
    "2. Mean Squared Error (MSE) is the mean of the squared errors and is calculated as:\n",
    "\n",
    "![MSE_formulae.png](attachment:MSE_formulae.png)\n",
    "\n",
    "3. Root Mean Squared Error (RMSE) is the square root of the mean of the squared errors:\n",
    "\n",
    "![RMSE_formulae.png](attachment:RMSE_formulae.png)\n",
    "\n",
    "Luckily, we don’t have to perform these calculations manually. The Scikit-Learn library comes with pre-built functions that can be used to find out these values for us.\n",
    "Let’s find the values for these metrics using our test data.\n"
   ]
  },
  {
   "cell_type": "code",
   "execution_count": null,
   "metadata": {
    "ExecuteTime": {
     "start_time": "2020-06-17T19:05:40.079Z"
    }
   },
   "outputs": [],
   "source": [
    "print('Mean Absolute Error:', metrics.mean_absolute_error(y_test, y_pred))  \n",
    "print('Mean Squared Error:', metrics.mean_squared_error(y_test, y_pred))  \n",
    "print('Root Mean Squared Error:', np.sqrt(metrics.mean_squared_error(y_test, y_pred)))"
   ]
  },
  {
   "cell_type": "markdown",
   "metadata": {},
   "source": [
    "## Conclusion for Single Variable Analysis\n",
    "\n",
    "All these values are excellent, indicative of an excellent fit of model."
   ]
  },
  {
   "attachments": {
    "image.png": {
     "image/png": "[encoded data removed]"
    }
   },
   "cell_type": "markdown",
   "metadata": {},
   "source": [
    "# Multiple Linear Regression (Final Test)\n",
    "\n",
    "## Holy grail in atmospheric chemistry: ozone prediction in the urban environment.\n",
    "\n",
    "\n",
    "The linear regression in the above section between CO and NO2 involved one variable. \n",
    "Now actual test is to understand ozone formation in the urban environment where multiple players are in action. \n",
    "\n",
    "\n",
    "In real-world Ozone formation and release of pllutants and atmospheric conditions show large variations and hence we need to include more than two variables using Multiple Linear Regression.\n",
    "\n",
    "\n",
    "![image.png](attachment:image.png)\n",
    "\n",
    "\n",
    "Linear regression involving multiple variables is called “multiple linear regression” or multivariate linear regression. The steps to perform multiple linear regression are almost similar to that of simple linear regression. \n",
    "\n",
    "The difference lies in the evaluation. We can use it to find out which factor has the highest impact on the predicted output and how different variables relate to each other."
   ]
  },
  {
   "cell_type": "code",
   "execution_count": null,
   "metadata": {
    "ExecuteTime": {
     "start_time": "2020-06-17T19:05:40.099Z"
    }
   },
   "outputs": [],
   "source": [
    "# To check empty columns, False means no empty colums\n",
    "sd_atm_df.isnull().any()"
   ]
  },
  {
   "cell_type": "markdown",
   "metadata": {},
   "source": [
    "Once the above code is executed, all the columns should give False, \n",
    "In case for any column you find True result, then remove all the null values from that column using below code."
   ]
  },
  {
   "cell_type": "code",
   "execution_count": null,
   "metadata": {
    "ExecuteTime": {
     "start_time": "2020-06-17T19:05:40.100Z"
    }
   },
   "outputs": [],
   "source": [
    "sd_atm_df = sd_atm_df.fillna(method='ffill')"
   ]
  },
  {
   "cell_type": "markdown",
   "metadata": {},
   "source": [
    "Our next step is to divide the data into “attributes” and “labels”. \n",
    "\n",
    "X variable contains all the attributes/features and y variable contains labels."
   ]
  },
  {
   "cell_type": "code",
   "execution_count": null,
   "metadata": {
    "ExecuteTime": {
     "start_time": "2020-06-17T19:05:40.102Z"
    }
   },
   "outputs": [],
   "source": [
    "X = sd_atm_df[[ 'NO2 (ppb)','CO_ppm', 'PM2.5 (ug/m3)']].values\n",
    "y = sd_atm_df['O3 (ppb)'].values"
   ]
  },
  {
   "cell_type": "code",
   "execution_count": null,
   "metadata": {
    "ExecuteTime": {
     "start_time": "2020-06-17T19:05:40.103Z"
    }
   },
   "outputs": [],
   "source": [
    "plt.figure(figsize=(4,4))\n",
    "plt.title('Figure 5. Distribution pattern of O3')\n",
    "sns.distplot(sd_atm_df['O3 (ppb)'])\n",
    "plt.tight_layout()"
   ]
  },
  {
   "cell_type": "raw",
   "metadata": {},
   "source": [
    "It is quite evident that ozone distrubtion is different from the CO and NO2 distribution pattern.\n",
    "\n",
    "Let us plot ozone versus NOx as both have same units of measurements."
   ]
  },
  {
   "cell_type": "code",
   "execution_count": null,
   "metadata": {
    "ExecuteTime": {
     "start_time": "2020-06-17T19:05:40.169Z"
    }
   },
   "outputs": [],
   "source": [
    "sd_atm_df.plot(x='NO2 (ppb)', y='O3 (ppb)', style='o', c='r')  \n",
    "plt.title('Figure 6. O3 vs NO2')  \n",
    "plt.xlabel('NO2 (ppb)')  \n",
    "plt.ylabel('O3 (ppb)')  \n",
    "plt.show()"
   ]
  },
  {
   "cell_type": "code",
   "execution_count": null,
   "metadata": {
    "ExecuteTime": {
     "start_time": "2020-06-17T19:05:40.172Z"
    }
   },
   "outputs": [],
   "source": [
    "X_train, X_test, y_train, y_test = train_test_split(X, y, test_size=0.2, random_state=0)"
   ]
  },
  {
   "cell_type": "code",
   "execution_count": null,
   "metadata": {
    "ExecuteTime": {
     "start_time": "2020-06-17T19:05:40.173Z"
    }
   },
   "outputs": [],
   "source": [
    "# Training Algorithm\n",
    "regressor = LinearRegression()  \n",
    "regressor.fit(X_train, y_train)"
   ]
  },
  {
   "cell_type": "code",
   "execution_count": null,
   "metadata": {
    "ExecuteTime": {
     "start_time": "2020-06-17T19:05:40.175Z"
    }
   },
   "outputs": [],
   "source": [
    "#To retrieve the intercept:\n",
    "print(regressor.intercept_)\n",
    "#For retrieving the slope:\n",
    "print(regressor.coef_)"
   ]
  },
  {
   "cell_type": "code",
   "execution_count": null,
   "metadata": {
    "ExecuteTime": {
     "start_time": "2020-06-17T19:05:40.176Z"
    }
   },
   "outputs": [],
   "source": [
    "y_pred = regressor.predict(X_test)\n",
    "# print(y_pred)"
   ]
  },
  {
   "cell_type": "code",
   "execution_count": null,
   "metadata": {
    "ExecuteTime": {
     "start_time": "2020-06-17T19:05:40.178Z"
    }
   },
   "outputs": [],
   "source": [
    "df2 = pd.DataFrame({'Actual': y_test, 'Predicted': y_pred})\n",
    "df2.head()"
   ]
  },
  {
   "cell_type": "code",
   "execution_count": null,
   "metadata": {
    "ExecuteTime": {
     "start_time": "2020-06-17T19:05:40.179Z"
    }
   },
   "outputs": [],
   "source": [
    "# printing only 20% values\n",
    "df2 = df2.head(20)\n",
    "df2.plot(kind='bar',figsize=(10,6))\n",
    "plt.grid(which='major', linestyle='-', linewidth='0.5', color='green')\n",
    "plt.grid(which='minor', linestyle=':', linewidth='0.5', color='black')\n",
    "plt.title('Figure 7. Comparison of actual and predicted values of ozone')\n",
    "plt.show()"
   ]
  },
  {
   "cell_type": "code",
   "execution_count": null,
   "metadata": {
    "ExecuteTime": {
     "start_time": "2020-06-17T19:05:40.181Z"
    }
   },
   "outputs": [],
   "source": [
    "print('Mean Absolute Error:', metrics.mean_absolute_error(y_test, y_pred))  \n",
    "print('Mean Squared Error:', metrics.mean_squared_error(y_test, y_pred))  \n",
    "print('Root Mean Squared Error:', np.sqrt(metrics.mean_squared_error(y_test, y_pred)))"
   ]
  },
  {
   "cell_type": "markdown",
   "metadata": {},
   "source": [
    "Mean O3 (ppb) = 30.693\n",
    "RMSE = 6.51\n",
    "\n",
    "# Conclusion:\n",
    "The ozone prediction from model = (6.51/30.69)*100 ~ 20% less than actual value. still reasonable model fit. \n",
    "\n",
    "Taking wildfire days out will improve the relationship between normal parameters and hence MLR coefficents.\n",
    "\n",
    "If we separate inland vs coastal, RMSE will reduce significantly. \n",
    "\n",
    "the O3 fromation depends on temp, pressure and destruction with OH radical, photolysis and collisons with air moleucles.  The data for one of the important source of ozone formation VOC is incomplete and it can signficntly brings predicted values in alignment with the observed one.\n"
   ]
  },
  {
   "cell_type": "code",
   "execution_count": null,
   "metadata": {},
   "outputs": [],
   "source": []
  }
 ],
 "metadata": {
  "kernelspec": {
   "display_name": "Python 3",
   "language": "python",
   "name": "python3"
  },
  "language_info": {
   "codemirror_mode": {
    "name": "ipython",
    "version": 3
   },
   "file_extension": ".py",
   "mimetype": "text/x-python",
   "name": "python",
   "nbconvert_exporter": "python",
   "pygments_lexer": "ipython3",
   "version": "3.7.6"
  },
  "toc": {
   "base_numbering": 1,
   "nav_menu": {},
   "number_sections": true,
   "sideBar": true,
   "skip_h1_title": false,
   "title_cell": "Table of Contents",
   "title_sidebar": "Contents",
   "toc_cell": false,
   "toc_position": {},
   "toc_section_display": true,
   "toc_window_display": false
  },
  "varInspector": {
   "cols": {
    "lenName": 16,
    "lenType": 16,
    "lenVar": 40
   },
   "kernels_config": {
    "python": {
     "delete_cmd_postfix": "",
     "delete_cmd_prefix": "del ",
     "library": "var_list.py",
     "varRefreshCmd": "print(var_dic_list())"
    },
    "r": {
     "delete_cmd_postfix": ") ",
     "delete_cmd_prefix": "rm(",
     "library": "var_list.r",
     "varRefreshCmd": "cat(var_dic_list()) "
    }
   },
   "types_to_exclude": [
    "module",
    "function",
    "builtin_function_or_method",
    "instance",
    "_Feature"
   ],
   "window_display": false
  }
 },
 "nbformat": 4,
 "nbformat_minor": 4
}
