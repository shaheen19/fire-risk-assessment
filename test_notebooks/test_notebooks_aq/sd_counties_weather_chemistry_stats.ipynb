{
 "cells": [
  {
   "cell_type": "code",
   "execution_count": 1,
   "metadata": {
    "ExecuteTime": {
     "end_time": "2020-06-15T19:42:44.749431Z",
     "start_time": "2020-06-15T19:42:42.803636Z"
    }
   },
   "outputs": [],
   "source": [
    "# Import packages/ modules\n",
    "import os\n",
    "import matplotlib.pyplot as plt\n",
    "import numpy as np\n",
    "import pandas as pd\n",
    "import earthpy as et\n",
    "import matplotlib.dates as mdates\n",
    "from matplotlib.dates import DateFormatter\n",
    "import seaborn as sns\n",
    "import datetime\n",
    "from textwrap import wrap\n",
    "from statsmodels.formula.api import ols\n",
    "# Handle date time conversions between pandas and matplotlib\n",
    "from pandas.plotting import register_matplotlib_converters\n",
    "register_matplotlib_converters()\n",
    "\n",
    "# Use white grid plot background from seaborn\n",
    "sns.set(font_scale=1.5, style=\"whitegrid\")"
   ]
  },
  {
   "cell_type": "code",
   "execution_count": 2,
   "metadata": {
    "ExecuteTime": {
     "end_time": "2020-06-15T19:42:44.810283Z",
     "start_time": "2020-06-15T19:42:44.801305Z"
    }
   },
   "outputs": [
    {
     "name": "stdout",
     "output_type": "stream",
     "text": [
      "working directory is set to earth-analytics\n"
     ]
    },
    {
     "data": {
      "text/plain": [
       "'C:\\\\Users\\\\bina_\\\\earth-analytics\\\\data'"
      ]
     },
     "execution_count": 2,
     "metadata": {},
     "output_type": "execute_result"
    }
   ],
   "source": [
    "# Conditional statement to check and set working directory. \n",
    "ea_path = os.path.join(et.io.HOME, 'earth-analytics')\n",
    "\n",
    "if os.path.exists(ea_path):\n",
    "    os.chdir(ea_path)\n",
    "    print(\"working directory is set to earth-analytics\") \n",
    "else:     \n",
    "    print(\"This path does not exist\")\n",
    "    \n",
    "# Set base path to download data \n",
    "base_path = os.path.join(ea_path, \"data\")\n",
    "base_path"
   ]
  },
  {
   "cell_type": "code",
   "execution_count": 3,
   "metadata": {
    "ExecuteTime": {
     "end_time": "2020-06-15T19:42:45.632099Z",
     "start_time": "2020-06-15T19:42:45.626083Z"
    }
   },
   "outputs": [
    {
     "data": {
      "text/plain": [
       "True"
      ]
     },
     "execution_count": 3,
     "metadata": {},
     "output_type": "execute_result"
    }
   ],
   "source": [
    "# Files to download for further analysis\n",
    "# Define relative path to files\n",
    "file_path1 = os.path.join(base_path,\"output_figures\",\"sandiego_2014_fires\", \"SD_weather_aq2014\",                     \n",
    "                         \"SD_O3.csv\")\n",
    "file_path2 = os.path.join(base_path,\"output_figures\",\"sandiego_2014_fires\", \"SD_weather_aq2014\",                     \n",
    "                         \"SD_wind.csv\")\n",
    "\n",
    "\n",
    "# file_path2 = os.path.join(base_path,\"output_figures\",\"sandiego_2014_fires\", \"air_quality_csv\",                     \n",
    "#                          \"sd_chemical_composition_2014_mean_values_only.csv\")\n",
    "\n",
    "# To check if path is created\n",
    "os.path.exists(file_path2)"
   ]
  },
  {
   "cell_type": "code",
   "execution_count": 13,
   "metadata": {
    "ExecuteTime": {
     "end_time": "2020-06-15T19:58:03.498189Z",
     "start_time": "2020-06-15T19:58:03.082688Z"
    }
   },
   "outputs": [
    {
     "data": {
      "text/html": [
       "<div>\n",
       "<style scoped>\n",
       "    .dataframe tbody tr th:only-of-type {\n",
       "        vertical-align: middle;\n",
       "    }\n",
       "\n",
       "    .dataframe tbody tr th {\n",
       "        vertical-align: top;\n",
       "    }\n",
       "\n",
       "    .dataframe thead th {\n",
       "        text-align: right;\n",
       "    }\n",
       "</style>\n",
       "<table border=\"1\" class=\"dataframe\">\n",
       "  <thead>\n",
       "    <tr style=\"text-align: right;\">\n",
       "      <th></th>\n",
       "      <th>State Code</th>\n",
       "      <th>County Code</th>\n",
       "      <th>Site Num</th>\n",
       "      <th>Parameter Code</th>\n",
       "      <th>POC</th>\n",
       "      <th>Latitude</th>\n",
       "      <th>Longitude</th>\n",
       "      <th>Pollutant Standard</th>\n",
       "      <th>Observation Count</th>\n",
       "      <th>Observation Percent</th>\n",
       "      <th>Wind (knot)</th>\n",
       "      <th>wind_mph</th>\n",
       "      <th>1st Max Value</th>\n",
       "      <th>1st Max Hour</th>\n",
       "      <th>AQI</th>\n",
       "      <th>Method Code</th>\n",
       "    </tr>\n",
       "  </thead>\n",
       "  <tbody>\n",
       "    <tr>\n",
       "      <th>count</th>\n",
       "      <td>5961.0</td>\n",
       "      <td>5961.0</td>\n",
       "      <td>5961.000000</td>\n",
       "      <td>5961.000000</td>\n",
       "      <td>5961.0</td>\n",
       "      <td>5961.000000</td>\n",
       "      <td>5961.000000</td>\n",
       "      <td>0.0</td>\n",
       "      <td>5961.000000</td>\n",
       "      <td>5961.000000</td>\n",
       "      <td>5961.000000</td>\n",
       "      <td>5961.000000</td>\n",
       "      <td>5961.000000</td>\n",
       "      <td>5961.000000</td>\n",
       "      <td>0.0</td>\n",
       "      <td>5961.0</td>\n",
       "    </tr>\n",
       "    <tr>\n",
       "      <th>mean</th>\n",
       "      <td>6.0</td>\n",
       "      <td>73.0</td>\n",
       "      <td>947.203154</td>\n",
       "      <td>61103.500084</td>\n",
       "      <td>1.0</td>\n",
       "      <td>32.858234</td>\n",
       "      <td>-117.092973</td>\n",
       "      <td>NaN</td>\n",
       "      <td>23.873679</td>\n",
       "      <td>99.480289</td>\n",
       "      <td>100.460877</td>\n",
       "      <td>115.530008</td>\n",
       "      <td>163.559755</td>\n",
       "      <td>12.353800</td>\n",
       "      <td>NaN</td>\n",
       "      <td>20.0</td>\n",
       "    </tr>\n",
       "    <tr>\n",
       "      <th>std</th>\n",
       "      <td>0.0</td>\n",
       "      <td>0.0</td>\n",
       "      <td>472.488245</td>\n",
       "      <td>0.500042</td>\n",
       "      <td>0.0</td>\n",
       "      <td>0.214739</td>\n",
       "      <td>0.179110</td>\n",
       "      <td>NaN</td>\n",
       "      <td>0.990888</td>\n",
       "      <td>4.115854</td>\n",
       "      <td>102.509766</td>\n",
       "      <td>117.886231</td>\n",
       "      <td>159.022424</td>\n",
       "      <td>5.690844</td>\n",
       "      <td>NaN</td>\n",
       "      <td>0.0</td>\n",
       "    </tr>\n",
       "    <tr>\n",
       "      <th>min</th>\n",
       "      <td>6.0</td>\n",
       "      <td>73.0</td>\n",
       "      <td>1.000000</td>\n",
       "      <td>61103.000000</td>\n",
       "      <td>1.0</td>\n",
       "      <td>32.552164</td>\n",
       "      <td>-117.396158</td>\n",
       "      <td>NaN</td>\n",
       "      <td>1.000000</td>\n",
       "      <td>4.000000</td>\n",
       "      <td>0.400000</td>\n",
       "      <td>0.460000</td>\n",
       "      <td>1.200000</td>\n",
       "      <td>0.000000</td>\n",
       "      <td>NaN</td>\n",
       "      <td>20.0</td>\n",
       "    </tr>\n",
       "    <tr>\n",
       "      <th>25%</th>\n",
       "      <td>6.0</td>\n",
       "      <td>73.0</td>\n",
       "      <td>1001.000000</td>\n",
       "      <td>61103.000000</td>\n",
       "      <td>1.0</td>\n",
       "      <td>32.701492</td>\n",
       "      <td>-117.149653</td>\n",
       "      <td>NaN</td>\n",
       "      <td>24.000000</td>\n",
       "      <td>100.000000</td>\n",
       "      <td>3.012500</td>\n",
       "      <td>3.464375</td>\n",
       "      <td>6.400000</td>\n",
       "      <td>9.000000</td>\n",
       "      <td>NaN</td>\n",
       "      <td>20.0</td>\n",
       "    </tr>\n",
       "    <tr>\n",
       "      <th>50%</th>\n",
       "      <td>6.0</td>\n",
       "      <td>73.0</td>\n",
       "      <td>1006.000000</td>\n",
       "      <td>61104.000000</td>\n",
       "      <td>1.0</td>\n",
       "      <td>32.842242</td>\n",
       "      <td>-117.075325</td>\n",
       "      <td>NaN</td>\n",
       "      <td>24.000000</td>\n",
       "      <td>100.000000</td>\n",
       "      <td>45.458333</td>\n",
       "      <td>52.277083</td>\n",
       "      <td>103.000000</td>\n",
       "      <td>13.000000</td>\n",
       "      <td>NaN</td>\n",
       "      <td>20.0</td>\n",
       "    </tr>\n",
       "    <tr>\n",
       "      <th>75%</th>\n",
       "      <td>6.0</td>\n",
       "      <td>73.0</td>\n",
       "      <td>1010.000000</td>\n",
       "      <td>61104.000000</td>\n",
       "      <td>1.0</td>\n",
       "      <td>32.952124</td>\n",
       "      <td>-116.942092</td>\n",
       "      <td>NaN</td>\n",
       "      <td>24.000000</td>\n",
       "      <td>100.000000</td>\n",
       "      <td>195.541667</td>\n",
       "      <td>224.872917</td>\n",
       "      <td>333.000000</td>\n",
       "      <td>15.000000</td>\n",
       "      <td>NaN</td>\n",
       "      <td>20.0</td>\n",
       "    </tr>\n",
       "    <tr>\n",
       "      <th>max</th>\n",
       "      <td>6.0</td>\n",
       "      <td>73.0</td>\n",
       "      <td>2007.000000</td>\n",
       "      <td>61104.000000</td>\n",
       "      <td>1.0</td>\n",
       "      <td>33.217025</td>\n",
       "      <td>-116.768225</td>\n",
       "      <td>NaN</td>\n",
       "      <td>24.000000</td>\n",
       "      <td>100.000000</td>\n",
       "      <td>314.041667</td>\n",
       "      <td>361.147917</td>\n",
       "      <td>360.000000</td>\n",
       "      <td>23.000000</td>\n",
       "      <td>NaN</td>\n",
       "      <td>20.0</td>\n",
       "    </tr>\n",
       "  </tbody>\n",
       "</table>\n",
       "</div>"
      ],
      "text/plain": [
       "       State Code  County Code     Site Num  Parameter Code     POC  \\\n",
       "count      5961.0       5961.0  5961.000000     5961.000000  5961.0   \n",
       "mean          6.0         73.0   947.203154    61103.500084     1.0   \n",
       "std           0.0          0.0   472.488245        0.500042     0.0   \n",
       "min           6.0         73.0     1.000000    61103.000000     1.0   \n",
       "25%           6.0         73.0  1001.000000    61103.000000     1.0   \n",
       "50%           6.0         73.0  1006.000000    61104.000000     1.0   \n",
       "75%           6.0         73.0  1010.000000    61104.000000     1.0   \n",
       "max           6.0         73.0  2007.000000    61104.000000     1.0   \n",
       "\n",
       "          Latitude    Longitude  Pollutant Standard  Observation Count  \\\n",
       "count  5961.000000  5961.000000                 0.0        5961.000000   \n",
       "mean     32.858234  -117.092973                 NaN          23.873679   \n",
       "std       0.214739     0.179110                 NaN           0.990888   \n",
       "min      32.552164  -117.396158                 NaN           1.000000   \n",
       "25%      32.701492  -117.149653                 NaN          24.000000   \n",
       "50%      32.842242  -117.075325                 NaN          24.000000   \n",
       "75%      32.952124  -116.942092                 NaN          24.000000   \n",
       "max      33.217025  -116.768225                 NaN          24.000000   \n",
       "\n",
       "       Observation Percent  Wind (knot)     wind_mph  1st Max Value  \\\n",
       "count          5961.000000  5961.000000  5961.000000    5961.000000   \n",
       "mean             99.480289   100.460877   115.530008     163.559755   \n",
       "std               4.115854   102.509766   117.886231     159.022424   \n",
       "min               4.000000     0.400000     0.460000       1.200000   \n",
       "25%             100.000000     3.012500     3.464375       6.400000   \n",
       "50%             100.000000    45.458333    52.277083     103.000000   \n",
       "75%             100.000000   195.541667   224.872917     333.000000   \n",
       "max             100.000000   314.041667   361.147917     360.000000   \n",
       "\n",
       "       1st Max Hour  AQI  Method Code  \n",
       "count   5961.000000  0.0       5961.0  \n",
       "mean      12.353800  NaN         20.0  \n",
       "std        5.690844  NaN          0.0  \n",
       "min        0.000000  NaN         20.0  \n",
       "25%        9.000000  NaN         20.0  \n",
       "50%       13.000000  NaN         20.0  \n",
       "75%       15.000000  NaN         20.0  \n",
       "max       23.000000  NaN         20.0  "
      ]
     },
     "execution_count": 13,
     "metadata": {},
     "output_type": "execute_result"
    }
   ],
   "source": [
    "# Import csv files into dataframe and ensure date time is imported properly.\n",
    "sd_counties_O3_df = pd.read_csv(file_path1, parse_dates=['Date Local'],\n",
    "                                index_col=['Date Local'])\n",
    "sd_counties_wind_df = pd.read_csv(file_path2, parse_dates=['Date Local'],\n",
    "                                index_col=['Date Local'])\n",
    "sd_counties_wind_df.head(2)\n",
    "# sd_counties_wind_df.columns\n",
    "sd_counties_wind_df.describe()"
   ]
  },
  {
   "cell_type": "code",
   "execution_count": 11,
   "metadata": {
    "ExecuteTime": {
     "end_time": "2020-06-15T19:57:18.154926Z",
     "start_time": "2020-06-15T19:57:18.116000Z"
    }
   },
   "outputs": [],
   "source": [
    "#### agg functions is givin wrong values for mph\n",
    "sd_wind_mean_sem = sd_counties_wind_df.groupby('Date Local').agg({'wind_mph': ['mean','sem']})\n",
    "sd_wind_mean_sem.to_csv('data/output_figures/sandiego_2014_fires/air_quality_csv/sd_wind_mean_sem_2014.csv')\n",
    "\n",
    "##########\n",
    "sd_wind_knots_mean_sem = sd_counties_wind_df.groupby('Date Local').agg({'Wind (knot)': ['mean','sem']})\n",
    "sd_wind_knots_mean_sem.to_csv('data/output_figures/sandiego_2014_fires/air_quality_csv/sd_wind_knots_mean_sem_2014.csv')\n",
    "\n",
    "############\n",
    "\n",
    "sd_wind_mean_mph = pd.DataFrame(sd_counties_wind_df.groupby(['Date Local'\n",
    "                           ]).mean()[\"wind_mph\"])\n",
    "sd_wind_mean_mph.to_csv('data/output_figures/sandiego_2014_fires/air_quality_csv/sd_wind_mean_mph.csv')\n"
   ]
  },
  {
   "cell_type": "code",
   "execution_count": 14,
   "metadata": {
    "ExecuteTime": {
     "end_time": "2020-06-15T21:01:34.170487Z",
     "start_time": "2020-06-15T21:01:34.157522Z"
    }
   },
   "outputs": [
    {
     "name": "stdout",
     "output_type": "stream",
     "text": [
      "Total measurements at SD County in 2014: 3859\n",
      "Monitoring stations of San Diego County: ['Chula Vista' 'El Cajon' 'Del Mar' 'Escondido' 'Alpine'\n",
      " 'Camp Pendleton South' 'San Diego' 'Boulevard' 'Pala' 'Otay Mesa']\n",
      "San Diego               973\n",
      "Del Mar                 367\n",
      "Alpine                  365\n",
      "Camp Pendleton South    365\n",
      "Chula Vista             365\n",
      "Boulevard               359\n",
      "Escondido               358\n",
      "Pala                    347\n",
      "El Cajon                240\n",
      "Otay Mesa               120\n",
      "Name: City Name, dtype: int64\n"
     ]
    }
   ],
   "source": [
    "# sd_counties_O3_df['City Name'].unique()\n",
    "print(\"Total measurements at SD County in 2014:\", sd_counties_O3_df['City Name'].count())\n",
    "print(\"Monitoring stations of San Diego County:\",sd_counties_O3_df['City Name'].unique())\n",
    "print(sd_counties_O3_df['City Name'].value_counts())\n",
    "\n",
    "#######\n",
    "city = ['San Diego', 'Del Mar', 'Camp Pendleton South']\n",
    "sd_coastal= sd_counties_O3_df[sd_counties_O3_df['City Name'].isin(city)]\n",
    "# sd_coastal.head(2)\n",
    "# selecting rows based on condition \n",
    "# rslt_df = dataframe.loc[(dataframe['Age'] == 21) & \n",
    "#               dataframe['Stream'].isin(options)] \n",
    "# rslt_df = dataframe[dataframe['Stream'].isin(options)]\n",
    "# sd_counties_O3_df.columns"
   ]
  },
  {
   "cell_type": "code",
   "execution_count": 15,
   "metadata": {
    "ExecuteTime": {
     "end_time": "2020-06-15T21:01:34.856160Z",
     "start_time": "2020-06-15T21:01:34.848182Z"
    }
   },
   "outputs": [
    {
     "name": "stdout",
     "output_type": "stream",
     "text": [
      "3859\n",
      "['Chula Vista' 'El Cajon' 'Del Mar' 'Escondido' 'Alpine' 'Camp Pendleton'\n",
      " 'San Diego - Beardsley Street' 'La Posta Reservation' 'Kearny Villa Rd.'\n",
      " 'Pala Airpad' 'Otay Mesa' 'El Cajon - Floyd Smith Dr.' 'Donovan']\n",
      "Del Mar                         367\n",
      "Camp Pendleton                  365\n",
      "Alpine                          365\n",
      "Chula Vista                     365\n",
      "San Diego - Beardsley Street    364\n",
      "Kearny Villa Rd.                363\n",
      "La Posta Reservation            359\n",
      "Escondido                       358\n",
      "Pala Airpad                     347\n",
      "Otay Mesa                       246\n",
      "El Cajon - Floyd Smith Dr.      182\n",
      "Donovan                         120\n",
      "El Cajon                         58\n",
      "Name: Local Site Name, dtype: int64\n"
     ]
    }
   ],
   "source": [
    "print(sd_counties_O3_df['Local Site Name'].count())\n",
    "print(sd_counties_O3_df['Local Site Name'].unique())\n",
    "# print(sd_counties_O3_df.dtype)\n",
    "print(sd_counties_O3_df['Local Site Name'].value_counts())\n",
    "\n"
   ]
  },
  {
   "cell_type": "code",
   "execution_count": 16,
   "metadata": {
    "ExecuteTime": {
     "end_time": "2020-06-15T21:01:35.414241Z",
     "start_time": "2020-06-15T21:01:35.408259Z"
    }
   },
   "outputs": [
    {
     "data": {
      "text/plain": [
       "Index(['State Code', 'County Code', 'Site Num', 'Parameter Code', 'POC',\n",
       "       'Latitude', 'Longitude', 'Datum', 'Parameter Name', 'Sample Duration',\n",
       "       'Pollutant Standard', 'Units of Measure', 'Event Type',\n",
       "       'Observation Count', 'Observation Percent', 'Arithmetic Mean', 'O3_ppb',\n",
       "       '1st Max Value', '1st Max Hour', 'AQI', 'Method Code', 'Method Name',\n",
       "       'Local Site Name', 'Address', 'State Name', 'County Name', 'City Name',\n",
       "       'CBSA Name', 'Date of Last Change'],\n",
       "      dtype='object')"
      ]
     },
     "execution_count": 16,
     "metadata": {},
     "output_type": "execute_result"
    }
   ],
   "source": [
    "sd_counties_O3_df.columns\n",
    "# sd_counties_O3_df.head()\n"
   ]
  },
  {
   "cell_type": "code",
   "execution_count": 17,
   "metadata": {
    "ExecuteTime": {
     "end_time": "2020-06-15T21:01:35.913415Z",
     "start_time": "2020-06-15T21:01:35.903441Z"
    }
   },
   "outputs": [
    {
     "data": {
      "text/html": [
       "<div>\n",
       "<style scoped>\n",
       "    .dataframe tbody tr th:only-of-type {\n",
       "        vertical-align: middle;\n",
       "    }\n",
       "\n",
       "    .dataframe tbody tr th {\n",
       "        vertical-align: top;\n",
       "    }\n",
       "\n",
       "    .dataframe thead th {\n",
       "        text-align: right;\n",
       "    }\n",
       "</style>\n",
       "<table border=\"1\" class=\"dataframe\">\n",
       "  <thead>\n",
       "    <tr style=\"text-align: right;\">\n",
       "      <th></th>\n",
       "      <th>City Name</th>\n",
       "      <th>O3_ppb</th>\n",
       "    </tr>\n",
       "    <tr>\n",
       "      <th>Date Local</th>\n",
       "      <th></th>\n",
       "      <th></th>\n",
       "    </tr>\n",
       "  </thead>\n",
       "  <tbody>\n",
       "    <tr>\n",
       "      <th>2014-01-01</th>\n",
       "      <td>Chula Vista</td>\n",
       "      <td>16.529</td>\n",
       "    </tr>\n",
       "    <tr>\n",
       "      <th>2014-01-01</th>\n",
       "      <td>El Cajon</td>\n",
       "      <td>18.706</td>\n",
       "    </tr>\n",
       "    <tr>\n",
       "      <th>2014-01-01</th>\n",
       "      <td>Del Mar</td>\n",
       "      <td>27.059</td>\n",
       "    </tr>\n",
       "    <tr>\n",
       "      <th>2014-01-01</th>\n",
       "      <td>Escondido</td>\n",
       "      <td>15.647</td>\n",
       "    </tr>\n",
       "    <tr>\n",
       "      <th>2014-01-01</th>\n",
       "      <td>Alpine</td>\n",
       "      <td>51.118</td>\n",
       "    </tr>\n",
       "    <tr>\n",
       "      <th>...</th>\n",
       "      <td>...</td>\n",
       "      <td>...</td>\n",
       "    </tr>\n",
       "    <tr>\n",
       "      <th>2014-12-31</th>\n",
       "      <td>Boulevard</td>\n",
       "      <td>14.833</td>\n",
       "    </tr>\n",
       "    <tr>\n",
       "      <th>2014-12-31</th>\n",
       "      <td>Otay Mesa</td>\n",
       "      <td>30.333</td>\n",
       "    </tr>\n",
       "    <tr>\n",
       "      <th>2014-12-31</th>\n",
       "      <td>San Diego</td>\n",
       "      <td>27.083</td>\n",
       "    </tr>\n",
       "    <tr>\n",
       "      <th>2014-12-31</th>\n",
       "      <td>El Cajon</td>\n",
       "      <td>19.833</td>\n",
       "    </tr>\n",
       "    <tr>\n",
       "      <th>2014-12-31</th>\n",
       "      <td>Pala</td>\n",
       "      <td>26.417</td>\n",
       "    </tr>\n",
       "  </tbody>\n",
       "</table>\n",
       "<p>3859 rows × 2 columns</p>\n",
       "</div>"
      ],
      "text/plain": [
       "              City Name  O3_ppb\n",
       "Date Local                     \n",
       "2014-01-01  Chula Vista  16.529\n",
       "2014-01-01     El Cajon  18.706\n",
       "2014-01-01      Del Mar  27.059\n",
       "2014-01-01    Escondido  15.647\n",
       "2014-01-01       Alpine  51.118\n",
       "...                 ...     ...\n",
       "2014-12-31    Boulevard  14.833\n",
       "2014-12-31    Otay Mesa  30.333\n",
       "2014-12-31    San Diego  27.083\n",
       "2014-12-31     El Cajon  19.833\n",
       "2014-12-31         Pala  26.417\n",
       "\n",
       "[3859 rows x 2 columns]"
      ]
     },
     "execution_count": 17,
     "metadata": {},
     "output_type": "execute_result"
    }
   ],
   "source": [
    "sd_stations = sd_counties_O3_df[['City Name', 'O3_ppb']]\n",
    "sd_stations\n",
    "\n",
    "# sd_stations.reset_index(inplace = True)\n",
    "sd_stations"
   ]
  },
  {
   "cell_type": "code",
   "execution_count": 18,
   "metadata": {
    "ExecuteTime": {
     "end_time": "2020-06-15T21:01:36.467947Z",
     "start_time": "2020-06-15T21:01:36.425045Z"
    }
   },
   "outputs": [
    {
     "data": {
      "text/html": [
       "<div>\n",
       "<style scoped>\n",
       "    .dataframe tbody tr th:only-of-type {\n",
       "        vertical-align: middle;\n",
       "    }\n",
       "\n",
       "    .dataframe tbody tr th {\n",
       "        vertical-align: top;\n",
       "    }\n",
       "\n",
       "    .dataframe thead tr th {\n",
       "        text-align: left;\n",
       "    }\n",
       "</style>\n",
       "<table border=\"1\" class=\"dataframe\">\n",
       "  <thead>\n",
       "    <tr>\n",
       "      <th></th>\n",
       "      <th colspan=\"2\" halign=\"left\">O3_ppb</th>\n",
       "    </tr>\n",
       "    <tr>\n",
       "      <th></th>\n",
       "      <th>mean</th>\n",
       "      <th>sem</th>\n",
       "    </tr>\n",
       "  </thead>\n",
       "  <tbody>\n",
       "    <tr>\n",
       "      <th>count</th>\n",
       "      <td>365.000000</td>\n",
       "      <td>365.000000</td>\n",
       "    </tr>\n",
       "    <tr>\n",
       "      <th>mean</th>\n",
       "      <td>30.141161</td>\n",
       "      <td>4.599378</td>\n",
       "    </tr>\n",
       "    <tr>\n",
       "      <th>std</th>\n",
       "      <td>6.654386</td>\n",
       "      <td>1.313292</td>\n",
       "    </tr>\n",
       "    <tr>\n",
       "      <th>min</th>\n",
       "      <td>11.171286</td>\n",
       "      <td>1.337229</td>\n",
       "    </tr>\n",
       "    <tr>\n",
       "      <th>25%</th>\n",
       "      <td>24.800000</td>\n",
       "      <td>3.621007</td>\n",
       "    </tr>\n",
       "    <tr>\n",
       "      <th>50%</th>\n",
       "      <td>30.506750</td>\n",
       "      <td>4.451075</td>\n",
       "    </tr>\n",
       "    <tr>\n",
       "      <th>75%</th>\n",
       "      <td>34.791714</td>\n",
       "      <td>5.413959</td>\n",
       "    </tr>\n",
       "    <tr>\n",
       "      <th>max</th>\n",
       "      <td>49.582667</td>\n",
       "      <td>9.084023</td>\n",
       "    </tr>\n",
       "  </tbody>\n",
       "</table>\n",
       "</div>"
      ],
      "text/plain": [
       "           O3_ppb            \n",
       "             mean         sem\n",
       "count  365.000000  365.000000\n",
       "mean    30.141161    4.599378\n",
       "std      6.654386    1.313292\n",
       "min     11.171286    1.337229\n",
       "25%     24.800000    3.621007\n",
       "50%     30.506750    4.451075\n",
       "75%     34.791714    5.413959\n",
       "max     49.582667    9.084023"
      ]
     },
     "execution_count": 18,
     "metadata": {},
     "output_type": "execute_result"
    }
   ],
   "source": [
    "sd_coastal= sd_stations[sd_stations['City Name'].isin([\n",
    "                                    'Del Mar', \n",
    " 'Camp Pendleton South', 'San Diego' ])]\n",
    "sd_coastal\n",
    "\n",
    "sd_inland= sd_stations[sd_stations['City Name'].isin(['Chula Vista' ,'El Cajon', \n",
    "                                                      'Escondido' ,'Alpine',\n",
    "                                                 'Boulevard' ,'Pala', 'Otay Mesa'\n",
    "                                    ])]\n",
    "sd_inland\n",
    "\n",
    "sd_inland_mean_sem_O3 = sd_inland.groupby('Date Local').agg({'O3_ppb': ['mean','sem']})\n",
    "sd_inland_mean_sem_O3.to_csv('data/output_figures/sandiego_2014_fires/air_quality_csv/sd_inland_mean_sem_O3.csv')\n",
    "\n",
    "# sd_inland = pd.DataFrame(sd_PM10.groupby(['Date Local'\n",
    "#                          ]).mean()[\"Arithmetic Mean\"])\n",
    "sd_inland_mean_sem_O3.describe()\n",
    "\n"
   ]
  },
  {
   "cell_type": "code",
   "execution_count": 19,
   "metadata": {
    "ExecuteTime": {
     "end_time": "2020-06-15T21:01:36.979578Z",
     "start_time": "2020-06-15T21:01:36.943674Z"
    }
   },
   "outputs": [
    {
     "data": {
      "text/html": [
       "<div>\n",
       "<style scoped>\n",
       "    .dataframe tbody tr th:only-of-type {\n",
       "        vertical-align: middle;\n",
       "    }\n",
       "\n",
       "    .dataframe tbody tr th {\n",
       "        vertical-align: top;\n",
       "    }\n",
       "\n",
       "    .dataframe thead tr th {\n",
       "        text-align: left;\n",
       "    }\n",
       "</style>\n",
       "<table border=\"1\" class=\"dataframe\">\n",
       "  <thead>\n",
       "    <tr>\n",
       "      <th></th>\n",
       "      <th colspan=\"2\" halign=\"left\">O3_ppb</th>\n",
       "    </tr>\n",
       "    <tr>\n",
       "      <th></th>\n",
       "      <th>mean</th>\n",
       "      <th>sem</th>\n",
       "    </tr>\n",
       "  </thead>\n",
       "  <tbody>\n",
       "    <tr>\n",
       "      <th>count</th>\n",
       "      <td>365.000000</td>\n",
       "      <td>365.000000</td>\n",
       "    </tr>\n",
       "    <tr>\n",
       "      <th>mean</th>\n",
       "      <td>31.317654</td>\n",
       "      <td>2.538653</td>\n",
       "    </tr>\n",
       "    <tr>\n",
       "      <th>std</th>\n",
       "      <td>7.719745</td>\n",
       "      <td>1.142246</td>\n",
       "    </tr>\n",
       "    <tr>\n",
       "      <th>min</th>\n",
       "      <td>9.941250</td>\n",
       "      <td>0.292157</td>\n",
       "    </tr>\n",
       "    <tr>\n",
       "      <th>25%</th>\n",
       "      <td>26.223600</td>\n",
       "      <td>1.675279</td>\n",
       "    </tr>\n",
       "    <tr>\n",
       "      <th>50%</th>\n",
       "      <td>31.341000</td>\n",
       "      <td>2.503822</td>\n",
       "    </tr>\n",
       "    <tr>\n",
       "      <th>75%</th>\n",
       "      <td>36.468400</td>\n",
       "      <td>3.158639</td>\n",
       "    </tr>\n",
       "    <tr>\n",
       "      <th>max</th>\n",
       "      <td>55.222000</td>\n",
       "      <td>6.642973</td>\n",
       "    </tr>\n",
       "  </tbody>\n",
       "</table>\n",
       "</div>"
      ],
      "text/plain": [
       "           O3_ppb            \n",
       "             mean         sem\n",
       "count  365.000000  365.000000\n",
       "mean    31.317654    2.538653\n",
       "std      7.719745    1.142246\n",
       "min      9.941250    0.292157\n",
       "25%     26.223600    1.675279\n",
       "50%     31.341000    2.503822\n",
       "75%     36.468400    3.158639\n",
       "max     55.222000    6.642973"
      ]
     },
     "execution_count": 19,
     "metadata": {},
     "output_type": "execute_result"
    }
   ],
   "source": [
    "sd_coastal_mean_sem_O3 = sd_coastal.groupby('Date Local').agg({'O3_ppb': ['mean','sem']})\n",
    "sd_coastal_mean_sem_O3.to_csv('data/output_figures/sandiego_2014_fires/air_quality_csv/sd_coastal_mean_sem_O3.csv')\n",
    "sd_coastal_mean_sem_O3.describe()"
   ]
  },
  {
   "cell_type": "code",
   "execution_count": 20,
   "metadata": {
    "ExecuteTime": {
     "end_time": "2020-06-15T21:01:38.549393Z",
     "start_time": "2020-06-15T21:01:37.429390Z"
    }
   },
   "outputs": [
    {
     "data": {
      "text/plain": [
       "<Figure size 432x288 with 0 Axes>"
      ]
     },
     "metadata": {},
     "output_type": "display_data"
    },
    {
     "data": {
      "image/png": "[encoded data removed]",
      "text/plain": [
       "<Figure size 432x432 with 2 Axes>"
      ]
     },
     "metadata": {},
     "output_type": "display_data"
    }
   ],
   "source": [
    "plt.figure()\n",
    "# plt.legend(loc='best')\n",
    "\n",
    "sd_inland_mean_sem_O3.plot(subplots=True, figsize=(6, 6));"
   ]
  },
  {
   "cell_type": "code",
   "execution_count": 21,
   "metadata": {
    "ExecuteTime": {
     "end_time": "2020-06-15T21:01:40.107882Z",
     "start_time": "2020-06-15T21:01:39.026628Z"
    }
   },
   "outputs": [
    {
     "data": {
      "text/plain": [
       "<Figure size 432x288 with 0 Axes>"
      ]
     },
     "metadata": {},
     "output_type": "display_data"
    },
    {
     "data": {
      "image/png": "[encoded data removed]",
      "text/plain": [
       "<Figure size 432x432 with 2 Axes>"
      ]
     },
     "metadata": {},
     "output_type": "display_data"
    }
   ],
   "source": [
    "# sd_stations['O3_ppb'].plot()\n",
    "# sd_stations['AQI'].plot(secondary_y=True, style='g')\n",
    "\n",
    "# fig, (ax1, ax2,ax3) = plt.subplots(3,1, figsize=(10,10))\n",
    "\n",
    "# for key, grp in sd_stations2.groupby(['City Name']):\n",
    "#     ax1 = grp.plot(ax=ax1, kind='line', x='Date Local', y='O3_ppb', label=key)\n",
    "\n",
    "# for key, grp in sd_stations2.groupby(['City Name']):\n",
    "#     ax2 = grp.plot(ax=ax2, kind='line', x='Date Local', y='O3_ppb', label=key)\n",
    "# for key, grp in sd_stations2.groupby(['City Name']):\n",
    "#     ax3 = grp.plot(ax=ax3, kind='line', x='Date Local', y='O3_ppb', label=key)\n",
    "\n",
    "\n",
    "# plt.legend(loc='best')\n",
    "\n",
    "plt.figure()\n",
    "\n",
    "sd_coastal_mean_sem_O3.plot(subplots=True, figsize=(6, 6));\n"
   ]
  },
  {
   "cell_type": "code",
   "execution_count": null,
   "metadata": {},
   "outputs": [],
   "source": [
    "sd_coastal_mean_sem_O3.reset_index(inplace=True)\n",
    "\n",
    "andrews_curves(sd_weather_2014_df_reformat, \"variable\", colormap = \"RdYlBu\")"
   ]
  },
  {
   "cell_type": "code",
   "execution_count": 23,
   "metadata": {
    "ExecuteTime": {
     "end_time": "2020-06-15T21:02:05.292510Z",
     "start_time": "2020-06-15T21:02:05.288521Z"
    }
   },
   "outputs": [],
   "source": [
    "# pd.plotting.scatter_matrix(sd_stations, s=50, figsize = [8,6]);\n",
    "# plt.show()"
   ]
  },
  {
   "cell_type": "code",
   "execution_count": 24,
   "metadata": {
    "ExecuteTime": {
     "end_time": "2020-06-15T21:02:07.546104Z",
     "start_time": "2020-06-15T21:02:07.535135Z"
    }
   },
   "outputs": [
    {
     "data": {
      "text/html": [
       "<div>\n",
       "<style scoped>\n",
       "    .dataframe tbody tr th:only-of-type {\n",
       "        vertical-align: middle;\n",
       "    }\n",
       "\n",
       "    .dataframe tbody tr th {\n",
       "        vertical-align: top;\n",
       "    }\n",
       "\n",
       "    .dataframe thead th {\n",
       "        text-align: right;\n",
       "    }\n",
       "</style>\n",
       "<table border=\"1\" class=\"dataframe\">\n",
       "  <thead>\n",
       "    <tr style=\"text-align: right;\">\n",
       "      <th></th>\n",
       "      <th>City Name</th>\n",
       "      <th>O3_ppb</th>\n",
       "    </tr>\n",
       "    <tr>\n",
       "      <th>Date Local</th>\n",
       "      <th></th>\n",
       "      <th></th>\n",
       "    </tr>\n",
       "  </thead>\n",
       "  <tbody>\n",
       "    <tr>\n",
       "      <th>2014-01-01</th>\n",
       "      <td>Chula Vista</td>\n",
       "      <td>16.529</td>\n",
       "    </tr>\n",
       "    <tr>\n",
       "      <th>2014-01-01</th>\n",
       "      <td>El Cajon</td>\n",
       "      <td>18.706</td>\n",
       "    </tr>\n",
       "    <tr>\n",
       "      <th>2014-01-01</th>\n",
       "      <td>Del Mar</td>\n",
       "      <td>27.059</td>\n",
       "    </tr>\n",
       "    <tr>\n",
       "      <th>2014-01-01</th>\n",
       "      <td>Escondido</td>\n",
       "      <td>15.647</td>\n",
       "    </tr>\n",
       "    <tr>\n",
       "      <th>2014-01-01</th>\n",
       "      <td>Alpine</td>\n",
       "      <td>51.118</td>\n",
       "    </tr>\n",
       "  </tbody>\n",
       "</table>\n",
       "</div>"
      ],
      "text/plain": [
       "              City Name  O3_ppb\n",
       "Date Local                     \n",
       "2014-01-01  Chula Vista  16.529\n",
       "2014-01-01     El Cajon  18.706\n",
       "2014-01-01      Del Mar  27.059\n",
       "2014-01-01    Escondido  15.647\n",
       "2014-01-01       Alpine  51.118"
      ]
     },
     "execution_count": 24,
     "metadata": {},
     "output_type": "execute_result"
    }
   ],
   "source": [
    "# creating filters of bool series from isin()\n",
    "sd_station2= sd_stations[sd_stations['City Name'].isin(['Chula Vista',\n",
    "                                   'El Cajon', 'Del Mar', 'Escondido', 'Alpine',\n",
    " 'Camp Pendleton South', 'San Diego' ])]\n",
    "\n",
    "sd_stations.head()\n",
    "\n",
    "# df[df[\"City Name\"].isin[\"City_1\", \"City_2]\n",
    "\n",
    "\n",
    "# sd_counties_O3_df\n",
    "# sd_counties_O3_df\n",
    "# filter1 = data[\"Gender\"].isin([\"Female\"]) \n",
    "# filter2 = data[\"Team\"].isin([\"Engineering\", \"Distribution\", \"Finance\" ]) \n",
    "  \n",
    "# # displaying data with both filter applied and mandatory  \n",
    "# data[filter1 & filter2] \n",
    "# (df.loc[df['B'].isin(['one','three'])])\n"
   ]
  },
  {
   "cell_type": "code",
   "execution_count": null,
   "metadata": {
    "ExecuteTime": {
     "end_time": "2020-06-10T13:53:33.792540Z",
     "start_time": "2020-06-10T13:53:33.788550Z"
    }
   },
   "outputs": [],
   "source": [
    "# sd_O3_city= sd_counties_O3_df.groupby(['City Name'])[\"O3_ppb\"]\n",
    "# pd.plotting.scatter_matrix(sd_O3_city, s=50, figsize = [8,6]);\n",
    "# plt.show()"
   ]
  },
  {
   "cell_type": "code",
   "execution_count": null,
   "metadata": {
    "ExecuteTime": {
     "end_time": "2020-06-09T20:43:10.991802Z",
     "start_time": "2020-06-09T20:43:10.988787Z"
    }
   },
   "outputs": [],
   "source": [
    "# # Express the names as categories\n",
    "# categories = pd.plotting.Categorical(sd_2014_df)\n",
    "\n",
    "# # The parameter 'c' is passed to plt.scatter and will control the color\n",
    "# plotting.scatter_matrix(data, c=categories.codes, marker='o')\n",
    "\n",
    "# fig = plt.gcf()\n",
    "# fig.suptitle(\"blue: setosa, green: versicolor, red: virginica\", size=13)\n"
   ]
  },
  {
   "cell_type": "code",
   "execution_count": 25,
   "metadata": {
    "ExecuteTime": {
     "end_time": "2020-06-15T21:02:12.798741Z",
     "start_time": "2020-06-15T21:02:12.783782Z"
    }
   },
   "outputs": [
    {
     "ename": "NameError",
     "evalue": "name 'sd_weather_2014_df' is not defined",
     "output_type": "error",
     "traceback": [
      "\u001b[1;31m---------------------------------------------------------------------------\u001b[0m",
      "\u001b[1;31mNameError\u001b[0m                                 Traceback (most recent call last)",
      "\u001b[1;32m<ipython-input-25-142777b7c788>\u001b[0m in \u001b[0;36m<module>\u001b[1;34m\u001b[0m\n\u001b[0;32m      1\u001b[0m \u001b[1;31m# df= sd_weather_2014_df.reset_index(inplace = True)\u001b[0m\u001b[1;33m\u001b[0m\u001b[1;33m\u001b[0m\u001b[1;33m\u001b[0m\u001b[0m\n\u001b[0;32m      2\u001b[0m \u001b[1;31m# df\u001b[0m\u001b[1;33m\u001b[0m\u001b[1;33m\u001b[0m\u001b[1;33m\u001b[0m\u001b[0m\n\u001b[1;32m----> 3\u001b[1;33m \u001b[0msd_weather_2014_df\u001b[0m\u001b[1;33m.\u001b[0m\u001b[0mreset_index\u001b[0m\u001b[1;33m(\u001b[0m\u001b[0minplace\u001b[0m \u001b[1;33m=\u001b[0m \u001b[1;32mTrue\u001b[0m\u001b[1;33m)\u001b[0m\u001b[1;33m\u001b[0m\u001b[1;33m\u001b[0m\u001b[0m\n\u001b[0m\u001b[0;32m      4\u001b[0m \u001b[0msd_weather_2014_df\u001b[0m\u001b[1;33m.\u001b[0m\u001b[0mhead\u001b[0m\u001b[1;33m(\u001b[0m\u001b[1;33m)\u001b[0m\u001b[1;33m\u001b[0m\u001b[1;33m\u001b[0m\u001b[0m\n\u001b[0;32m      5\u001b[0m \u001b[1;31m# pd.plotting.scatter_matrix(sd_2014_df)\u001b[0m\u001b[1;33m\u001b[0m\u001b[1;33m\u001b[0m\u001b[1;33m\u001b[0m\u001b[0m\n",
      "\u001b[1;31mNameError\u001b[0m: name 'sd_weather_2014_df' is not defined"
     ]
    }
   ],
   "source": [
    "# df= sd_weather_2014_df.reset_index(inplace = True)\n",
    "# df\n",
    "sd_weather_2014_df.reset_index(inplace = True)\n",
    "sd_weather_2014_df.head()\n",
    "# pd.plotting.scatter_matrix(sd_2014_df)"
   ]
  },
  {
   "cell_type": "code",
   "execution_count": 26,
   "metadata": {
    "ExecuteTime": {
     "end_time": "2020-06-15T21:02:13.445520Z",
     "start_time": "2020-06-15T21:02:13.435546Z"
    }
   },
   "outputs": [
    {
     "ename": "NameError",
     "evalue": "name 'sd_weather_2014_df' is not defined",
     "output_type": "error",
     "traceback": [
      "\u001b[1;31m---------------------------------------------------------------------------\u001b[0m",
      "\u001b[1;31mNameError\u001b[0m                                 Traceback (most recent call last)",
      "\u001b[1;32m<ipython-input-26-1431c0cdc4c2>\u001b[0m in \u001b[0;36m<module>\u001b[1;34m\u001b[0m\n\u001b[1;32m----> 1\u001b[1;33m \u001b[0mpd\u001b[0m\u001b[1;33m.\u001b[0m\u001b[0mplotting\u001b[0m\u001b[1;33m.\u001b[0m\u001b[0mscatter_matrix\u001b[0m\u001b[1;33m(\u001b[0m\u001b[0msd_weather_2014_df\u001b[0m\u001b[1;33m,\u001b[0m \u001b[0ms\u001b[0m\u001b[1;33m=\u001b[0m\u001b[1;36m50\u001b[0m\u001b[1;33m,\u001b[0m \u001b[0mfigsize\u001b[0m \u001b[1;33m=\u001b[0m \u001b[1;33m[\u001b[0m\u001b[1;36m8\u001b[0m\u001b[1;33m,\u001b[0m\u001b[1;36m6\u001b[0m\u001b[1;33m]\u001b[0m\u001b[1;33m)\u001b[0m\u001b[1;33m;\u001b[0m\u001b[1;33m\u001b[0m\u001b[1;33m\u001b[0m\u001b[0m\n\u001b[0m\u001b[0;32m      2\u001b[0m \u001b[0mplt\u001b[0m\u001b[1;33m.\u001b[0m\u001b[0mshow\u001b[0m\u001b[1;33m(\u001b[0m\u001b[1;33m)\u001b[0m\u001b[1;33m\u001b[0m\u001b[1;33m\u001b[0m\u001b[0m\n",
      "\u001b[1;31mNameError\u001b[0m: name 'sd_weather_2014_df' is not defined"
     ]
    }
   ],
   "source": [
    "pd.plotting.scatter_matrix(sd_weather_2014_df, s=50, figsize = [8,6]);\n",
    "plt.show()"
   ]
  },
  {
   "cell_type": "code",
   "execution_count": null,
   "metadata": {
    "ExecuteTime": {
     "end_time": "2020-06-09T20:44:04.516641Z",
     "start_time": "2020-06-09T20:44:04.513678Z"
    }
   },
   "outputs": [],
   "source": [
    "########  why renaming df does not work???????????\n",
    "### does not go backward from column to index----\n",
    "# df= sd_weather_2014_df.reset_index(inplace = True)\n",
    "# df\n",
    "# pd.plotting.scatter_matrix(df, s=50, figsize = [8,6]);\n",
    "# plt.show()"
   ]
  },
  {
   "cell_type": "code",
   "execution_count": null,
   "metadata": {
    "ExecuteTime": {
     "end_time": "2020-06-09T20:55:18.422741Z",
     "start_time": "2020-06-09T20:55:17.383232Z"
    }
   },
   "outputs": [],
   "source": [
    "\n",
    "pd.plotting.scatter_matrix(sd_weather_2014_df, s=30, figsize = [8,6], marker='o', color = 'r');\n",
    "plt.show()"
   ]
  },
  {
   "cell_type": "code",
   "execution_count": null,
   "metadata": {
    "ExecuteTime": {
     "end_time": "2020-06-09T20:45:10.087491Z",
     "start_time": "2020-06-09T20:45:09.129345Z"
    }
   },
   "outputs": [],
   "source": [
    "# temp and RH have bionmial distrubution \n",
    "# check how to separate %50 RH values???\n",
    "# from matplotlib import cm\n",
    "# color = {'columns': 'DarkGreen', 'whiskers': 'DarkOrange',\n",
    "#           'medians': 'DarkBlue', 'caps': 'Gray'}\n",
    "\n",
    "\n",
    "pd.plotting.scatter_matrix(sd_weather_2014_df, s=50, figsize = [8,6], diagonal='kde', alpha=0.3);\n",
    "plt.show()"
   ]
  },
  {
   "cell_type": "markdown",
   "metadata": {},
   "source": [
    "# Autocorrelation plot\n",
    "Autocorrelation plots are often used for checking randomness in time series. This is done by computing autocorrelations for data values at varying time lags. If time series is random, such autocorrelations should be near zero for any and all time-lag separations. If time series is non-random then one or more of the autocorrelations will be significantly non-zero. The horizontal lines displayed in the plot correspond to 95% and 99% confidence bands. The dashed line is 99% confidence band. See the Wikipedia entry for more about autocorrelation plots."
   ]
  },
  {
   "cell_type": "code",
   "execution_count": null,
   "metadata": {
    "ExecuteTime": {
     "end_time": "2020-06-09T21:14:00.939299Z",
     "start_time": "2020-06-09T21:14:00.926334Z"
    }
   },
   "outputs": [],
   "source": [
    "df = sd_weather_2014_df.set_index(['Date Local'])\n",
    "df"
   ]
  },
  {
   "cell_type": "code",
   "execution_count": null,
   "metadata": {
    "ExecuteTime": {
     "end_time": "2020-06-09T21:14:12.948161Z",
     "start_time": "2020-06-09T21:14:12.767690Z"
    }
   },
   "outputs": [],
   "source": [
    "from pandas.plotting import autocorrelation_plot\n",
    "import datetime\n",
    "plt.figure()\n",
    "\n",
    "autocorrelation_plot(df)"
   ]
  },
  {
   "cell_type": "code",
   "execution_count": null,
   "metadata": {
    "ExecuteTime": {
     "end_time": "2020-06-09T21:40:50.659683Z",
     "start_time": "2020-06-09T21:40:50.644709Z"
    }
   },
   "outputs": [],
   "source": [
    "sd_pivot_table= sd_weather_2014_df.pivot( columns=['T (oF)', 'RH (%)', 'P (mb)', 'wind (mph)', 'Date Local'], \n",
    "                                         \n",
    "\n",
    "sd_pivot_table.head()"
   ]
  },
  {
   "cell_type": "code",
   "execution_count": null,
   "metadata": {
    "ExecuteTime": {
     "end_time": "2020-06-09T21:31:48.521892Z",
     "start_time": "2020-06-09T21:31:48.516933Z"
    }
   },
   "outputs": [],
   "source": [
    "# from pandas.plotting import andrews_curves\n",
    "\n",
    "# plt.figure()\n",
    "# Name = (columns = ['T', 'RH', 'P', 'W'])\n",
    "# andrews_curves(sd_weather_2014_df, \"Name\" )"
   ]
  },
  {
   "cell_type": "code",
   "execution_count": null,
   "metadata": {
    "ExecuteTime": {
     "end_time": "2020-06-09T21:15:39.890815Z",
     "start_time": "2020-06-09T21:15:39.679380Z"
    }
   },
   "outputs": [],
   "source": [
    "##### ConversionError: Failed to convert timestamps value(s) to axis units\n",
    "from pandas.plotting import lag_plot\n",
    "plt.figure()\n",
    "\n",
    "lag_plot(df)"
   ]
  },
  {
   "cell_type": "code",
   "execution_count": null,
   "metadata": {
    "ExecuteTime": {
     "end_time": "2020-06-09T21:19:02.032108Z",
     "start_time": "2020-06-09T21:19:02.028119Z"
    }
   },
   "outputs": [],
   "source": [
    "# TypeError: unsupported operand type(s) for +: 'Timestamp' and 'float'\n",
    "\n",
    "# from pandas.plotting import bootstrap_plot\n",
    "# bootstrap_plot(df, size=50, samples=500, color='green')\n"
   ]
  },
  {
   "cell_type": "code",
   "execution_count": null,
   "metadata": {
    "ExecuteTime": {
     "end_time": "2020-06-09T20:43:11.167309Z",
     "start_time": "2020-06-09T20:43:09.551Z"
    }
   },
   "outputs": [],
   "source": [
    "# from sklearn import datasets\n",
    "\n",
    "# iris = datasets.load_iris()\n",
    "# X = iris.data\n",
    "# y = iris.target\n",
    "# df = pd.DataFrame(X, columns = iris.feature_names)\n",
    "\n",
    "# pd.plotting.scatter_matrix(sd_weather_2014_df)\n",
    "\n",
    "# colMap={0:\"red\",1:\"blue\",2:\"yellow\"}\n",
    "# cols=list(map(lambda x:colMap.get(x),iris.target))\n",
    "# scatter_matrix(df,  diagonal='hist',c=cols)\n",
    "\n",
    "# How to map colors\n",
    "# y = sd_weather_2014_df.target\n",
    "colors=['r', 'g', 'b', 'c']\n",
    "\n",
    "pd.plotting.scatter_matrix(sd_weather_2014_df, c=colors, figsize = [8,8],\n",
    "                      s=50, marker = 'D');\n",
    "\n",
    "# error = 'c' argument has 4 elements, \n",
    "# which is not acceptable for use with 'x' with size 365, 'y' with size 365.\n",
    "\n",
    "# df['y'] = y\n",
    "\n",
    "# sns.pairplot(df,hue='y')"
   ]
  },
  {
   "cell_type": "code",
   "execution_count": null,
   "metadata": {
    "ExecuteTime": {
     "end_time": "2020-06-09T20:43:11.168306Z",
     "start_time": "2020-06-09T20:43:09.553Z"
    }
   },
   "outputs": [],
   "source": [
    "sd_2014_df.drop(columns=[\"Pres_sem\"], inplace = True)\n",
    "sd_2014_df.head()"
   ]
  },
  {
   "cell_type": "code",
   "execution_count": null,
   "metadata": {
    "ExecuteTime": {
     "end_time": "2020-06-09T20:43:11.169303Z",
     "start_time": "2020-06-09T20:43:09.554Z"
    }
   },
   "outputs": [],
   "source": [
    "# remove index on data  and remove NAN\n",
    "# pd.plotting.Categorical.scatter_matrix(sd_2014_df)\n",
    "colors = [\"yellow\", \"red\", \"green\"]\n",
    "pd.plotting.scatter_matrix(sd_2014_df, c=sd_2014_df.Survived.apply(lambda x:colors[x])\n",
    ")\n",
    "\n",
    "\n",
    "plt.show()"
   ]
  },
  {
   "cell_type": "code",
   "execution_count": null,
   "metadata": {
    "ExecuteTime": {
     "end_time": "2020-06-09T20:43:11.170300Z",
     "start_time": "2020-06-09T20:43:09.555Z"
    }
   },
   "outputs": [],
   "source": [
    "# remove index on data  and remove NAN\n",
    "# pd.plotting.Categorical.scatter_matrix(sd_2014_df)\n",
    "colors = [\"yellow\", \"red\", \"green\"]\n",
    "pd.plotting.scatter_matrix(sd_2014_df, c=sd_2014_df.Survived.apply(lambda x:colors[x])\n",
    ")\n",
    "\n",
    "\n",
    "plt.show()"
   ]
  }
 ],
 "metadata": {
  "kernelspec": {
   "display_name": "Python 3",
   "language": "python",
   "name": "python3"
  },
  "language_info": {
   "codemirror_mode": {
    "name": "ipython",
    "version": 3
   },
   "file_extension": ".py",
   "mimetype": "text/x-python",
   "name": "python",
   "nbconvert_exporter": "python",
   "pygments_lexer": "ipython3",
   "version": "3.7.6"
  },
  "toc": {
   "base_numbering": 1,
   "nav_menu": {},
   "number_sections": true,
   "sideBar": true,
   "skip_h1_title": false,
   "title_cell": "Table of Contents",
   "title_sidebar": "Contents",
   "toc_cell": false,
   "toc_position": {},
   "toc_section_display": true,
   "toc_window_display": false
  },
  "varInspector": {
   "cols": {
    "lenName": 16,
    "lenType": 16,
    "lenVar": 40
   },
   "kernels_config": {
    "python": {
     "delete_cmd_postfix": "",
     "delete_cmd_prefix": "del ",
     "library": "var_list.py",
     "varRefreshCmd": "print(var_dic_list())"
    },
    "r": {
     "delete_cmd_postfix": ") ",
     "delete_cmd_prefix": "rm(",
     "library": "var_list.r",
     "varRefreshCmd": "cat(var_dic_list()) "
    }
   },
   "types_to_exclude": [
    "module",
    "function",
    "builtin_function_or_method",
    "instance",
    "_Feature"
   ],
   "window_display": false
  }
 },
 "nbformat": 4,
 "nbformat_minor": 4
}
