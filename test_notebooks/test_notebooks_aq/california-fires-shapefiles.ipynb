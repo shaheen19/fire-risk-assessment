{
 "cells": [
  {
   "cell_type": "markdown",
   "metadata": {},
   "source": [
    "## Review of NDVI workflow\n",
    "\n",
    "Below we will review the workflow to calculate a difference NDVI from two dates (e.g. pre and post fire event).  "
   ]
  },
  {
   "cell_type": "code",
   "execution_count": 13,
   "metadata": {
    "ExecuteTime": {
     "end_time": "2020-05-18T21:11:40.275026Z",
     "start_time": "2020-05-18T21:11:40.263059Z"
    }
   },
   "outputs": [
    {
     "data": {
      "text/plain": [
       "'C:\\\\Users\\\\bina_\\\\earth-analytics'"
      ]
     },
     "execution_count": 13,
     "metadata": {},
     "output_type": "execute_result"
    }
   ],
   "source": [
    "# Import necessary packages\n",
    "import os\n",
    "from glob import glob\n",
    "import matplotlib.pyplot as plt\n",
    "import matplotlib.lines as mlines\n",
    "from matplotlib.colors import ListedColormap\n",
    "import seaborn as sns\n",
    "import numpy as np\n",
    "from shapely.geometry import box\n",
    "import geopandas as gpd\n",
    "import rasterio as rio\n",
    "from rasterio.plot import plotting_extent\n",
    "from rasterio.mask import mask\n",
    "import earthpy as et\n",
    "import earthpy.spatial as es\n",
    "import earthpy.plot as ep\n",
    "import earthpy.clip as cl\n",
    "\n",
    "from shapely.geometry import Point\n",
    "from shapely.geometry import box\n",
    "\n",
    "\n",
    "\n",
    "# Ignore warning about missing/empty geometries\n",
    "import warnings\n",
    "warnings.filterwarnings('ignore', 'GeoSeries.notna', UserWarning)\n",
    "\n",
    "# Adjust plot font sizes\n",
    "sns.set(font_scale=1.5)\n",
    "sns.set_style(\"white\")\n",
    "\n",
    "# Set working dir & get data\n",
    "data = et.data.get_data('spatial-vector-lidar')\n",
    "# os.chdir(os.path.join(et.io.HOME, 'earth-analytics'))\n",
    "\n",
    "# Get data and set working directory\n",
    "\n",
    "os.chdir(os.path.join(et.io.HOME, 'earth-analytics'))\n",
    "os.getcwd()"
   ]
  },
  {
   "cell_type": "code",
   "execution_count": 14,
   "metadata": {
    "ExecuteTime": {
     "end_time": "2020-05-18T21:11:41.026942Z",
     "start_time": "2020-05-18T21:11:40.959120Z"
    }
   },
   "outputs": [
    {
     "data": {
      "text/html": [
       "<div>\n",
       "<style scoped>\n",
       "    .dataframe tbody tr th:only-of-type {\n",
       "        vertical-align: middle;\n",
       "    }\n",
       "\n",
       "    .dataframe tbody tr th {\n",
       "        vertical-align: top;\n",
       "    }\n",
       "\n",
       "    .dataframe thead th {\n",
       "        text-align: right;\n",
       "    }\n",
       "</style>\n",
       "<table border=\"1\" class=\"dataframe\">\n",
       "  <thead>\n",
       "    <tr style=\"text-align: right;\">\n",
       "      <th></th>\n",
       "      <th>NAME</th>\n",
       "      <th>geometry</th>\n",
       "    </tr>\n",
       "  </thead>\n",
       "  <tbody>\n",
       "    <tr>\n",
       "      <th>0</th>\n",
       "      <td>United States</td>\n",
       "      <td>MULTIPOLYGON Z (((-118.59397 33.46720 0.00000,...</td>\n",
       "    </tr>\n",
       "  </tbody>\n",
       "</table>\n",
       "</div>"
      ],
      "text/plain": [
       "            NAME                                           geometry\n",
       "0  United States  MULTIPOLYGON Z (((-118.59397 33.46720 0.00000,..."
      ]
     },
     "execution_count": 14,
     "metadata": {},
     "output_type": "execute_result"
    }
   ],
   "source": [
    "# Import all of your data at the top of your notebook to keep things organized.\n",
    "country_boundary_us_path = os.path.join(\"data\", \"spatial-vector-lidar\", \n",
    "                                        \"usa\", \"usa-boundary-dissolved.shp\")\n",
    "country_boundary_us = gpd.read_file(country_boundary_us_path)\n",
    "country_boundary_us"
   ]
  },
  {
   "cell_type": "code",
   "execution_count": 15,
   "metadata": {
    "ExecuteTime": {
     "end_time": "2020-05-18T21:11:41.627811Z",
     "start_time": "2020-05-18T21:11:41.592906Z"
    }
   },
   "outputs": [
    {
     "data": {
      "text/html": [
       "<div>\n",
       "<style scoped>\n",
       "    .dataframe tbody tr th:only-of-type {\n",
       "        vertical-align: middle;\n",
       "    }\n",
       "\n",
       "    .dataframe tbody tr th {\n",
       "        vertical-align: top;\n",
       "    }\n",
       "\n",
       "    .dataframe thead th {\n",
       "        text-align: right;\n",
       "    }\n",
       "</style>\n",
       "<table border=\"1\" class=\"dataframe\">\n",
       "  <thead>\n",
       "    <tr style=\"text-align: right;\">\n",
       "      <th></th>\n",
       "      <th>STATEFP</th>\n",
       "      <th>STATENS</th>\n",
       "      <th>AFFGEOID</th>\n",
       "      <th>GEOID</th>\n",
       "      <th>STUSPS</th>\n",
       "      <th>NAME</th>\n",
       "      <th>LSAD</th>\n",
       "      <th>ALAND</th>\n",
       "      <th>AWATER</th>\n",
       "      <th>region</th>\n",
       "      <th>geometry</th>\n",
       "    </tr>\n",
       "  </thead>\n",
       "  <tbody>\n",
       "    <tr>\n",
       "      <th>0</th>\n",
       "      <td>06</td>\n",
       "      <td>01779778</td>\n",
       "      <td>0400000US06</td>\n",
       "      <td>06</td>\n",
       "      <td>CA</td>\n",
       "      <td>California</td>\n",
       "      <td>00</td>\n",
       "      <td>403483823181</td>\n",
       "      <td>20483271881</td>\n",
       "      <td>West</td>\n",
       "      <td>MULTIPOLYGON Z (((-118.59397 33.46720 0.00000,...</td>\n",
       "    </tr>\n",
       "    <tr>\n",
       "      <th>1</th>\n",
       "      <td>11</td>\n",
       "      <td>01702382</td>\n",
       "      <td>0400000US11</td>\n",
       "      <td>11</td>\n",
       "      <td>DC</td>\n",
       "      <td>District of Columbia</td>\n",
       "      <td>00</td>\n",
       "      <td>158350578</td>\n",
       "      <td>18633500</td>\n",
       "      <td>Northeast</td>\n",
       "      <td>POLYGON Z ((-77.11976 38.93434 0.00000, -77.04...</td>\n",
       "    </tr>\n",
       "    <tr>\n",
       "      <th>2</th>\n",
       "      <td>12</td>\n",
       "      <td>00294478</td>\n",
       "      <td>0400000US12</td>\n",
       "      <td>12</td>\n",
       "      <td>FL</td>\n",
       "      <td>Florida</td>\n",
       "      <td>00</td>\n",
       "      <td>138903200855</td>\n",
       "      <td>31407883551</td>\n",
       "      <td>Southeast</td>\n",
       "      <td>MULTIPOLYGON Z (((-81.81169 24.56874 0.00000, ...</td>\n",
       "    </tr>\n",
       "    <tr>\n",
       "      <th>3</th>\n",
       "      <td>13</td>\n",
       "      <td>01705317</td>\n",
       "      <td>0400000US13</td>\n",
       "      <td>13</td>\n",
       "      <td>GA</td>\n",
       "      <td>Georgia</td>\n",
       "      <td>00</td>\n",
       "      <td>148963503399</td>\n",
       "      <td>4947080103</td>\n",
       "      <td>Southeast</td>\n",
       "      <td>POLYGON Z ((-85.60516 34.98468 0.00000, -85.47...</td>\n",
       "    </tr>\n",
       "    <tr>\n",
       "      <th>4</th>\n",
       "      <td>16</td>\n",
       "      <td>01779783</td>\n",
       "      <td>0400000US16</td>\n",
       "      <td>16</td>\n",
       "      <td>ID</td>\n",
       "      <td>Idaho</td>\n",
       "      <td>00</td>\n",
       "      <td>214045425549</td>\n",
       "      <td>2397728105</td>\n",
       "      <td>West</td>\n",
       "      <td>POLYGON Z ((-117.24303 44.39097 0.00000, -117....</td>\n",
       "    </tr>\n",
       "  </tbody>\n",
       "</table>\n",
       "</div>"
      ],
      "text/plain": [
       "  STATEFP   STATENS     AFFGEOID GEOID STUSPS                  NAME LSAD  \\\n",
       "0      06  01779778  0400000US06    06     CA            California   00   \n",
       "1      11  01702382  0400000US11    11     DC  District of Columbia   00   \n",
       "2      12  00294478  0400000US12    12     FL               Florida   00   \n",
       "3      13  01705317  0400000US13    13     GA               Georgia   00   \n",
       "4      16  01779783  0400000US16    16     ID                 Idaho   00   \n",
       "\n",
       "          ALAND       AWATER     region  \\\n",
       "0  403483823181  20483271881       West   \n",
       "1     158350578     18633500  Northeast   \n",
       "2  138903200855  31407883551  Southeast   \n",
       "3  148963503399   4947080103  Southeast   \n",
       "4  214045425549   2397728105       West   \n",
       "\n",
       "                                            geometry  \n",
       "0  MULTIPOLYGON Z (((-118.59397 33.46720 0.00000,...  \n",
       "1  POLYGON Z ((-77.11976 38.93434 0.00000, -77.04...  \n",
       "2  MULTIPOLYGON Z (((-81.81169 24.56874 0.00000, ...  \n",
       "3  POLYGON Z ((-85.60516 34.98468 0.00000, -85.47...  \n",
       "4  POLYGON Z ((-117.24303 44.39097 0.00000, -117....  "
      ]
     },
     "execution_count": 15,
     "metadata": {},
     "output_type": "execute_result"
    }
   ],
   "source": [
    "state_boundary_us_path = os.path.join(\"data\", \"spatial-vector-lidar\", \n",
    "                                      \"usa\", \"usa-states-census-2014.shp\")\n",
    "state_boundary_us = gpd.read_file(state_boundary_us_path)\n",
    "state_boundary_us.head()"
   ]
  },
  {
   "cell_type": "code",
   "execution_count": 16,
   "metadata": {
    "ExecuteTime": {
     "end_time": "2020-05-18T21:11:42.226220Z",
     "start_time": "2020-05-18T21:11:42.178348Z"
    }
   },
   "outputs": [
    {
     "data": {
      "text/html": [
       "<div>\n",
       "<style scoped>\n",
       "    .dataframe tbody tr th:only-of-type {\n",
       "        vertical-align: middle;\n",
       "    }\n",
       "\n",
       "    .dataframe tbody tr th {\n",
       "        vertical-align: top;\n",
       "    }\n",
       "\n",
       "    .dataframe thead th {\n",
       "        text-align: right;\n",
       "    }\n",
       "</style>\n",
       "<table border=\"1\" class=\"dataframe\">\n",
       "  <thead>\n",
       "    <tr style=\"text-align: right;\">\n",
       "      <th></th>\n",
       "      <th>scalerank</th>\n",
       "      <th>natscale</th>\n",
       "      <th>labelrank</th>\n",
       "      <th>featurecla</th>\n",
       "      <th>name</th>\n",
       "      <th>namepar</th>\n",
       "      <th>namealt</th>\n",
       "      <th>diffascii</th>\n",
       "      <th>nameascii</th>\n",
       "      <th>adm0cap</th>\n",
       "      <th>...</th>\n",
       "      <th>pop_other</th>\n",
       "      <th>rank_max</th>\n",
       "      <th>rank_min</th>\n",
       "      <th>geonameid</th>\n",
       "      <th>meganame</th>\n",
       "      <th>ls_name</th>\n",
       "      <th>ls_match</th>\n",
       "      <th>checkme</th>\n",
       "      <th>min_zoom</th>\n",
       "      <th>geometry</th>\n",
       "    </tr>\n",
       "  </thead>\n",
       "  <tbody>\n",
       "    <tr>\n",
       "      <th>0</th>\n",
       "      <td>8</td>\n",
       "      <td>10</td>\n",
       "      <td>3</td>\n",
       "      <td>Admin-0 capital</td>\n",
       "      <td>Vatican City</td>\n",
       "      <td>None</td>\n",
       "      <td>None</td>\n",
       "      <td>0</td>\n",
       "      <td>Vatican City</td>\n",
       "      <td>1.0</td>\n",
       "      <td>...</td>\n",
       "      <td>562430</td>\n",
       "      <td>2</td>\n",
       "      <td>2</td>\n",
       "      <td>6691831.0</td>\n",
       "      <td>None</td>\n",
       "      <td>Vatican City</td>\n",
       "      <td>1</td>\n",
       "      <td>0</td>\n",
       "      <td>7.0</td>\n",
       "      <td>POINT (12.45339 41.90328)</td>\n",
       "    </tr>\n",
       "    <tr>\n",
       "      <th>1</th>\n",
       "      <td>7</td>\n",
       "      <td>20</td>\n",
       "      <td>0</td>\n",
       "      <td>Admin-0 capital</td>\n",
       "      <td>San Marino</td>\n",
       "      <td>None</td>\n",
       "      <td>None</td>\n",
       "      <td>0</td>\n",
       "      <td>San Marino</td>\n",
       "      <td>1.0</td>\n",
       "      <td>...</td>\n",
       "      <td>0</td>\n",
       "      <td>7</td>\n",
       "      <td>7</td>\n",
       "      <td>3168070.0</td>\n",
       "      <td>None</td>\n",
       "      <td>San Marino</td>\n",
       "      <td>1</td>\n",
       "      <td>5</td>\n",
       "      <td>6.1</td>\n",
       "      <td>POINT (12.44177 43.93610)</td>\n",
       "    </tr>\n",
       "    <tr>\n",
       "      <th>2</th>\n",
       "      <td>7</td>\n",
       "      <td>20</td>\n",
       "      <td>0</td>\n",
       "      <td>Admin-0 capital</td>\n",
       "      <td>Vaduz</td>\n",
       "      <td>None</td>\n",
       "      <td>None</td>\n",
       "      <td>0</td>\n",
       "      <td>Vaduz</td>\n",
       "      <td>1.0</td>\n",
       "      <td>...</td>\n",
       "      <td>33009</td>\n",
       "      <td>7</td>\n",
       "      <td>5</td>\n",
       "      <td>3042030.0</td>\n",
       "      <td>None</td>\n",
       "      <td>Vaduz</td>\n",
       "      <td>1</td>\n",
       "      <td>0</td>\n",
       "      <td>6.7</td>\n",
       "      <td>POINT (9.51667 47.13372)</td>\n",
       "    </tr>\n",
       "    <tr>\n",
       "      <th>3</th>\n",
       "      <td>6</td>\n",
       "      <td>30</td>\n",
       "      <td>8</td>\n",
       "      <td>Admin-0 capital alt</td>\n",
       "      <td>Lobamba</td>\n",
       "      <td>None</td>\n",
       "      <td>None</td>\n",
       "      <td>0</td>\n",
       "      <td>Lobamba</td>\n",
       "      <td>0.0</td>\n",
       "      <td>...</td>\n",
       "      <td>0</td>\n",
       "      <td>5</td>\n",
       "      <td>4</td>\n",
       "      <td>935048.0</td>\n",
       "      <td>None</td>\n",
       "      <td>Lobamba</td>\n",
       "      <td>1</td>\n",
       "      <td>5</td>\n",
       "      <td>6.0</td>\n",
       "      <td>POINT (31.20000 -26.46667)</td>\n",
       "    </tr>\n",
       "    <tr>\n",
       "      <th>4</th>\n",
       "      <td>6</td>\n",
       "      <td>30</td>\n",
       "      <td>8</td>\n",
       "      <td>Admin-0 capital</td>\n",
       "      <td>Luxembourg</td>\n",
       "      <td>None</td>\n",
       "      <td>None</td>\n",
       "      <td>0</td>\n",
       "      <td>Luxembourg</td>\n",
       "      <td>1.0</td>\n",
       "      <td>...</td>\n",
       "      <td>106219</td>\n",
       "      <td>9</td>\n",
       "      <td>8</td>\n",
       "      <td>2960316.0</td>\n",
       "      <td>None</td>\n",
       "      <td>Luxembourg</td>\n",
       "      <td>1</td>\n",
       "      <td>0</td>\n",
       "      <td>6.0</td>\n",
       "      <td>POINT (6.13000 49.61166)</td>\n",
       "    </tr>\n",
       "  </tbody>\n",
       "</table>\n",
       "<p>5 rows × 38 columns</p>\n",
       "</div>"
      ],
      "text/plain": [
       "   scalerank  natscale  labelrank           featurecla          name namepar  \\\n",
       "0          8        10          3      Admin-0 capital  Vatican City    None   \n",
       "1          7        20          0      Admin-0 capital    San Marino    None   \n",
       "2          7        20          0      Admin-0 capital         Vaduz    None   \n",
       "3          6        30          8  Admin-0 capital alt       Lobamba    None   \n",
       "4          6        30          8      Admin-0 capital    Luxembourg    None   \n",
       "\n",
       "  namealt  diffascii     nameascii  adm0cap  ...  pop_other rank_max  \\\n",
       "0    None          0  Vatican City      1.0  ...     562430        2   \n",
       "1    None          0    San Marino      1.0  ...          0        7   \n",
       "2    None          0         Vaduz      1.0  ...      33009        7   \n",
       "3    None          0       Lobamba      0.0  ...          0        5   \n",
       "4    None          0    Luxembourg      1.0  ...     106219        9   \n",
       "\n",
       "   rank_min  geonameid meganame       ls_name ls_match checkme min_zoom  \\\n",
       "0         2  6691831.0     None  Vatican City        1       0      7.0   \n",
       "1         7  3168070.0     None    San Marino        1       5      6.1   \n",
       "2         5  3042030.0     None         Vaduz        1       0      6.7   \n",
       "3         4   935048.0     None       Lobamba        1       5      6.0   \n",
       "4         8  2960316.0     None    Luxembourg        1       0      6.0   \n",
       "\n",
       "                     geometry  \n",
       "0   POINT (12.45339 41.90328)  \n",
       "1   POINT (12.44177 43.93610)  \n",
       "2    POINT (9.51667 47.13372)  \n",
       "3  POINT (31.20000 -26.46667)  \n",
       "4    POINT (6.13000 49.61166)  \n",
       "\n",
       "[5 rows x 38 columns]"
      ]
     },
     "execution_count": 16,
     "metadata": {},
     "output_type": "execute_result"
    }
   ],
   "source": [
    "pop_places_path = os.path.join(\"data\", \"spatial-vector-lidar\", \"global\", \n",
    "                               \"ne_110m_populated_places_simple\", \"ne_110m_populated_places_simple.shp\")\n",
    "pop_places = gpd.read_file(pop_places_path)\n",
    "pop_places.head()\n"
   ]
  },
  {
   "cell_type": "code",
   "execution_count": 17,
   "metadata": {
    "ExecuteTime": {
     "end_time": "2020-05-18T21:11:42.907111Z",
     "start_time": "2020-05-18T21:11:42.901127Z"
    }
   },
   "outputs": [
    {
     "name": "stdout",
     "output_type": "stream",
     "text": [
      "country_boundary_us {'init': 'epsg:4326'}\n",
      "state_boundary_us {'init': 'epsg:4326'}\n",
      "pop_places {'init': 'epsg:4326'}\n"
     ]
    }
   ],
   "source": [
    "# Are the data all in the same crs?\n",
    "print(\"country_boundary_us\", country_boundary_us.crs)\n",
    "print(\"state_boundary_us\", state_boundary_us.crs)\n",
    "print(\"pop_places\", pop_places.crs)"
   ]
  },
  {
   "cell_type": "code",
   "execution_count": 18,
   "metadata": {
    "ExecuteTime": {
     "end_time": "2020-05-18T21:11:43.592278Z",
     "start_time": "2020-05-18T21:11:43.580310Z"
    }
   },
   "outputs": [
    {
     "ename": "AttributeError",
     "evalue": "module 'geopandas' has no attribute 'clip'",
     "output_type": "error",
     "traceback": [
      "\u001b[1;31m---------------------------------------------------------------------------\u001b[0m",
      "\u001b[1;31mAttributeError\u001b[0m                            Traceback (most recent call last)",
      "\u001b[1;32m<ipython-input-18-d6e56c977591>\u001b[0m in \u001b[0;36m<module>\u001b[1;34m\u001b[0m\n\u001b[0;32m      1\u001b[0m \u001b[1;31m# Clip the data using GeoPandas clip\u001b[0m\u001b[1;33m\u001b[0m\u001b[1;33m\u001b[0m\u001b[1;33m\u001b[0m\u001b[0m\n\u001b[1;32m----> 2\u001b[1;33m \u001b[0mpoints_clip\u001b[0m \u001b[1;33m=\u001b[0m \u001b[0mgpd\u001b[0m\u001b[1;33m.\u001b[0m\u001b[0mclip\u001b[0m\u001b[1;33m(\u001b[0m\u001b[0mpop_places\u001b[0m\u001b[1;33m,\u001b[0m \u001b[0mcountry_boundary_us\u001b[0m\u001b[1;33m)\u001b[0m\u001b[1;33m\u001b[0m\u001b[1;33m\u001b[0m\u001b[0m\n\u001b[0m\u001b[0;32m      3\u001b[0m \u001b[1;33m\u001b[0m\u001b[0m\n\u001b[0;32m      4\u001b[0m \u001b[1;31m# View the first 6 rows and a few select columns\u001b[0m\u001b[1;33m\u001b[0m\u001b[1;33m\u001b[0m\u001b[1;33m\u001b[0m\u001b[0m\n\u001b[0;32m      5\u001b[0m \u001b[0mpoints_clip\u001b[0m\u001b[1;33m[\u001b[0m\u001b[1;33m[\u001b[0m\u001b[1;34m'name'\u001b[0m\u001b[1;33m,\u001b[0m \u001b[1;34m'geometry'\u001b[0m\u001b[1;33m,\u001b[0m \u001b[1;34m'scalerank'\u001b[0m\u001b[1;33m,\u001b[0m \u001b[1;34m'natscale'\u001b[0m\u001b[1;33m,\u001b[0m \u001b[1;33m]\u001b[0m\u001b[1;33m]\u001b[0m\u001b[1;33m.\u001b[0m\u001b[0mhead\u001b[0m\u001b[1;33m(\u001b[0m\u001b[1;33m)\u001b[0m\u001b[1;33m\u001b[0m\u001b[1;33m\u001b[0m\u001b[0m\n",
      "\u001b[1;31mAttributeError\u001b[0m: module 'geopandas' has no attribute 'clip'"
     ]
    }
   ],
   "source": [
    "# Clip the data using GeoPandas clip\n",
    "points_clip = gpd.clip(pop_places, country_boundary_us)\n",
    "\n",
    "# View the first 6 rows and a few select columns\n",
    "points_clip[['name', 'geometry', 'scalerank', 'natscale', ]].head()"
   ]
  },
  {
   "cell_type": "code",
   "execution_count": 9,
   "metadata": {
    "ExecuteTime": {
     "end_time": "2020-05-18T20:26:00.978390Z",
     "start_time": "2020-05-18T20:26:00.655715Z"
    }
   },
   "outputs": [
    {
     "ename": "NameError",
     "evalue": "name 'points_clip' is not defined",
     "output_type": "error",
     "traceback": [
      "\u001b[1;31m---------------------------------------------------------------------------\u001b[0m",
      "\u001b[1;31mNameError\u001b[0m                                 Traceback (most recent call last)",
      "\u001b[1;32m<ipython-input-9-388fbc261ae3>\u001b[0m in \u001b[0;36m<module>\u001b[1;34m\u001b[0m\n\u001b[0;32m     11\u001b[0m                        alpha=.5)\n\u001b[0;32m     12\u001b[0m \u001b[1;33m\u001b[0m\u001b[0m\n\u001b[1;32m---> 13\u001b[1;33m points_clip.plot(ax=ax,\n\u001b[0m\u001b[0;32m     14\u001b[0m                  column='name')\n\u001b[0;32m     15\u001b[0m \u001b[0max\u001b[0m\u001b[1;33m.\u001b[0m\u001b[0mset_axis_off\u001b[0m\u001b[1;33m(\u001b[0m\u001b[1;33m)\u001b[0m\u001b[1;33m\u001b[0m\u001b[1;33m\u001b[0m\u001b[0m\n",
      "\u001b[1;31mNameError\u001b[0m: name 'points_clip' is not defined"
     ]
    },
    {
     "data": {
      "image/png": "[encoded data removed]",
      "text/plain": [
       "<Figure size 864x576 with 1 Axes>"
      ]
     },
     "metadata": {},
     "output_type": "display_data"
    }
   ],
   "source": [
    "# Plot the data\n",
    "fig, ax = plt.subplots(figsize=(12, 8))\n",
    "\n",
    "country_boundary_us.plot(alpha=1,\n",
    "                         color=\"white\",\n",
    "                         edgecolor=\"black\",\n",
    "                         ax=ax)\n",
    "\n",
    "state_boundary_us.plot(cmap='Greys',\n",
    "                       ax=ax,\n",
    "                       alpha=.5)\n",
    "\n",
    "points_clip.plot(ax=ax,\n",
    "                 column='name')\n",
    "ax.set_axis_off()\n",
    "plt.axis('equal')\n",
    "\n",
    "# Label each point - note this is just shown here optionally but is not required for your homework\n",
    "points_clip.apply(lambda x: ax.annotate(s=x['name'],\n",
    "                                        xy=x.geometry.coords[0],\n",
    "                                        xytext=(6, 6), textcoords=\"offset points\",\n",
    "                                        backgroundcolor=\"white\"),\n",
    "                  axis=1)\n",
    "plt.show()"
   ]
  },
  {
   "cell_type": "code",
   "execution_count": null,
   "metadata": {},
   "outputs": [],
   "source": []
  },
  {
   "cell_type": "code",
   "execution_count": null,
   "metadata": {},
   "outputs": [],
   "source": []
  },
  {
   "cell_type": "code",
   "execution_count": null,
   "metadata": {},
   "outputs": [],
   "source": []
  },
  {
   "cell_type": "code",
   "execution_count": null,
   "metadata": {},
   "outputs": [],
   "source": []
  },
  {
   "cell_type": "code",
   "execution_count": 2,
   "metadata": {
    "ExecuteTime": {
     "end_time": "2020-05-04T20:40:11.071413Z",
     "start_time": "2020-05-04T20:40:08.736273Z"
    }
   },
   "outputs": [
    {
     "data": {
      "text/html": [
       "<div>\n",
       "<style scoped>\n",
       "    .dataframe tbody tr th:only-of-type {\n",
       "        vertical-align: middle;\n",
       "    }\n",
       "\n",
       "    .dataframe tbody tr th {\n",
       "        vertical-align: top;\n",
       "    }\n",
       "\n",
       "    .dataframe thead th {\n",
       "        text-align: right;\n",
       "    }\n",
       "</style>\n",
       "<table border=\"1\" class=\"dataframe\">\n",
       "  <thead>\n",
       "    <tr style=\"text-align: right;\">\n",
       "      <th></th>\n",
       "      <th>OBJECTID</th>\n",
       "      <th>YEAR_</th>\n",
       "      <th>STATE</th>\n",
       "      <th>AGENCY</th>\n",
       "      <th>UNIT_ID</th>\n",
       "      <th>FIRE_NAME</th>\n",
       "      <th>INC_NUM</th>\n",
       "      <th>ALARM_DATE</th>\n",
       "      <th>CONT_DATE</th>\n",
       "      <th>CAUSE</th>\n",
       "      <th>COMMENTS</th>\n",
       "      <th>REPORT_AC</th>\n",
       "      <th>GIS_ACRES</th>\n",
       "      <th>C_METHOD</th>\n",
       "      <th>OBJECTIVE</th>\n",
       "      <th>FIRE_NUM</th>\n",
       "      <th>Shape_Leng</th>\n",
       "      <th>Shape_Area</th>\n",
       "      <th>geometry</th>\n",
       "    </tr>\n",
       "  </thead>\n",
       "  <tbody>\n",
       "    <tr>\n",
       "      <th>0</th>\n",
       "      <td>1</td>\n",
       "      <td>2007</td>\n",
       "      <td>CA</td>\n",
       "      <td>CCO</td>\n",
       "      <td>LAC</td>\n",
       "      <td>OCTOBER</td>\n",
       "      <td>00246393</td>\n",
       "      <td>2007-10-21</td>\n",
       "      <td>2007-10-23</td>\n",
       "      <td>14</td>\n",
       "      <td>None</td>\n",
       "      <td>0.0</td>\n",
       "      <td>25.7367</td>\n",
       "      <td>8</td>\n",
       "      <td>1</td>\n",
       "      <td>00233414</td>\n",
       "      <td>1902.439051</td>\n",
       "      <td>1.041528e+05</td>\n",
       "      <td>POLYGON ((138036.906 -402646.363, 138086.986 -...</td>\n",
       "    </tr>\n",
       "    <tr>\n",
       "      <th>1</th>\n",
       "      <td>2</td>\n",
       "      <td>2007</td>\n",
       "      <td>CA</td>\n",
       "      <td>CCO</td>\n",
       "      <td>LAC</td>\n",
       "      <td>MAGIC</td>\n",
       "      <td>00233077</td>\n",
       "      <td>2007-10-22</td>\n",
       "      <td>2007-10-25</td>\n",
       "      <td>14</td>\n",
       "      <td>None</td>\n",
       "      <td>0.0</td>\n",
       "      <td>2824.8800</td>\n",
       "      <td>8</td>\n",
       "      <td>1</td>\n",
       "      <td>00233077</td>\n",
       "      <td>20407.965662</td>\n",
       "      <td>1.143187e+07</td>\n",
       "      <td>POLYGON ((130072.487 -398622.842, 130094.237 -...</td>\n",
       "    </tr>\n",
       "    <tr>\n",
       "      <th>2</th>\n",
       "      <td>3</td>\n",
       "      <td>2007</td>\n",
       "      <td>CA</td>\n",
       "      <td>USF</td>\n",
       "      <td>ANF</td>\n",
       "      <td>RANCH</td>\n",
       "      <td>00000166</td>\n",
       "      <td>2007-10-20</td>\n",
       "      <td>2007-11-15</td>\n",
       "      <td>2</td>\n",
       "      <td>None</td>\n",
       "      <td>54716.0</td>\n",
       "      <td>58410.3000</td>\n",
       "      <td>7</td>\n",
       "      <td>1</td>\n",
       "      <td>00000166</td>\n",
       "      <td>169150.715690</td>\n",
       "      <td>2.363782e+08</td>\n",
       "      <td>POLYGON ((114013.974 -379231.746, 114190.835 -...</td>\n",
       "    </tr>\n",
       "    <tr>\n",
       "      <th>3</th>\n",
       "      <td>4</td>\n",
       "      <td>2007</td>\n",
       "      <td>CA</td>\n",
       "      <td>CCO</td>\n",
       "      <td>LAC</td>\n",
       "      <td>EMMA</td>\n",
       "      <td>00201384</td>\n",
       "      <td>2007-09-11</td>\n",
       "      <td>2007-09-11</td>\n",
       "      <td>14</td>\n",
       "      <td>None</td>\n",
       "      <td>0.0</td>\n",
       "      <td>172.2150</td>\n",
       "      <td>8</td>\n",
       "      <td>1</td>\n",
       "      <td>00201384</td>\n",
       "      <td>6117.777086</td>\n",
       "      <td>6.969292e+05</td>\n",
       "      <td>POLYGON ((176902.236 -388673.082, 176907.996 -...</td>\n",
       "    </tr>\n",
       "    <tr>\n",
       "      <th>4</th>\n",
       "      <td>5</td>\n",
       "      <td>2007</td>\n",
       "      <td>CA</td>\n",
       "      <td>CCO</td>\n",
       "      <td>LAC</td>\n",
       "      <td>CORRAL</td>\n",
       "      <td>00259483</td>\n",
       "      <td>2007-11-24</td>\n",
       "      <td>2007-11-27</td>\n",
       "      <td>14</td>\n",
       "      <td>None</td>\n",
       "      <td>0.0</td>\n",
       "      <td>4708.0000</td>\n",
       "      <td>8</td>\n",
       "      <td>1</td>\n",
       "      <td>00259483</td>\n",
       "      <td>22907.182174</td>\n",
       "      <td>1.905259e+07</td>\n",
       "      <td>POLYGON ((115905.006 -436381.137, 115926.897 -...</td>\n",
       "    </tr>\n",
       "  </tbody>\n",
       "</table>\n",
       "</div>"
      ],
      "text/plain": [
       "   OBJECTID YEAR_ STATE AGENCY UNIT_ID FIRE_NAME   INC_NUM  ALARM_DATE  \\\n",
       "0         1  2007    CA    CCO     LAC   OCTOBER  00246393  2007-10-21   \n",
       "1         2  2007    CA    CCO     LAC     MAGIC  00233077  2007-10-22   \n",
       "2         3  2007    CA    USF     ANF     RANCH  00000166  2007-10-20   \n",
       "3         4  2007    CA    CCO     LAC      EMMA  00201384  2007-09-11   \n",
       "4         5  2007    CA    CCO     LAC    CORRAL  00259483  2007-11-24   \n",
       "\n",
       "    CONT_DATE  CAUSE COMMENTS  REPORT_AC   GIS_ACRES  C_METHOD  OBJECTIVE  \\\n",
       "0  2007-10-23     14     None        0.0     25.7367         8          1   \n",
       "1  2007-10-25     14     None        0.0   2824.8800         8          1   \n",
       "2  2007-11-15      2     None    54716.0  58410.3000         7          1   \n",
       "3  2007-09-11     14     None        0.0    172.2150         8          1   \n",
       "4  2007-11-27     14     None        0.0   4708.0000         8          1   \n",
       "\n",
       "   FIRE_NUM     Shape_Leng    Shape_Area  \\\n",
       "0  00233414    1902.439051  1.041528e+05   \n",
       "1  00233077   20407.965662  1.143187e+07   \n",
       "2  00000166  169150.715690  2.363782e+08   \n",
       "3  00201384    6117.777086  6.969292e+05   \n",
       "4  00259483   22907.182174  1.905259e+07   \n",
       "\n",
       "                                            geometry  \n",
       "0  POLYGON ((138036.906 -402646.363, 138086.986 -...  \n",
       "1  POLYGON ((130072.487 -398622.842, 130094.237 -...  \n",
       "2  POLYGON ((114013.974 -379231.746, 114190.835 -...  \n",
       "3  POLYGON ((176902.236 -388673.082, 176907.996 -...  \n",
       "4  POLYGON ((115905.006 -436381.137, 115926.897 -...  "
      ]
     },
     "execution_count": 2,
     "metadata": {},
     "output_type": "execute_result"
    }
   ],
   "source": [
    "# Open fire boundary\n",
    "ca_fire_bound_path = os.path.join(\"earthpy-downloads\", \"frap_fires\", \"frap_fires.shp\")\n",
    "\n",
    "# To check if path is created\n",
    "os.path.exists(ca_fire_bound_path)\n",
    "\n",
    "ca_fire_bound = gpd.read_file(ca_fire_bound_path)\n",
    "ca_fire_bound.head()"
   ]
  },
  {
   "cell_type": "code",
   "execution_count": 3,
   "metadata": {
    "ExecuteTime": {
     "end_time": "2020-05-04T20:40:11.076394Z",
     "start_time": "2020-05-04T20:40:11.073403Z"
    }
   },
   "outputs": [],
   "source": [
    "# ca_fire_bound.info()"
   ]
  },
  {
   "cell_type": "code",
   "execution_count": 4,
   "metadata": {
    "ExecuteTime": {
     "end_time": "2020-05-04T20:40:11.084374Z",
     "start_time": "2020-05-04T20:40:11.078389Z"
    }
   },
   "outputs": [],
   "source": [
    "# ca_fire_bound.describe()"
   ]
  },
  {
   "cell_type": "code",
   "execution_count": 29,
   "metadata": {
    "ExecuteTime": {
     "end_time": "2020-05-05T10:40:08.520066Z",
     "start_time": "2020-05-05T10:40:08.397424Z"
    }
   },
   "outputs": [
    {
     "data": {
      "text/html": [
       "<div>\n",
       "<style scoped>\n",
       "    .dataframe tbody tr th:only-of-type {\n",
       "        vertical-align: middle;\n",
       "    }\n",
       "\n",
       "    .dataframe tbody tr th {\n",
       "        vertical-align: top;\n",
       "    }\n",
       "\n",
       "    .dataframe thead th {\n",
       "        text-align: right;\n",
       "    }\n",
       "</style>\n",
       "<table border=\"1\" class=\"dataframe\">\n",
       "  <thead>\n",
       "    <tr style=\"text-align: right;\">\n",
       "      <th></th>\n",
       "      <th>OBJECTID</th>\n",
       "      <th>YEAR_</th>\n",
       "      <th>STATE</th>\n",
       "      <th>AGENCY</th>\n",
       "      <th>UNIT_ID</th>\n",
       "      <th>FIRE_NAME</th>\n",
       "      <th>INC_NUM</th>\n",
       "      <th>ALARM_DATE</th>\n",
       "      <th>CONT_DATE</th>\n",
       "      <th>CAUSE</th>\n",
       "      <th>COMMENTS</th>\n",
       "      <th>REPORT_AC</th>\n",
       "      <th>GIS_ACRES</th>\n",
       "      <th>C_METHOD</th>\n",
       "      <th>OBJECTIVE</th>\n",
       "      <th>FIRE_NUM</th>\n",
       "      <th>Shape_Leng</th>\n",
       "      <th>Shape_Area</th>\n",
       "      <th>geometry</th>\n",
       "    </tr>\n",
       "  </thead>\n",
       "  <tbody>\n",
       "    <tr>\n",
       "      <th>12702</th>\n",
       "      <td>12703</td>\n",
       "      <td>2014</td>\n",
       "      <td>CA</td>\n",
       "      <td>USF</td>\n",
       "      <td>BDF</td>\n",
       "      <td>ETIWANDA</td>\n",
       "      <td>00006646</td>\n",
       "      <td>2014-04-30</td>\n",
       "      <td>None</td>\n",
       "      <td>9</td>\n",
       "      <td>None</td>\n",
       "      <td>2190.0</td>\n",
       "      <td>2141.8400</td>\n",
       "      <td>1</td>\n",
       "      <td>1</td>\n",
       "      <td>None</td>\n",
       "      <td>22002.159236</td>\n",
       "      <td>8.667722e+06</td>\n",
       "      <td>POLYGON ((225728.402 -422124.230, 225728.640 -...</td>\n",
       "    </tr>\n",
       "    <tr>\n",
       "      <th>17750</th>\n",
       "      <td>17751</td>\n",
       "      <td>2014</td>\n",
       "      <td>CA</td>\n",
       "      <td>CDF</td>\n",
       "      <td>AEU</td>\n",
       "      <td>SAND</td>\n",
       "      <td>018237</td>\n",
       "      <td>2014-07-26</td>\n",
       "      <td>2014-07-30</td>\n",
       "      <td>10</td>\n",
       "      <td>None</td>\n",
       "      <td>4240.0</td>\n",
       "      <td>4239.2700</td>\n",
       "      <td>1</td>\n",
       "      <td>1</td>\n",
       "      <td>None</td>\n",
       "      <td>29457.419842</td>\n",
       "      <td>1.715572e+07</td>\n",
       "      <td>POLYGON ((-69289.771 60861.423, -69317.606 608...</td>\n",
       "    </tr>\n",
       "    <tr>\n",
       "      <th>17751</th>\n",
       "      <td>17752</td>\n",
       "      <td>2014</td>\n",
       "      <td>CA</td>\n",
       "      <td>CDF</td>\n",
       "      <td>BDU</td>\n",
       "      <td>KEOUGH</td>\n",
       "      <td>010406</td>\n",
       "      <td>2014-08-09</td>\n",
       "      <td>2014-08-20</td>\n",
       "      <td>14</td>\n",
       "      <td>None</td>\n",
       "      <td>17.0</td>\n",
       "      <td>18.1595</td>\n",
       "      <td>1</td>\n",
       "      <td>1</td>\n",
       "      <td>None</td>\n",
       "      <td>1565.639280</td>\n",
       "      <td>7.348884e+04</td>\n",
       "      <td>POLYGON ((145458.621 -83727.318, 145657.588 -8...</td>\n",
       "    </tr>\n",
       "  </tbody>\n",
       "</table>\n",
       "</div>"
      ],
      "text/plain": [
       "       OBJECTID YEAR_ STATE AGENCY UNIT_ID FIRE_NAME   INC_NUM  ALARM_DATE  \\\n",
       "12702     12703  2014    CA    USF     BDF  ETIWANDA  00006646  2014-04-30   \n",
       "17750     17751  2014    CA    CDF     AEU      SAND    018237  2014-07-26   \n",
       "17751     17752  2014    CA    CDF     BDU    KEOUGH    010406  2014-08-09   \n",
       "\n",
       "        CONT_DATE  CAUSE COMMENTS  REPORT_AC  GIS_ACRES  C_METHOD  OBJECTIVE  \\\n",
       "12702        None      9     None     2190.0  2141.8400         1          1   \n",
       "17750  2014-07-30     10     None     4240.0  4239.2700         1          1   \n",
       "17751  2014-08-20     14     None       17.0    18.1595         1          1   \n",
       "\n",
       "      FIRE_NUM    Shape_Leng    Shape_Area  \\\n",
       "12702     None  22002.159236  8.667722e+06   \n",
       "17750     None  29457.419842  1.715572e+07   \n",
       "17751     None   1565.639280  7.348884e+04   \n",
       "\n",
       "                                                geometry  \n",
       "12702  POLYGON ((225728.402 -422124.230, 225728.640 -...  \n",
       "17750  POLYGON ((-69289.771 60861.423, -69317.606 608...  \n",
       "17751  POLYGON ((145458.621 -83727.318, 145657.588 -8...  "
      ]
     },
     "execution_count": 29,
     "metadata": {},
     "output_type": "execute_result"
    }
   ],
   "source": [
    "ca_2014_fires = ca_fire_bound[ca_fire_bound[\"YEAR_\"]=='2014']\n",
    "# ca_2014_fires.set_index('GIS_ACRES', inplace = True)\n",
    "# ca_2014_fires.to_csv('ca_2014_firesb.csv')\n",
    "ca_2014_fires.head(3)\n"
   ]
  },
  {
   "cell_type": "code",
   "execution_count": 40,
   "metadata": {
    "ExecuteTime": {
     "end_time": "2020-05-05T11:27:14.317990Z",
     "start_time": "2020-05-05T11:27:14.264099Z"
    }
   },
   "outputs": [
    {
     "data": {
      "text/html": [
       "<div>\n",
       "<style scoped>\n",
       "    .dataframe tbody tr th:only-of-type {\n",
       "        vertical-align: middle;\n",
       "    }\n",
       "\n",
       "    .dataframe tbody tr th {\n",
       "        vertical-align: top;\n",
       "    }\n",
       "\n",
       "    .dataframe thead th {\n",
       "        text-align: right;\n",
       "    }\n",
       "</style>\n",
       "<table border=\"1\" class=\"dataframe\">\n",
       "  <thead>\n",
       "    <tr style=\"text-align: right;\">\n",
       "      <th></th>\n",
       "      <th>OBJECTID</th>\n",
       "      <th>YEAR_</th>\n",
       "      <th>STATE</th>\n",
       "      <th>AGENCY</th>\n",
       "      <th>UNIT_ID</th>\n",
       "      <th>FIRE_NAME</th>\n",
       "      <th>INC_NUM</th>\n",
       "      <th>ALARM_DATE</th>\n",
       "      <th>CONT_DATE</th>\n",
       "      <th>CAUSE</th>\n",
       "      <th>COMMENTS</th>\n",
       "      <th>REPORT_AC</th>\n",
       "      <th>GIS_ACRES</th>\n",
       "      <th>C_METHOD</th>\n",
       "      <th>OBJECTIVE</th>\n",
       "      <th>FIRE_NUM</th>\n",
       "      <th>Shape_Leng</th>\n",
       "      <th>Shape_Area</th>\n",
       "      <th>geometry</th>\n",
       "    </tr>\n",
       "  </thead>\n",
       "  <tbody>\n",
       "    <tr>\n",
       "      <th>17877</th>\n",
       "      <td>17878</td>\n",
       "      <td>2014</td>\n",
       "      <td>CA</td>\n",
       "      <td>DOD</td>\n",
       "      <td>MCP</td>\n",
       "      <td>COMBAT-BASILONE COMPLEX</td>\n",
       "      <td>001363</td>\n",
       "      <td>2014-05-19</td>\n",
       "      <td>None</td>\n",
       "      <td>0</td>\n",
       "      <td>Basilone Complex</td>\n",
       "      <td>0.0</td>\n",
       "      <td>1457.19</td>\n",
       "      <td>8</td>\n",
       "      <td>1</td>\n",
       "      <td>None</td>\n",
       "      <td>13508.03627</td>\n",
       "      <td>5.897019e+06</td>\n",
       "      <td>POLYGON ((229725.623 -508236.865, 229718.911 -...</td>\n",
       "    </tr>\n",
       "  </tbody>\n",
       "</table>\n",
       "</div>"
      ],
      "text/plain": [
       "       OBJECTID YEAR_ STATE AGENCY UNIT_ID                FIRE_NAME INC_NUM  \\\n",
       "17877     17878  2014    CA    DOD     MCP  COMBAT-BASILONE COMPLEX  001363   \n",
       "\n",
       "       ALARM_DATE CONT_DATE  CAUSE          COMMENTS  REPORT_AC  GIS_ACRES  \\\n",
       "17877  2014-05-19      None      0  Basilone Complex        0.0    1457.19   \n",
       "\n",
       "       C_METHOD  OBJECTIVE FIRE_NUM   Shape_Leng    Shape_Area  \\\n",
       "17877         8          1     None  13508.03627  5.897019e+06   \n",
       "\n",
       "                                                geometry  \n",
       "17877  POLYGON ((229725.623 -508236.865, 229718.911 -...  "
      ]
     },
     "execution_count": 40,
     "metadata": {},
     "output_type": "execute_result"
    }
   ],
   "source": [
    "sd6_2014_fires = ca_2014_fires[ca_2014_fires[\"FIRE_NAME\"]=='COMBAT-BASILONE COMPLEX']\n",
    "sd6_2014_fires"
   ]
  },
  {
   "cell_type": "code",
   "execution_count": 48,
   "metadata": {
    "ExecuteTime": {
     "end_time": "2020-05-05T11:31:06.696162Z",
     "start_time": "2020-05-05T11:31:06.612349Z"
    }
   },
   "outputs": [
    {
     "data": {
      "text/html": [
       "<div>\n",
       "<style scoped>\n",
       "    .dataframe tbody tr th:only-of-type {\n",
       "        vertical-align: middle;\n",
       "    }\n",
       "\n",
       "    .dataframe tbody tr th {\n",
       "        vertical-align: top;\n",
       "    }\n",
       "\n",
       "    .dataframe thead th {\n",
       "        text-align: right;\n",
       "    }\n",
       "</style>\n",
       "<table border=\"1\" class=\"dataframe\">\n",
       "  <thead>\n",
       "    <tr style=\"text-align: right;\">\n",
       "      <th></th>\n",
       "      <th>OBJECTID</th>\n",
       "      <th>YEAR_</th>\n",
       "      <th>STATE</th>\n",
       "      <th>AGENCY</th>\n",
       "      <th>UNIT_ID</th>\n",
       "      <th>FIRE_NAME</th>\n",
       "      <th>INC_NUM</th>\n",
       "      <th>ALARM_DATE</th>\n",
       "      <th>CONT_DATE</th>\n",
       "      <th>CAUSE</th>\n",
       "      <th>COMMENTS</th>\n",
       "      <th>REPORT_AC</th>\n",
       "      <th>GIS_ACRES</th>\n",
       "      <th>C_METHOD</th>\n",
       "      <th>OBJECTIVE</th>\n",
       "      <th>FIRE_NUM</th>\n",
       "      <th>Shape_Leng</th>\n",
       "      <th>Shape_Area</th>\n",
       "      <th>geometry</th>\n",
       "    </tr>\n",
       "  </thead>\n",
       "  <tbody>\n",
       "    <tr>\n",
       "      <th>17905</th>\n",
       "      <td>17906</td>\n",
       "      <td>2014</td>\n",
       "      <td>CA</td>\n",
       "      <td>LRA</td>\n",
       "      <td>MVU</td>\n",
       "      <td>POINSETTIA</td>\n",
       "      <td>010165</td>\n",
       "      <td>2014-05-14</td>\n",
       "      <td>2014-05-18</td>\n",
       "      <td>14</td>\n",
       "      <td>&lt;Null&gt;</td>\n",
       "      <td>600.0</td>\n",
       "      <td>376.94</td>\n",
       "      <td>1</td>\n",
       "      <td>1</td>\n",
       "      <td>None</td>\n",
       "      <td>15678.610991</td>\n",
       "      <td>1.525423e+06</td>\n",
       "      <td>POLYGON ((253628.610 -540400.486, 253610.819 -...</td>\n",
       "    </tr>\n",
       "  </tbody>\n",
       "</table>\n",
       "</div>"
      ],
      "text/plain": [
       "       OBJECTID YEAR_ STATE AGENCY UNIT_ID   FIRE_NAME INC_NUM  ALARM_DATE  \\\n",
       "17905     17906  2014    CA    LRA     MVU  POINSETTIA  010165  2014-05-14   \n",
       "\n",
       "        CONT_DATE  CAUSE COMMENTS  REPORT_AC  GIS_ACRES  C_METHOD  OBJECTIVE  \\\n",
       "17905  2014-05-18     14   <Null>      600.0     376.94         1          1   \n",
       "\n",
       "      FIRE_NUM    Shape_Leng    Shape_Area  \\\n",
       "17905     None  15678.610991  1.525423e+06   \n",
       "\n",
       "                                                geometry  \n",
       "17905  POLYGON ((253628.610 -540400.486, 253610.819 -...  "
      ]
     },
     "execution_count": 48,
     "metadata": {},
     "output_type": "execute_result"
    }
   ],
   "source": [
    "sd1_2014_fires = ca_2014_fires[ca_2014_fires[\"FIRE_NAME\"]=='COCOS']\n",
    "sd2_2014_fires = ca_2014_fires[ca_2014_fires[\"FIRE_NAME\"]=='BERNARDO']\n",
    "sd3_2014_fires = ca_2014_fires[ca_2014_fires[\"FIRE_NAME\"]=='POINSETTIA']\n",
    "sd4_2014_fires = ca_2014_fires[ca_2014_fires[\"FIRE_NAME\"]=='PULGAS-BASILONE COMPLEX']\n",
    "sd5_2014_fires = ca_2014_fires[ca_2014_fires[\"FIRE_NAME\"]=='TOMAHAWK-BASILONE COMPLEX']\n",
    "sd6_2014_fires = ca_2014_fires[ca_2014_fires[\"FIRE_NAME\"]=='COMBAT-BASILONE COMPLEX']\n",
    "sd3_2014_fires\n",
    "\n",
    "# sd_2014_fires = ca_2014_fires[ca_2014_fires[\"FIRE_NAME\"]==('COCOS','POINSETTIA', 'BERNARDO')]\n",
    "# ca_2014_fires.filter(regex='(?=.*COCOS)(?=.*BERNARDO)')\n",
    "# ca_2014_fires = ca_2014_fires[ca_2014_fires[\"FIRE_NAME\"].str.contains('COCOS', 'BERNARDO')]\n",
    "\n",
    "\n",
    "# sd_2014_fires.filter(regex='(?=.*BASILONE COMPLEX)(?=.*BERNARDO)')\n",
    "# sd_2014_fires = ca_2014_fires[ca_2014_fires[\"GIS_ACRES\"]<2000]\n",
    "# sd1_2014_fires"
   ]
  },
  {
   "cell_type": "code",
   "execution_count": 7,
   "metadata": {
    "ExecuteTime": {
     "end_time": "2020-05-04T20:40:11.218015Z",
     "start_time": "2020-05-04T20:40:11.173136Z"
    }
   },
   "outputs": [
    {
     "data": {
      "text/html": [
       "<div>\n",
       "<style scoped>\n",
       "    .dataframe tbody tr th:only-of-type {\n",
       "        vertical-align: middle;\n",
       "    }\n",
       "\n",
       "    .dataframe tbody tr th {\n",
       "        vertical-align: top;\n",
       "    }\n",
       "\n",
       "    .dataframe thead th {\n",
       "        text-align: right;\n",
       "    }\n",
       "</style>\n",
       "<table border=\"1\" class=\"dataframe\">\n",
       "  <thead>\n",
       "    <tr style=\"text-align: right;\">\n",
       "      <th></th>\n",
       "      <th>OBJECTID</th>\n",
       "      <th>YEAR_</th>\n",
       "      <th>STATE</th>\n",
       "      <th>AGENCY</th>\n",
       "      <th>UNIT_ID</th>\n",
       "      <th>FIRE_NAME</th>\n",
       "      <th>INC_NUM</th>\n",
       "      <th>ALARM_DATE</th>\n",
       "      <th>CONT_DATE</th>\n",
       "      <th>CAUSE</th>\n",
       "      <th>COMMENTS</th>\n",
       "      <th>REPORT_AC</th>\n",
       "      <th>GIS_ACRES</th>\n",
       "      <th>C_METHOD</th>\n",
       "      <th>OBJECTIVE</th>\n",
       "      <th>FIRE_NUM</th>\n",
       "      <th>Shape_Leng</th>\n",
       "      <th>Shape_Area</th>\n",
       "      <th>geometry</th>\n",
       "    </tr>\n",
       "  </thead>\n",
       "  <tbody>\n",
       "    <tr>\n",
       "      <th>17876</th>\n",
       "      <td>17877</td>\n",
       "      <td>2014</td>\n",
       "      <td>CA</td>\n",
       "      <td>DOD</td>\n",
       "      <td>MCP</td>\n",
       "      <td>PULGAS-BASILONE COMPLEX</td>\n",
       "      <td>001363</td>\n",
       "      <td>2014-05-19</td>\n",
       "      <td>None</td>\n",
       "      <td>0</td>\n",
       "      <td>Basilone Complex</td>\n",
       "      <td>0.0</td>\n",
       "      <td>15186.10</td>\n",
       "      <td>8</td>\n",
       "      <td>1</td>\n",
       "      <td>None</td>\n",
       "      <td>56943.425801</td>\n",
       "      <td>6.145614e+07</td>\n",
       "      <td>POLYGON ((238332.127 -519987.204, 238314.507 -...</td>\n",
       "    </tr>\n",
       "    <tr>\n",
       "      <th>17883</th>\n",
       "      <td>17884</td>\n",
       "      <td>2014</td>\n",
       "      <td>CA</td>\n",
       "      <td>LRA</td>\n",
       "      <td>MVU</td>\n",
       "      <td>COCOS</td>\n",
       "      <td>010212</td>\n",
       "      <td>2014-05-14</td>\n",
       "      <td>2014-05-23</td>\n",
       "      <td>14</td>\n",
       "      <td>&lt;Null&gt;</td>\n",
       "      <td>2000.0</td>\n",
       "      <td>1994.79</td>\n",
       "      <td>1</td>\n",
       "      <td>1</td>\n",
       "      <td>None</td>\n",
       "      <td>30297.925298</td>\n",
       "      <td>8.072617e+06</td>\n",
       "      <td>MULTIPOLYGON (((268503.552 -540755.537, 268513...</td>\n",
       "    </tr>\n",
       "    <tr>\n",
       "      <th>17904</th>\n",
       "      <td>17905</td>\n",
       "      <td>2014</td>\n",
       "      <td>CA</td>\n",
       "      <td>LRA</td>\n",
       "      <td>MVU</td>\n",
       "      <td>BERNARDO</td>\n",
       "      <td>010055</td>\n",
       "      <td>2014-05-13</td>\n",
       "      <td>2014-05-18</td>\n",
       "      <td>2</td>\n",
       "      <td>&lt;Null&gt;</td>\n",
       "      <td>1548.0</td>\n",
       "      <td>1331.43</td>\n",
       "      <td>1</td>\n",
       "      <td>1</td>\n",
       "      <td>None</td>\n",
       "      <td>23687.643963</td>\n",
       "      <td>5.388089e+06</td>\n",
       "      <td>POLYGON ((265317.914 -552814.323, 265302.353 -...</td>\n",
       "    </tr>\n",
       "    <tr>\n",
       "      <th>17905</th>\n",
       "      <td>17906</td>\n",
       "      <td>2014</td>\n",
       "      <td>CA</td>\n",
       "      <td>LRA</td>\n",
       "      <td>MVU</td>\n",
       "      <td>POINSETTIA</td>\n",
       "      <td>010165</td>\n",
       "      <td>2014-05-14</td>\n",
       "      <td>2014-05-18</td>\n",
       "      <td>14</td>\n",
       "      <td>&lt;Null&gt;</td>\n",
       "      <td>600.0</td>\n",
       "      <td>376.94</td>\n",
       "      <td>1</td>\n",
       "      <td>1</td>\n",
       "      <td>None</td>\n",
       "      <td>15678.610991</td>\n",
       "      <td>1.525423e+06</td>\n",
       "      <td>POLYGON ((253628.610 -540400.486, 253610.819 -...</td>\n",
       "    </tr>\n",
       "  </tbody>\n",
       "</table>\n",
       "</div>"
      ],
      "text/plain": [
       "       OBJECTID YEAR_ STATE AGENCY UNIT_ID                FIRE_NAME INC_NUM  \\\n",
       "17876     17877  2014    CA    DOD     MCP  PULGAS-BASILONE COMPLEX  001363   \n",
       "17883     17884  2014    CA    LRA     MVU                    COCOS  010212   \n",
       "17904     17905  2014    CA    LRA     MVU                 BERNARDO  010055   \n",
       "17905     17906  2014    CA    LRA     MVU               POINSETTIA  010165   \n",
       "\n",
       "       ALARM_DATE   CONT_DATE  CAUSE          COMMENTS  REPORT_AC  GIS_ACRES  \\\n",
       "17876  2014-05-19        None      0  Basilone Complex        0.0   15186.10   \n",
       "17883  2014-05-14  2014-05-23     14            <Null>     2000.0    1994.79   \n",
       "17904  2014-05-13  2014-05-18      2            <Null>     1548.0    1331.43   \n",
       "17905  2014-05-14  2014-05-18     14            <Null>      600.0     376.94   \n",
       "\n",
       "       C_METHOD  OBJECTIVE FIRE_NUM    Shape_Leng    Shape_Area  \\\n",
       "17876         8          1     None  56943.425801  6.145614e+07   \n",
       "17883         1          1     None  30297.925298  8.072617e+06   \n",
       "17904         1          1     None  23687.643963  5.388089e+06   \n",
       "17905         1          1     None  15678.610991  1.525423e+06   \n",
       "\n",
       "                                                geometry  \n",
       "17876  POLYGON ((238332.127 -519987.204, 238314.507 -...  \n",
       "17883  MULTIPOLYGON (((268503.552 -540755.537, 268513...  \n",
       "17904  POLYGON ((265317.914 -552814.323, 265302.353 -...  \n",
       "17905  POLYGON ((253628.610 -540400.486, 253610.819 -...  "
      ]
     },
     "execution_count": 7,
     "metadata": {},
     "output_type": "execute_result"
    }
   ],
   "source": [
    "selected_fires = ca_2014_fires[ca_2014_fires[\"FIRE_NAME\"].isin(['COCOS', \n",
    "                                                                'BERNARDO', \n",
    "                                                                'POINSETTIA',\n",
    "                                                               'PULGAS-BASILONE COMPLEX',\n",
    "                                                               'TOMAHAWK-BASILONE COMPLEX'])]\n",
    "selected_fires\n",
    "\n",
    "# selected_fires.to_file(\"selected.shp\")\n"
   ]
  },
  {
   "cell_type": "code",
   "execution_count": 49,
   "metadata": {
    "ExecuteTime": {
     "end_time": "2020-05-05T11:31:18.144506Z",
     "start_time": "2020-05-05T11:31:18.085692Z"
    }
   },
   "outputs": [
    {
     "data": {
      "text/html": [
       "<div>\n",
       "<style scoped>\n",
       "    .dataframe tbody tr th:only-of-type {\n",
       "        vertical-align: middle;\n",
       "    }\n",
       "\n",
       "    .dataframe tbody tr th {\n",
       "        vertical-align: top;\n",
       "    }\n",
       "\n",
       "    .dataframe thead th {\n",
       "        text-align: right;\n",
       "    }\n",
       "</style>\n",
       "<table border=\"1\" class=\"dataframe\">\n",
       "  <thead>\n",
       "    <tr style=\"text-align: right;\">\n",
       "      <th></th>\n",
       "      <th>OBJECTID</th>\n",
       "      <th>YEAR_</th>\n",
       "      <th>STATE</th>\n",
       "      <th>AGENCY</th>\n",
       "      <th>UNIT_ID</th>\n",
       "      <th>FIRE_NAME</th>\n",
       "      <th>INC_NUM</th>\n",
       "      <th>ALARM_DATE</th>\n",
       "      <th>CONT_DATE</th>\n",
       "      <th>CAUSE</th>\n",
       "      <th>COMMENTS</th>\n",
       "      <th>REPORT_AC</th>\n",
       "      <th>GIS_ACRES</th>\n",
       "      <th>C_METHOD</th>\n",
       "      <th>OBJECTIVE</th>\n",
       "      <th>FIRE_NUM</th>\n",
       "      <th>Shape_Leng</th>\n",
       "      <th>Shape_Area</th>\n",
       "      <th>geometry</th>\n",
       "    </tr>\n",
       "  </thead>\n",
       "  <tbody>\n",
       "    <tr>\n",
       "      <th>17875</th>\n",
       "      <td>17876</td>\n",
       "      <td>2014</td>\n",
       "      <td>CA</td>\n",
       "      <td>DOD</td>\n",
       "      <td>MCP</td>\n",
       "      <td>TOMAHAWK- BASILONE COMPLEX</td>\n",
       "      <td>001363</td>\n",
       "      <td>2014-05-19</td>\n",
       "      <td>None</td>\n",
       "      <td>0</td>\n",
       "      <td>Basilone Complex</td>\n",
       "      <td>0.0</td>\n",
       "      <td>5365.31</td>\n",
       "      <td>8</td>\n",
       "      <td>1</td>\n",
       "      <td>None</td>\n",
       "      <td>34819.442071</td>\n",
       "      <td>2.171264e+07</td>\n",
       "      <td>MULTIPOLYGON (((255468.962 -516099.671, 255450...</td>\n",
       "    </tr>\n",
       "  </tbody>\n",
       "</table>\n",
       "</div>"
      ],
      "text/plain": [
       "       OBJECTID YEAR_ STATE AGENCY UNIT_ID                   FIRE_NAME  \\\n",
       "17875     17876  2014    CA    DOD     MCP  TOMAHAWK- BASILONE COMPLEX   \n",
       "\n",
       "      INC_NUM  ALARM_DATE CONT_DATE  CAUSE          COMMENTS  REPORT_AC  \\\n",
       "17875  001363  2014-05-19      None      0  Basilone Complex        0.0   \n",
       "\n",
       "       GIS_ACRES  C_METHOD  OBJECTIVE FIRE_NUM    Shape_Leng    Shape_Area  \\\n",
       "17875    5365.31         8          1     None  34819.442071  2.171264e+07   \n",
       "\n",
       "                                                geometry  \n",
       "17875  MULTIPOLYGON (((255468.962 -516099.671, 255450...  "
      ]
     },
     "execution_count": 49,
     "metadata": {},
     "output_type": "execute_result"
    }
   ],
   "source": [
    "sd5_2014_fires = ca_2014_fires[ca_2014_fires[\"FIRE_NAME\"]=='TOMAHAWK- BASILONE COMPLEX']\n",
    "sd5_2014_fires"
   ]
  },
  {
   "cell_type": "code",
   "execution_count": 76,
   "metadata": {
    "ExecuteTime": {
     "end_time": "2020-05-06T13:00:57.719085Z",
     "start_time": "2020-05-06T13:00:56.736666Z"
    }
   },
   "outputs": [
    {
     "data": {
      "image/png": "[encoded data removed]",
      "text/plain": [
       "<Figure size 720x864 with 3 Axes>"
      ]
     },
     "metadata": {
      "needs_background": "light"
     },
     "output_type": "display_data"
    }
   ],
   "source": [
    "fig, (ax1, ax2, ax3) = plt.subplots(1, 3, figsize=(10, 12))\n",
    "\n",
    "# Set a larger tolerance yields a blockier polygon\n",
    "sd1_2014_fires.simplify(2, preserve_topology=True).plot(ax=ax1)\n",
    "\n",
    "# Set  a larger tolerance yields a blockier polygon\n",
    "sd2_2014_fires.simplify(2, preserve_topology=True).plot(ax=ax2)\n",
    "sd3_2014_fires.simplify(2, preserve_topology=True).plot(ax=ax3)\n",
    "# sd4_2014_fires.simplify(2, preserve_topology=True).plot(ax=ax4)\n",
    "# sd5_2014_fires.simplify(2, preserve_topology=True).plot(ax=ax5)\n",
    "\n",
    "\n",
    "ax1.set_title(\n",
    "    \"COCOS fire\")\n",
    "ax2.set_title(\n",
    "    \"Bernardo fire\")\n",
    "ax3.set_title(\n",
    "    \"Poinsettia fire\")\n",
    "# ax4.set_title(\n",
    "#     \"Pulgas fire\")\n",
    "# ax5.set_title(\n",
    "#     \"Tomahawk fire\")\n",
    "\n",
    "ax1.set_axis_off()\n",
    "ax2.set_axis_off()\n",
    "ax3.set_axis_off()\n",
    "# ax4.set_axis_off()\n",
    "# ax5.set_axis_off()\n",
    "plt.show()\n",
    "# plt.savefig('BCP_fire_boundary.png')"
   ]
  },
  {
   "cell_type": "code",
   "execution_count": 79,
   "metadata": {
    "ExecuteTime": {
     "end_time": "2020-05-06T13:47:30.618490Z",
     "start_time": "2020-05-06T13:47:30.559604Z"
    }
   },
   "outputs": [
    {
     "ename": "FileNotFoundError",
     "evalue": "[Errno 2] No such file or directory: 'data/output_figures/sandiego_2014_fires/BCP2_fire_boundary.png'",
     "output_type": "error",
     "traceback": [
      "\u001b[1;31m---------------------------------------------------------------------------\u001b[0m",
      "\u001b[1;31mFileNotFoundError\u001b[0m                         Traceback (most recent call last)",
      "\u001b[1;32m<ipython-input-79-95c2be2fe37d>\u001b[0m in \u001b[0;36m<module>\u001b[1;34m\u001b[0m\n\u001b[0;32m      1\u001b[0m \u001b[1;31m# os.chdir(os.path.join(et.io.HOME, 'earth-analytics', 'data','output_figures', \"sandiego_2014_fires\"))\u001b[0m\u001b[1;33m\u001b[0m\u001b[1;33m\u001b[0m\u001b[1;33m\u001b[0m\u001b[0m\n\u001b[1;32m----> 2\u001b[1;33m \u001b[0mplt\u001b[0m\u001b[1;33m.\u001b[0m\u001b[0msavefig\u001b[0m\u001b[1;33m(\u001b[0m\u001b[1;34m'data/output_figures/sandiego_2014_fires/BCP2_fire_boundary.png'\u001b[0m\u001b[1;33m)\u001b[0m\u001b[1;33m\u001b[0m\u001b[1;33m\u001b[0m\u001b[0m\n\u001b[0m",
      "\u001b[1;32m~\\Miniconda3\\envs\\earth-analytics-python\\lib\\site-packages\\matplotlib\\pyplot.py\u001b[0m in \u001b[0;36msavefig\u001b[1;34m(*args, **kwargs)\u001b[0m\n\u001b[0;32m    720\u001b[0m \u001b[1;32mdef\u001b[0m \u001b[0msavefig\u001b[0m\u001b[1;33m(\u001b[0m\u001b[1;33m*\u001b[0m\u001b[0margs\u001b[0m\u001b[1;33m,\u001b[0m \u001b[1;33m**\u001b[0m\u001b[0mkwargs\u001b[0m\u001b[1;33m)\u001b[0m\u001b[1;33m:\u001b[0m\u001b[1;33m\u001b[0m\u001b[1;33m\u001b[0m\u001b[0m\n\u001b[0;32m    721\u001b[0m     \u001b[0mfig\u001b[0m \u001b[1;33m=\u001b[0m \u001b[0mgcf\u001b[0m\u001b[1;33m(\u001b[0m\u001b[1;33m)\u001b[0m\u001b[1;33m\u001b[0m\u001b[1;33m\u001b[0m\u001b[0m\n\u001b[1;32m--> 722\u001b[1;33m     \u001b[0mres\u001b[0m \u001b[1;33m=\u001b[0m \u001b[0mfig\u001b[0m\u001b[1;33m.\u001b[0m\u001b[0msavefig\u001b[0m\u001b[1;33m(\u001b[0m\u001b[1;33m*\u001b[0m\u001b[0margs\u001b[0m\u001b[1;33m,\u001b[0m \u001b[1;33m**\u001b[0m\u001b[0mkwargs\u001b[0m\u001b[1;33m)\u001b[0m\u001b[1;33m\u001b[0m\u001b[1;33m\u001b[0m\u001b[0m\n\u001b[0m\u001b[0;32m    723\u001b[0m     \u001b[0mfig\u001b[0m\u001b[1;33m.\u001b[0m\u001b[0mcanvas\u001b[0m\u001b[1;33m.\u001b[0m\u001b[0mdraw_idle\u001b[0m\u001b[1;33m(\u001b[0m\u001b[1;33m)\u001b[0m   \u001b[1;31m# need this if 'transparent=True' to reset colors\u001b[0m\u001b[1;33m\u001b[0m\u001b[1;33m\u001b[0m\u001b[0m\n\u001b[0;32m    724\u001b[0m     \u001b[1;32mreturn\u001b[0m \u001b[0mres\u001b[0m\u001b[1;33m\u001b[0m\u001b[1;33m\u001b[0m\u001b[0m\n",
      "\u001b[1;32m~\\Miniconda3\\envs\\earth-analytics-python\\lib\\site-packages\\matplotlib\\figure.py\u001b[0m in \u001b[0;36msavefig\u001b[1;34m(self, fname, transparent, **kwargs)\u001b[0m\n\u001b[0;32m   2178\u001b[0m             \u001b[0mself\u001b[0m\u001b[1;33m.\u001b[0m\u001b[0mpatch\u001b[0m\u001b[1;33m.\u001b[0m\u001b[0mset_visible\u001b[0m\u001b[1;33m(\u001b[0m\u001b[0mframeon\u001b[0m\u001b[1;33m)\u001b[0m\u001b[1;33m\u001b[0m\u001b[1;33m\u001b[0m\u001b[0m\n\u001b[0;32m   2179\u001b[0m \u001b[1;33m\u001b[0m\u001b[0m\n\u001b[1;32m-> 2180\u001b[1;33m         \u001b[0mself\u001b[0m\u001b[1;33m.\u001b[0m\u001b[0mcanvas\u001b[0m\u001b[1;33m.\u001b[0m\u001b[0mprint_figure\u001b[0m\u001b[1;33m(\u001b[0m\u001b[0mfname\u001b[0m\u001b[1;33m,\u001b[0m \u001b[1;33m**\u001b[0m\u001b[0mkwargs\u001b[0m\u001b[1;33m)\u001b[0m\u001b[1;33m\u001b[0m\u001b[1;33m\u001b[0m\u001b[0m\n\u001b[0m\u001b[0;32m   2181\u001b[0m \u001b[1;33m\u001b[0m\u001b[0m\n\u001b[0;32m   2182\u001b[0m         \u001b[1;32mif\u001b[0m \u001b[0mframeon\u001b[0m\u001b[1;33m:\u001b[0m\u001b[1;33m\u001b[0m\u001b[1;33m\u001b[0m\u001b[0m\n",
      "\u001b[1;32m~\\Miniconda3\\envs\\earth-analytics-python\\lib\\site-packages\\matplotlib\\backend_bases.py\u001b[0m in \u001b[0;36mprint_figure\u001b[1;34m(self, filename, dpi, facecolor, edgecolor, orientation, format, bbox_inches, **kwargs)\u001b[0m\n\u001b[0;32m   2087\u001b[0m                     \u001b[0morientation\u001b[0m\u001b[1;33m=\u001b[0m\u001b[0morientation\u001b[0m\u001b[1;33m,\u001b[0m\u001b[1;33m\u001b[0m\u001b[1;33m\u001b[0m\u001b[0m\n\u001b[0;32m   2088\u001b[0m                     \u001b[0mbbox_inches_restore\u001b[0m\u001b[1;33m=\u001b[0m\u001b[0m_bbox_inches_restore\u001b[0m\u001b[1;33m,\u001b[0m\u001b[1;33m\u001b[0m\u001b[1;33m\u001b[0m\u001b[0m\n\u001b[1;32m-> 2089\u001b[1;33m                     **kwargs)\n\u001b[0m\u001b[0;32m   2090\u001b[0m             \u001b[1;32mfinally\u001b[0m\u001b[1;33m:\u001b[0m\u001b[1;33m\u001b[0m\u001b[1;33m\u001b[0m\u001b[0m\n\u001b[0;32m   2091\u001b[0m                 \u001b[1;32mif\u001b[0m \u001b[0mbbox_inches\u001b[0m \u001b[1;32mand\u001b[0m \u001b[0mrestore_bbox\u001b[0m\u001b[1;33m:\u001b[0m\u001b[1;33m\u001b[0m\u001b[1;33m\u001b[0m\u001b[0m\n",
      "\u001b[1;32m~\\Miniconda3\\envs\\earth-analytics-python\\lib\\site-packages\\matplotlib\\backends\\backend_agg.py\u001b[0m in \u001b[0;36mprint_png\u001b[1;34m(self, filename_or_obj, metadata, pil_kwargs, *args, **kwargs)\u001b[0m\n\u001b[0;32m    528\u001b[0m             \u001b[0mrenderer\u001b[0m \u001b[1;33m=\u001b[0m \u001b[0mself\u001b[0m\u001b[1;33m.\u001b[0m\u001b[0mget_renderer\u001b[0m\u001b[1;33m(\u001b[0m\u001b[1;33m)\u001b[0m\u001b[1;33m\u001b[0m\u001b[1;33m\u001b[0m\u001b[0m\n\u001b[0;32m    529\u001b[0m             \u001b[1;32mwith\u001b[0m \u001b[0mcbook\u001b[0m\u001b[1;33m.\u001b[0m\u001b[0m_setattr_cm\u001b[0m\u001b[1;33m(\u001b[0m\u001b[0mrenderer\u001b[0m\u001b[1;33m,\u001b[0m \u001b[0mdpi\u001b[0m\u001b[1;33m=\u001b[0m\u001b[0mself\u001b[0m\u001b[1;33m.\u001b[0m\u001b[0mfigure\u001b[0m\u001b[1;33m.\u001b[0m\u001b[0mdpi\u001b[0m\u001b[1;33m)\u001b[0m\u001b[1;33m,\u001b[0m\u001b[0;31m \u001b[0m\u001b[0;31m\\\u001b[0m\u001b[1;33m\u001b[0m\u001b[1;33m\u001b[0m\u001b[0m\n\u001b[1;32m--> 530\u001b[1;33m                     \u001b[0mcbook\u001b[0m\u001b[1;33m.\u001b[0m\u001b[0mopen_file_cm\u001b[0m\u001b[1;33m(\u001b[0m\u001b[0mfilename_or_obj\u001b[0m\u001b[1;33m,\u001b[0m \u001b[1;34m\"wb\"\u001b[0m\u001b[1;33m)\u001b[0m \u001b[1;32mas\u001b[0m \u001b[0mfh\u001b[0m\u001b[1;33m:\u001b[0m\u001b[1;33m\u001b[0m\u001b[1;33m\u001b[0m\u001b[0m\n\u001b[0m\u001b[0;32m    531\u001b[0m                 _png.write_png(renderer._renderer, fh,\n\u001b[0;32m    532\u001b[0m                                self.figure.dpi, metadata=metadata)\n",
      "\u001b[1;32m~\\Miniconda3\\envs\\earth-analytics-python\\lib\\contextlib.py\u001b[0m in \u001b[0;36m__enter__\u001b[1;34m(self)\u001b[0m\n\u001b[0;32m    110\u001b[0m         \u001b[1;32mdel\u001b[0m \u001b[0mself\u001b[0m\u001b[1;33m.\u001b[0m\u001b[0margs\u001b[0m\u001b[1;33m,\u001b[0m \u001b[0mself\u001b[0m\u001b[1;33m.\u001b[0m\u001b[0mkwds\u001b[0m\u001b[1;33m,\u001b[0m \u001b[0mself\u001b[0m\u001b[1;33m.\u001b[0m\u001b[0mfunc\u001b[0m\u001b[1;33m\u001b[0m\u001b[1;33m\u001b[0m\u001b[0m\n\u001b[0;32m    111\u001b[0m         \u001b[1;32mtry\u001b[0m\u001b[1;33m:\u001b[0m\u001b[1;33m\u001b[0m\u001b[1;33m\u001b[0m\u001b[0m\n\u001b[1;32m--> 112\u001b[1;33m             \u001b[1;32mreturn\u001b[0m \u001b[0mnext\u001b[0m\u001b[1;33m(\u001b[0m\u001b[0mself\u001b[0m\u001b[1;33m.\u001b[0m\u001b[0mgen\u001b[0m\u001b[1;33m)\u001b[0m\u001b[1;33m\u001b[0m\u001b[1;33m\u001b[0m\u001b[0m\n\u001b[0m\u001b[0;32m    113\u001b[0m         \u001b[1;32mexcept\u001b[0m \u001b[0mStopIteration\u001b[0m\u001b[1;33m:\u001b[0m\u001b[1;33m\u001b[0m\u001b[1;33m\u001b[0m\u001b[0m\n\u001b[0;32m    114\u001b[0m             \u001b[1;32mraise\u001b[0m \u001b[0mRuntimeError\u001b[0m\u001b[1;33m(\u001b[0m\u001b[1;34m\"generator didn't yield\"\u001b[0m\u001b[1;33m)\u001b[0m \u001b[1;32mfrom\u001b[0m \u001b[1;32mNone\u001b[0m\u001b[1;33m\u001b[0m\u001b[1;33m\u001b[0m\u001b[0m\n",
      "\u001b[1;32m~\\Miniconda3\\envs\\earth-analytics-python\\lib\\site-packages\\matplotlib\\cbook\\__init__.py\u001b[0m in \u001b[0;36mopen_file_cm\u001b[1;34m(path_or_file, mode, encoding)\u001b[0m\n\u001b[0;32m    445\u001b[0m \u001b[1;32mdef\u001b[0m \u001b[0mopen_file_cm\u001b[0m\u001b[1;33m(\u001b[0m\u001b[0mpath_or_file\u001b[0m\u001b[1;33m,\u001b[0m \u001b[0mmode\u001b[0m\u001b[1;33m=\u001b[0m\u001b[1;34m\"r\"\u001b[0m\u001b[1;33m,\u001b[0m \u001b[0mencoding\u001b[0m\u001b[1;33m=\u001b[0m\u001b[1;32mNone\u001b[0m\u001b[1;33m)\u001b[0m\u001b[1;33m:\u001b[0m\u001b[1;33m\u001b[0m\u001b[1;33m\u001b[0m\u001b[0m\n\u001b[0;32m    446\u001b[0m     \u001b[1;34mr\"\"\"Pass through file objects and context-manage `.PathLike`\\s.\"\"\"\u001b[0m\u001b[1;33m\u001b[0m\u001b[1;33m\u001b[0m\u001b[0m\n\u001b[1;32m--> 447\u001b[1;33m     \u001b[0mfh\u001b[0m\u001b[1;33m,\u001b[0m \u001b[0mopened\u001b[0m \u001b[1;33m=\u001b[0m \u001b[0mto_filehandle\u001b[0m\u001b[1;33m(\u001b[0m\u001b[0mpath_or_file\u001b[0m\u001b[1;33m,\u001b[0m \u001b[0mmode\u001b[0m\u001b[1;33m,\u001b[0m \u001b[1;32mTrue\u001b[0m\u001b[1;33m,\u001b[0m \u001b[0mencoding\u001b[0m\u001b[1;33m)\u001b[0m\u001b[1;33m\u001b[0m\u001b[1;33m\u001b[0m\u001b[0m\n\u001b[0m\u001b[0;32m    448\u001b[0m     \u001b[1;32mif\u001b[0m \u001b[0mopened\u001b[0m\u001b[1;33m:\u001b[0m\u001b[1;33m\u001b[0m\u001b[1;33m\u001b[0m\u001b[0m\n\u001b[0;32m    449\u001b[0m         \u001b[1;32mwith\u001b[0m \u001b[0mfh\u001b[0m\u001b[1;33m:\u001b[0m\u001b[1;33m\u001b[0m\u001b[1;33m\u001b[0m\u001b[0m\n",
      "\u001b[1;32m~\\Miniconda3\\envs\\earth-analytics-python\\lib\\site-packages\\matplotlib\\cbook\\__init__.py\u001b[0m in \u001b[0;36mto_filehandle\u001b[1;34m(fname, flag, return_opened, encoding)\u001b[0m\n\u001b[0;32m    430\u001b[0m             \u001b[0mfh\u001b[0m \u001b[1;33m=\u001b[0m \u001b[0mbz2\u001b[0m\u001b[1;33m.\u001b[0m\u001b[0mBZ2File\u001b[0m\u001b[1;33m(\u001b[0m\u001b[0mfname\u001b[0m\u001b[1;33m,\u001b[0m \u001b[0mflag\u001b[0m\u001b[1;33m)\u001b[0m\u001b[1;33m\u001b[0m\u001b[1;33m\u001b[0m\u001b[0m\n\u001b[0;32m    431\u001b[0m         \u001b[1;32melse\u001b[0m\u001b[1;33m:\u001b[0m\u001b[1;33m\u001b[0m\u001b[1;33m\u001b[0m\u001b[0m\n\u001b[1;32m--> 432\u001b[1;33m             \u001b[0mfh\u001b[0m \u001b[1;33m=\u001b[0m \u001b[0mopen\u001b[0m\u001b[1;33m(\u001b[0m\u001b[0mfname\u001b[0m\u001b[1;33m,\u001b[0m \u001b[0mflag\u001b[0m\u001b[1;33m,\u001b[0m \u001b[0mencoding\u001b[0m\u001b[1;33m=\u001b[0m\u001b[0mencoding\u001b[0m\u001b[1;33m)\u001b[0m\u001b[1;33m\u001b[0m\u001b[1;33m\u001b[0m\u001b[0m\n\u001b[0m\u001b[0;32m    433\u001b[0m         \u001b[0mopened\u001b[0m \u001b[1;33m=\u001b[0m \u001b[1;32mTrue\u001b[0m\u001b[1;33m\u001b[0m\u001b[1;33m\u001b[0m\u001b[0m\n\u001b[0;32m    434\u001b[0m     \u001b[1;32melif\u001b[0m \u001b[0mhasattr\u001b[0m\u001b[1;33m(\u001b[0m\u001b[0mfname\u001b[0m\u001b[1;33m,\u001b[0m \u001b[1;34m'seek'\u001b[0m\u001b[1;33m)\u001b[0m\u001b[1;33m:\u001b[0m\u001b[1;33m\u001b[0m\u001b[1;33m\u001b[0m\u001b[0m\n",
      "\u001b[1;31mFileNotFoundError\u001b[0m: [Errno 2] No such file or directory: 'data/output_figures/sandiego_2014_fires/BCP2_fire_boundary.png'"
     ]
    },
    {
     "data": {
      "text/plain": [
       "<Figure size 432x288 with 0 Axes>"
      ]
     },
     "metadata": {},
     "output_type": "display_data"
    }
   ],
   "source": [
    "# os.chdir(os.path.join(et.io.HOME, 'earth-analytics', 'data','output_figures', \"sandiego_2014_fires\"))\n",
    "plt.savefig('data/output_figures/sandiego_2014_fires/BCP2_fire_boundary.png')"
   ]
  },
  {
   "cell_type": "code",
   "execution_count": 56,
   "metadata": {
    "ExecuteTime": {
     "end_time": "2020-05-05T11:40:48.030318Z",
     "start_time": "2020-05-05T11:40:47.739523Z"
    }
   },
   "outputs": [
    {
     "data": {
      "image/png": "[encoded data removed]",
      "text/plain": [
       "<Figure size 864x1152 with 3 Axes>"
      ]
     },
     "metadata": {
      "needs_background": "light"
     },
     "output_type": "display_data"
    }
   ],
   "source": [
    "fig, (ax1, ax2, ax3,) = plt.subplots(1,3, figsize=(12, 16))\n",
    "\n",
    "# Set a larger tolerance yields a blockier polygon\n",
    "# sd1_2014_fires.simplify(2, preserve_topology=True).plot(ax=ax1)\n",
    "sd4_2014_fires.simplify(2, preserve_topology=True).plot(ax=ax1)\n",
    "# sd3_2014_fires.simplify(2, preserve_topology=True).plot(ax=ax3)\n",
    "# Set  a larger tolerance yields a blockier polygon\n",
    "# sd4_2014_fires.simplify(2, preserve_topology=True).plot(ax=ax2)\n",
    "\n",
    "sd5_2014_fires.simplify(2, preserve_topology=True).plot(ax=ax2)\n",
    "\n",
    "\n",
    "sd6_2014_fires.simplify(2, preserve_topology=True).plot(ax=ax3)\n",
    "\n",
    "\n",
    "# ax1.set_title(\n",
    "#     \"COCOS fire\")\n",
    "ax1.set_title(\n",
    "    \"Pulgas fire\")\n",
    "# ax3.set_title(\n",
    "#     \"Poinsettia fire\")\n",
    "# ax4.set_title(\n",
    "#     \"Bernardo fire\")\n",
    "ax2.set_title(\n",
    "    \"Tomahawk fire\")\n",
    "ax3.set_title(\n",
    "    \"San Mateo fire\")\n",
    "\n",
    "ax1.set_axis_off()\n",
    "ax2.set_axis_off()\n",
    "ax3.set_axis_off()\n",
    "# ax4.set_axis_off()\n",
    "# ax5.set_axis_off()\n",
    "# ax6.set_axis_off()\n",
    "\n",
    "plt.show()"
   ]
  },
  {
   "cell_type": "code",
   "execution_count": 58,
   "metadata": {
    "ExecuteTime": {
     "end_time": "2020-05-05T12:23:40.063990Z",
     "start_time": "2020-05-05T12:23:39.857543Z"
    }
   },
   "outputs": [
    {
     "data": {
      "image/png": "[encoded data removed]",
      "text/plain": [
       "<Figure size 720x720 with 2 Axes>"
      ]
     },
     "metadata": {
      "needs_background": "light"
     },
     "output_type": "display_data"
    }
   ],
   "source": [
    "fig, (ax1, ax2) = plt.subplots(1, 2, figsize=(10, 10))\n",
    "\n",
    "# Set a larger tolerance yields a blockier polygon\n",
    "sd5_2014_fires.plot(ax=ax1, color= 'blue')\n",
    "\n",
    "# Set  a larger tolerance yields a blockier polygon\n",
    "sd5_2014_fires.simplify(1000, preserve_topology=True).plot(ax=ax2, color = 'g')\n",
    "\n",
    "ax1.set_title(\n",
    "    \"TOMAHAWK- BASILONE COMPLEX \\n original sahpe file\")\n",
    "ax2.set_title(\n",
    "    \"TOMAHAWK- BASILONE COMPLEX \\n High tolerance value should look blockier\")\n",
    "ax1.set_axis_off()\n",
    "ax2.set_axis_off()\n",
    "plt.show()"
   ]
  },
  {
   "cell_type": "code",
   "execution_count": 12,
   "metadata": {
    "ExecuteTime": {
     "end_time": "2020-05-04T20:40:12.409432Z",
     "start_time": "2020-05-04T20:40:12.331047Z"
    }
   },
   "outputs": [
    {
     "data": {
      "text/plain": [
       "'C:\\\\Users\\\\bina_\\\\earth-analytics\\\\data\\\\output_sd_fires'"
      ]
     },
     "execution_count": 12,
     "metadata": {},
     "output_type": "execute_result"
    },
    {
     "data": {
      "image/png": "[encoded data removed]",
      "text/plain": [
       "<Figure size 360x360 with 1 Axes>"
      ]
     },
     "metadata": {
      "needs_background": "light"
     },
     "output_type": "display_data"
    }
   ],
   "source": [
    "fig, (ax) = plt.subplots(figsize=(5, 5))\n",
    "\n",
    "# Set  a larger tolerance yields a blockier polygon\n",
    "sd5_2014_fires.simplify(10000, preserve_topology=True).plot(ax=ax, color = 'g')\n",
    "\n",
    "ax.set_axis_off()\n",
    "\n",
    "\n",
    "\n",
    "# # Creat new directory/ folder  \n",
    "# directory = \"output_sd_fires\"\n",
    "    \n",
    "# # Parent Directory path  \n",
    "# parent_dir = \"C:\\\\Users\\\\bina_\\\\earth-analytics\\\\data\"\n",
    "\n",
    "# # Path  \n",
    "# path = os.path.join(parent_dir, directory)\n",
    "# os.makedirs(path)\n",
    "# os.chdir(\"output_sd_fires\")\n",
    "os.chdir(os.path.join(et.io.HOME, 'earth-analytics', 'data','output_sd_fires'))\n",
    "os.getcwd()\n",
    "# # # # save_file = os.path.join(your_directory, your_file_name)\n",
    "# # # plt.savefig('tomahawk2014.png')\n",
    "# path = os.path.join('output2_sd_fires', \"tomahawk2014\", \"bernardo2014\")\n",
    "# os.makedirs(path)\n",
    "# # save_file = os.path.join('tomahawk2014.shp')\n",
    "# # os.getcwd()\n",
    "# plt.show()"
   ]
  },
  {
   "cell_type": "code",
   "execution_count": 13,
   "metadata": {
    "ExecuteTime": {
     "end_time": "2020-05-04T20:40:12.455341Z",
     "start_time": "2020-05-04T20:40:12.411428Z"
    }
   },
   "outputs": [],
   "source": [
    "\n",
    "# Make a copy of the original geodataframe\n",
    "\n",
    "tomahawk = sd5_2014_fires.copy()\n",
    "\n",
    "\n",
    "\n",
    "# Update the geometry of the copy\n",
    "tomahawk[\"geometry\"] = tomahawk.geometry.simplify(1000, preserve_topology=True)\n",
    "\n",
    "tomahawk.to_file(\"tomahawk2014.shp\")"
   ]
  },
  {
   "cell_type": "code",
   "execution_count": 14,
   "metadata": {
    "ExecuteTime": {
     "end_time": "2020-05-04T20:40:12.493237Z",
     "start_time": "2020-05-04T20:40:12.456306Z"
    }
   },
   "outputs": [
    {
     "name": "stdout",
     "output_type": "stream",
     "text": [
      "POLYGON ((256064.7452000007 -516958.7390000001, 256064.7452000007 -510592.1687000003, 249659.5826000012 -510592.1687000003, 249659.5826000012 -516958.7390000001, 256064.7452000007 -516958.7390000001))\n"
     ]
    }
   ],
   "source": [
    "from shapely.geometry import box\n",
    "# Change directory\n",
    "\n",
    "os.chdir(os.path.join(et.io.HOME, 'earth-analytics', 'data','output_sd_fires'))\n",
    "\n",
    "tomahawk = sd5_2014_fires.copy()\n",
    "\n",
    "tomahawk.total_bounds                                                      \n",
    "\n",
    "# This creating a bounding box\n",
    "tomahawk_bdy=box(*tomahawk.total_bounds)\n",
    "\n",
    "print(box(*tomahawk.total_bounds))  \n",
    "# tomahawk_gdf = gpd.GeoDataFrame(crs=tomahawk.crs, geometry=[box(*tomahawk.total_bounds)])\n",
    "tomahawk_gdf = gpd.GeoDataFrame(crs=tomahawk.crs, geometry=[tomahawk_bdy]) \n",
    "\n",
    "tomahawk_gdf.to_file(\"tomahawk2014.shp\")"
   ]
  },
  {
   "cell_type": "code",
   "execution_count": 15,
   "metadata": {
    "ExecuteTime": {
     "end_time": "2020-05-04T20:40:12.499192Z",
     "start_time": "2020-05-04T20:40:12.495203Z"
    }
   },
   "outputs": [],
   "source": [
    "# fig, ax1 = plt.subplots(figsize=(10, 10))\n",
    "# tomahawk_gdf.plot(ax=ax1, color= 'g')\n"
   ]
  },
  {
   "cell_type": "code",
   "execution_count": 16,
   "metadata": {
    "ExecuteTime": {
     "end_time": "2020-05-04T20:40:12.535095Z",
     "start_time": "2020-05-04T20:40:12.502184Z"
    }
   },
   "outputs": [
    {
     "name": "stdout",
     "output_type": "stream",
     "text": [
      "POLYGON ((268961.0219999999 -542742.8267999999, 268961.0219999999 -538848.5866, 263495.8161999993 -538848.5866, 263495.8161999993 -542742.8267999999, 268961.0219999999 -542742.8267999999))\n"
     ]
    }
   ],
   "source": [
    "cocos = sd1_2014_fires.copy()\n",
    "\n",
    "cocos.total_bounds                                                      \n",
    "\n",
    "# This creating a bounding box\n",
    "cocos_bdy=box(*cocos.total_bounds)\n",
    "\n",
    "print(box(*cocos.total_bounds))  \n",
    "cocos_gdf = gpd.GeoDataFrame(crs=cocos.crs, geometry=[cocos_bdy]) \n",
    "\n",
    "cocos_gdf.to_file(\"cocos2014.shp\")"
   ]
  },
  {
   "cell_type": "code",
   "execution_count": 17,
   "metadata": {
    "ExecuteTime": {
     "end_time": "2020-05-04T20:40:12.540082Z",
     "start_time": "2020-05-04T20:40:12.536092Z"
    }
   },
   "outputs": [],
   "source": [
    "# fig, ax1 = plt.subplots(figsize=(10, 10))\n",
    "# cocos_gdf.plot(ax=ax1, color= 'g')"
   ]
  },
  {
   "cell_type": "code",
   "execution_count": 18,
   "metadata": {
    "ExecuteTime": {
     "end_time": "2020-05-04T20:40:12.569308Z",
     "start_time": "2020-05-04T20:40:12.542077Z"
    }
   },
   "outputs": [
    {
     "name": "stdout",
     "output_type": "stream",
     "text": [
      "POLYGON ((269077.0249999985 -554981.9990999997, 269077.0249999985 -551039.4484999999, 262840.9626000002 -551039.4484999999, 262840.9626000002 -554981.9990999997, 269077.0249999985 -554981.9990999997))\n"
     ]
    }
   ],
   "source": [
    "bernardo = sd2_2014_fires.copy()\n",
    "\n",
    "bernardo.total_bounds                                                      \n",
    "\n",
    "# This creating a bounding box\n",
    "bernardo_bdy=box(*bernardo.total_bounds)\n",
    "\n",
    "print(box(*bernardo.total_bounds))  \n",
    "# tomahawk_gdf = gpd.GeoDataFrame(crs=tomahawk.crs, geometry=[box(*tomahawk.total_bounds)])\n",
    "bernardo_gdf = gpd.GeoDataFrame(crs=bernardo.crs, geometry=[bernardo_bdy]) \n",
    "\n",
    "bernardo_gdf.to_file(\"bernardo2014.shp\")"
   ]
  },
  {
   "cell_type": "code",
   "execution_count": 19,
   "metadata": {
    "ExecuteTime": {
     "end_time": "2020-05-04T20:40:12.599548Z",
     "start_time": "2020-05-04T20:40:12.571354Z"
    }
   },
   "outputs": [
    {
     "name": "stdout",
     "output_type": "stream",
     "text": [
      "POLYGON ((268961.0219999999 -542742.8267999999, 268961.0219999999 -538848.5866, 263495.8161999993 -538848.5866, 263495.8161999993 -542742.8267999999, 268961.0219999999 -542742.8267999999))\n"
     ]
    }
   ],
   "source": [
    "poinsettia = sd3_2014_fires.copy()\n",
    "\n",
    "poinsettia.total_bounds                                                      \n",
    "\n",
    "# This creating a bounding box\n",
    "poinsettia_bdy=box(*poinsettia.total_bounds)\n",
    "\n",
    "print(box(*cocos.total_bounds))  \n",
    "# tomahawk_gdf = gpd.GeoDataFrame(crs=tomahawk.crs, geometry=[box(*tomahawk.total_bounds)])\n",
    "poinsettia_gdf = gpd.GeoDataFrame(crs=poinsettia.crs, geometry=[poinsettia_bdy]) \n",
    "\n",
    "poinsettia_gdf.to_file(\"poinsettia2014.shp\")"
   ]
  },
  {
   "cell_type": "code",
   "execution_count": 20,
   "metadata": {
    "ExecuteTime": {
     "end_time": "2020-05-04T20:40:12.634453Z",
     "start_time": "2020-05-04T20:40:12.601539Z"
    }
   },
   "outputs": [
    {
     "name": "stdout",
     "output_type": "stream",
     "text": [
      "POLYGON ((248645.5621999986 -523716.4363000002, 248645.5621999986 -513173.5362999998, 237168.8363999985 -513173.5362999998, 237168.8363999985 -523716.4363000002, 248645.5621999986 -523716.4363000002))\n"
     ]
    }
   ],
   "source": [
    "pulgas = sd4_2014_fires.copy()\n",
    "\n",
    "pulgas.total_bounds                                                      \n",
    "\n",
    "# This creating a bounding box\n",
    "pulgas_bdy=box(*pulgas.total_bounds)\n",
    "\n",
    "print(box(*pulgas.total_bounds))  \n",
    "# tomahawk_gdf = gpd.GeoDataFrame(crs=tomahawk.crs, geometry=[box(*tomahawk.total_bounds)])\n",
    "pulgas_gdf = gpd.GeoDataFrame(crs=pulgas.crs, geometry=[pulgas_bdy]) \n",
    "\n",
    "pulgas_gdf.to_file(\"pulgas2014.shp\")"
   ]
  },
  {
   "cell_type": "code",
   "execution_count": 38,
   "metadata": {
    "ExecuteTime": {
     "end_time": "2020-05-05T11:23:23.847400Z",
     "start_time": "2020-05-05T11:23:23.752653Z"
    }
   },
   "outputs": [
    {
     "name": "stdout",
     "output_type": "stream",
     "text": [
      "POLYGON ((230648.191399999 -508923.8930000002, 230648.191399999 -506107.3607999999, 226209.750500001 -506107.3607999999, 226209.750500001 -508923.8930000002, 230648.191399999 -508923.8930000002))\n"
     ]
    }
   ],
   "source": [
    "\n",
    "os.chdir(os.path.join(et.io.HOME, 'earth-analytics', 'data','output_sd_fires'))\n",
    "san_mateo = sd6_2014_fires.copy()\n",
    "\n",
    "san_mateo.total_bounds                                                      \n",
    "\n",
    "# This creating a bounding box\n",
    "san_mateo_bdy=box(*san_mateo.total_bounds)\n",
    "\n",
    "print(box(*san_mateo.total_bounds))  \n",
    "# tomahawk_gdf = gpd.GeoDataFrame(crs=tomahawk.crs, geometry=[box(*tomahawk.total_bounds)])\n",
    "san_mateo_gdf = gpd.GeoDataFrame(crs=san_mateo.crs, geometry=[san_mateo_bdy]) \n",
    "\n",
    "san_mateo_gdf.to_file(\"san_mateo2014.shp\")"
   ]
  },
  {
   "cell_type": "code",
   "execution_count": null,
   "metadata": {},
   "outputs": [],
   "source": []
  }
 ],
 "metadata": {
  "celltoolbar": "Tags",
  "hide_code_all_hidden": false,
  "kernelspec": {
   "display_name": "Python 3",
   "language": "python",
   "name": "python3"
  },
  "language_info": {
   "codemirror_mode": {
    "name": "ipython",
    "version": 3
   },
   "file_extension": ".py",
   "mimetype": "text/x-python",
   "name": "python",
   "nbconvert_exporter": "python",
   "pygments_lexer": "ipython3",
   "version": "3.7.6"
  },
  "toc": {
   "base_numbering": 1,
   "nav_menu": {},
   "number_sections": true,
   "sideBar": true,
   "skip_h1_title": false,
   "title_cell": "Table of Contents",
   "title_sidebar": "Contents",
   "toc_cell": false,
   "toc_position": {},
   "toc_section_display": true,
   "toc_window_display": false
  },
  "varInspector": {
   "cols": {
    "lenName": 16,
    "lenType": 16,
    "lenVar": 40
   },
   "kernels_config": {
    "python": {
     "delete_cmd_postfix": "",
     "delete_cmd_prefix": "del ",
     "library": "var_list.py",
     "varRefreshCmd": "print(var_dic_list())"
    },
    "r": {
     "delete_cmd_postfix": ") ",
     "delete_cmd_prefix": "rm(",
     "library": "var_list.r",
     "varRefreshCmd": "cat(var_dic_list()) "
    }
   },
   "types_to_exclude": [
    "module",
    "function",
    "builtin_function_or_method",
    "instance",
    "_Feature"
   ],
   "window_display": false
  }
 },
 "nbformat": 4,
 "nbformat_minor": 2
}
