{
 "cells": [
  {
   "cell_type": "code",
   "execution_count": 1,
   "metadata": {
    "ExecuteTime": {
     "end_time": "2020-06-11T05:56:09.665164Z",
     "start_time": "2020-06-11T05:56:09.661177Z"
    }
   },
   "outputs": [],
   "source": [
    "NAME = \"Robina Shaheen\"\n",
    "DATE = \"05052020\"\n",
    "COLLABORATORS = \"\""
   ]
  },
  {
   "cell_type": "markdown",
   "metadata": {},
   "source": [
    " <img style=\"float: left;\" src=\"earth-lab-logo-rgb.png\" width=\"150\" height=\"150\" />\n",
    "\n",
    "# Earth Analytics Education"
   ]
  },
  {
   "cell_type": "markdown",
   "metadata": {},
   "source": [
    "# Climate Change and Wildfires \n",
    "## Part II Weather of San Diego and Atmospheric Composition in 2014 \n",
    "## Workflow\n",
    "1. Import packages and modules \n",
    "2. Import datetime conversion tools beteween panda and matplotlib for time series analysis\n",
    "3. Download air quality data from the EPA website\n",
    "4. Set working directory to \"earth-analytics\" \n",
    "5. Define paths to download data files from data folder 'sd_fires_2014'\n",
    "6. Import data into dataframes using appropriate functions(date-parser, indexing, remove missing values)\n",
    "    * weather data  Jan-Dec. 2014\n",
    "    * Atmospheric gases and particulate matter data Jan - Dec. 2014\n",
    "7. view nature and type of data \n",
    "8. Resample data for daily values during 2014 fire season (Mar-June 2014)\n",
    "9. Plot data to view any anomalies in data .\n",
    "10. discuss plots and conclusions.\n",
    "\n",
    "## Resources\n",
    "\n",
    "To complete this part of the assignment following chapter/websites were reviewed. \n",
    "* Time series data <a href=\"https://www.earthdatascience.org/courses/use-data-open-source-python/use-time-series-data-in-python/date-time-types-in-pandas-python//\" target=\"_blank\">Time Series Data in Python</a> online textbook, which covers writing Date, time functions in Python. \n",
    "* General python commands <a href=\"https://www.earthdatascience.org/courses/intro-to-earth-data-science//\" target=\"_blank\">Intro to Earth Data Science online textbook</a> \n",
    "\n",
    "* Environmental Protection Agency, USA. <a href=\"https://https://www.epa.gov/outdoor-air-quality-data//\" target=\"_blank\">EPA website/ User Guide to download data</a>.\n",
    "* Earthpy functions <a href=\"https://earthpy.readthedocs.io/en/latest/earthpy-data-subsets.html#colorado-flood//\" target=\"_blank\">EarthPy User Guide</a>.\n",
    "* Adherence to PEP 8 standards <a href=\"https://www.earthdatascience.org/courses/use-data-open-source-python/use-time-series-data-in-python/date-time-types-in-pandas-python//\" target=\"_blank\">online textbook page on PEP 8 </a>."
   ]
  },
  {
   "cell_type": "raw",
   "metadata": {
    "ExecuteTime": {
     "end_time": "2020-05-05T17:33:47.554069Z",
     "start_time": "2020-05-05T17:33:44.566096Z"
    }
   },
   "source": [
    "# Core imports needed for grading\n",
    "import matplotcheck.notebook as nb\n",
    "import matplotcheck.timeseries as ts"
   ]
  },
  {
   "cell_type": "markdown",
   "metadata": {},
   "source": [
    "## Import Python Packages\n",
    "\n",
    "In the cells below packages/modules were imported needed to:\n",
    "* create plots \n",
    "* set  working directory\n",
    "* download data using earthpy functions\n",
    "<a href=\"https://earthpy.readthedocs.io/en/latest/earthpy-data-subsets.html#colorado-flood//\" target=\"_blank\">EarthPy </a>\n",
    "* work with pandaframes"
   ]
  },
  {
   "cell_type": "code",
   "execution_count": 2,
   "metadata": {
    "ExecuteTime": {
     "end_time": "2020-06-11T05:56:12.368956Z",
     "start_time": "2020-06-11T05:56:09.677133Z"
    }
   },
   "outputs": [],
   "source": [
    "# Import packages/ modules\n",
    "import os\n",
    "import matplotlib.pyplot as plt\n",
    "import numpy as np\n",
    "import pandas as pd\n",
    "import earthpy as et\n",
    "import matplotlib.dates as mdates\n",
    "from matplotlib.dates import DateFormatter\n",
    "import seaborn as sns\n",
    "import datetime\n",
    "from textwrap import wrap\n",
    "from functools import reduce\n",
    "\n",
    "# Handle date time conversions between pandas and matplotlib\n",
    "from pandas.plotting import register_matplotlib_converters\n",
    "register_matplotlib_converters()\n",
    "\n",
    "# Use white grid plot background from seaborn\n",
    "sns.set(font_scale=1.5, style=\"whitegrid\")"
   ]
  },
  {
   "cell_type": "markdown",
   "metadata": {},
   "source": [
    "## Set Working Directory\n",
    "1. Use conditional statement to set working directory\n",
    "2. Set base path to download data\n",
    "3. Define path to download data\n",
    "4. Import data and save as dataframes."
   ]
  },
  {
   "cell_type": "code",
   "execution_count": 3,
   "metadata": {
    "ExecuteTime": {
     "end_time": "2020-06-11T05:56:12.378927Z",
     "start_time": "2020-06-11T05:56:12.369951Z"
    }
   },
   "outputs": [
    {
     "name": "stdout",
     "output_type": "stream",
     "text": [
      "working directory is set to earth-analytics\n"
     ]
    },
    {
     "data": {
      "text/plain": [
       "'C:\\\\Users\\\\bina_\\\\earth-analytics\\\\data\\\\SD_2014_aq_data'"
      ]
     },
     "execution_count": 3,
     "metadata": {},
     "output_type": "execute_result"
    }
   ],
   "source": [
    "# Conditional statement to check and set working directory. \n",
    "ea_path = os.path.join(et.io.HOME, 'earth-analytics')\n",
    "\n",
    "if os.path.exists(ea_path):\n",
    "    os.chdir(ea_path)\n",
    "    print(\"working directory is set to earth-analytics\") \n",
    "else:     \n",
    "    print(\"This path does not exist\")\n",
    "    \n",
    "# Set base path to download data \n",
    "base_path = os.path.join(ea_path, \"data\",\"SD_2014_aq_data\")\n",
    "base_path"
   ]
  },
  {
   "cell_type": "code",
   "execution_count": 4,
   "metadata": {
    "ExecuteTime": {
     "end_time": "2020-06-11T05:56:12.390870Z",
     "start_time": "2020-06-11T05:56:12.380897Z"
    }
   },
   "outputs": [
    {
     "data": {
      "text/plain": [
       "True"
      ]
     },
     "execution_count": 4,
     "metadata": {},
     "output_type": "execute_result"
    }
   ],
   "source": [
    "# Files to download for further analysis\n",
    "# Define relative path to files\n",
    "file_path1 = os.path.join(\"data\",\"SD_2014_aq_data\",                         \n",
    "                         \"daily_PM10_total_2014.csv\")\n",
    "file_path2 = os.path.join(\"data\", \"SD_2014_aq_data\",\n",
    "                         \"daily_PM2_AQI_2014.csv\")\n",
    "file_path3 = os.path.join(\"data\", \"SD_2014_aq_data\",\n",
    "                         \"daily_O3_2014.csv\")\n",
    "file_path4 = os.path.join(\"data\", \"SD_2014_aq_data\",\n",
    "                         \"daily_NO2_2014.csv\")\n",
    "file_path5 = os.path.join(\"data\", \"SD_2014_aq_data\",\n",
    "                         \"daily_CO_2014.csv\")\n",
    "file_path6 = os.path.join(\"data\", \"SD_2014_aq_data\",\n",
    "                         \"daily_RH_DP_2014.csv\")\n",
    "file_path7 = os.path.join(\"data\", \"SD_2014_aq_data\",\n",
    "                         \"daily_TEMP_2014.csv\")\n",
    "file_path8= os.path.join(\"data\", \"SD_2014_aq_data\",\n",
    "                         \"daily_VOCS_2014.csv\")\n",
    "file_path9 = os.path.join(\"data\", \"SD_2014_aq_data\",\n",
    "                         \"daily_LEAD_2014.csv\")\n",
    "file_path10 = os.path.join(\"data\", \"SD_2014_aq_data\",\n",
    "                         \"daily_PM25_2014.csv\")\n",
    "file_path11 = os.path.join(\"data\", \"SD_2014_aq_data\",\n",
    "                         \"daily_PM2_AQI_2014.csv\")\n",
    "file_path12 = os.path.join(\"data\", \"SD_2014_aq_data\",\n",
    "                         \"daily_PRESS_2014.csv\")\n",
    "file_path13 = os.path.join(\"data\", \"SD_2014_aq_data\",\n",
    "                         \"daily_WIND_2014.csv\")\n",
    "\n",
    "# To check if path is created\n",
    "os.path.exists(file_path1)"
   ]
  },
  {
   "cell_type": "code",
   "execution_count": null,
   "metadata": {
    "ExecuteTime": {
     "start_time": "2020-06-11T05:56:09.682Z"
    }
   },
   "outputs": [],
   "source": [
    "# Import csv files into dataframe and ensure date time is imported properly.\n",
    "ca_PM10_2014_df = pd.read_csv(file_path1, parse_dates=['Date Local'],\n",
    "                                index_col=['Date Local'])\n",
    "ca_PM2_2014_df = pd.read_csv(file_path2, parse_dates=['Date Local'],\n",
    "                                index_col=['Date Local'])\n",
    "ca_O3_2014_df = pd.read_csv(file_path3, parse_dates=['Date Local'],\n",
    "                                index_col=['Date Local'])\n",
    "ca_NO2_2014_df = pd.read_csv(file_path4, parse_dates=['Date Local'],\n",
    "                                index_col=['Date Local'])\n",
    "ca_CO_2014_df = pd.read_csv(file_path5, parse_dates=['Date Local'],\n",
    "                                index_col=['Date Local'])\n",
    "ca_RH_2014_df = pd.read_csv(file_path6, parse_dates=['Date Local'],\n",
    "                                index_col=['Date Local'])\n",
    "ca_temp_2014_df = pd.read_csv(file_path7, parse_dates=['Date Local'],\n",
    "                                index_col=['Date Local'])\n",
    "ca_vocs_2014_df = pd.read_csv(file_path8, parse_dates=['Date Local'],\n",
    "                                index_col=['Date Local'])\n",
    "ca_lead_2014_df = pd.read_csv(file_path9, parse_dates=['Date Local'],\n",
    "                                index_col=['Date Local'])\n",
    "ca_pm25_2014_df = pd.read_csv(file_path10, parse_dates=['Date Local'],\n",
    "                                index_col=['Date Local'])\n",
    "ca_pm2_AQI_2014_df = pd.read_csv(file_path11, parse_dates=['Date Local'],\n",
    "                                index_col=['Date Local'])\n",
    "ca_pres_2014_df = pd.read_csv(file_path12,parse_dates= ['Date Local'],\n",
    "                                index_col=['Date Local'])\n",
    "ca_wind_2014_df = pd.read_csv(file_path13,parse_dates=['Date Local'],\n",
    "                                index_col=['Date Local'])\n",
    "\n",
    "# View/test data to ensure correct files are loaded.\n",
    "ca_pm25_2014_df.head(2)"
   ]
  },
  {
   "cell_type": "markdown",
   "metadata": {},
   "source": [
    "# Data exploration and analysis\n",
    "The EPA provides data for the entire state and it is a large data set, often slowing the processing time. \n",
    "Therefore, it is important to select data required to check air quality and weathe conditions. \n",
    "I have selected ozone, oxides of nitrogen and carbon monoxide that are produced during wildfires. \n",
    "Additionally, black carbon and particulate matter is emitted during wildfires which is dangerous to inahle. These dataset will allow me to conduct my preliminary analysis of the effects of wildfires on the air quality in San Diego County.  "
   ]
  },
  {
   "cell_type": "code",
   "execution_count": null,
   "metadata": {
    "ExecuteTime": {
     "start_time": "2020-06-11T05:56:09.684Z"
    }
   },
   "outputs": [],
   "source": [
    "# Select San Diego data values needed for the analysis.\n",
    "sd_PM10 = ca_PM10_2014_df[ca_PM10_2014_df[\"County Name\"] =='San Diego']\n",
    "sd_PM2 = ca_PM2_2014_df[ca_PM2_2014_df[\"County Name\"] =='San Diego']\n",
    "sd_O3 = ca_O3_2014_df[ca_O3_2014_df[\"County Name\"] =='San Diego']\n",
    "sd_NO2 = ca_NO2_2014_df[ca_NO2_2014_df[\"County Name\"] =='San Diego']\n",
    "sd_CO = ca_CO_2014_df[ca_CO_2014_df[\"County Name\"] =='San Diego']\n",
    "sd_RH = ca_RH_2014_df[ca_RH_2014_df[\"County Name\"] =='San Diego']\n",
    "sd_temp = ca_temp_2014_df[ca_temp_2014_df[\"County Name\"] =='San Diego']\n",
    "sd_vocs = ca_vocs_2014_df[ca_vocs_2014_df[\"County Name\"] =='San Diego']\n",
    "sd_lead = ca_lead_2014_df[ca_lead_2014_df[\"County Name\"] =='San Diego']\n",
    "sd_pm25 = ca_pm25_2014_df[ca_pm25_2014_df[\"County Name\"] =='San Diego']\n",
    "sd_aqi = ca_pm2_AQI_2014_df[ca_pm2_AQI_2014_df[\"County Name\"] =='San Diego']\n",
    "sd_pres = ca_pres_2014_df[ca_pres_2014_df[\"County Name\"] =='San Diego']\n",
    "sd_wind = ca_wind_2014_df[ca_wind_2014_df[\"County Name\"] =='San Diego']\n",
    "\n",
    "# View/test data to ensure correct data is selected. \n",
    "sd_wind.head(3)"
   ]
  },
  {
   "cell_type": "code",
   "execution_count": null,
   "metadata": {
    "ExecuteTime": {
     "start_time": "2020-06-11T05:56:09.686Z"
    }
   },
   "outputs": [],
   "source": [
    "# data_frames = [sd_O3, sd_NO2, sd_CO, sd_PM10, sd_PM2, sd_vocs, sd_lead] # list of dataframes\n",
    "data_frames = [sd_O3, sd_NO2, sd_CO]\n",
    "df_merged = reduce(lambda  left,right: pd.merge(left,right,on=['Date Local'],\n",
    "                                            how='outer'), data_frames)\n",
    "df_merged.head()\n",
    "\n",
    "\n",
    "pd.DataFrame.to_csv(df_merged)"
   ]
  },
  {
   "cell_type": "code",
   "execution_count": null,
   "metadata": {
    "ExecuteTime": {
     "start_time": "2020-06-11T05:56:09.689Z"
    }
   },
   "outputs": [],
   "source": [
    "dfs= [sd_RH, sd_temp, sd_pres, sd_wind]\n",
    "def mergefiles(dfs, countfiles, i=0):\n",
    "    if i == (countfiles - 2): # it gets to the second to last and merges it with the last\n",
    "        return\n",
    "\n",
    "    dfm = dfs[i].merge(mergefiles(dfs[i+1], countfiles, i=i+1), on='Date Local')\n",
    "    return dfm\n",
    "\n",
    "print(mergefiles(dfs, len(dfs)))"
   ]
  },
  {
   "cell_type": "code",
   "execution_count": null,
   "metadata": {
    "ExecuteTime": {
     "start_time": "2020-06-11T05:56:09.691Z"
    }
   },
   "outputs": [],
   "source": [
    "# Test column names are correctly imported in each file\n",
    "sd_PM10.columns\n",
    "sd_NO2.columns"
   ]
  },
  {
   "cell_type": "code",
   "execution_count": null,
   "metadata": {
    "ExecuteTime": {
     "start_time": "2020-06-11T05:56:09.693Z"
    }
   },
   "outputs": [],
   "source": [
    "# Test all ARB monitoring stations in the San Diego County are included. \n",
    "sd_O3['City Name'].unique()"
   ]
  },
  {
   "cell_type": "code",
   "execution_count": null,
   "metadata": {
    "ExecuteTime": {
     "start_time": "2020-06-11T05:56:09.695Z"
    }
   },
   "outputs": [],
   "source": [
    "# Take Daily mean of all the stations to facilitate analysis.\n",
    "sd_mean_PM10 = pd.DataFrame(sd_PM10.groupby(['Date Local'\n",
    "                         ]).mean()[\"Arithmetic Mean\"])\n",
    "sd_mean_CO = pd.DataFrame(sd_CO.groupby(['Date Local'\n",
    "                            ]).mean()[\"Arithmetic Mean\"])\n",
    "sd_mean_O3 = pd.DataFrame(sd_O3.groupby(['Date Local'\n",
    "                            ]).mean()[\"Arithmetic Mean\"])\n",
    "sd_mean_NO2 = pd.DataFrame(sd_NO2.groupby(['Date Local'\n",
    "                            ]).mean()[\"Arithmetic Mean\"])\n",
    "sd_mean_RH = pd.DataFrame(sd_RH.groupby(['Date Local'\n",
    "                            ]).mean()[\"Arithmetic Mean\"])\n",
    "sd_mean_temp = pd.DataFrame(sd_temp.groupby(['Date Local'\n",
    "                            ]).mean()[\"Arithmetic Mean\"])\n",
    "sd_mean_vocs = pd.DataFrame(sd_vocs.groupby(['Date Local'\n",
    "                            ]).mean()[\"Arithmetic Mean\"])\n",
    "sd_mean_lead = pd.DataFrame(sd_lead.groupby(['Date Local'\n",
    "                            ]).mean()[\"Arithmetic Mean\"])\n",
    "sd_mean_pm25 = pd.DataFrame(sd_pm25.groupby(['Date Local'\n",
    "                            ]).mean()[\"Arithmetic Mean\"])\n",
    "sd_mean_aqi = pd.DataFrame(sd_aqi.groupby(['Date Local'\n",
    "                            ]).mean()[\"Arithmetic Mean\"])\n",
    "sd_mean_pres = pd.DataFrame(sd_pres.groupby(['Date Local'\n",
    "                           ]).mean()[\"Arithmetic Mean\"])\n",
    "sd_mean_wind = pd.DataFrame(sd_wind.groupby(['Date Local'\n",
    "                           ]).mean()[\"Arithmetic Mean\"])"
   ]
  },
  {
   "cell_type": "markdown",
   "metadata": {},
   "source": [
    "# Data Visualization\n",
    "I strongly believe that a picture is worth thousand words. A nice graphic that can capture the salient features of the data is important to convey a clear message to our audience. My favorite part of being a scientist is the excitement I get when an anomaly appears in the dataset. It motivates me to search for the clues and delve deeper into chemical processes and physics of the atmosphere. \n",
    "After all, we are all curious beings and our inner detective is eager to deploy all sorts of techniques to arrive at the conclusion. I am a visual learner and in my teaching I prefer to share \"secret life of molecules\" using various visualization techniques and my students appreciate this teaching style."
   ]
  },
  {
   "cell_type": "code",
   "execution_count": null,
   "metadata": {
    "ExecuteTime": {
     "start_time": "2020-06-11T05:56:09.697Z"
    }
   },
   "outputs": [],
   "source": [
    "# Create plot space\n",
    "fig, (ax1, ax2, ax3, ax4, ax5) = plt.subplots(5, \n",
    "                            sharex = True, figsize = (10, 12))\n",
    "# Add subtitle \n",
    "fig.subplots_adjust(bottom=0.15, left=0.2)\n",
    "fig.suptitle(\"\"\" Figure 1(a-e). Atmospheric conditions during wildfires\\n\n",
    "                Mar - June 2014, San Diego, CA.\"\"\", fontsize = 20)\n",
    "\n",
    "# Select plot type and add x and y-axis values to the plot.\n",
    "ax1.plot(sd_mean_O3.index.values,\n",
    "       sd_mean_O3['Arithmetic Mean'], \n",
    "       color = \"blue\",\n",
    "       marker = \"*\")\n",
    "ax2.plot(sd_mean_temp.index.values,\n",
    "       sd_mean_temp['Arithmetic Mean'], \n",
    "       color = \"green\",\n",
    "       marker = \"*\")\n",
    "ax3.plot(sd_mean_RH.index.values,\n",
    "       sd_mean_RH['Arithmetic Mean'], \n",
    "       color = \"red\",\n",
    "       marker = \"*\")\n",
    "ax4.plot(sd_mean_wind.index.values,\n",
    "       sd_mean_wind['Arithmetic Mean'], \n",
    "       color = \"black\",\n",
    "       marker = \"*\")\n",
    "ax5.plot(sd_mean_pres.index.values,\n",
    "       sd_mean_pres['Arithmetic Mean'], \n",
    "       color = \"purple\",\n",
    "       marker = \"*\")\n",
    "\n",
    "# Set plot title, axis labels and legends\n",
    "ax1.set( \n",
    "       ylabel=\"Ozone  \\n ppb)\")\n",
    "# ax4.set(title=\n",
    "#             \"(1d). Daily Mean temp, San Diego, CA. 2014\")\n",
    "ax2.set(\n",
    "       ylabel=\"Temp. \\n (oF)\")\n",
    "# ax5.set(title=\n",
    "#             \"(1e). Daily Mean temp, San Diego, CA. 2014\")\n",
    "ax3.set(#xlabel=\"Dates\", \n",
    "       ylabel=\"RH  \\n(%)\")\n",
    "#         xlim=[\"2014-03-01\", \"2014-07-01\"])\n",
    "ax4.set(#xlabel=\"Dates\", \n",
    "       ylabel=\"Wind Speed \\n (mph)\")\n",
    "# ax4.set(#title=\n",
    "#             \"(1d). Daily Mean wind speed (mph)\")\n",
    "ax5.set(xlabel=\"Dates\", \n",
    "       ylabel=\" Pressure \\n  (mb)\",\n",
    "       xlim=[\"2014-03-01\", \"2014-06-30\"])\n",
    "# ax.set_ylabel('Damped oscillation [V]', labelpad=18)\n",
    "\n",
    "# Add tick marks and rotate x-axis values\n",
    "# plt.setp(ax1.get_xticklabels(), rotation=45)\n",
    "# plt.setp(ax2.get_xticklabels(), rotation=45)\n",
    "# plt.setp(ax3.get_xticklabels(), rotation=45)\n",
    "# plt.setp(ax4.get_xticklabels(), rotation=45)\n",
    "plt.setp(ax5.get_xticklabels(), rotation=55)\n",
    "# Define the date format\n",
    "date_form1 = DateFormatter(\"%b-%d\")\n",
    "# ax1.xaxis.set_major_formatter(date_form1)\n",
    "# ax2.xaxis.set_major_formatter(date_form1)\n",
    "# ax3.xaxis.set_major_formatter(date_form1)\n",
    "# ax4.xaxis.set_major_formatter(date_form1)\n",
    "ax5.xaxis.set_major_formatter(date_form1)\n",
    "plt.savefig('data/output_figures/sandiego_2014_fires/RH_T_P_wind_profile.png')\n",
    "\n",
    "# fig.tight_layout()"
   ]
  },
  {
   "cell_type": "code",
   "execution_count": null,
   "metadata": {
    "ExecuteTime": {
     "start_time": "2020-06-11T05:56:09.699Z"
    }
   },
   "outputs": [],
   "source": [
    "# Create plot space\n",
    "fig, (ax1, ax2, ax3) = plt.subplots(3, \n",
    "                            sharex = True, figsize = (10, 12))\n",
    "# Add subtitle \n",
    "fig.subplots_adjust(bottom=0.15, left=0.2)\n",
    "fig.suptitle(\"\"\" Figure 1(a-e). Atmospheric conditions during wildfires\\n\n",
    "                Mar - June 2014, San Diego, CA.\"\"\", fontsize = 20)\n",
    "\n",
    "# # Select plot type and add x and y-axis values to the plot.\n",
    "# ax1.plot(sd_mean_O3.index.values,\n",
    "#        sd_mean_O3['Arithmetic Mean'], \n",
    "#        color = \"blue\",\n",
    "#        marker = \"*\")\n",
    "ax1.plot(sd_mean_temp.index.values,\n",
    "       sd_mean_temp['Arithmetic Mean'], \n",
    "       color = \"green\",\n",
    "       marker = \"*\")\n",
    "ax2.plot(sd_mean_RH.index.values,\n",
    "       sd_mean_RH['Arithmetic Mean'], \n",
    "       color = \"red\",\n",
    "       marker = \"*\")\n",
    "ax3.plot(sd_mean_wind.index.values,\n",
    "       sd_mean_wind['Arithmetic Mean'], \n",
    "       color = \"black\",\n",
    "       marker = \"*\")\n",
    "# ax5.plot(sd_mean_pres.index.values,\n",
    "#        sd_mean_pres['Arithmetic Mean'], \n",
    "#        color = \"purple\",\n",
    "#        marker = \"*\")\n",
    "\n",
    "# Set plot title, axis labels and legends\n",
    "# ax1.set( \n",
    "#        ylabel=\"Ozone  \\n ppb)\")\n",
    "# ax4.set(title=\n",
    "#             \"(1d). Daily Mean temp, San Diego, CA. 2014\")\n",
    "ax1.set(\n",
    "       ylabel=\"Temp. \\n (oF)\")\n",
    "# ax5.set(title=\n",
    "#             \"(1e). Daily Mean temp, San Diego, CA. 2014\")\n",
    "ax2.set(#xlabel=\"Dates\", \n",
    "       ylabel=\"RH  \\n(%)\")\n",
    "#         xlim=[\"2014-03-01\", \"2014-07-01\"])\n",
    "ax3.set(#xlabel=\"Dates\", \n",
    "       ylabel=\"Wind Speed \\n (mph)\",\n",
    "       xlim=[\"2014-03-01\", \"2014-06-30\"])\n",
    "# ax4.set(#title=\n",
    "#             \"(1d). Daily Mean wind speed (mph)\")\n",
    "# ax5.set(xlabel=\"Dates\", \n",
    "#        ylabel=\" Pressure \\n  (mb)\",\n",
    "#        xlim=[\"2014-03-01\", \"2014-06-30\"])\n",
    "# ax.set_ylabel('Damped oscillation [V]', labelpad=18)\n",
    "\n",
    "# Add tick marks and rotate x-axis values\n",
    "# plt.setp(ax1.get_xticklabels(), rotation=45)\n",
    "# plt.setp(ax2.get_xticklabels(), rotation=45)\n",
    "plt.setp(ax3.get_xticklabels(), rotation=45)\n",
    "# plt.setp(ax4.get_xticklabels(), rotation=45)\n",
    "# plt.setp(ax5.get_xticklabels(), rotation=55)\n",
    "# Define the date format\n",
    "date_form1 = DateFormatter(\"%b-%d\")\n",
    "# ax1.xaxis.set_major_formatter(date_form1)\n",
    "# ax2.xaxis.set_major_formatter(date_form1)\n",
    "ax3.xaxis.set_major_formatter(date_form1)\n",
    "# ax4.xaxis.set_major_formatter(date_form1)\n",
    "# ax5.xaxis.set_major_formatter(date_form1)\n",
    "plt.savefig('data/output_figures/sandiego_2014_fires/RH_T_wind_profile.png')\n",
    "\n",
    "# plt.tight_layout()"
   ]
  },
  {
   "cell_type": "code",
   "execution_count": null,
   "metadata": {
    "ExecuteTime": {
     "start_time": "2020-06-11T05:56:09.701Z"
    }
   },
   "outputs": [],
   "source": [
    "# Create plot space\n",
    "fig, (ax1, ax2, ax3,ax4, ax5, ax6) = plt.subplots(6,1, sharex = True, figsize = (10, 12))\n",
    "\n",
    "# Add subtitle \n",
    "fig.subplots_adjust(bottom=0.15, left=0.2)\n",
    "fig.suptitle(\"\"\" Figure 2(a-e). Chemical composition of the Atmosphere during wildfires\\n\n",
    "                Mar-June 2014, San Diego, CA.\"\"\", fontsize = 20)\n",
    "\n",
    "# Select plot type and add x and y-axis values to the plot\n",
    "ax1.plot(sd_mean_PM10.index.values,\n",
    "       sd_mean_PM10['Arithmetic Mean'], \n",
    "       color = \"black\",\n",
    "       marker = \"o\")\n",
    "ax2.plot(sd_mean_aqi.index.values,\n",
    "       sd_mean_aqi['Arithmetic Mean'], \n",
    "       color = \"red\",\n",
    "       marker = \"*\")\n",
    "ax3.plot(sd_mean_O3.index.values,\n",
    "       sd_mean_O3['Arithmetic Mean'], \n",
    "       color = \"blue\",\n",
    "       marker = \"*\")\n",
    "ax4.plot(sd_mean_NO2.index.values,\n",
    "       sd_mean_NO2['Arithmetic Mean'], \n",
    "       color = \"green\",\n",
    "       marker = \"*\")\n",
    "ax5.plot(sd_mean_CO.index.values,\n",
    "       sd_mean_CO['Arithmetic Mean'], \n",
    "       color = \"purple\",\n",
    "       marker = \"*\")\n",
    "\n",
    "ax6.plot(sd_mean_lead.index.values,\n",
    "       sd_mean_lead['Arithmetic Mean'], \n",
    "       color = \"orange\",\n",
    "       marker = \"o\")\n",
    "\n",
    "# Set plot title, axis labels and legends\n",
    "# ax1.set(title=\n",
    "#             \"(2a). Daily Mean PM10, San Diego, CA. 2014\")\n",
    "ax1.set(#xlabel=\"Dates\", \n",
    "       ylabel=\"PM10  \\n (ug/m3)\",\n",
    "        xlim=[\"2014-03-01\", \"2014-07-01\"])\n",
    "# ax2.set(title=\n",
    "#             \"(2b). Daily PM2.5, San Diego, CA. 2014\")\n",
    "ax2.set(#xlabel=\"Dates\", \n",
    "       ylabel=\"PM2.5 \\n (ug/m3)\",\n",
    "        xlim=[\"2014-03-01\", \"2014-07-01\"])\n",
    "# ax3.set(title=\n",
    "#             \"(2c). Daily Mean O3, San Diego, CA. 2014\")\n",
    "ax3.set(#xlabel=\"Dates\", \n",
    "       ylabel=\"Ozone \\n (ppm)\",\n",
    "        xlim=[\"2014-03-01\", \"2014-07-01\"])\n",
    "ax4.set(#xlabel=\"Dates\", \n",
    "       ylabel=\" Nitric oxide\\n (ppm)\",\n",
    "        xlim=[\"2014-03-01\", \"2014-07-01\"])\n",
    "ax5.set(#xlabel=\"Dates\", \n",
    "       ylabel=\"CO \\n (ppm)\",\n",
    "        xlim=[\"2014-03-01\", \"2014-07-01\"])\n",
    "ax6.set(xlabel=\"Dates\", \n",
    "       ylabel=\"Lead \\n (ug/m3)\",\n",
    "        xlim=[\"2014-03-01\", \"2014-07-01\"])\n",
    "\n",
    "# Add tick marks and rotate x-axis values\n",
    "# plt.setp(ax1.get_xticklabels(), rotation=45)\n",
    "# plt.setp(ax2.get_xticklabels(), rotation=45)\n",
    "# plt.setp(ax3.get_xticklabels(), rotation=45)\n",
    "# plt.setp(ax4.get_xticklabels(), rotation=45)\n",
    "plt.setp(ax6.get_xticklabels(), rotation=45)\n",
    "# Define the date format\n",
    "date_form1 = DateFormatter(\"%b-%d\")\n",
    "ax1.xaxis.set_major_formatter(date_form1)\n",
    "ax2.xaxis.set_major_formatter(date_form1)\n",
    "ax3.xaxis.set_major_formatter(date_form1)\n",
    "ax4.xaxis.set_major_formatter(date_form1)\n",
    "ax5.xaxis.set_major_formatter(date_form1)\n",
    "ax6.xaxis.set_major_formatter(date_form1)\n",
    "plt.savefig('data/output_figures/sandiego_2014_fires/chemical_comp_SD_atm1.png')\n",
    "# fig.tight_layout()"
   ]
  },
  {
   "cell_type": "code",
   "execution_count": null,
   "metadata": {
    "ExecuteTime": {
     "start_time": "2020-06-11T05:56:09.703Z"
    }
   },
   "outputs": [],
   "source": [
    "# Create plot space\n",
    "fig, (ax1, ax2, ax3) = plt.subplots(3,1, sharex = True, figsize = (10, 12))\n",
    "\n",
    "# Add subtitle \n",
    "# fig.subplots_adjust(bottom=0.15, left=0.2)\n",
    "fig.suptitle(\"\"\" Figure 4(a-c). Chemical composition of the Atmosphere \\n\n",
    "                Mar-June 2014, San Diego, CA.\"\"\", fontsize = 20)\n",
    "\n",
    "# Select plot type and add x and y-axis values to the plot\n",
    "# ax1.plot(sd_mean_PM10.index.values,\n",
    "#        sd_mean_PM10['Arithmetic Mean'], \n",
    "#        color = \"black\",\n",
    "#        marker = \"o\")\n",
    "# ax2.plot(sd_mean_aqi.index.values,\n",
    "#        sd_mean_aqi['Arithmetic Mean'], \n",
    "#        color = \"red\",\n",
    "#        marker = \"*\")\n",
    "# ax3.plot(sd_mean_O3.index.values,\n",
    "#        sd_mean_O3['Arithmetic Mean'], \n",
    "#        color = \"blue\",\n",
    "#        marker = \"*\")\n",
    "ax1.plot(sd_mean_NO2.index.values,\n",
    "       sd_mean_NO2['Arithmetic Mean'], \n",
    "       color = \"green\",\n",
    "       marker = \"*\")\n",
    "ax2.plot(sd_mean_CO.index.values,\n",
    "       sd_mean_CO['Arithmetic Mean'], \n",
    "       color = \"purple\",\n",
    "       marker = \"*\")\n",
    "\n",
    "ax3.plot(sd_mean_lead.index.values,\n",
    "       sd_mean_lead['Arithmetic Mean'], \n",
    "       color = \"orange\",\n",
    "       marker = \"o\")\n",
    "\n",
    "# Set plot title, axis labels and legends\n",
    "# ax1.set(title=\n",
    "#             \"(2a). Daily Mean PM10, San Diego, CA. 2014\")\n",
    "# ax1.set(#xlabel=\"Dates\", \n",
    "#        ylabel=\"PM10  \\n (ug/m3)\",\n",
    "#         xlim=[\"2014-03-01\", \"2014-07-01\"])\n",
    "# # ax2.set(title=\n",
    "# #             \"(2b). Daily PM2.5, San Diego, CA. 2014\")\n",
    "# ax2.set(#xlabel=\"Dates\", \n",
    "#        ylabel=\"PM2.5 \\n (ug/m3)\",\n",
    "#         xlim=[\"2014-03-01\", \"2014-07-01\"])\n",
    "# # ax3.set(title=\n",
    "# #             \"(2c). Daily Mean O3, San Diego, CA. 2014\")\n",
    "# ax3.set(#xlabel=\"Dates\", \n",
    "#        ylabel=\"Ozone \\n (ppm)\",\n",
    "#         xlim=[\"2014-03-01\", \"2014-07-01\"])\n",
    "ax1.set(#xlabel=\"Dates\", \n",
    "       ylabel=\" Nitric oxide\\n (ppm)\",\n",
    "        xlim=[\"2014-03-01\", \"2014-07-01\"])\n",
    "ax2.set(#xlabel=\"Dates\", \n",
    "       ylabel=\"CO \\n (ppm)\",\n",
    "        xlim=[\"2014-03-01\", \"2014-07-01\"])\n",
    "ax3.set(xlabel=\"Dates\", \n",
    "       ylabel=\"Lead \\n (ug/m3)\",\n",
    "        xlim=[\"2014-03-01\", \"2014-07-01\"])\n",
    "\n",
    "# Add tick marks and rotate x-axis values\n",
    "# plt.setp(ax1.get_xticklabels(), rotation=45)\n",
    "# plt.setp(ax2.get_xticklabels(), rotation=45)\n",
    "plt.setp(ax3.get_xticklabels(), rotation=45)\n",
    "# plt.setp(ax4.get_xticklabels(), rotation=45)\n",
    "# plt.setp(ax6.get_xticklabels(), rotation=45)\n",
    "# Define the date format\n",
    "date_form1 = DateFormatter(\"%b-%d\")\n",
    "# ax1.xaxis.set_major_formatter(date_form1)\n",
    "# ax2.xaxis.set_major_formatter(date_form1)\n",
    "ax3.xaxis.set_major_formatter(date_form1)\n",
    "# ax4.xaxis.set_major_formatter(date_form1)\n",
    "# ax5.xaxis.set_major_formatter(date_form1)\n",
    "# ax6.xaxis.set_major_formatter(date_form1)\n",
    "plt.savefig('data/output_figures/sandiego_2014_fires/NOx_CO_Pb_sandiego.png')\n",
    "fig.tight_layout()"
   ]
  },
  {
   "cell_type": "code",
   "execution_count": null,
   "metadata": {
    "ExecuteTime": {
     "start_time": "2020-06-11T05:56:09.705Z"
    }
   },
   "outputs": [],
   "source": [
    "# Create plot space\n",
    "fig, (ax1, ax2, ax3,ax4, ax5) = plt.subplots(5,1, sharex = True, figsize = (10, 12))\n",
    "\n",
    "# Add subtitle \n",
    "fig.subplots_adjust(bottom=0.15, left=0.2)\n",
    "fig.suptitle(\"\"\" Figure 2(a-e). Chemical composition of the Atmosphere during wildfires\\n\n",
    "                Mar-June 2014, San Diego, CA.\"\"\", fontsize = 20)\n",
    "\n",
    "# Select plot type and add x and y-axis values to the plot\n",
    "ax1.plot(sd_mean_PM10.index.values,\n",
    "       sd_mean_PM10['Arithmetic Mean'], \n",
    "       color = \"black\",\n",
    "       marker = \"o\")\n",
    "ax2.plot(sd_mean_aqi.index.values,\n",
    "       sd_mean_aqi['Arithmetic Mean'], \n",
    "       color = \"red\",\n",
    "       marker = \"*\")\n",
    "ax3.plot(sd_mean_O3.index.values,\n",
    "       sd_mean_O3['Arithmetic Mean'], \n",
    "       color = \"blue\",\n",
    "       marker = \"*\")\n",
    "ax4.plot(sd_mean_NO2.index.values,\n",
    "       sd_mean_NO2['Arithmetic Mean'], \n",
    "       color = \"green\",\n",
    "       marker = \"*\")\n",
    "ax5.plot(sd_mean_CO.index.values,\n",
    "       sd_mean_CO['Arithmetic Mean'], \n",
    "       color = \"purple\",\n",
    "       marker = \"*\")\n",
    "\n",
    "# ax6.plot(sd_mean_lead.index.values,\n",
    "#        sd_mean_lead['Arithmetic Mean'], \n",
    "#        color = \"orange\",\n",
    "#        marker = \"o\")\n",
    "\n",
    "# Set plot title, axis labels and legends\n",
    "# ax1.set(title=\n",
    "#             \"(2a). Daily Mean PM10, San Diego, CA. 2014\")\n",
    "ax1.set(#xlabel=\"Dates\", \n",
    "       ylabel=\"PM10  \\n (ug/m3)\",\n",
    "        xlim=[\"2014-03-01\", \"2014-07-01\"])\n",
    "# ax2.set(title=\n",
    "#             \"(2b). Daily PM2.5, San Diego, CA. 2014\")\n",
    "ax2.set(#xlabel=\"Dates\", \n",
    "       ylabel=\"PM2.5 \\n (ug/m3)\",\n",
    "        xlim=[\"2014-03-01\", \"2014-07-01\"])\n",
    "# ax3.set(title=\n",
    "#             \"(2c). Daily Mean O3, San Diego, CA. 2014\")\n",
    "ax3.set(#xlabel=\"Dates\", \n",
    "       ylabel=\"Ozone \\n (ppm)\",\n",
    "        xlim=[\"2014-03-01\", \"2014-07-01\"])\n",
    "ax4.set(#xlabel=\"Dates\", \n",
    "       ylabel=\" Nitric oxide\\n (ppm)\",\n",
    "        xlim=[\"2014-03-01\", \"2014-07-01\"])\n",
    "ax5.set(#xlabel=\"Dates\", \n",
    "       ylabel=\"CO \\n (ppm)\",\n",
    "        xlim=[\"2014-03-01\", \"2014-07-01\"])\n",
    "# ax6.set(xlabel=\"Dates\", \n",
    "#        ylabel=\"Lead \\n (ug/m3)\",\n",
    "#         xlim=[\"2014-03-01\", \"2014-07-01\"])\n",
    "\n",
    "# Add tick marks and rotate x-axis values\n",
    "# plt.setp(ax1.get_xticklabels(), rotation=45)\n",
    "# plt.setp(ax2.get_xticklabels(), rotation=45)\n",
    "# plt.setp(ax3.get_xticklabels(), rotation=45)\n",
    "# plt.setp(ax4.get_xticklabels(), rotation=45)\n",
    "plt.setp(ax5.get_xticklabels(), rotation=45)\n",
    "# plt.setp(ax6.get_xticklabels(), rotation=45)\n",
    "# Define the date format\n",
    "date_form1 = DateFormatter(\"%b-%d\")\n",
    "ax1.xaxis.set_major_formatter(date_form1)\n",
    "ax2.xaxis.set_major_formatter(date_form1)\n",
    "ax3.xaxis.set_major_formatter(date_form1)\n",
    "ax4.xaxis.set_major_formatter(date_form1)\n",
    "ax5.xaxis.set_major_formatter(date_form1)\n",
    "# ax6.xaxis.set_major_formatter(date_form1)\n",
    "plt.savefig('data/output_figures/sandiego_2014_fires/chemical_comp_SD_atm_v01.png')\n",
    "# fig.tight_layout()"
   ]
  },
  {
   "cell_type": "code",
   "execution_count": null,
   "metadata": {
    "ExecuteTime": {
     "start_time": "2020-06-11T05:56:09.707Z"
    }
   },
   "outputs": [],
   "source": [
    "# Create plot space\n",
    "fig, (ax1, ax2, ax3, ax4) = plt.subplots(4, \n",
    "                            sharex = True, figsize = (10, 12))\n",
    "# Add subtitle \n",
    "fig.subplots_adjust(bottom=0.15, left=0.2)\n",
    "fig.suptitle(\"\"\" Figure 6(a-d). Atmospheric conditions during wildfires\\n\n",
    "                Mar - June 2014, San Diego, CA.\"\"\", fontsize = 20)\n",
    "\n",
    "# Select plot type and add x and y-axis values to the plot.\n",
    "ax1.plot(sd_mean_O3.index.values,\n",
    "       sd_mean_O3['Arithmetic Mean'], \n",
    "       color = \"blue\",\n",
    "       marker = \"*\")\n",
    "ax2.plot(sd_mean_temp.index.values,\n",
    "       sd_mean_temp['Arithmetic Mean'], \n",
    "       color = \"green\",\n",
    "       marker = \"*\")\n",
    "ax3.plot(sd_mean_RH.index.values,\n",
    "       sd_mean_RH['Arithmetic Mean'], \n",
    "       color = \"red\",\n",
    "       marker = \"*\")\n",
    "ax4.plot(sd_mean_wind.index.values,\n",
    "       sd_mean_wind['Arithmetic Mean'], \n",
    "       color = \"black\",\n",
    "       marker = \"*\")\n",
    "# ax5.plot(sd_mean_pres.index.values,\n",
    "#        sd_mean_pres['Arithmetic Mean'], \n",
    "#        color = \"purple\",\n",
    "#        marker = \"*\")\n",
    "\n",
    "# Set plot title, axis labels and legends\n",
    "ax1.set( \n",
    "       ylabel=\"Ozone  \\n ppb)\")\n",
    "# ax4.set(title=\n",
    "#             \"(1d). Daily Mean temp, San Diego, CA. 2014\")\n",
    "ax2.set(\n",
    "       ylabel=\"Temp. \\n (oF)\")\n",
    "# ax5.set(title=\n",
    "#             \"(1e). Daily Mean temp, San Diego, CA. 2014\")\n",
    "ax3.set(#xlabel=\"Dates\", \n",
    "       ylabel=\"RH  \\n(%)\")\n",
    "#         xlim=[\"2014-03-01\", \"2014-07-01\"])\n",
    "ax4.set(xlabel=\"Dates\", \n",
    "       ylabel=\"Wind Speed \\n (mph)\",\n",
    "       xlim=[\"2014-03-01\", \"2014-06-30\"])\n",
    "# ax4.set(#title=\n",
    "#             \"(1d). Daily Mean wind speed (mph)\")\n",
    "# ax5.set(xlabel=\"Dates\", \n",
    "#        ylabel=\" Pressure \\n  (mb)\",\n",
    "#        xlim=[\"2014-03-01\", \"2014-06-30\"])\n",
    "# ax.set_ylabel('Damped oscillation [V]', labelpad=18)\n",
    "\n",
    "# Add tick marks and rotate x-axis values\n",
    "# plt.setp(ax1.get_xticklabels(), rotation=45)\n",
    "# plt.setp(ax2.get_xticklabels(), rotation=45)\n",
    "# plt.setp(ax3.get_xticklabels(), rotation=45)\n",
    "plt.setp(ax4.get_xticklabels(), rotation=45)\n",
    "# plt.setp(ax5.get_xticklabels(), rotation=55)\n",
    "# Define the date format\n",
    "date_form1 = DateFormatter(\"%b-%d\")\n",
    "# ax1.xaxis.set_major_formatter(date_form1)\n",
    "# ax2.xaxis.set_major_formatter(date_form1)\n",
    "# ax3.xaxis.set_major_formatter(date_form1)\n",
    "ax4.xaxis.set_major_formatter(date_form1)\n",
    "# ax5.xaxis.set_major_formatter(date_form1)\n",
    "plt.savefig('data/output_figures/sandiego_2014_fires/Temp_RH_p_profile.png')\n",
    "\n",
    "# fig.tight_layout()"
   ]
  },
  {
   "cell_type": "markdown",
   "metadata": {
    "ExecuteTime": {
     "end_time": "2020-05-05T17:38:22.420396Z",
     "start_time": "2020-05-05T17:38:21.905048Z"
    }
   },
   "source": [
    "# Results and Conclusions:\n",
    "1. Figure 1a-e clearly indicates that high temperature, low relative humidity and low pressure in the Southern California was prevalent from Apr. June. These conditions are called \"Santa Ana\" events which are responsible for brining hot dry air from the Great Plains of the USA towards coastal areas.\n",
    "2. The extreme dry weather is the main culprit to ignite wild fires in the County of San Diego.\n",
    "3. Figure 2a-e indicates that as a result of wildfires, particulate matter (PM10 and PM2.5) concentration increased in the air as shown by a peak value on May 15, 2014.\n",
    "4. During wildfires the pollutants concentrations such as oxides of nitrogen, carbon monoxide and ozone concentraions has been increased to dangerous levels (doubles/ tripled than the Maximum Permissible limit by the EPA.\n",
    "5. We breathe 3000L of air every day and such high levels of pollutants often trigger respiraotry and cardiovasuclar diseases. Chidren and elderly people, sensitive populations often experience respiratory distress/asthma during such pollution events.\n",
    "6. There is a mystery peak of O3, NOx and lead in early April and require further attention."
   ]
  },
  {
   "cell_type": "code",
   "execution_count": null,
   "metadata": {},
   "outputs": [],
   "source": []
  },
  {
   "cell_type": "code",
   "execution_count": null,
   "metadata": {},
   "outputs": [],
   "source": []
  },
  {
   "cell_type": "code",
   "execution_count": null,
   "metadata": {
    "ExecuteTime": {
     "start_time": "2020-06-11T05:56:09.711Z"
    }
   },
   "outputs": [],
   "source": [
    "# Create figure to show 2013 precipitation pattern using three subsets created from the orignal dataset. \n",
    "fig, (ax1, ax2, ax3) = plt.subplots(3,1, figsize = (10, 10))\n",
    "offset = 0.3\n",
    "\n",
    "# Add x-axis and y-axis\n",
    "ax1.plot(daily_precip_aug_oct_2013.index.values,\n",
    "       daily_precip_aug_oct_2013['HPCP'],\n",
    "       color='green', marker = '*')\n",
    "\n",
    "ax2.plot(monthly_max_precip_2013.index.values,\n",
    "       monthly_max_precip_2013['HPCP'],\n",
    "       color = 'red', marker = 'o')\n",
    "ax3.plot(mo_total_precip_1948_2013.index.values,\n",
    "       mo_total_precip_1948_2013['HPCP'],\n",
    "       color = 'blue')\n",
    "\n",
    "# Set title and labels for axes\n",
    "ax1.set(xlabel=\"Date\",\n",
    "       ylabel=\"Precipitation (inches)\",\n",
    "       title=\" (1a). Daily Total Precipitation (Aug-Oct 2013) in Boulder, CO\")\n",
    "\n",
    "ax2.set(xlabel=\"Date\",\n",
    "       ylabel=\"Precipitation (inches)\",\n",
    "       title=\" (1b). Monthly maximum of daily precipitation 2013, Boulder, CO\")\n",
    "\n",
    "ax3.set(xlabel=\"Date\",\n",
    "       ylabel=\"Precipitation (inches)\",\n",
    "       title=\" (1c). Monthly Total Precipitation 1948-2013, Boulder, CO \")\n",
    "\n",
    "# Rotate tick marks on x-axis\n",
    "plt.setp(ax1.get_xticklabels(), rotation=45)\n",
    "plt.setp(ax2.get_xticklabels(), rotation=45)\n",
    "plt.setp(ax3.get_xticklabels(), rotation=45)\n",
    "\n",
    "# Define the date format\n",
    "date_form1 = DateFormatter(\"%b-%d\")\n",
    "ax1.xaxis.set_major_formatter(date_form1)\n",
    "\n",
    "date_form2 = DateFormatter(\"%b-%d\")\n",
    "ax2.xaxis.set_major_formatter(date_form2)\n",
    "\n",
    "date_form3 = DateFormatter(\"%Y\")\n",
    "ax3.xaxis.set_major_formatter(date_form3)\n",
    "\n",
    "plt.tight_layout()\n",
    "plt.show()\n",
    "\n",
    "# # Ensure a major tick for each week using (interval=1)\n",
    "# ax.xaxis.set_major_locator(mdates.WeekdayLocator(interval=1)"
   ]
  },
  {
   "cell_type": "markdown",
   "metadata": {},
   "source": [
    "# Stream Discharge (cubic feet per second - CFS)\n",
    "## Data selection/analysis for figure 2:\n",
    "1. one subplot for daily discharge values from Aug 1, 2013 to Oct 1, 2013\n",
    "    * there should be one value for each day in time period\n",
    "    * x axis label should be month-day (e.g. \"Aug-01\")\n",
    "2. one subplot for monthly maximum values of discharge in 2013\n",
    "    * there should be one value for each month in 2013\n",
    "    * x axis label should be month-day (e.g. \"Aug-01\")\n",
    "3. one subplot for monthly totals of discharge for all years in dataset\n",
    "    * there should be one value for each month-year (e.g. Jan 2001, Feb 2001, so on)\n",
    "    * x axis label should be Year (e.g. \"2013\")"
   ]
  },
  {
   "cell_type": "code",
   "execution_count": null,
   "metadata": {
    "ExecuteTime": {
     "start_time": "2020-06-11T05:56:09.713Z"
    }
   },
   "outputs": [],
   "source": [
    "# Import discharge data to a data frame.\n",
    "# The code below parse date, index date and removes missing values.\n",
    "boulder_daily_discharge_1986_2013= pd.read_csv(file_path2,\n",
    "                                       parse_dates=['datetime'],\n",
    "                                       index_col= ['datetime'],\n",
    "                                       na_values=['999.99'])\n",
    "boulder_daily_discharge_1986_2013.head()"
   ]
  },
  {
   "cell_type": "code",
   "execution_count": null,
   "metadata": {
    "ExecuteTime": {
     "start_time": "2020-06-11T05:56:09.715Z"
    }
   },
   "outputs": [],
   "source": [
    "# To obtain information on the data type\n",
    "boulder_daily_discharge_1986_2013.info()"
   ]
  },
  {
   "cell_type": "code",
   "execution_count": null,
   "metadata": {
    "ExecuteTime": {
     "start_time": "2020-06-11T05:56:09.717Z"
    }
   },
   "outputs": [],
   "source": [
    "# To obtain statics on the discharge data\n",
    "boulder_daily_discharge_1986_2013.describe()"
   ]
  },
  {
   "cell_type": "code",
   "execution_count": null,
   "metadata": {
    "ExecuteTime": {
     "start_time": "2020-06-11T05:56:09.719Z"
    }
   },
   "outputs": [],
   "source": [
    "# To select subset of daily discharge values from Aug 1, 2013 to Oct 1, 2013\n",
    "daily_dis_aug_oct_2013= (boulder_daily_discharge_1986_2013['2013-08-01':'2013-10-01']\n",
    "                         .resample('D').sum())\n",
    "daily_dis_aug_oct_2013"
   ]
  },
  {
   "cell_type": "code",
   "execution_count": null,
   "metadata": {
    "ExecuteTime": {
     "start_time": "2020-06-11T05:56:09.721Z"
    }
   },
   "outputs": [],
   "source": [
    "# To select subset of monthly maximum values of discharge in 2013\n",
    "monthly_max_dis_2013= (boulder_daily_discharge_1986_2013['2013-01-01':'2013-12-31']\n",
    "                       .resample('M').max())\n",
    "monthly_max_dis_2013"
   ]
  },
  {
   "cell_type": "code",
   "execution_count": null,
   "metadata": {
    "ExecuteTime": {
     "start_time": "2020-06-11T05:56:09.722Z"
    }
   },
   "outputs": [],
   "source": [
    "# To select monthly discharge vlaues for all stations for the entire dataset\n",
    "mo_total_dis_1986_2013= boulder_daily_discharge_1986_2013.resample('M').sum()\n",
    "mo_total_dis_1986_2013"
   ]
  },
  {
   "cell_type": "markdown",
   "metadata": {},
   "source": [
    "## A comparison of 2013 and historical discharge of water (CFS) through streams\n",
    "##           in Boulder, CO.\n",
    "### Each subplot includes:\n",
    "* geographic coverage.\n",
    "* duration or temporal extent of the data.\n",
    "* what was actually measured and/or represented by the data.\n",
    "* units of measurement."
   ]
  },
  {
   "cell_type": "code",
   "execution_count": null,
   "metadata": {
    "ExecuteTime": {
     "start_time": "2020-06-11T05:56:09.724Z"
    }
   },
   "outputs": [],
   "source": [
    "# Create figure and subplot space for discharge in Boulder\n",
    "fig, (ax1, ax2, ax3) = plt.subplots(3,1, figsize = (10, 10))\n",
    "\n",
    "# Add x-axis and y-axis\n",
    "ax1.plot(daily_dis_aug_oct_2013.index.values,\n",
    "       daily_dis_aug_oct_2013['disValue'],\n",
    "       color='green', marker = '*')\n",
    "ax2.plot(monthly_max_dis_2013.index.values,\n",
    "       monthly_max_dis_2013['disValue'],\n",
    "       color = 'red', marker = 'o')\n",
    "ax3.plot(mo_total_dis_1986_2013.index.values,\n",
    "       mo_total_dis_1986_2013['disValue'],\n",
    "       color = 'blue')\n",
    "\n",
    "# Set title and labels for axes\n",
    "ax1.set(xlabel=\"Date\",\n",
    "       ylabel=\"Discharge (CFS)\",\n",
    "       title=\"(2a). Mean daily Total Discharge (CFS) Aug-oct 2013, Boulder, CO.\")\n",
    "ax2.set(xlabel=\"Date\",\n",
    "       ylabel=\"Discharge (CFS)\",\n",
    "       title=\"(2b). Monthly maximum of daily mean discharge (CFS) 2013 Boulder, CO.\")\n",
    "ax3.set(xlabel=\"Date\",\n",
    "       ylabel=\"Discharge (CFS)\",\n",
    "       title=\"(2c). Monthly Total of daily mean discharge (CFS) 1986-2013 Boulder, CO.\")\n",
    "\n",
    "# Rotate tick marks on x-axis\n",
    "plt.setp(ax1.get_xticklabels(), rotation=45)\n",
    "plt.setp(ax2.get_xticklabels(), rotation=45)\n",
    "plt.setp(ax3.get_xticklabels(), rotation=45)\n",
    "\n",
    "# Define the date format\n",
    "date_form1 = DateFormatter(\"%b-%d\")\n",
    "ax1.xaxis.set_major_formatter(date_form1)\n",
    "ax2.xaxis.set_major_formatter(date_form1)\n",
    "date_form3 = DateFormatter(\"%Y\")\n",
    "ax3.xaxis.set_major_formatter(date_form3)\n",
    "\n",
    "# To adjust proper spacing\n",
    "plt.tight_layout()\n",
    "plt.show()"
   ]
  },
  {
   "cell_type": "markdown",
   "metadata": {},
   "source": [
    "# Results and Discussion on plots\n",
    "1. Figure. 1a. shows there was an exceptionally higher rainfall on two consecutive days (Sep12-13).\n",
    "2. Fig 1b-c also indicates higher than usual precipitaton in sep. 2013.\n",
    "3. Fig 2a-b indicates higher discharge in sep. 2013.\n",
    "4. It appears from Fig.2c that 1995 and 1997 also experienced similar discharge rates but there was no flooding.\n",
    "5. I conclude from these figures that higher rainfall on two consecutive days in sep. 2013 caused overflow of water leading to the historic flood in Boulder, Colorado, USA. \n",
    "## To prove my conclusion, I have further analyzed data and plotted Fig. 3a-d.\n",
    "    * Total monthly discharge (26000 CFS) in July 1995, July 1997 was similar to Sep 2013 (Fig. 3a-b).\n",
    "    * However, it is the monthly maximum discharge which tripled in Sep. 2013 (5000 CFS) compared to 1500 CFS in 1995 and 1997 which caused hostric flood in 2013 in Boulder, Colorado, USA (Fig. 3c-d). "
   ]
  },
  {
   "cell_type": "code",
   "execution_count": null,
   "metadata": {
    "ExecuteTime": {
     "start_time": "2020-06-11T05:56:09.727Z"
    }
   },
   "outputs": [],
   "source": [
    "# To understand the exceptional nature of 2013 floods in comparison with 1995-1997,\n",
    "# following subsets were analyzed for further comparison.\n",
    "# 1. Monthly total discharge in 2013, 1995-1997\n",
    "monthly_tot_dis_2013= boulder_daily_discharge_1986_2013['2013-01-01':'2013-12-31'].resample('M').sum()\n",
    "\n",
    "monthly_tot_dis_1995_97= boulder_daily_discharge_1986_2013['1995-01-01':'1997-12-31'].resample('M').sum()\n",
    "\n",
    "# 2. Monthly maximum discharge in 2013 and 1995-1997\n",
    "monthly_max_dis_2013= boulder_daily_discharge_1986_2013['2013-01-01':'2013-12-31'].resample('M').max()\n",
    "\n",
    "monthly_max_dis_1995_97= boulder_daily_discharge_1986_2013['1995-01-01':'1997-12-31'].resample('M').max()"
   ]
  },
  {
   "cell_type": "code",
   "execution_count": null,
   "metadata": {
    "ExecuteTime": {
     "start_time": "2020-06-11T05:56:09.728Z"
    }
   },
   "outputs": [],
   "source": [
    "# Create figure and subplot space for discharge in Boulder\n",
    "fig, (ax1, ax2, ax3, ax4) = plt.subplots(4,1, figsize = (10, 10))\n",
    "\n",
    "# Add x-axis and y-axis for plots\n",
    "ax1.plot(monthly_tot_dis_1995_97.index.values,\n",
    "         monthly_tot_dis_1995_97['disValue'],\n",
    "         color='green', marker = \"o\")\n",
    "ax2.plot(monthly_tot_dis_2013.index.values,\n",
    "         monthly_tot_dis_2013['disValue'],\n",
    "         color='black', marker = \"o\")\n",
    "ax3.plot(monthly_max_dis_1995_97.index.values,\n",
    "       monthly_max_dis_1995_97['disValue'],\n",
    "       color='blue', marker = \"o\")\n",
    "ax4.plot(monthly_max_dis_2013.index.values,\n",
    "       monthly_max_dis_2013['disValue'],\n",
    "       color='red', marker = \"o\")\n",
    "\n",
    "# Set title and labels for axes\n",
    "ax1.set(xlabel=\"Date\",\n",
    "       ylabel=\"Discharge (CFS)\",\n",
    "       title=\"(3a). Monthly total Discharge (CFS) 1995-1997, Boulder, CO\")\n",
    "ax2.set(xlabel=\"Date\",\n",
    "       ylabel=\"Discharge (CFS)\",\n",
    "       title=\"(3b). Monthly total Discharge (CFS) 2013, Boulder, CO\")\n",
    "ax3.set(xlabel=\"Date\",\n",
    "       ylabel=\"Discharge (CFS)\",\n",
    "       title=\"(3c). Monthly maximum Discharge (CFS) 1995-1997, Boulder, CO\")\n",
    "ax4.set(xlabel=\"Date\",\n",
    "       ylabel=\"Discharge (CFS)\",\n",
    "       title=\"(3d). Monthly maximum Discharge (CFS) 2013, Boulder, CO\")\n",
    "\n",
    "# Rotate tick marks on x-axis\n",
    "plt.setp(ax1.get_xticklabels(), rotation=45)\n",
    "plt.setp(ax2.get_xticklabels(), rotation=45)\n",
    "plt.setp(ax3.get_xticklabels(), rotation=45)\n",
    "plt.setp(ax4.get_xticklabels(), rotation=45)\n",
    "\n",
    "# Define the date format for plotting\n",
    "date_form1 = DateFormatter(\"%b-%y\")\n",
    "date_form2 = DateFormatter(\"%b-%d\")\n",
    "ax1.xaxis.set_major_formatter(date_form1)\n",
    "ax2.xaxis.set_major_formatter(date_form2)\n",
    "ax3.xaxis.set_major_formatter(date_form1)\n",
    "ax4.xaxis.set_major_formatter(date_form2)\n",
    "\n",
    "plt.tight_layout()\n",
    "plt.show()"
   ]
  },
  {
   "cell_type": "code",
   "execution_count": null,
   "metadata": {},
   "outputs": [],
   "source": []
  }
 ],
 "metadata": {
  "kernelspec": {
   "display_name": "Python 3",
   "language": "python",
   "name": "python3"
  },
  "language_info": {
   "codemirror_mode": {
    "name": "ipython",
    "version": 3
   },
   "file_extension": ".py",
   "mimetype": "text/x-python",
   "name": "python",
   "nbconvert_exporter": "python",
   "pygments_lexer": "ipython3",
   "version": "3.7.6"
  },
  "toc": {
   "base_numbering": 1,
   "nav_menu": {},
   "number_sections": true,
   "sideBar": true,
   "skip_h1_title": false,
   "title_cell": "Table of Contents",
   "title_sidebar": "Contents",
   "toc_cell": false,
   "toc_position": {},
   "toc_section_display": true,
   "toc_window_display": false
  },
  "varInspector": {
   "cols": {
    "lenName": 16,
    "lenType": 16,
    "lenVar": 40
   },
   "kernels_config": {
    "python": {
     "delete_cmd_postfix": "",
     "delete_cmd_prefix": "del ",
     "library": "var_list.py",
     "varRefreshCmd": "print(var_dic_list())"
    },
    "r": {
     "delete_cmd_postfix": ") ",
     "delete_cmd_prefix": "rm(",
     "library": "var_list.r",
     "varRefreshCmd": "cat(var_dic_list()) "
    }
   },
   "types_to_exclude": [
    "module",
    "function",
    "builtin_function_or_method",
    "instance",
    "_Feature"
   ],
   "window_display": false
  }
 },
 "nbformat": 4,
 "nbformat_minor": 2
}
