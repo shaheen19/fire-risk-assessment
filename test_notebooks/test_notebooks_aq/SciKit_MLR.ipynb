{
 "cells": [
  {
   "cell_type": "code",
   "execution_count": 1,
   "metadata": {
    "ExecuteTime": {
     "end_time": "2020-06-15T21:49:11.137698Z",
     "start_time": "2020-06-15T21:49:10.035619Z"
    }
   },
   "outputs": [],
   "source": [
    "import pandas as pd  \n",
    "import numpy as np  \n",
    "import matplotlib.pyplot as plt  \n",
    "import seaborn as seabornInstance \n",
    "from sklearn.model_selection import train_test_split \n",
    "from sklearn.linear_model import LinearRegression\n",
    "from sklearn import metrics\n",
    "%matplotlib inline"
   ]
  },
  {
   "cell_type": "code",
   "execution_count": 2,
   "metadata": {
    "ExecuteTime": {
     "end_time": "2020-06-15T21:49:11.669587Z",
     "start_time": "2020-06-15T21:49:11.139689Z"
    }
   },
   "outputs": [],
   "source": [
    "# Import packages/ modules\n",
    "import os\n",
    "import matplotlib.pyplot as plt\n",
    "import numpy as np\n",
    "import pandas as pd\n",
    "import earthpy as et\n",
    "import matplotlib.dates as mdates\n",
    "from matplotlib.dates import DateFormatter\n",
    "import seaborn as sns\n",
    "import datetime\n",
    "from textwrap import wrap\n",
    "from statsmodels.formula.api import ols\n",
    "# Handle date time conversions between pandas and matplotlib\n",
    "from pandas.plotting import register_matplotlib_converters\n",
    "register_matplotlib_converters()\n",
    "\n",
    "# Use white grid plot background from seaborn\n",
    "sns.set(font_scale=1.5, style=\"whitegrid\")"
   ]
  },
  {
   "cell_type": "code",
   "execution_count": 3,
   "metadata": {
    "ExecuteTime": {
     "end_time": "2020-06-15T21:49:11.680557Z",
     "start_time": "2020-06-15T21:49:11.671613Z"
    }
   },
   "outputs": [
    {
     "name": "stdout",
     "output_type": "stream",
     "text": [
      "working directory is set to earth-analytics\n"
     ]
    },
    {
     "data": {
      "text/plain": [
       "'C:\\\\Users\\\\bina_\\\\earth-analytics\\\\data'"
      ]
     },
     "execution_count": 3,
     "metadata": {},
     "output_type": "execute_result"
    }
   ],
   "source": [
    "# Conditional statement to check and set working directory. \n",
    "ea_path = os.path.join(et.io.HOME, 'earth-analytics')\n",
    "\n",
    "if os.path.exists(ea_path):\n",
    "    os.chdir(ea_path)\n",
    "    print(\"working directory is set to earth-analytics\") \n",
    "else:     \n",
    "    print(\"This path does not exist\")\n",
    "    \n",
    "# Set base path to download data \n",
    "base_path = os.path.join(ea_path, \"data\")\n",
    "base_path"
   ]
  },
  {
   "cell_type": "markdown",
   "metadata": {},
   "source": [
    "## Techniques to measure the chemical composition of the atmosphere\n",
    "measurement of PM2  with R & P Model 2025 PM-2.5 Sequential Air Sampler w/VSCC - Gravimetric\n",
    "PM10_total with HI-VOL SA/GMW-1200 - GRAVIMETRIC\n",
    "PM25 with Met-one BAM-1020 W/PM2.5 SCC - Beta Attenuation (optical method)\n",
    "Pressure (mb) withINSTRUMENTAL - BAROMETRIC SENSOR\n",
    "VOC_ppb_C = 6L Pressurized Canister - Precon Saturn GC/MS\n",
    "O3_ppb, 8-HR RUN AVG BEGIN HOUR\n",
    "NO2 ppb, INSTRUMENTAL - CHEMILUMINESCENCE\n",
    "lead (ng/m3), Lo-Vol-Xontech 920 or 924, Teflon - ICP/Mass Spectrometer\n",
    "CO ppb,  INSTRUMENTAL - Gas Filter Correlation Thermo Electron 48i-TLE\n",
    "AQI, R & P Model 2025 PM-2.5 Sequential Air Sampler w/VSCC - Gravimetric"
   ]
  },
  {
   "cell_type": "code",
   "execution_count": 4,
   "metadata": {
    "ExecuteTime": {
     "end_time": "2020-06-15T21:49:11.696515Z",
     "start_time": "2020-06-15T21:49:11.682552Z"
    }
   },
   "outputs": [
    {
     "data": {
      "text/plain": [
       "True"
      ]
     },
     "execution_count": 4,
     "metadata": {},
     "output_type": "execute_result"
    }
   ],
   "source": [
    "\n",
    "# Files to download for further analysis\n",
    "# Define relative path to files\n",
    "file_path1 = os.path.join(\"data\",\"output_figures\", \"sandiego_2014_fires\", \"SD_weather_aq2014\" ,                       \n",
    "                         \"SD_temp.csv\")\n",
    "file_path2 = os.path.join(\"data\",\"output_figures\", \"sandiego_2014_fires\", \"SD_weather_aq2014\",                        \n",
    "                         \"SD_pres.csv\" )\n",
    "file_path3 = os.path.join(\"data\", \"output_figures\", \"sandiego_2014_fires\", \"SD_weather_aq2014\",                        \n",
    "                         \"SD_RH.csv\")\n",
    "file_path4 = os.path.join(\"data\", \"output_figures\", \"sandiego_2014_fires\", \"SD_weather_aq2014\",                        \n",
    "                         \"SD_wind.csv\")\n",
    "file_path5 = os.path.join(\"data\", \"output_figures\", \"sandiego_2014_fires\", \"SD_weather_aq2014\",                       \n",
    "                         \"SD_O3.csv\")\n",
    "file_path6 = os.path.join(\"data\", \"output_figures\", \"sandiego_2014_fires\", \"SD_weather_aq2014\",                       \n",
    "                         \"SD_CO.csv\")\n",
    "file_path7 = os.path.join(\"data\", \"output_figures\", \"sandiego_2014_fires\", \"SD_weather_aq2014\",                       \n",
    "                         \"SD_NO2.csv\")\n",
    "file_path8= os.path.join(\"data\", \"output_figures\", \"sandiego_2014_fires\", \"SD_weather_aq2014\",                       \n",
    "                         \"SD_PM25.csv\")\n",
    "file_path9 = os.path.join(\"data\", \"output_figures\", \"sandiego_2014_fires\", \"SD_weather_aq2014\",                       \n",
    "                         \"SD_PM10.csv\")\n",
    "file_path10 = os.path.join(\"data\", \"output_figures\", \"sandiego_2014_fires\", \"SD_weather_aq2014\",                       \n",
    "                         \"SD_PM2.csv\")\n",
    "file_path11 = os.path.join(\"data\", \"output_figures\", \"sandiego_2014_fires\", \"SD_weather_aq2014\",                       \n",
    "                         \"SD_lead.csv\")\n",
    "file_path12 = os.path.join(\"data\", \"output_figures\", \"sandiego_2014_fires\", \"SD_weather_aq2014\",                       \n",
    "                         \"SD_VOC.csv\")\n",
    "file_path13 = os.path.join(\"data\", \"output_figures\", \"sandiego_2014_fires\", \"SD_weather_aq2014\",                       \n",
    "                         \"SD_AQI.csv\")\n",
    "\n",
    "# To check if path is created\n",
    "os.path.exists(file_path8)"
   ]
  },
  {
   "cell_type": "code",
   "execution_count": 5,
   "metadata": {
    "ExecuteTime": {
     "end_time": "2020-06-15T21:49:12.538238Z",
     "start_time": "2020-06-15T21:49:11.698509Z"
    }
   },
   "outputs": [
    {
     "data": {
      "text/html": [
       "<div>\n",
       "<style scoped>\n",
       "    .dataframe tbody tr th:only-of-type {\n",
       "        vertical-align: middle;\n",
       "    }\n",
       "\n",
       "    .dataframe tbody tr th {\n",
       "        vertical-align: top;\n",
       "    }\n",
       "\n",
       "    .dataframe thead th {\n",
       "        text-align: right;\n",
       "    }\n",
       "</style>\n",
       "<table border=\"1\" class=\"dataframe\">\n",
       "  <thead>\n",
       "    <tr style=\"text-align: right;\">\n",
       "      <th></th>\n",
       "      <th>State Code</th>\n",
       "      <th>County Code</th>\n",
       "      <th>Site Num</th>\n",
       "      <th>Parameter Code</th>\n",
       "      <th>POC</th>\n",
       "      <th>Latitude</th>\n",
       "      <th>Longitude</th>\n",
       "      <th>Datum</th>\n",
       "      <th>Parameter Name</th>\n",
       "      <th>Sample Duration</th>\n",
       "      <th>...</th>\n",
       "      <th>AQI</th>\n",
       "      <th>Method Code</th>\n",
       "      <th>Method Name</th>\n",
       "      <th>Local Site Name</th>\n",
       "      <th>Address</th>\n",
       "      <th>State Name</th>\n",
       "      <th>County Name</th>\n",
       "      <th>City Name</th>\n",
       "      <th>CBSA Name</th>\n",
       "      <th>Date of Last Change</th>\n",
       "    </tr>\n",
       "    <tr>\n",
       "      <th>Date Local</th>\n",
       "      <th></th>\n",
       "      <th></th>\n",
       "      <th></th>\n",
       "      <th></th>\n",
       "      <th></th>\n",
       "      <th></th>\n",
       "      <th></th>\n",
       "      <th></th>\n",
       "      <th></th>\n",
       "      <th></th>\n",
       "      <th></th>\n",
       "      <th></th>\n",
       "      <th></th>\n",
       "      <th></th>\n",
       "      <th></th>\n",
       "      <th></th>\n",
       "      <th></th>\n",
       "      <th></th>\n",
       "      <th></th>\n",
       "      <th></th>\n",
       "      <th></th>\n",
       "    </tr>\n",
       "  </thead>\n",
       "  <tbody>\n",
       "    <tr>\n",
       "      <th>2014-01-01</th>\n",
       "      <td>6</td>\n",
       "      <td>73</td>\n",
       "      <td>1</td>\n",
       "      <td>44201</td>\n",
       "      <td>1</td>\n",
       "      <td>32.631231</td>\n",
       "      <td>-117.059075</td>\n",
       "      <td>WGS84</td>\n",
       "      <td>Ozone</td>\n",
       "      <td>8-HR RUN AVG BEGIN HOUR</td>\n",
       "      <td>...</td>\n",
       "      <td>31</td>\n",
       "      <td>NaN</td>\n",
       "      <td>-</td>\n",
       "      <td>Chula Vista</td>\n",
       "      <td>80 E. 'J' ST., CHULA VISTA</td>\n",
       "      <td>California</td>\n",
       "      <td>San Diego</td>\n",
       "      <td>Chula Vista</td>\n",
       "      <td>San Diego-Carlsbad, CA</td>\n",
       "      <td>7/20/2018</td>\n",
       "    </tr>\n",
       "    <tr>\n",
       "      <th>2014-01-01</th>\n",
       "      <td>6</td>\n",
       "      <td>73</td>\n",
       "      <td>3</td>\n",
       "      <td>44201</td>\n",
       "      <td>1</td>\n",
       "      <td>32.791194</td>\n",
       "      <td>-116.942092</td>\n",
       "      <td>WGS84</td>\n",
       "      <td>Ozone</td>\n",
       "      <td>8-HR RUN AVG BEGIN HOUR</td>\n",
       "      <td>...</td>\n",
       "      <td>38</td>\n",
       "      <td>NaN</td>\n",
       "      <td>-</td>\n",
       "      <td>El Cajon</td>\n",
       "      <td>1155 REDWOOD AVE., EL CAJON</td>\n",
       "      <td>California</td>\n",
       "      <td>San Diego</td>\n",
       "      <td>El Cajon</td>\n",
       "      <td>San Diego-Carlsbad, CA</td>\n",
       "      <td>7/20/2018</td>\n",
       "    </tr>\n",
       "    <tr>\n",
       "      <th>2014-01-01</th>\n",
       "      <td>6</td>\n",
       "      <td>73</td>\n",
       "      <td>1001</td>\n",
       "      <td>44201</td>\n",
       "      <td>1</td>\n",
       "      <td>32.952124</td>\n",
       "      <td>-117.264088</td>\n",
       "      <td>WGS84</td>\n",
       "      <td>Ozone</td>\n",
       "      <td>8-HR RUN AVG BEGIN HOUR</td>\n",
       "      <td>...</td>\n",
       "      <td>35</td>\n",
       "      <td>NaN</td>\n",
       "      <td>-</td>\n",
       "      <td>Del Mar</td>\n",
       "      <td>225 9th Street</td>\n",
       "      <td>California</td>\n",
       "      <td>San Diego</td>\n",
       "      <td>Del Mar</td>\n",
       "      <td>San Diego-Carlsbad, CA</td>\n",
       "      <td>7/20/2018</td>\n",
       "    </tr>\n",
       "  </tbody>\n",
       "</table>\n",
       "<p>3 rows × 29 columns</p>\n",
       "</div>"
      ],
      "text/plain": [
       "            State Code  County Code  Site Num  Parameter Code  POC   Latitude  \\\n",
       "Date Local                                                                      \n",
       "2014-01-01           6           73         1           44201    1  32.631231   \n",
       "2014-01-01           6           73         3           44201    1  32.791194   \n",
       "2014-01-01           6           73      1001           44201    1  32.952124   \n",
       "\n",
       "             Longitude  Datum Parameter Name          Sample Duration  ...  \\\n",
       "Date Local                                                             ...   \n",
       "2014-01-01 -117.059075  WGS84          Ozone  8-HR RUN AVG BEGIN HOUR  ...   \n",
       "2014-01-01 -116.942092  WGS84          Ozone  8-HR RUN AVG BEGIN HOUR  ...   \n",
       "2014-01-01 -117.264088  WGS84          Ozone  8-HR RUN AVG BEGIN HOUR  ...   \n",
       "\n",
       "           AQI Method Code Method Name  Local Site Name  \\\n",
       "Date Local                                                \n",
       "2014-01-01  31         NaN          -       Chula Vista   \n",
       "2014-01-01  38         NaN          -          El Cajon   \n",
       "2014-01-01  35         NaN          -           Del Mar   \n",
       "\n",
       "                                Address  State Name  County Name    City Name  \\\n",
       "Date Local                                                                      \n",
       "2014-01-01   80 E. 'J' ST., CHULA VISTA  California    San Diego  Chula Vista   \n",
       "2014-01-01  1155 REDWOOD AVE., EL CAJON  California    San Diego     El Cajon   \n",
       "2014-01-01               225 9th Street  California    San Diego      Del Mar   \n",
       "\n",
       "                         CBSA Name  Date of Last Change  \n",
       "Date Local                                               \n",
       "2014-01-01  San Diego-Carlsbad, CA            7/20/2018  \n",
       "2014-01-01  San Diego-Carlsbad, CA            7/20/2018  \n",
       "2014-01-01  San Diego-Carlsbad, CA            7/20/2018  \n",
       "\n",
       "[3 rows x 29 columns]"
      ]
     },
     "execution_count": 5,
     "metadata": {},
     "output_type": "execute_result"
    }
   ],
   "source": [
    "sd_temp = pd.read_csv(file_path1, parse_dates=['Date Local'],\n",
    "                                index_col=['Date Local'])\n",
    "sd_pres = pd.read_csv(file_path2, parse_dates=['Date Local'],\n",
    "                                index_col=['Date Local'])\n",
    "sd_RH = pd.read_csv(file_path3, parse_dates=['Date Local'],\n",
    "                                index_col=['Date Local'])\n",
    "sd_wind = pd.read_csv(file_path4, parse_dates=['Date Local'],\n",
    "                                index_col=['Date Local'])\n",
    "sd_O3 = pd.read_csv(file_path5, parse_dates=['Date Local'],\n",
    "                                index_col=['Date Local'])\n",
    "sd_CO = pd.read_csv(file_path6, parse_dates=['Date Local'],\n",
    "                                index_col=['Date Local'])\n",
    "sd_NO2 = pd.read_csv(file_path7, parse_dates=['Date Local'],\n",
    "                                index_col=['Date Local'])\n",
    "sd_PM25 = pd.read_csv(file_path8, parse_dates=['Date Local'],\n",
    "                                index_col=['Date Local'])\n",
    "\n",
    "sd_PM10 = pd.read_csv(file_path9, parse_dates=['Date Local'],\n",
    "                                index_col=['Date Local'])\n",
    "sd_lead = pd.read_csv(file_path11, parse_dates=['Date Local'],\n",
    "                                index_col=['Date Local'])\n",
    "sd_VOC = pd.read_csv(file_path12, parse_dates=['Date Local'],\n",
    "                                index_col=['Date Local'])\n",
    "sd_AQI = pd.read_csv(file_path13, parse_dates=['Date Local'],\n",
    "                                index_col=['Date Local'])\n",
    "sd_O3.head(3)"
   ]
  },
  {
   "cell_type": "code",
   "execution_count": 6,
   "metadata": {
    "ExecuteTime": {
     "end_time": "2020-06-15T21:49:12.545202Z",
     "start_time": "2020-06-15T21:49:12.540231Z"
    }
   },
   "outputs": [
    {
     "data": {
      "text/plain": [
       "Index(['State Code', 'County Code', 'Site Num', 'Parameter Code', 'POC',\n",
       "       'Latitude', 'Longitude', 'Datum', 'Parameter Name', 'Sample Duration',\n",
       "       'Pollutant Standard', 'Units of Measure', 'Event Type',\n",
       "       'Observation Count', 'Observation Percent', 'Arithmetic Mean', 'O3_ppb',\n",
       "       '1st Max Value', '1st Max Hour', 'AQI', 'Method Code', 'Method Name',\n",
       "       'Local Site Name', 'Address', 'State Name', 'County Name', 'City Name',\n",
       "       'CBSA Name', 'Date of Last Change'],\n",
       "      dtype='object')"
      ]
     },
     "execution_count": 6,
     "metadata": {},
     "output_type": "execute_result"
    }
   ],
   "source": [
    "sd_O3['City Name'].unique()\n",
    "sd_O3.columns"
   ]
  },
  {
   "cell_type": "code",
   "execution_count": 7,
   "metadata": {
    "ExecuteTime": {
     "end_time": "2020-06-15T21:49:13.171415Z",
     "start_time": "2020-06-15T21:49:12.547181Z"
    }
   },
   "outputs": [
    {
     "name": "stderr",
     "output_type": "stream",
     "text": [
      "C:\\Users\\bina_\\Miniconda3\\envs\\earth-analytics-python\\lib\\site-packages\\ipykernel_launcher.py:9: FutureWarning: Sorting because non-concatenation axis is not aligned. A future version\n",
      "of pandas will change to not sort by default.\n",
      "\n",
      "To accept the future behavior, pass 'sort=False'.\n",
      "\n",
      "To retain the current behavior and silence the warning, pass 'sort=True'.\n",
      "\n",
      "  if __name__ == '__main__':\n"
     ]
    },
    {
     "name": "stdout",
     "output_type": "stream",
     "text": [
      "Index(['1st Max Hour', '1st Max Value', 'AQI', 'Address', 'Arithmetic Mean',\n",
      "       'CBSA Name', 'CO_ ppb', 'City Name', 'County Code', 'County Name',\n",
      "       'Date of Last Change', 'Datum', 'Event Type', 'Latitude',\n",
      "       'Local Site Name', 'Longitude', 'Method Code', 'Method Name', 'O3_ppb',\n",
      "       'Observation Count', 'Observation Percent', 'POC', 'Parameter Code',\n",
      "       'Parameter Name', 'Pollutant Standard', 'RH (%)', 'Sample Duration',\n",
      "       'Site Num', 'State Code', 'State Name', 'T_celsius', 'Units of Measure',\n",
      "       'Wind (knot)', 'wind_mph'],\n",
      "      dtype='object')\n"
     ]
    },
    {
     "data": {
      "text/html": [
       "<div>\n",
       "<style scoped>\n",
       "    .dataframe tbody tr th:only-of-type {\n",
       "        vertical-align: middle;\n",
       "    }\n",
       "\n",
       "    .dataframe tbody tr th {\n",
       "        vertical-align: top;\n",
       "    }\n",
       "\n",
       "    .dataframe thead th {\n",
       "        text-align: right;\n",
       "    }\n",
       "</style>\n",
       "<table border=\"1\" class=\"dataframe\">\n",
       "  <thead>\n",
       "    <tr style=\"text-align: right;\">\n",
       "      <th></th>\n",
       "      <th>1st Max Hour</th>\n",
       "      <th>1st Max Value</th>\n",
       "      <th>AQI</th>\n",
       "      <th>Address</th>\n",
       "      <th>Arithmetic Mean</th>\n",
       "      <th>CBSA Name</th>\n",
       "      <th>CO_ ppb</th>\n",
       "      <th>City Name</th>\n",
       "      <th>County Code</th>\n",
       "      <th>County Name</th>\n",
       "      <th>...</th>\n",
       "      <th>Pollutant Standard</th>\n",
       "      <th>RH (%)</th>\n",
       "      <th>Sample Duration</th>\n",
       "      <th>Site Num</th>\n",
       "      <th>State Code</th>\n",
       "      <th>State Name</th>\n",
       "      <th>T_celsius</th>\n",
       "      <th>Units of Measure</th>\n",
       "      <th>Wind (knot)</th>\n",
       "      <th>wind_mph</th>\n",
       "    </tr>\n",
       "    <tr>\n",
       "      <th>Date Local</th>\n",
       "      <th></th>\n",
       "      <th></th>\n",
       "      <th></th>\n",
       "      <th></th>\n",
       "      <th></th>\n",
       "      <th></th>\n",
       "      <th></th>\n",
       "      <th></th>\n",
       "      <th></th>\n",
       "      <th></th>\n",
       "      <th></th>\n",
       "      <th></th>\n",
       "      <th></th>\n",
       "      <th></th>\n",
       "      <th></th>\n",
       "      <th></th>\n",
       "      <th></th>\n",
       "      <th></th>\n",
       "      <th></th>\n",
       "      <th></th>\n",
       "      <th></th>\n",
       "    </tr>\n",
       "  </thead>\n",
       "  <tbody>\n",
       "    <tr>\n",
       "      <th>2014-01-01</th>\n",
       "      <td>10</td>\n",
       "      <td>0.034</td>\n",
       "      <td>31.0</td>\n",
       "      <td>80 E. 'J' ST., CHULA VISTA</td>\n",
       "      <td>0.016529</td>\n",
       "      <td>San Diego-Carlsbad, CA</td>\n",
       "      <td>NaN</td>\n",
       "      <td>Chula Vista</td>\n",
       "      <td>73</td>\n",
       "      <td>San Diego</td>\n",
       "      <td>...</td>\n",
       "      <td>Ozone 8-hour 2015</td>\n",
       "      <td>NaN</td>\n",
       "      <td>8-HR RUN AVG BEGIN HOUR</td>\n",
       "      <td>1</td>\n",
       "      <td>6</td>\n",
       "      <td>California</td>\n",
       "      <td>NaN</td>\n",
       "      <td>Parts per million</td>\n",
       "      <td>NaN</td>\n",
       "      <td>NaN</td>\n",
       "    </tr>\n",
       "    <tr>\n",
       "      <th>2014-01-01</th>\n",
       "      <td>13</td>\n",
       "      <td>6.100</td>\n",
       "      <td>NaN</td>\n",
       "      <td>1110 BEARDSLEY STREET, SAN DIEGO, CA 92112</td>\n",
       "      <td>NaN</td>\n",
       "      <td>San Diego-Carlsbad, CA</td>\n",
       "      <td>NaN</td>\n",
       "      <td>San Diego</td>\n",
       "      <td>73</td>\n",
       "      <td>San Diego</td>\n",
       "      <td>...</td>\n",
       "      <td>NaN</td>\n",
       "      <td>NaN</td>\n",
       "      <td>1 HOUR</td>\n",
       "      <td>1010</td>\n",
       "      <td>6</td>\n",
       "      <td>California</td>\n",
       "      <td>NaN</td>\n",
       "      <td>Knots</td>\n",
       "      <td>2.195833</td>\n",
       "      <td>2.525208</td>\n",
       "    </tr>\n",
       "    <tr>\n",
       "      <th>2014-01-01</th>\n",
       "      <td>10</td>\n",
       "      <td>295.000</td>\n",
       "      <td>NaN</td>\n",
       "      <td>1110 BEARDSLEY STREET, SAN DIEGO, CA 92112</td>\n",
       "      <td>NaN</td>\n",
       "      <td>San Diego-Carlsbad, CA</td>\n",
       "      <td>NaN</td>\n",
       "      <td>San Diego</td>\n",
       "      <td>73</td>\n",
       "      <td>San Diego</td>\n",
       "      <td>...</td>\n",
       "      <td>NaN</td>\n",
       "      <td>NaN</td>\n",
       "      <td>1 HOUR</td>\n",
       "      <td>1010</td>\n",
       "      <td>6</td>\n",
       "      <td>California</td>\n",
       "      <td>NaN</td>\n",
       "      <td>Degrees Compass</td>\n",
       "      <td>135.791667</td>\n",
       "      <td>156.160417</td>\n",
       "    </tr>\n",
       "    <tr>\n",
       "      <th>2014-01-01</th>\n",
       "      <td>14</td>\n",
       "      <td>6.300</td>\n",
       "      <td>NaN</td>\n",
       "      <td>6125A KEARNY VILLA RD., SAN DIEGO</td>\n",
       "      <td>NaN</td>\n",
       "      <td>San Diego-Carlsbad, CA</td>\n",
       "      <td>NaN</td>\n",
       "      <td>San Diego</td>\n",
       "      <td>73</td>\n",
       "      <td>San Diego</td>\n",
       "      <td>...</td>\n",
       "      <td>NaN</td>\n",
       "      <td>NaN</td>\n",
       "      <td>1 HOUR</td>\n",
       "      <td>1016</td>\n",
       "      <td>6</td>\n",
       "      <td>California</td>\n",
       "      <td>NaN</td>\n",
       "      <td>Knots</td>\n",
       "      <td>2.854167</td>\n",
       "      <td>3.282292</td>\n",
       "    </tr>\n",
       "    <tr>\n",
       "      <th>2014-01-01</th>\n",
       "      <td>19</td>\n",
       "      <td>357.000</td>\n",
       "      <td>NaN</td>\n",
       "      <td>6125A KEARNY VILLA RD., SAN DIEGO</td>\n",
       "      <td>NaN</td>\n",
       "      <td>San Diego-Carlsbad, CA</td>\n",
       "      <td>NaN</td>\n",
       "      <td>San Diego</td>\n",
       "      <td>73</td>\n",
       "      <td>San Diego</td>\n",
       "      <td>...</td>\n",
       "      <td>NaN</td>\n",
       "      <td>NaN</td>\n",
       "      <td>1 HOUR</td>\n",
       "      <td>1016</td>\n",
       "      <td>6</td>\n",
       "      <td>California</td>\n",
       "      <td>NaN</td>\n",
       "      <td>Degrees Compass</td>\n",
       "      <td>202.375000</td>\n",
       "      <td>232.731250</td>\n",
       "    </tr>\n",
       "  </tbody>\n",
       "</table>\n",
       "<p>5 rows × 34 columns</p>\n",
       "</div>"
      ],
      "text/plain": [
       "            1st Max Hour  1st Max Value   AQI  \\\n",
       "Date Local                                      \n",
       "2014-01-01            10          0.034  31.0   \n",
       "2014-01-01            13          6.100   NaN   \n",
       "2014-01-01            10        295.000   NaN   \n",
       "2014-01-01            14          6.300   NaN   \n",
       "2014-01-01            19        357.000   NaN   \n",
       "\n",
       "                                               Address  Arithmetic Mean  \\\n",
       "Date Local                                                                \n",
       "2014-01-01                  80 E. 'J' ST., CHULA VISTA         0.016529   \n",
       "2014-01-01  1110 BEARDSLEY STREET, SAN DIEGO, CA 92112              NaN   \n",
       "2014-01-01  1110 BEARDSLEY STREET, SAN DIEGO, CA 92112              NaN   \n",
       "2014-01-01           6125A KEARNY VILLA RD., SAN DIEGO              NaN   \n",
       "2014-01-01           6125A KEARNY VILLA RD., SAN DIEGO              NaN   \n",
       "\n",
       "                         CBSA Name  CO_ ppb    City Name  County Code  \\\n",
       "Date Local                                                              \n",
       "2014-01-01  San Diego-Carlsbad, CA      NaN  Chula Vista           73   \n",
       "2014-01-01  San Diego-Carlsbad, CA      NaN    San Diego           73   \n",
       "2014-01-01  San Diego-Carlsbad, CA      NaN    San Diego           73   \n",
       "2014-01-01  San Diego-Carlsbad, CA      NaN    San Diego           73   \n",
       "2014-01-01  San Diego-Carlsbad, CA      NaN    San Diego           73   \n",
       "\n",
       "           County Name  ... Pollutant Standard RH (%)  \\\n",
       "Date Local              ...                             \n",
       "2014-01-01   San Diego  ...  Ozone 8-hour 2015    NaN   \n",
       "2014-01-01   San Diego  ...                NaN    NaN   \n",
       "2014-01-01   San Diego  ...                NaN    NaN   \n",
       "2014-01-01   San Diego  ...                NaN    NaN   \n",
       "2014-01-01   San Diego  ...                NaN    NaN   \n",
       "\n",
       "                    Sample Duration  Site Num State Code  State Name  \\\n",
       "Date Local                                                             \n",
       "2014-01-01  8-HR RUN AVG BEGIN HOUR         1          6  California   \n",
       "2014-01-01                   1 HOUR      1010          6  California   \n",
       "2014-01-01                   1 HOUR      1010          6  California   \n",
       "2014-01-01                   1 HOUR      1016          6  California   \n",
       "2014-01-01                   1 HOUR      1016          6  California   \n",
       "\n",
       "            T_celsius   Units of Measure  Wind (knot)    wind_mph  \n",
       "Date Local                                                         \n",
       "2014-01-01        NaN  Parts per million          NaN         NaN  \n",
       "2014-01-01        NaN              Knots     2.195833    2.525208  \n",
       "2014-01-01        NaN    Degrees Compass   135.791667  156.160417  \n",
       "2014-01-01        NaN              Knots     2.854167    3.282292  \n",
       "2014-01-01        NaN    Degrees Compass   202.375000  232.731250  \n",
       "\n",
       "[5 rows x 34 columns]"
      ]
     },
     "execution_count": 7,
     "metadata": {},
     "output_type": "execute_result"
    }
   ],
   "source": [
    "# frames = [sd_O3, sd_RH, sd_temp]\n",
    "# O3_RH_t = pd.concat(frames, sort= False)\n",
    "# result = df1.append([df2, df3])\n",
    "# sd_combined_df = sd_O3.append([sd_RH, sd_temp, sd_pres, sd_wind, sd_CO, sd_NO2, sd_PM25], sort = False)\n",
    "# sd_combined_df.set_index('Date Local', inplace=True)\n",
    "\n",
    "# pd.DataFrame.to_csv(sd_combined_df)\n",
    "\n",
    "sd_combined_df = pd.concat([sd_O3, sd_RH, sd_temp, sd_pres, sd_wind, sd_CO, sd_NO2], axis= 0, join = 'outer').sort_index()\n",
    "# sd_combined_df.set_index('Date Local', inplace=True)\n",
    "# finaldf = pd.concat([df1, df2, df3], axis=1, join='inner').sort_index()\n",
    "# result.head(2)\n",
    "sd_combined_df.to_csv('data/output_figures/sandiego_2014_fires/air_quality_csv/sd_cumulative_df.csv')\n",
    "# print(sd_combined_df['City Name'].unique())\n",
    "print(sd_combined_df.columns)\n",
    "sd_combined_df.head()"
   ]
  },
  {
   "cell_type": "code",
   "execution_count": 10,
   "metadata": {
    "ExecuteTime": {
     "end_time": "2020-06-15T21:49:47.595981Z",
     "start_time": "2020-06-15T21:49:47.577033Z"
    }
   },
   "outputs": [
    {
     "data": {
      "text/plain": [
       "1st Max Hour           False\n",
       "1st Max Value          False\n",
       "AQI                     True\n",
       "Address                False\n",
       "Arithmetic Mean         True\n",
       "CBSA Name              False\n",
       "CO_ ppb                 True\n",
       "City Name              False\n",
       "County Code            False\n",
       "County Name            False\n",
       "Date of Last Change    False\n",
       "Datum                  False\n",
       "Event Type             False\n",
       "Latitude               False\n",
       "Local Site Name        False\n",
       "Longitude              False\n",
       "Method Code             True\n",
       "Method Name            False\n",
       "O3_ppb                  True\n",
       "Observation Count      False\n",
       "Observation Percent    False\n",
       "POC                    False\n",
       "Parameter Code         False\n",
       "Parameter Name         False\n",
       "Pollutant Standard      True\n",
       "RH (%)                  True\n",
       "Sample Duration        False\n",
       "Site Num               False\n",
       "State Code             False\n",
       "State Name             False\n",
       "T_celsius               True\n",
       "Units of Measure       False\n",
       "Wind (knot)             True\n",
       "wind_mph                True\n",
       "dtype: bool"
      ]
     },
     "execution_count": 10,
     "metadata": {},
     "output_type": "execute_result"
    }
   ],
   "source": [
    "# To check empty columns\n",
    "sd_combined_df.isnull().any()"
   ]
  },
  {
   "cell_type": "code",
   "execution_count": 11,
   "metadata": {
    "ExecuteTime": {
     "end_time": "2020-06-15T21:49:48.251782Z",
     "start_time": "2020-06-15T21:49:48.247793Z"
    }
   },
   "outputs": [],
   "source": [
    "# # data_frames = [sd_temp, sd_O3, sd_NO2, sd_CO,]\n",
    "# # df_merged = reduce(lambda  left,right: pd.merge(left,right,on=['Date Local'],\n",
    "# #                                             how='outer'), data_frames)\n",
    "# # df_merged.head()\n",
    "\n",
    "# dfs= [sd_RH, sd_temp, sd_pres, sd_wind]\n",
    "# def mergefiles(dfs, countfiles, i=0):\n",
    "#     if i == (countfiles - 2): # it gets to the second to last and merges it with the last\n",
    "#         return\n",
    "\n",
    "#     dfm = dfs[i].merge(mergefiles(dfs[i+1], countfiles, i=i+1), on='Date Local')\n",
    "#     return dfm\n",
    "\n",
    "# print(mergefiles(dfs, len(dfs)))\n",
    "# print(dfm.columns)\n",
    "#pd.DataFrame.to_csv('data/output_figures/sandiego_2014_fires/air_quality_csv/weather_chem_sd_stations.csv')"
   ]
  },
  {
   "cell_type": "code",
   "execution_count": null,
   "metadata": {},
   "outputs": [],
   "source": []
  },
  {
   "cell_type": "code",
   "execution_count": 12,
   "metadata": {
    "ExecuteTime": {
     "end_time": "2020-06-15T21:49:51.382945Z",
     "start_time": "2020-06-15T21:49:51.376962Z"
    }
   },
   "outputs": [
    {
     "data": {
      "text/plain": [
       "True"
      ]
     },
     "execution_count": 12,
     "metadata": {},
     "output_type": "execute_result"
    }
   ],
   "source": [
    "file_path2 = os.path.join(base_path,\"output_figures\",\"sandiego_2014_fires\", \"air_quality_csv\",                     \n",
    "                         \"sd_chemical_composition_2014_mean_values_only.csv\")\n",
    "\n",
    "# To check if path is created\n",
    "os.path.exists(file_path2)"
   ]
  },
  {
   "cell_type": "code",
   "execution_count": 13,
   "metadata": {
    "ExecuteTime": {
     "end_time": "2020-06-15T21:49:54.725307Z",
     "start_time": "2020-06-15T21:49:54.683444Z"
    }
   },
   "outputs": [
    {
     "data": {
      "text/html": [
       "<div>\n",
       "<style scoped>\n",
       "    .dataframe tbody tr th:only-of-type {\n",
       "        vertical-align: middle;\n",
       "    }\n",
       "\n",
       "    .dataframe tbody tr th {\n",
       "        vertical-align: top;\n",
       "    }\n",
       "\n",
       "    .dataframe thead th {\n",
       "        text-align: right;\n",
       "    }\n",
       "</style>\n",
       "<table border=\"1\" class=\"dataframe\">\n",
       "  <thead>\n",
       "    <tr style=\"text-align: right;\">\n",
       "      <th></th>\n",
       "      <th>O3_ppm_mean</th>\n",
       "      <th>O3_ppb_mean</th>\n",
       "      <th>NO2_mean</th>\n",
       "      <th>PM2.5_mean</th>\n",
       "      <th>CO_mean</th>\n",
       "    </tr>\n",
       "    <tr>\n",
       "      <th>Date Local</th>\n",
       "      <th></th>\n",
       "      <th></th>\n",
       "      <th></th>\n",
       "      <th></th>\n",
       "      <th></th>\n",
       "    </tr>\n",
       "  </thead>\n",
       "  <tbody>\n",
       "    <tr>\n",
       "      <th>2014-01-01</th>\n",
       "      <td>0.022278</td>\n",
       "      <td>22.278182</td>\n",
       "      <td>18.373518</td>\n",
       "      <td>60.135417</td>\n",
       "      <td>0.902183</td>\n",
       "    </tr>\n",
       "    <tr>\n",
       "      <th>2014-01-02</th>\n",
       "      <td>0.018206</td>\n",
       "      <td>18.205909</td>\n",
       "      <td>22.438928</td>\n",
       "      <td>20.370473</td>\n",
       "      <td>0.947633</td>\n",
       "    </tr>\n",
       "  </tbody>\n",
       "</table>\n",
       "</div>"
      ],
      "text/plain": [
       "            O3_ppm_mean  O3_ppb_mean   NO2_mean  PM2.5_mean   CO_mean\n",
       "Date Local                                                           \n",
       "2014-01-01     0.022278    22.278182  18.373518   60.135417  0.902183\n",
       "2014-01-02     0.018206    18.205909  22.438928   20.370473  0.947633"
      ]
     },
     "execution_count": 13,
     "metadata": {},
     "output_type": "execute_result"
    }
   ],
   "source": [
    "sd_atm_df = pd.read_csv(file_path2, parse_dates=['Date Local'],\n",
    "                                index_col=['Date Local'])\n",
    "sd_atm_df.head(2)"
   ]
  },
  {
   "cell_type": "code",
   "execution_count": 14,
   "metadata": {
    "ExecuteTime": {
     "end_time": "2020-06-15T21:49:58.475154Z",
     "start_time": "2020-06-15T21:49:58.469171Z"
    }
   },
   "outputs": [
    {
     "data": {
      "text/plain": [
       "(365, 5)"
      ]
     },
     "execution_count": 14,
     "metadata": {},
     "output_type": "execute_result"
    }
   ],
   "source": [
    "# sd_weather_2014_df.reset_index(inplace = True)\n",
    "# sd_weather_2014_df.head()\n",
    "# # Create plot space\n",
    "# fig, (ax1, ax2, ax3, ax4, ax5) = plt.subplots(5, \n",
    "#                             sharex = True, figsize = (10, 12))\n",
    "# # Add subtitle \n",
    "# fig.subplots_adjust(bottom=0.15, left=0.2)\n",
    "# fig.suptitle(\"\"\" Figure 1(a-e). Atmospheric conditions during wildfires\\n\n",
    "#                 Mar - June 2014, San Diego, CA.\"\"\", fontsize = 20)\n",
    "\n",
    "sd_atm_df.shape"
   ]
  },
  {
   "cell_type": "code",
   "execution_count": 15,
   "metadata": {
    "ExecuteTime": {
     "end_time": "2020-06-15T21:50:02.562468Z",
     "start_time": "2020-06-15T21:50:02.236900Z"
    }
   },
   "outputs": [
    {
     "data": {
      "image/png": "[encoded data removed]",
      "text/plain": [
       "<Figure size 432x288 with 1 Axes>"
      ]
     },
     "metadata": {},
     "output_type": "display_data"
    }
   ],
   "source": [
    "# fig, (ax1, ax2) = plt.subplots(2, 1\n",
    "#                             sharex = True, figsize = (10, 12))\n",
    "sd_atm_df.plot(x='NO2_mean', y='CO_mean', style='o', c='b')  \n",
    "plt.title('NO2 vs CO')  \n",
    "plt.xlabel('NO2 (ppb)')  \n",
    "plt.ylabel('CO (ppm)')  \n",
    "plt.show()"
   ]
  },
  {
   "cell_type": "code",
   "execution_count": 16,
   "metadata": {
    "ExecuteTime": {
     "end_time": "2020-06-15T21:50:06.405384Z",
     "start_time": "2020-06-15T21:50:06.136492Z"
    }
   },
   "outputs": [
    {
     "data": {
      "image/png": "[encoded data removed]",
      "text/plain": [
       "<Figure size 432x288 with 1 Axes>"
      ]
     },
     "metadata": {},
     "output_type": "display_data"
    }
   ],
   "source": [
    "sd_atm_df.plot(x='O3_ppb_mean', y='NO2_mean', style='o', c='r')  \n",
    "plt.title('O3 vs NO2')  \n",
    "plt.xlabel('O3 (ppb)')  \n",
    "plt.ylabel('NO2 (pp)b')  \n",
    "plt.show()"
   ]
  },
  {
   "cell_type": "code",
   "execution_count": 17,
   "metadata": {
    "ExecuteTime": {
     "end_time": "2020-06-15T21:50:10.068692Z",
     "start_time": "2020-06-15T21:50:09.864274Z"
    }
   },
   "outputs": [
    {
     "data": {
      "text/plain": [
       "<matplotlib.axes._subplots.AxesSubplot at 0x27871aa7fc8>"
      ]
     },
     "execution_count": 17,
     "metadata": {},
     "output_type": "execute_result"
    },
    {
     "data": {
      "image/png": "[encoded data removed]",
      "text/plain": [
       "<Figure size 288x288 with 1 Axes>"
      ]
     },
     "metadata": {},
     "output_type": "display_data"
    }
   ],
   "source": [
    "plt.figure(figsize=(4,4))\n",
    "plt.tight_layout()\n",
    "sns.distplot(sd_atm_df['NO2_mean'])"
   ]
  },
  {
   "cell_type": "markdown",
   "metadata": {},
   "source": [
    "Our next step is to divide the data into “attributes” and “labels”.\n",
    "Attributes are the independent variables while labels are dependent variables whose values are to be predicted. In our dataset, we only have two columns. We want to predict the MaxTemp depending upon the MinTemp recorded. Therefore our attribute set will consist of the “MinTemp” column which is stored in the X variable, and the label will be the “MaxTemp” column which is stored in y variable."
   ]
  },
  {
   "cell_type": "code",
   "execution_count": 25,
   "metadata": {
    "ExecuteTime": {
     "end_time": "2020-06-15T21:51:42.766911Z",
     "start_time": "2020-06-15T21:51:42.752948Z"
    }
   },
   "outputs": [
    {
     "data": {
      "text/html": [
       "<div>\n",
       "<style scoped>\n",
       "    .dataframe tbody tr th:only-of-type {\n",
       "        vertical-align: middle;\n",
       "    }\n",
       "\n",
       "    .dataframe tbody tr th {\n",
       "        vertical-align: top;\n",
       "    }\n",
       "\n",
       "    .dataframe thead th {\n",
       "        text-align: right;\n",
       "    }\n",
       "</style>\n",
       "<table border=\"1\" class=\"dataframe\">\n",
       "  <thead>\n",
       "    <tr style=\"text-align: right;\">\n",
       "      <th></th>\n",
       "      <th>O3_ppm_mean</th>\n",
       "      <th>O3_ppb_mean</th>\n",
       "      <th>NO2_mean</th>\n",
       "      <th>PM2.5_mean</th>\n",
       "      <th>CO_mean</th>\n",
       "    </tr>\n",
       "    <tr>\n",
       "      <th>Date Local</th>\n",
       "      <th></th>\n",
       "      <th></th>\n",
       "      <th></th>\n",
       "      <th></th>\n",
       "      <th></th>\n",
       "    </tr>\n",
       "  </thead>\n",
       "  <tbody>\n",
       "    <tr>\n",
       "      <th>2014-01-01</th>\n",
       "      <td>0.022278</td>\n",
       "      <td>22.278182</td>\n",
       "      <td>18.373518</td>\n",
       "      <td>60.135417</td>\n",
       "      <td>0.902183</td>\n",
       "    </tr>\n",
       "    <tr>\n",
       "      <th>2014-01-02</th>\n",
       "      <td>0.018206</td>\n",
       "      <td>18.205909</td>\n",
       "      <td>22.438928</td>\n",
       "      <td>20.370473</td>\n",
       "      <td>0.947633</td>\n",
       "    </tr>\n",
       "    <tr>\n",
       "      <th>2014-01-03</th>\n",
       "      <td>0.017753</td>\n",
       "      <td>17.753455</td>\n",
       "      <td>24.411817</td>\n",
       "      <td>19.813596</td>\n",
       "      <td>0.970017</td>\n",
       "    </tr>\n",
       "    <tr>\n",
       "      <th>2014-01-04</th>\n",
       "      <td>0.021888</td>\n",
       "      <td>21.887636</td>\n",
       "      <td>20.027809</td>\n",
       "      <td>23.810417</td>\n",
       "      <td>0.825603</td>\n",
       "    </tr>\n",
       "    <tr>\n",
       "      <th>2014-01-05</th>\n",
       "      <td>0.024241</td>\n",
       "      <td>24.240636</td>\n",
       "      <td>18.920666</td>\n",
       "      <td>20.032639</td>\n",
       "      <td>0.841809</td>\n",
       "    </tr>\n",
       "    <tr>\n",
       "      <th>...</th>\n",
       "      <td>...</td>\n",
       "      <td>...</td>\n",
       "      <td>...</td>\n",
       "      <td>...</td>\n",
       "      <td>...</td>\n",
       "    </tr>\n",
       "    <tr>\n",
       "      <th>2014-12-27</th>\n",
       "      <td>0.025068</td>\n",
       "      <td>25.068273</td>\n",
       "      <td>12.637175</td>\n",
       "      <td>10.583333</td>\n",
       "      <td>0.593211</td>\n",
       "    </tr>\n",
       "    <tr>\n",
       "      <th>2014-12-28</th>\n",
       "      <td>0.024592</td>\n",
       "      <td>24.592364</td>\n",
       "      <td>12.066559</td>\n",
       "      <td>14.153373</td>\n",
       "      <td>0.557922</td>\n",
       "    </tr>\n",
       "    <tr>\n",
       "      <th>2014-12-29</th>\n",
       "      <td>0.026697</td>\n",
       "      <td>26.696600</td>\n",
       "      <td>15.172639</td>\n",
       "      <td>13.941591</td>\n",
       "      <td>0.646429</td>\n",
       "    </tr>\n",
       "    <tr>\n",
       "      <th>2014-12-30</th>\n",
       "      <td>0.035604</td>\n",
       "      <td>35.604200</td>\n",
       "      <td>10.644582</td>\n",
       "      <td>6.630470</td>\n",
       "      <td>0.424365</td>\n",
       "    </tr>\n",
       "    <tr>\n",
       "      <th>2014-12-31</th>\n",
       "      <td>0.024454</td>\n",
       "      <td>24.454455</td>\n",
       "      <td>9.932150</td>\n",
       "      <td>16.916244</td>\n",
       "      <td>0.428748</td>\n",
       "    </tr>\n",
       "  </tbody>\n",
       "</table>\n",
       "<p>365 rows × 5 columns</p>\n",
       "</div>"
      ],
      "text/plain": [
       "            O3_ppm_mean  O3_ppb_mean   NO2_mean  PM2.5_mean   CO_mean\n",
       "Date Local                                                           \n",
       "2014-01-01     0.022278    22.278182  18.373518   60.135417  0.902183\n",
       "2014-01-02     0.018206    18.205909  22.438928   20.370473  0.947633\n",
       "2014-01-03     0.017753    17.753455  24.411817   19.813596  0.970017\n",
       "2014-01-04     0.021888    21.887636  20.027809   23.810417  0.825603\n",
       "2014-01-05     0.024241    24.240636  18.920666   20.032639  0.841809\n",
       "...                 ...          ...        ...         ...       ...\n",
       "2014-12-27     0.025068    25.068273  12.637175   10.583333  0.593211\n",
       "2014-12-28     0.024592    24.592364  12.066559   14.153373  0.557922\n",
       "2014-12-29     0.026697    26.696600  15.172639   13.941591  0.646429\n",
       "2014-12-30     0.035604    35.604200  10.644582    6.630470  0.424365\n",
       "2014-12-31     0.024454    24.454455   9.932150   16.916244  0.428748\n",
       "\n",
       "[365 rows x 5 columns]"
      ]
     },
     "execution_count": 25,
     "metadata": {},
     "output_type": "execute_result"
    }
   ],
   "source": [
    "sd_atm_df"
   ]
  },
  {
   "cell_type": "code",
   "execution_count": 18,
   "metadata": {
    "ExecuteTime": {
     "end_time": "2020-06-15T21:50:21.986604Z",
     "start_time": "2020-06-15T21:50:21.981641Z"
    }
   },
   "outputs": [],
   "source": [
    "X = sd_atm_df['NO2_mean'].values.reshape(-1,1)\n",
    "y = sd_atm_df['CO_mean'].values.reshape(-1,1)"
   ]
  },
  {
   "cell_type": "markdown",
   "metadata": {},
   "source": [
    "Next, we split 80% of the data to the training set while 20% of the data to test set using below code.\n",
    "The test_size variable is where we actually specify the proportion of the test set."
   ]
  },
  {
   "cell_type": "code",
   "execution_count": 19,
   "metadata": {
    "ExecuteTime": {
     "end_time": "2020-06-15T21:50:25.209686Z",
     "start_time": "2020-06-15T21:50:25.204699Z"
    }
   },
   "outputs": [],
   "source": [
    "X_train, X_test, y_train, y_test = train_test_split(X, y, test_size=0.2, random_state=0)"
   ]
  },
  {
   "cell_type": "markdown",
   "metadata": {},
   "source": [
    "After splitting the data into training and testing sets, finally, the time is to train our algorithm. \n",
    "\n",
    "For that, we need to import LinearRegression class, instantiate it, \n",
    "and call the fit() method along with our training data.\n",
    "\n",
    "As we have discussed that the linear regression model basically finds the best value for the intercept and slope, which results in a line that best fits the data. To see the value of the intercept and slope calculated by the linear regression algorithm for our dataset, execute the following code."
   ]
  },
  {
   "cell_type": "code",
   "execution_count": 20,
   "metadata": {
    "ExecuteTime": {
     "end_time": "2020-06-15T21:50:28.530851Z",
     "start_time": "2020-06-15T21:50:28.514892Z"
    }
   },
   "outputs": [
    {
     "data": {
      "text/plain": [
       "LinearRegression(copy_X=True, fit_intercept=True, n_jobs=None, normalize=False)"
      ]
     },
     "execution_count": 20,
     "metadata": {},
     "output_type": "execute_result"
    }
   ],
   "source": [
    "regressor = LinearRegression()  \n",
    "regressor.fit(X_train, y_train) #training the algorithm"
   ]
  },
  {
   "cell_type": "code",
   "execution_count": 21,
   "metadata": {
    "ExecuteTime": {
     "end_time": "2020-06-15T21:50:31.963114Z",
     "start_time": "2020-06-15T21:50:31.957129Z"
    }
   },
   "outputs": [
    {
     "name": "stdout",
     "output_type": "stream",
     "text": [
      "[0.09713389]\n",
      "[[0.0292762]]\n"
     ]
    }
   ],
   "source": [
    "#To retrieve the intercept:\n",
    "print(regressor.intercept_)\n",
    "#For retrieving the slope:\n",
    "print(regressor.coef_)"
   ]
  },
  {
   "cell_type": "markdown",
   "metadata": {},
   "source": [
    "This means that for every one unit of change in NO2_mean, the change in the CO is about 0.029%.\n",
    "Now that we have trained our algorithm, it’s time to make some predictions. To do so, we will use our test data and see how accurately our algorithm predicts the percentage score. To make predictions on the test data, execute the following script:"
   ]
  },
  {
   "cell_type": "code",
   "execution_count": 44,
   "metadata": {
    "ExecuteTime": {
     "end_time": "2020-06-15T21:55:10.765493Z",
     "start_time": "2020-06-15T21:55:10.761472Z"
    }
   },
   "outputs": [
    {
     "data": {
      "text/plain": [
       "(73, 3)"
      ]
     },
     "execution_count": 44,
     "metadata": {},
     "output_type": "execute_result"
    }
   ],
   "source": [
    "# print(X_test)\n",
    "X_test.shape"
   ]
  },
  {
   "cell_type": "code",
   "execution_count": 22,
   "metadata": {
    "ExecuteTime": {
     "end_time": "2020-06-15T21:50:35.425012Z",
     "start_time": "2020-06-15T21:50:35.421056Z"
    }
   },
   "outputs": [],
   "source": [
    "y_pred = regressor.predict(X_test)\n"
   ]
  },
  {
   "cell_type": "markdown",
   "metadata": {},
   "source": [
    "Now compare the actual output values for X_test with the predicted values, execute the following script:"
   ]
  },
  {
   "cell_type": "code",
   "execution_count": 45,
   "metadata": {
    "ExecuteTime": {
     "end_time": "2020-06-15T21:56:09.984803Z",
     "start_time": "2020-06-15T21:56:09.976789Z"
    }
   },
   "outputs": [
    {
     "name": "stdout",
     "output_type": "stream",
     "text": [
      "       Actual  Predicted\n",
      "0   39.496778  33.963768\n",
      "1   29.229364  31.405086\n",
      "2   24.700636  25.743098\n",
      "3   23.405000  29.826982\n",
      "4   37.794300  30.561945\n",
      "..        ...        ...\n",
      "68  38.900727  32.440135\n",
      "69  38.552900  33.083343\n",
      "70  36.794000  28.852245\n",
      "71  29.982500  33.297434\n",
      "72  36.659667  32.139480\n",
      "\n",
      "[73 rows x 2 columns]\n"
     ]
    }
   ],
   "source": [
    "df = pd.DataFrame({'Actual': y_test.flatten(), 'Predicted': y_pred.flatten()})\n",
    "# df.head()\n",
    "print(df)"
   ]
  },
  {
   "cell_type": "markdown",
   "metadata": {},
   "source": [
    "We can also visualize comparison result as a bar graph using the below script :\n",
    "Note: As the number of records is huge, for representation purpose I’m taking just 15 records."
   ]
  },
  {
   "cell_type": "code",
   "execution_count": 47,
   "metadata": {
    "ExecuteTime": {
     "end_time": "2020-06-15T21:57:23.634592Z",
     "start_time": "2020-06-15T21:57:23.352794Z"
    }
   },
   "outputs": [
    {
     "data": {
      "image/png": "[encoded data removed]",
      "text/plain": [
       "<Figure size 576x360 with 1 Axes>"
      ]
     },
     "metadata": {
      "needs_background": "light"
     },
     "output_type": "display_data"
    }
   ],
   "source": [
    "df1 = df.head(19)\n",
    "df1.plot(kind='bar',figsize=(8,5))\n",
    "plt.grid(which='major', linestyle='-', linewidth='0.5', color='green')\n",
    "plt.grid(which='minor', linestyle=':', linewidth='0.5', color='black')\n",
    "plt.show()"
   ]
  },
  {
   "cell_type": "markdown",
   "metadata": {},
   "source": [
    "Though our model is not very precise, the predicted percentages are close to the actual ones.\n",
    "Let's plot our straight line with the test data :"
   ]
  },
  {
   "cell_type": "code",
   "execution_count": 26,
   "metadata": {
    "ExecuteTime": {
     "end_time": "2020-06-15T21:52:30.706581Z",
     "start_time": "2020-06-15T21:52:30.522030Z"
    }
   },
   "outputs": [
    {
     "data": {
      "image/png": "[encoded data removed]",
      "text/plain": [
       "<Figure size 432x288 with 1 Axes>"
      ]
     },
     "metadata": {},
     "output_type": "display_data"
    }
   ],
   "source": [
    "plt.scatter(X_test, y_test,  color='gray')\n",
    "plt.plot(X_test, y_pred, color='red', linewidth=2)\n",
    "plt.show()"
   ]
  },
  {
   "attachments": {
    "image.png": {
     "image/png": "[encoded data removed]"
    }
   },
   "cell_type": "markdown",
   "metadata": {},
   "source": [
    "The straight line in the above graph shows our algorithm is correct.\n",
    "The final step is to evaluate the performance of the algorithm. This step is particularly important to compare how well different algorithms perform on a particular dataset. For regression algorithms, three evaluation metrics are commonly used:\n",
    "1. Mean Absolute Error (MAE) is the mean of the absolute value of the errors. It is calculated as:\n",
    "\n",
    "![image.png](attachment:image.png)\n",
    "\n",
    "\n",
    "2. Mean Squared Error (MSE) is the mean of the squared errors and is calculated as:\n",
    "\n",
    "![image.png](attachment:image.png)\n",
    "\n",
    "3. Root Mean Squared Error (RMSE) is the square root of the mean of the squared errors:\n",
    "\n",
    "![image.png](attachment:image.png)\n",
    "\n",
    "Luckily, we don’t have to perform these calculations manually. The Scikit-Learn library comes with pre-built functions that can be used to find out these values for us.\n",
    "Let’s find the values for these metrics using our test data.\n",
    "\n",
    "Mean Absolute Error (MAE) is the mean of the absolute value of the errors. It is calculated as:\n"
   ]
  },
  {
   "cell_type": "code",
   "execution_count": 27,
   "metadata": {
    "ExecuteTime": {
     "end_time": "2020-06-15T21:52:34.045958Z",
     "start_time": "2020-06-15T21:52:34.039941Z"
    }
   },
   "outputs": [
    {
     "name": "stdout",
     "output_type": "stream",
     "text": [
      "Mean Absolute Error: 0.03790606258368175\n",
      "Mean Squared Error: 0.0023326923930414834\n",
      "Root Mean Squared Error: 0.04829795433599112\n"
     ]
    }
   ],
   "source": [
    "print('Mean Absolute Error:', metrics.mean_absolute_error(y_test, y_pred))  \n",
    "print('Mean Squared Error:', metrics.mean_squared_error(y_test, y_pred))  \n",
    "print('Root Mean Squared Error:', np.sqrt(metrics.mean_squared_error(y_test, y_pred)))"
   ]
  },
  {
   "attachments": {
    "image.png": {
     "image/png": "[encoded data removed]"
    }
   },
   "cell_type": "markdown",
   "metadata": {},
   "source": [
    "Multiple Linear Regression\n",
    "\n",
    "![image.png](attachment:image.png)\n",
    "\n",
    "We just performed linear regression in the above section involving two variables. Almost all the real-world problems that you are going to encounter will have more than two variables. Linear regression involving multiple variables is called “multiple linear regression” or multivariate linear regression. The steps to perform multiple linear regression are almost similar to that of simple linear regression. The difference lies in the evaluation. You can use it to find out which factor has the highest impact on the predicted output and how different variables relate to each other."
   ]
  },
  {
   "cell_type": "code",
   "execution_count": 28,
   "metadata": {
    "ExecuteTime": {
     "end_time": "2020-06-15T21:52:37.440272Z",
     "start_time": "2020-06-15T21:52:37.432326Z"
    }
   },
   "outputs": [
    {
     "data": {
      "text/plain": [
       "O3_ppm_mean    False\n",
       "O3_ppb_mean    False\n",
       "NO2_mean       False\n",
       "PM2.5_mean     False\n",
       "CO_mean        False\n",
       "dtype: bool"
      ]
     },
     "execution_count": 28,
     "metadata": {},
     "output_type": "execute_result"
    }
   ],
   "source": [
    "# To check empty columns\n",
    "sd_atm_df.isnull().any()"
   ]
  },
  {
   "cell_type": "markdown",
   "metadata": {},
   "source": [
    "Once the above code is executed, all the columns should give False, \n",
    "In case for any column you find True result, then remove all the null values from that column using below code."
   ]
  },
  {
   "cell_type": "code",
   "execution_count": 29,
   "metadata": {
    "ExecuteTime": {
     "end_time": "2020-06-15T21:52:40.801148Z",
     "start_time": "2020-06-15T21:52:40.797187Z"
    }
   },
   "outputs": [],
   "source": [
    "dataset = sd_atm_df.fillna(method='ffill')"
   ]
  },
  {
   "cell_type": "code",
   "execution_count": 30,
   "metadata": {
    "ExecuteTime": {
     "end_time": "2020-06-15T21:52:45.158869Z",
     "start_time": "2020-06-15T21:52:45.125509Z"
    }
   },
   "outputs": [
    {
     "data": {
      "text/html": [
       "<div>\n",
       "<style scoped>\n",
       "    .dataframe tbody tr th:only-of-type {\n",
       "        vertical-align: middle;\n",
       "    }\n",
       "\n",
       "    .dataframe tbody tr th {\n",
       "        vertical-align: top;\n",
       "    }\n",
       "\n",
       "    .dataframe thead th {\n",
       "        text-align: right;\n",
       "    }\n",
       "</style>\n",
       "<table border=\"1\" class=\"dataframe\">\n",
       "  <thead>\n",
       "    <tr style=\"text-align: right;\">\n",
       "      <th></th>\n",
       "      <th>O3_ppm_mean</th>\n",
       "      <th>O3_ppb_mean</th>\n",
       "      <th>NO2_mean</th>\n",
       "      <th>PM2.5_mean</th>\n",
       "      <th>CO_mean</th>\n",
       "    </tr>\n",
       "  </thead>\n",
       "  <tbody>\n",
       "    <tr>\n",
       "      <th>count</th>\n",
       "      <td>365.000000</td>\n",
       "      <td>365.000000</td>\n",
       "      <td>365.000000</td>\n",
       "      <td>365.000000</td>\n",
       "      <td>365.000000</td>\n",
       "    </tr>\n",
       "    <tr>\n",
       "      <th>mean</th>\n",
       "      <td>0.030693</td>\n",
       "      <td>30.693122</td>\n",
       "      <td>10.490526</td>\n",
       "      <td>10.493389</td>\n",
       "      <td>0.403001</td>\n",
       "    </tr>\n",
       "    <tr>\n",
       "      <th>std</th>\n",
       "      <td>0.006991</td>\n",
       "      <td>6.990947</td>\n",
       "      <td>6.042576</td>\n",
       "      <td>4.754778</td>\n",
       "      <td>0.189696</td>\n",
       "    </tr>\n",
       "    <tr>\n",
       "      <th>min</th>\n",
       "      <td>0.011977</td>\n",
       "      <td>11.977000</td>\n",
       "      <td>2.655821</td>\n",
       "      <td>2.066667</td>\n",
       "      <td>0.153409</td>\n",
       "    </tr>\n",
       "    <tr>\n",
       "      <th>25%</th>\n",
       "      <td>0.025705</td>\n",
       "      <td>25.704818</td>\n",
       "      <td>5.732708</td>\n",
       "      <td>7.730729</td>\n",
       "      <td>0.260755</td>\n",
       "    </tr>\n",
       "    <tr>\n",
       "      <th>50%</th>\n",
       "      <td>0.030571</td>\n",
       "      <td>30.571100</td>\n",
       "      <td>8.517046</td>\n",
       "      <td>10.026191</td>\n",
       "      <td>0.344201</td>\n",
       "    </tr>\n",
       "    <tr>\n",
       "      <th>75%</th>\n",
       "      <td>0.035479</td>\n",
       "      <td>35.478700</td>\n",
       "      <td>13.773292</td>\n",
       "      <td>12.513799</td>\n",
       "      <td>0.512228</td>\n",
       "    </tr>\n",
       "    <tr>\n",
       "      <th>max</th>\n",
       "      <td>0.052010</td>\n",
       "      <td>52.010000</td>\n",
       "      <td>32.668723</td>\n",
       "      <td>60.135417</td>\n",
       "      <td>1.017736</td>\n",
       "    </tr>\n",
       "  </tbody>\n",
       "</table>\n",
       "</div>"
      ],
      "text/plain": [
       "       O3_ppm_mean  O3_ppb_mean    NO2_mean  PM2.5_mean     CO_mean\n",
       "count   365.000000   365.000000  365.000000  365.000000  365.000000\n",
       "mean      0.030693    30.693122   10.490526   10.493389    0.403001\n",
       "std       0.006991     6.990947    6.042576    4.754778    0.189696\n",
       "min       0.011977    11.977000    2.655821    2.066667    0.153409\n",
       "25%       0.025705    25.704818    5.732708    7.730729    0.260755\n",
       "50%       0.030571    30.571100    8.517046   10.026191    0.344201\n",
       "75%       0.035479    35.478700   13.773292   12.513799    0.512228\n",
       "max       0.052010    52.010000   32.668723   60.135417    1.017736"
      ]
     },
     "execution_count": 30,
     "metadata": {},
     "output_type": "execute_result"
    }
   ],
   "source": [
    "dataset.describe()"
   ]
  },
  {
   "cell_type": "markdown",
   "metadata": {},
   "source": [
    "Our next step is to divide the data into “attributes” and “labels”. \n",
    "\n",
    "X variable contains all the attributes/features and y variable contains labels."
   ]
  },
  {
   "cell_type": "code",
   "execution_count": 31,
   "metadata": {
    "ExecuteTime": {
     "end_time": "2020-06-15T21:52:49.327680Z",
     "start_time": "2020-06-15T21:52:49.321367Z"
    }
   },
   "outputs": [],
   "source": [
    "X = dataset[[ 'NO2_mean','CO_mean', 'PM2.5_mean']].values\n",
    "y = dataset['O3_ppb_mean'].values"
   ]
  },
  {
   "cell_type": "code",
   "execution_count": 32,
   "metadata": {
    "ExecuteTime": {
     "end_time": "2020-06-15T21:52:53.087174Z",
     "start_time": "2020-06-15T21:52:52.884684Z"
    }
   },
   "outputs": [
    {
     "data": {
      "text/plain": [
       "<matplotlib.axes._subplots.AxesSubplot at 0x2787141ee08>"
      ]
     },
     "execution_count": 32,
     "metadata": {},
     "output_type": "execute_result"
    },
    {
     "data": {
      "image/png": "[encoded data removed]",
      "text/plain": [
       "<Figure size 288x288 with 1 Axes>"
      ]
     },
     "metadata": {},
     "output_type": "display_data"
    }
   ],
   "source": [
    "plt.figure(figsize=(4,4))\n",
    "plt.tight_layout()\n",
    "sns.distplot(dataset['O3_ppb_mean'])"
   ]
  },
  {
   "cell_type": "code",
   "execution_count": 33,
   "metadata": {
    "ExecuteTime": {
     "end_time": "2020-06-15T21:52:56.905033Z",
     "start_time": "2020-06-15T21:52:56.900375Z"
    }
   },
   "outputs": [],
   "source": [
    "X_train, X_test, y_train, y_test = train_test_split(X, y, test_size=0.2, random_state=0)"
   ]
  },
  {
   "cell_type": "code",
   "execution_count": 34,
   "metadata": {
    "ExecuteTime": {
     "end_time": "2020-06-15T21:53:00.378698Z",
     "start_time": "2020-06-15T21:53:00.372714Z"
    }
   },
   "outputs": [
    {
     "data": {
      "text/plain": [
       "LinearRegression(copy_X=True, fit_intercept=True, n_jobs=None, normalize=False)"
      ]
     },
     "execution_count": 34,
     "metadata": {},
     "output_type": "execute_result"
    }
   ],
   "source": [
    "regressor = LinearRegression()  \n",
    "regressor.fit(X_train, y_train)\n",
    "\n",
    "# regressor = LinearRegression()  \n",
    "# regressor.fit(X_train, y_train) #training the algorithm"
   ]
  },
  {
   "cell_type": "code",
   "execution_count": 35,
   "metadata": {
    "ExecuteTime": {
     "end_time": "2020-06-15T21:53:03.869789Z",
     "start_time": "2020-06-15T21:53:03.865799Z"
    }
   },
   "outputs": [
    {
     "name": "stdout",
     "output_type": "stream",
     "text": [
      "33.395895011457256\n",
      "[-0.4457463  -0.79214025  0.20259138]\n"
     ]
    }
   ],
   "source": [
    "#To retrieve the intercept:\n",
    "print(regressor.intercept_)\n",
    "#For retrieving the slope:\n",
    "print(regressor.coef_)"
   ]
  },
  {
   "cell_type": "code",
   "execution_count": 36,
   "metadata": {
    "ExecuteTime": {
     "end_time": "2020-06-15T21:53:07.257920Z",
     "start_time": "2020-06-15T21:53:07.251900Z"
    }
   },
   "outputs": [],
   "source": [
    "import pandas as pd  \n",
    "import numpy as np  \n",
    "import matplotlib.pyplot as plt  \n",
    "import seaborn as seabornInstance \n",
    "from sklearn.model_selection import train_test_split \n",
    "from sklearn.linear_model import LinearRegression\n",
    "from sklearn import metrics\n",
    "%matplotlib inline"
   ]
  },
  {
   "cell_type": "code",
   "execution_count": 37,
   "metadata": {
    "ExecuteTime": {
     "end_time": "2020-06-15T21:53:10.647122Z",
     "start_time": "2020-06-15T21:53:10.644130Z"
    }
   },
   "outputs": [],
   "source": [
    "# coeff_df = pd.DataFrame(regressor.coef_, X.columns)  \n",
    "# coeff_df"
   ]
  },
  {
   "cell_type": "code",
   "execution_count": 38,
   "metadata": {
    "ExecuteTime": {
     "end_time": "2020-06-15T21:53:14.619218Z",
     "start_time": "2020-06-15T21:53:14.615181Z"
    }
   },
   "outputs": [],
   "source": [
    "y_pred = regressor.predict(X_test)"
   ]
  },
  {
   "cell_type": "code",
   "execution_count": 39,
   "metadata": {
    "ExecuteTime": {
     "end_time": "2020-06-15T21:53:18.209895Z",
     "start_time": "2020-06-15T21:53:18.201403Z"
    }
   },
   "outputs": [
    {
     "data": {
      "text/html": [
       "<div>\n",
       "<style scoped>\n",
       "    .dataframe tbody tr th:only-of-type {\n",
       "        vertical-align: middle;\n",
       "    }\n",
       "\n",
       "    .dataframe tbody tr th {\n",
       "        vertical-align: top;\n",
       "    }\n",
       "\n",
       "    .dataframe thead th {\n",
       "        text-align: right;\n",
       "    }\n",
       "</style>\n",
       "<table border=\"1\" class=\"dataframe\">\n",
       "  <thead>\n",
       "    <tr style=\"text-align: right;\">\n",
       "      <th></th>\n",
       "      <th>Actual</th>\n",
       "      <th>Predicted</th>\n",
       "    </tr>\n",
       "  </thead>\n",
       "  <tbody>\n",
       "    <tr>\n",
       "      <th>0</th>\n",
       "      <td>39.496778</td>\n",
       "      <td>33.963768</td>\n",
       "    </tr>\n",
       "    <tr>\n",
       "      <th>1</th>\n",
       "      <td>29.229364</td>\n",
       "      <td>31.405086</td>\n",
       "    </tr>\n",
       "    <tr>\n",
       "      <th>2</th>\n",
       "      <td>24.700636</td>\n",
       "      <td>25.743098</td>\n",
       "    </tr>\n",
       "    <tr>\n",
       "      <th>3</th>\n",
       "      <td>23.405000</td>\n",
       "      <td>29.826982</td>\n",
       "    </tr>\n",
       "    <tr>\n",
       "      <th>4</th>\n",
       "      <td>37.794300</td>\n",
       "      <td>30.561945</td>\n",
       "    </tr>\n",
       "  </tbody>\n",
       "</table>\n",
       "</div>"
      ],
      "text/plain": [
       "      Actual  Predicted\n",
       "0  39.496778  33.963768\n",
       "1  29.229364  31.405086\n",
       "2  24.700636  25.743098\n",
       "3  23.405000  29.826982\n",
       "4  37.794300  30.561945"
      ]
     },
     "execution_count": 39,
     "metadata": {},
     "output_type": "execute_result"
    }
   ],
   "source": [
    "df = pd.DataFrame({'Actual': y_test, 'Predicted': y_pred})\n",
    "df.head()"
   ]
  },
  {
   "cell_type": "code",
   "execution_count": 40,
   "metadata": {
    "ExecuteTime": {
     "end_time": "2020-06-15T21:53:21.885018Z",
     "start_time": "2020-06-15T21:53:21.619881Z"
    }
   },
   "outputs": [
    {
     "data": {
      "image/png": "[encoded data removed]",
      "text/plain": [
       "<Figure size 720x432 with 1 Axes>"
      ]
     },
     "metadata": {
      "needs_background": "light"
     },
     "output_type": "display_data"
    }
   ],
   "source": [
    "df1.plot(kind='bar',figsize=(10,6))\n",
    "plt.grid(which='major', linestyle='-', linewidth='0.5', color='green')\n",
    "plt.grid(which='minor', linestyle=':', linewidth='0.5', color='black')\n",
    "plt.show()"
   ]
  },
  {
   "cell_type": "code",
   "execution_count": 41,
   "metadata": {
    "ExecuteTime": {
     "end_time": "2020-06-15T21:53:25.322601Z",
     "start_time": "2020-06-15T21:53:25.316618Z"
    }
   },
   "outputs": [
    {
     "name": "stdout",
     "output_type": "stream",
     "text": [
      "Mean Absolute Error: 5.175979035211536\n",
      "Mean Squared Error: 42.42135163302012\n",
      "Root Mean Squared Error: 6.513167557572899\n"
     ]
    }
   ],
   "source": [
    "print('Mean Absolute Error:', metrics.mean_absolute_error(y_test, y_pred))  \n",
    "print('Mean Squared Error:', metrics.mean_squared_error(y_test, y_pred))  \n",
    "print('Root Mean Squared Error:', np.sqrt(metrics.mean_squared_error(y_test, y_pred)))"
   ]
  },
  {
   "cell_type": "markdown",
   "metadata": {},
   "source": [
    "Mean O3= 30.693\n",
    "RMSE = 6.51\n",
    "\n",
    "prediction from model = (6.51/30.69)*100= 21% greater than actual value so not a great model fit. \n",
    "However O3 fromation depends on temp, pressure and destruction with OH radical, photolysis and collisons with air moleucles\n"
   ]
  },
  {
   "cell_type": "code",
   "execution_count": null,
   "metadata": {},
   "outputs": [],
   "source": []
  },
  {
   "cell_type": "code",
   "execution_count": null,
   "metadata": {},
   "outputs": [],
   "source": []
  }
 ],
 "metadata": {
  "kernelspec": {
   "display_name": "Python 3",
   "language": "python",
   "name": "python3"
  },
  "language_info": {
   "codemirror_mode": {
    "name": "ipython",
    "version": 3
   },
   "file_extension": ".py",
   "mimetype": "text/x-python",
   "name": "python",
   "nbconvert_exporter": "python",
   "pygments_lexer": "ipython3",
   "version": "3.7.6"
  },
  "toc": {
   "base_numbering": 1,
   "nav_menu": {},
   "number_sections": true,
   "sideBar": true,
   "skip_h1_title": false,
   "title_cell": "Table of Contents",
   "title_sidebar": "Contents",
   "toc_cell": false,
   "toc_position": {},
   "toc_section_display": true,
   "toc_window_display": false
  },
  "varInspector": {
   "cols": {
    "lenName": 16,
    "lenType": 16,
    "lenVar": 40
   },
   "kernels_config": {
    "python": {
     "delete_cmd_postfix": "",
     "delete_cmd_prefix": "del ",
     "library": "var_list.py",
     "varRefreshCmd": "print(var_dic_list())"
    },
    "r": {
     "delete_cmd_postfix": ") ",
     "delete_cmd_prefix": "rm(",
     "library": "var_list.r",
     "varRefreshCmd": "cat(var_dic_list()) "
    }
   },
   "types_to_exclude": [
    "module",
    "function",
    "builtin_function_or_method",
    "instance",
    "_Feature"
   ],
   "window_display": false
  }
 },
 "nbformat": 4,
 "nbformat_minor": 4
}
