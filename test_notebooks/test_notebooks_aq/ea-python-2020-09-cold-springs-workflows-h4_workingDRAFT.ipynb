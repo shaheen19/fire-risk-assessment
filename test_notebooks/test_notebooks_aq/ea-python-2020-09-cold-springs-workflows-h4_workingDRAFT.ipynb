{
 "cells": [
  {
   "cell_type": "markdown",
   "metadata": {},
   "source": [
    "<img style=\"float: left;\" src=\"earth-lab-logo-rgb.png\" width=\"150\" height=\"150\" />\n",
    "\n",
    "# Homework Template: Earth Analytics Python Course: Spring 2020"
   ]
  },
  {
   "cell_type": "markdown",
   "metadata": {},
   "source": [
    "Before submitting this assignment, be sure to restart the kernel and run all cells. To do this, pull down the Kernel drop down at the top of this notebook. Then select **restart and run all**.\n",
    "\n",
    "Make sure you fill in any place that says `YOUR CODE HERE` or \"YOUR ANSWER HERE\", as well as your name and collaborators below.\n",
    "\n",
    "* IMPORTANT: Before you submit your notebook, restart the kernel and run all! Your first cell in the notebook should be `[1]` and all cells should run in order! You will lose points if your notebook does not run. \n",
    "\n",
    "For all plots and code in general:\n",
    "\n",
    "* Add appropriate titles to your plot that clearly and concisely describe what the plot shows (e.g. time, location, phenomenon).\n",
    "* Be sure to use the correct bands for each plot.\n",
    "* Specify the source of the data for each plot using a plot caption created with `ax.text()`.\n",
    "* Place ONLY the code needed to create a plot in the plot cells. Place additional processing code ABOVE that cell (in a separate code cell).\n",
    "\n",
    "Make sure that you:\n",
    "\n",
    "* **Only include the package imports, code, data, and outputs that are CRUCIAL to your homework assignment.**\n",
    "* Follow PEP 8 standards. Use the `pep8` tool in Jupyter Notebook to ensure proper formatting (however, note that it does not catch everything!).\n",
    "* Keep comments concise and strategic. Don't comment every line!\n",
    "* Organize your code in a way that makes it easy to follow. \n",
    "* Write your code so that it can be run on any operating system. This means that:\n",
    "   1. the data should be downloaded in the notebook to ensure it's reproducible.\n",
    "   2. all paths should be created dynamically using the os package to ensure that they work across operating systems. \n",
    "* Check for spelling errors in your text and code comments\n"
   ]
  },
  {
   "cell_type": "code",
   "execution_count": 1,
   "metadata": {
    "ExecuteTime": {
     "end_time": "2020-04-07T01:49:45.411065Z",
     "start_time": "2020-04-07T01:49:45.407077Z"
    }
   },
   "outputs": [],
   "source": [
    "NAME = \"Sarah Jaffe\"\n",
    "COLLABORATORS = \"Ruby Shaheen\""
   ]
  },
  {
   "cell_type": "markdown",
   "metadata": {},
   "source": [
    "![Colored Bar](colored-bar.png)"
   ]
  },
  {
   "cell_type": "markdown",
   "metadata": {
    "deletable": false,
    "editable": false,
    "nbgrader": {
     "cell_type": "markdown",
     "checksum": "b728e5972cce00ab09a3a74147c00643",
     "grade": false,
     "grade_id": "cell-491e59aec56791ef",
     "locked": true,
     "schema_version": 3,
     "solution": false,
     "task": false
    }
   },
   "source": [
    "# Week 09 Homework - Multispectral Remote Sensing II\n",
    "\n",
    "\n",
    "## Include the Plots, Text and Outputs Below\n",
    "\n",
    "For all plots:\n",
    "\n",
    "* Add appropriate titles to your plot that clearly and concisely describe what the plot shows.\n",
    "* Be sure to use the correct bands for each plot.\n",
    "* Specify the source of the data used for each plot in a plot caption using `ax.text()`.\n",
    "\n",
    "\n",
    "## Project Introduction (10 points)\n",
    "\n",
    "Read the overview of the cold springs fire: https://www.earthdatascience.org/courses/use-data-open-source-python/data-stories/cold-springs-wildfire/\n",
    "\n",
    "In the Markdown cell below, add a 2-4 sentence description of the Cold Springs Fire. This should \n",
    "include the event:\n",
    "1. name, \n",
    "2. type, \n",
    "3. duration / dates and \n",
    "4. location. "
   ]
  },
  {
   "cell_type": "markdown",
   "metadata": {
    "deletable": false,
    "nbgrader": {
     "cell_type": "markdown",
     "checksum": "cadd056287f70cb4613b7e3ed3e3dfe4",
     "grade": true,
     "grade_id": "cell-a6c72b4cbb716c7c",
     "locked": false,
     "points": 10,
     "schema_version": 3,
     "solution": true,
     "task": false
    }
   },
   "source": [
    "Notifications of the Cold Springs Fire began on July 9th, 2016.  This fire on Hurricane Hill, two miles northeast of Nederland, was reported to have started by an improperly extinguished campfire, burned for 5 days (officially extinguished July 14th, 2016).  This fire resulted in the damage of 528 acres and 8 homes."
   ]
  },
  {
   "cell_type": "markdown",
   "metadata": {
    "deletable": false,
    "editable": false,
    "nbgrader": {
     "cell_type": "markdown",
     "checksum": "5ab3b2a54c0bc89a2cf28858f16d8dfc",
     "grade": false,
     "grade_id": "cell-fdb313a690f2d6d0pf",
     "locked": true,
     "schema_version": 3,
     "solution": false,
     "task": false
    }
   },
   "source": [
    "![Colored Bar](colored-bar.png)"
   ]
  },
  {
   "cell_type": "code",
   "execution_count": 2,
   "metadata": {
    "ExecuteTime": {
     "end_time": "2020-04-07T01:49:46.423054Z",
     "start_time": "2020-04-07T01:49:45.413062Z"
    },
    "deletable": false,
    "editable": false,
    "nbgrader": {
     "cell_type": "code",
     "checksum": "44805d4679f7f9087f7a41218cfce618",
     "grade": false,
     "grade_id": "cell-7382539d71e6467c",
     "locked": true,
     "schema_version": 3,
     "solution": false,
     "task": false
    }
   },
   "outputs": [],
   "source": [
    "# Autograding imports - do not modify this cell\n",
    "import matplotcheck.notebook as nb\n",
    "import matplotcheck.autograde as ag\n",
    "import matplotcheck.raster as rs"
   ]
  },
  {
   "cell_type": "code",
   "execution_count": 3,
   "metadata": {
    "ExecuteTime": {
     "end_time": "2020-04-07T01:49:47.789199Z",
     "start_time": "2020-04-07T01:49:46.424065Z"
    },
    "deletable": false,
    "hideCode": false,
    "hidePrompt": false,
    "nbgrader": {
     "cell_type": "code",
     "checksum": "e0f807805205ce26dfe004e14442faea",
     "grade": true,
     "grade_id": "cell-cade46b91b256c60",
     "locked": false,
     "points": 5,
     "schema_version": 3,
     "solution": true,
     "task": false
    },
    "tags": [
     "hide"
    ]
   },
   "outputs": [],
   "source": [
    "# Import libraries (5 points) \n",
    "# Only include imports required to run this notebook\n",
    "import os\n",
    "from glob import glob\n",
    "import warnings\n",
    "\n",
    "import numpy as np\n",
    "import numpy.ma as ma\n",
    "import matplotlib.pyplot as plt\n",
    "from matplotlib.colors import ListedColormap\n",
    "import re  \n",
    "\n",
    "import rasterio as rio\n",
    "from rasterio.plot import plotting_extent\n",
    "import geopandas as gpd\n",
    "\n",
    "import earthpy as et\n",
    "import earthpy.spatial as es\n",
    "import earthpy.plot as ep\n",
    "import earthpy.mask as em\n",
    "\n",
    "# Get Landsat data \n",
    "et.data.get_data(url=\"https://ndownloader.figshare.com/files/21941085\")\n",
    "\n",
    "# Set working directory\n",
    "os.chdir(os.path.join(et.io.HOME, 'earth-analytics', 'data')) \n",
    "warnings.simplefilter('ignore')"
   ]
  },
  {
   "cell_type": "markdown",
   "metadata": {
    "deletable": false,
    "editable": false,
    "nbgrader": {
     "cell_type": "markdown",
     "checksum": "70ead25c5f902f65c213947c4ba5dfeb",
     "grade": false,
     "grade_id": "cell-4a33a76e9ed2389f",
     "locked": true,
     "schema_version": 3,
     "solution": false,
     "task": false
    }
   },
   "source": [
    "## Assignment Week 1 - Complete by March 18 \n",
    "\n",
    "## Define Functions To Process Landsat Data\n",
    "\n",
    "For next week (March 18), create the 3 functions below used to process landsat data.\n",
    "\n",
    "For all functions, add a docstring that uses numpy style format (for examples, review the [Intro to Earth Data Sciene textbook chapter on Functions](https://www.earthdatascience.org/courses/intro-to-earth-data-science/write-efficient-python-code/functions-modular-code/write-functions-in-python/#docstring)). \n",
    "\n",
    "The docstring should include:\n",
    "\n",
    "    * A one sentence description of what the function does.\n",
    "    * Description of each input variable (parameter), following numpy docstring standards.\n",
    "    * Description of each output object (return), following numpy docstring standards."
   ]
  },
  {
   "cell_type": "markdown",
   "metadata": {
    "deletable": false,
    "editable": false,
    "nbgrader": {
     "cell_type": "markdown",
     "checksum": "b000e091fbcb08a4e882eeb05d291f50",
     "grade": false,
     "grade_id": "cell-ea4a216eedd73ff6",
     "locked": true,
     "schema_version": 3,
     "solution": false,
     "task": false
    }
   },
   "source": [
    "## Function 1: crop_stack_data function (5 points)\n",
    "\n",
    "Write a function called `crop_stack_data` that: \n",
    "1. Takes a **list** of raster TIF files and crops all of the files in the list to a given input boundary in GeoPandas GeoDataFrame format.\n",
    "    * **3 inputs:** \n",
    "        * 1) list of files (i.e. the files to crop).\n",
    "        * 2) directory to export cropped files.\n",
    "        * 3) GeoPandas GeoDataFrame to crop the data.\n",
    "2. Returns a stacked **numpy array** of the cropped data and the metadata.\n",
    "    * **2 outputs:**\n",
    "        * 1) **numpy array**.\n",
    "        * 2) **dictionary** containing metadata."
   ]
  },
  {
   "cell_type": "code",
   "execution_count": 13,
   "metadata": {
    "ExecuteTime": {
     "end_time": "2020-04-08T12:58:51.849357Z",
     "start_time": "2020-04-08T12:58:51.843371Z"
    },
    "deletable": false,
    "nbgrader": {
     "cell_type": "code",
     "checksum": "d172fbc50e6606110855bdb6e1c5fa9e",
     "grade": false,
     "grade_id": "cell-ce1d604c026e2611",
     "locked": false,
     "schema_version": 3,
     "solution": true,
     "task": false
    }
   },
   "outputs": [],
   "source": [
    "# Add your function here. Do NOT modify the function name\n",
    "def crop_stack_data(files_to_crop, crop_dir_path, crop_bound):\n",
    "    \"\"\"Crops a set of tif files and saves them \n",
    "    in a crop directory. Returns a stacked numpy \n",
    "    array of bands.\n",
    "    \n",
    "    Parameters\n",
    "    ----------\n",
    "    files_to_crop : list\n",
    "        List of paths to multispectrum scenes \n",
    "        (.tiff) that will need cropping.\n",
    "    \n",
    "    crop_dir_path : str\n",
    "        The path to an output directory already \n",
    "        in existance, or will be made, and that \n",
    "        will store cropped and exported stacked \n",
    "        bands.\n",
    "        \n",
    "    crop_bound : GeoPandas GeoDataFrame\n",
    "        Vector shape file geodataframe used for \n",
    "        cropping aoi's from files_to_crop.\n",
    "    \n",
    "    Returns\n",
    "    -------\n",
    "    all_bands_stack : numpy array(s)\n",
    "        Stacked and cropped numpy array bands \n",
    "        (our new aoi's).\n",
    "    \n",
    "    fire_crop_utmz13 : GeoPandas GeoDataFrame\n",
    "        A vector shape file that either shares \n",
    "        the crs of the stacked bands or is \n",
    "        reprojected from the crop_bound crs.\n",
    "    \"\"\"\n",
    "    # Create output directory   \n",
    "    if not os.path.exists(crop_dir_path):\n",
    "        os.mkdir(crop_dir_path)\n",
    "\n",
    "    # Reproject boundary .shp to geotiff crs\n",
    "    with rio.open(files_to_crop[0]) as landsat_src:\n",
    "        if not crop_bound.crs == landsat_src.crs:\n",
    "            fire_crop_utmz13 = crop_bound.to_crs(\n",
    "                                  landsat_src.crs)\n",
    "\n",
    "    # Crop all geotiff layers in each scene\n",
    "    es.crop_all(raster_paths=files_to_crop,\n",
    "                output_dir=crop_dir_path,\n",
    "                geoms=fire_crop_utmz13,\n",
    "                overwrite=True)\n",
    "\n",
    "    # Retrieve cropped bands from output directory\n",
    "    all_bands = sorted(glob(os.path.join(\n",
    "                       crop_dir_path, \"*.tif\")))\n",
    "    \n",
    "    # Stacked cropped bands\n",
    "    all_bands_stack = es.stack(all_bands)\n",
    "\n",
    "    \n",
    "############################### DOES NOT INCLUDE DICTIONARY FOR META DATA #############################\n",
    "    # Stacked cropped bands and new fire boundary\n",
    "    return all_bands_stack, fire_crop_utmz13"
   ]
  },
  {
   "cell_type": "markdown",
   "metadata": {
    "deletable": false,
    "editable": false,
    "nbgrader": {
     "cell_type": "markdown",
     "checksum": "ef76f81b65359a891bf6d6fc9cd4d869",
     "grade": false,
     "grade_id": "cell-ef840bfc7b4fcf0e",
     "locked": true,
     "schema_version": 3,
     "solution": false,
     "task": false
    }
   },
   "source": [
    "## Function 2: mask_data (5 points)\n",
    "\n",
    "In the call below, write a function called `mask_data` that: \n",
    "1. Masks a numpy array using the Landsat Cloud QA layer. \n",
    "    * **2 inputs:** \n",
    "        * 1) numpy array to be masked\n",
    "        * 2) Landsat QA layer in numpy array format \n",
    "2. Returns a masked array. \n",
    "    * **1 output:**\n",
    "        * 1) masked numpy array"
   ]
  },
  {
   "cell_type": "code",
   "execution_count": 14,
   "metadata": {
    "ExecuteTime": {
     "end_time": "2020-04-08T12:59:07.826665Z",
     "start_time": "2020-04-08T12:59:07.819685Z"
    },
    "deletable": false,
    "nbgrader": {
     "cell_type": "code",
     "checksum": "d5df37f5e6709e49cae8684791fb5d11",
     "grade": false,
     "grade_id": "cell-2f2fda206fb36d0c",
     "locked": false,
     "schema_version": 3,
     "solution": true,
     "task": false
    }
   },
   "outputs": [],
   "source": [
    "# Add your function here. Do NOT modify the function name\n",
    "def mask_data(arr, path_to_qa):\n",
    "    \"\"\"Function that masks a numpy array using a \n",
    "    cloud qa layer.\n",
    "    \n",
    "    Parameters\n",
    "    ----------\n",
    "    arr : numpy array\n",
    "        Numpy array(s) of bands of aoi scene(s).        \n",
    "    \n",
    "    path_to_qa : str\n",
    "        Path to QA layer(s) associated with aoi(s).        \n",
    "    \n",
    "    Returns\n",
    "    -------\n",
    "    arr : masked numpy array\n",
    "        Updated numpy array(s) of bands with high cloud\n",
    "        confidence, clouds and cloud shadows masked.        \n",
    "    \"\"\"\n",
    "    # Open the qa layer\n",
    "    with rio.open(path_to_qa[0]) as src:\n",
    "        mask_arr = src.read(1)\n",
    "\n",
    "    # Cloud mask values\n",
    "    high_cloud_confidence = em.pixel_flags[\"pixel_qa\"][\n",
    "                                           \"L8\"][\n",
    "                                           \"High Cloud Confidence\"]\n",
    "    cloud = em.pixel_flags[\"pixel_qa\"][\"L8\"][\"Cloud\"]\n",
    "    cloud_shadow = em.pixel_flags[\"pixel_qa\"][\"L8\"][\"Cloud Shadow\"]\n",
    "\n",
    "    all_masked_values = cloud_shadow + cloud + high_cloud_confidence\n",
    "    \n",
    "    # Mask the numpy array\n",
    "    if any(i in np.unique(mask_arr) for i in all_masked_values):\n",
    "        landsat_masked_bands = em.mask_pixels(arr,\n",
    "                                              mask_arr,\n",
    "                                              vals=all_masked_values)\n",
    "        return landsat_masked_bands\n",
    "    else:\n",
    "        return arr"
   ]
  },
  {
   "cell_type": "markdown",
   "metadata": {
    "deletable": false,
    "editable": false,
    "nbgrader": {
     "cell_type": "markdown",
     "checksum": "75d94dec6ecfef3134eb36f8d63d4f07",
     "grade": false,
     "grade_id": "cell-7323f4c1f41828f0",
     "locked": true,
     "schema_version": 3,
     "solution": false,
     "task": false
    }
   },
   "source": [
    "## Function 3: classify_dnbr (5 points)\n",
    "\n",
    "In the cell below, write a function called `classify_dnbr` that: \n",
    "1. Classifies a numpy array using classes/bins defined in the function. \n",
    "    * **1 input:**\n",
    "        * 1) numpy array containing dNBR data in numpy array format \n",
    "2. Returns a classified numpy array. \n",
    "    * **1 output:**\n",
    "        * 1) numpy array with classified values (integers)"
   ]
  },
  {
   "cell_type": "code",
   "execution_count": 15,
   "metadata": {
    "ExecuteTime": {
     "end_time": "2020-04-08T12:59:09.673304Z",
     "start_time": "2020-04-08T12:59:09.668316Z"
    },
    "deletable": false,
    "nbgrader": {
     "cell_type": "code",
     "checksum": "b0199cd7ae744ad40ee47ac3a8523535",
     "grade": false,
     "grade_id": "cell-033ba180dbc20c63",
     "locked": false,
     "schema_version": 3,
     "solution": true,
     "task": false
    }
   },
   "outputs": [],
   "source": [
    "# Add your function here. Do NOT modify the function name\n",
    "def classify_dnbr(arr):\n",
    "    \"\"\"Function that creates a new numpy array of classified\n",
    "    values from a difference normalized burn ration (dNBR) \n",
    "    numpy array. \n",
    "    \n",
    "    Parameters\n",
    "    ----------\n",
    "    arr : Numpy array\n",
    "        Numpy array(s) containing dNBR data.        \n",
    "    \n",
    "    Returns\n",
    "    -------\n",
    "    arr_class : Numpy array\n",
    "        Numpy array(s) containing reclassified \n",
    "        dNBR values in 5 possible classes.        \n",
    "    \"\"\"\n",
    "    # Reclassify values #########NOTE: WK 2 NOTEBOOK##########\n",
    "    class_bins = [-np.inf, -.1, .1, .27, .66, np.inf]\n",
    "    arr_reclass = np.digitize(arr, class_bins)\n",
    "        \n",
    "    return arr_reclass   "
   ]
  },
  {
   "cell_type": "markdown",
   "metadata": {
    "deletable": false,
    "editable": false,
    "nbgrader": {
     "cell_type": "markdown",
     "checksum": "8176e31d2b6425a64305fc5af81efcb7",
     "grade": false,
     "grade_id": "cell-66f7d2197e6e0c20",
     "locked": true,
     "schema_version": 3,
     "solution": false,
     "task": false
    }
   },
   "source": [
    "## Assignment Week 2 - BEGINS March 18 \n",
    "\n",
    "You will write the function below next week after learning more about MODIS h4 data in class on March 18, 2020.\n",
    "\n",
    "Be sure to add a docstring that uses numpy style format (for examples, review the [Intro to Earth Data Sciene textbook chapter on Functions](https://www.earthdatascience.org/courses/intro-to-earth-data-science/write-efficient-python-code/functions-modular-code/write-functions-in-python/#docstring)). \n",
    "\n",
    "The docstring should include:\n",
    "\n",
    "    * A one sentence description of what the function does.\n",
    "    * Description of each input variable (parameter), following numpy docstring standards.\n",
    "    * Description of each output object (return), following numpy docstring standards.\n",
    "    \n",
    "## Function 4: stack_modis_bands (10 points)\n",
    "\n",
    "Write a function called `stack_modis_bands` that: \n",
    "1. Loops through an `h4` file to collect and stack all \"band\" layers in the file.\n",
    "2. Crops each band to the extent of a given input boundary in GeoPandas GeoDataFrame format.\n",
    "3. Returns a stacked numpy array of the cropped data and the metadata.\n",
    "\n",
    "#### Function Inputs and Outputs\n",
    "\n",
    "1. Takes a path to an h4 file and returns the reflectance bands cropped to a specific extent. \n",
    "    * **2 inputs:**\n",
    "        * 1) string path to hdf h4 file\n",
    "        * 2) crop_bound in GeoDataFrame format\n",
    "2. Returns a classified numpy array. \n",
    "    * **2 outputs:**\n",
    "        * 1) numpy array containing cropped MODIS reflectance bands\n",
    "        * 2) metadata for the numpy array"
   ]
  },
  {
   "cell_type": "code",
   "execution_count": 16,
   "metadata": {
    "ExecuteTime": {
     "end_time": "2020-04-08T12:59:10.946030Z",
     "start_time": "2020-04-08T12:59:10.938049Z"
    },
    "deletable": false,
    "nbgrader": {
     "cell_type": "code",
     "checksum": "1625e76d905334b471d5bbd4863d1920",
     "grade": false,
     "grade_id": "cell-e730c0516d588d6c",
     "locked": false,
     "schema_version": 3,
     "solution": true,
     "task": false
    }
   },
   "outputs": [],
   "source": [
    "# Add your function here. Do NOT modify the function name\n",
    "def stack_modis_bands(h4_path, crop_bound):\n",
    "    '''\n",
    "    Accessing, cropping, stacking and cleaning (masking\n",
    "    nodata) all bands within h4 files and producing\n",
    "    outputs necessary to process and plot data.\n",
    "    \n",
    "    Parameters\n",
    "    ----------\n",
    "    h4_path : str\n",
    "    Path(s) to h4 file(s).\n",
    "    \n",
    "    crop_bound : GeoPandas GeoDataFrame\n",
    "        Vector shape file geodataframe used for \n",
    "        cropping aoi's from files_to_crop.\n",
    "        \n",
    "    Returns\n",
    "    -------    \n",
    "    cleaned_modis_data : numpy arrays\n",
    "        Stacked and cropped numpy array bands \n",
    "        (our new aoi's).\n",
    "        \n",
    "    crop_meta : dict\n",
    "        Dictionary containing details of \n",
    "        stacked numpy arrays in \n",
    "        cleaned_modis_data.\n",
    "            \n",
    "    extent_modis : tuple\n",
    "        Boundary defined by crop_bound \n",
    "        required to plot aoi extent.\n",
    "    \n",
    "    fire_bound_sin : GeoPandas GeoDataFrame\n",
    "        A vector shape file that either shares \n",
    "        the crs of the stacked bands or is \n",
    "        reprojected from the crop_bound crs. \n",
    "    '''\n",
    "    # Temporary hold cropped, stacked bands\n",
    "    processed_bands = []\n",
    "    \n",
    "    # Access bands and band data\n",
    "    with rio.open(h4_path) as dataset:\n",
    "        for name in dataset.subdatasets:\n",
    "            if re.search(\"b0.\\_1$\", name): \n",
    "                with rio.open(name) as subdataset:\n",
    "\n",
    "                    if not crop_bound.crs == subdataset.crs:\n",
    "                        fire_bound_sin = crop_bound.to_crs(\n",
    "                                                subdataset.crs)\n",
    "\n",
    "                    # Crop bands read with fire boundary\n",
    "                    crop_band, crop_meta = es.crop_image(\n",
    "                                            subdataset,fire_bound_sin)\n",
    "                    processed_bands.append(np.squeeze(crop_band))\n",
    "                    \n",
    "    # Stack\n",
    "    modis_bands_stack = np.stack(processed_bands)                \n",
    "\n",
    "    # Identify and clean array of nodata\n",
    "    cleaned_modis_data = ma.masked_where(\n",
    "        modis_bands_stack == crop_meta[\"nodata\"], modis_bands_stack) \n",
    "    \n",
    "    # Plotting boundary\n",
    "    extent_modis = plotting_extent(\n",
    "        crop_band[0], crop_meta[\"transform\"])\n",
    "\n",
    "    return cleaned_modis_data, crop_meta, fire_bound_sin, extent_modis\n"
   ]
  },
  {
   "cell_type": "markdown",
   "metadata": {
    "deletable": false,
    "editable": false,
    "nbgrader": {
     "cell_type": "markdown",
     "checksum": "03137f3bea2bf58f3dcecc2b9f10030c",
     "grade": false,
     "grade_id": "cell-fdb313a690f2d6df7",
     "locked": true,
     "schema_version": 3,
     "solution": false,
     "task": false
    }
   },
   "source": [
    "![Colored Bar](colored-bar.png)"
   ]
  },
  {
   "cell_type": "markdown",
   "metadata": {
    "deletable": false,
    "editable": false,
    "nbgrader": {
     "cell_type": "markdown",
     "checksum": "ba8bf5977555e90678e901dbe0ddfdb7",
     "grade": false,
     "grade_id": "cell-715ab53f5eb8f67b",
     "locked": true,
     "schema_version": 3,
     "solution": false,
     "task": false
    }
   },
   "source": [
    "# Figure 1 Overview - Grid of 3 Color InfraRed (CIR) Plots: NAIP, Landsat and MODIS\n",
    "\n",
    "**You will be able to complete the MODIS subplot after March 18 class!**\n",
    "\n",
    "Create a single figure that contains a grid of 3 plots of color infrared (also called false color) composite images using:\n",
    "\n",
    "* Post Fire NAIP data (this is the data that you downloaded for your week 6 homework)\n",
    "* Post Fire Landsat data (use: `et.data.get_data(url=\"https://ndownloader.figshare.com/files/21941085\")`\n",
    "* Post Fire MODIS data (use: `et.data.get_data('cold-springs-modis-h5')`\n",
    "\n",
    "For each map, be sure to:\n",
    "\n",
    "* Crop the data to the fire boundary extent.\n",
    "* Overlay the fire boundary layer (`vector_layers/fire-boundary-geomac/co_cold_springs_20160711_2200_dd83.shp`).\n",
    "* Use the band combination **r = infrared band**, **g = red band**, **b = green** band.\n",
    "* Be sure to label each plot with the data type (NAIP vs. Landsat vs. MODIS) and spatial resolution.\n",
    "\n",
    "HINT: In a CIR image, the NIR band is plotted on the “red” band, the red band is plotted on the \"green\" band and the green band is plotted on the \"blue\" band."
   ]
  },
  {
   "cell_type": "code",
   "execution_count": 19,
   "metadata": {
    "ExecuteTime": {
     "end_time": "2020-04-08T13:01:17.746240Z",
     "start_time": "2020-04-08T13:01:17.731261Z"
    },
    "deletable": false,
    "nbgrader": {
     "cell_type": "code",
     "checksum": "e799ed2392ffdb02e1949a0660cb7444",
     "grade": false,
     "grade_id": "cell-24a209b218bbe2bc",
     "locked": false,
     "schema_version": 3,
     "solution": true,
     "task": false
    }
   },
   "outputs": [
    {
     "name": "stdout",
     "output_type": "stream",
     "text": [
      "[-105.49580578   39.97552258 -105.45633769   39.98718058]\n",
      "(1, 22)\n",
      "{'init': 'epsg:4269'}\n"
     ]
    }
   ],
   "source": [
    "# Open fire boundary in this cell\n",
    "# Import fire boundary .shp\n",
    "fire_path = os.path.join(\"cold-springs-fire\",\n",
    "                         \"vector_layers\",\n",
    "                         \"fire-boundary-geomac\",\n",
    "                         \"co_cold_springs_20160711_2200_dd83.shp\")\n",
    "fire_crop = gpd.read_file(fire_path)\n",
    "print(fire_crop.total_bounds)\n",
    "\n",
    "# View data attributes and CRS.\n",
    "print(fire_crop.shape)\n",
    "print(fire_crop.crs)"
   ]
  },
  {
   "cell_type": "markdown",
   "metadata": {
    "deletable": false,
    "editable": false,
    "nbgrader": {
     "cell_type": "markdown",
     "checksum": "8d91cb0eddd39dc77da78f6f7500098e",
     "grade": false,
     "grade_id": "cell-db19c5fba1aa6b13",
     "locked": true,
     "schema_version": 3,
     "solution": false,
     "task": false
    }
   },
   "source": [
    "## Process Landsat Data\n",
    "\n",
    "In the cells below, open and process your Landsat Data using loops and string manipulation of paths. \n",
    "\n",
    "Use the functions `crop_stack_data()` and `mask_data()` that you wrote above to open, \n",
    "crop and stack each Landsat data scene (pre and post fire).\n",
    "\n",
    "#### Notes\n",
    "\n",
    "If you were implementing this workflow for more scenes, you could write \n",
    "a helper function that tested the crs of the crop extent. If it needed to be \n",
    "reprojected you could do so and write it out as a file, or store is in a dictionary\n",
    "for for reuse \n",
    "in your loop. For this assignment rather than introducing additional tasks\n",
    "we will keep it simple and open up and reproject the boundary once.\n",
    "\n",
    "One way to do this is to create a connection to one single tif file using\n",
    "rasterio. Once you have the `src` object you can grab the crs and reproject\n",
    "the fire boundary. The code to do that is below:\n",
    "\n",
    "```\n",
    "with rio.open(glob(all_dirs[0] + \"/*.tif\")[0]) as src:\n",
    "    fire_bound_utmz13 = fire_boundary.to_crs(src.crs)\n",
    "```\n"
   ]
  },
  {
   "cell_type": "code",
   "execution_count": 20,
   "metadata": {
    "ExecuteTime": {
     "end_time": "2020-04-08T13:01:18.960548Z",
     "start_time": "2020-04-08T13:01:18.941567Z"
    },
    "deletable": false,
    "nbgrader": {
     "cell_type": "code",
     "checksum": "6e19fb37acef69adc4fbceda4b111788",
     "grade": false,
     "grade_id": "cell-736f55ecddd6ba9e",
     "locked": false,
     "schema_version": 3,
     "solution": true,
     "task": false
    }
   },
   "outputs": [
    {
     "ename": "IndexError",
     "evalue": "list index out of range",
     "output_type": "error",
     "traceback": [
      "\u001b[1;31m---------------------------------------------------------------------------\u001b[0m",
      "\u001b[1;31mIndexError\u001b[0m                                Traceback (most recent call last)",
      "\u001b[1;32m<ipython-input-20-8100c986d153>\u001b[0m in \u001b[0;36m<module>\u001b[1;34m\u001b[0m\n\u001b[0;32m     24\u001b[0m                                       \u001b[0mall_scenes\u001b[0m\u001b[1;33m,\u001b[0m\u001b[1;33m\u001b[0m\u001b[1;33m\u001b[0m\u001b[0m\n\u001b[0;32m     25\u001b[0m                                       \u001b[0mcrop_path\u001b[0m\u001b[1;33m,\u001b[0m\u001b[1;33m\u001b[0m\u001b[1;33m\u001b[0m\u001b[0m\n\u001b[1;32m---> 26\u001b[1;33m                                       fire_crop)\n\u001b[0m\u001b[0;32m     27\u001b[0m \u001b[1;33m\u001b[0m\u001b[0m\n\u001b[0;32m     28\u001b[0m     \u001b[1;31m# Paths to cropped qa and bands\u001b[0m\u001b[1;33m\u001b[0m\u001b[1;33m\u001b[0m\u001b[1;33m\u001b[0m\u001b[0m\n",
      "\u001b[1;32m<ipython-input-13-7ded865dc19a>\u001b[0m in \u001b[0;36mcrop_stack_data\u001b[1;34m(files_to_crop, crop_dir_path, crop_bound)\u001b[0m\n\u001b[0;32m     37\u001b[0m \u001b[1;33m\u001b[0m\u001b[0m\n\u001b[0;32m     38\u001b[0m     \u001b[1;31m# Reproject boundary .shp to geotiff crs\u001b[0m\u001b[1;33m\u001b[0m\u001b[1;33m\u001b[0m\u001b[1;33m\u001b[0m\u001b[0m\n\u001b[1;32m---> 39\u001b[1;33m     \u001b[1;32mwith\u001b[0m \u001b[0mrio\u001b[0m\u001b[1;33m.\u001b[0m\u001b[0mopen\u001b[0m\u001b[1;33m(\u001b[0m\u001b[0mfiles_to_crop\u001b[0m\u001b[1;33m[\u001b[0m\u001b[1;36m0\u001b[0m\u001b[1;33m]\u001b[0m\u001b[1;33m)\u001b[0m \u001b[1;32mas\u001b[0m \u001b[0mlandsat_src\u001b[0m\u001b[1;33m:\u001b[0m\u001b[1;33m\u001b[0m\u001b[1;33m\u001b[0m\u001b[0m\n\u001b[0m\u001b[0;32m     40\u001b[0m         \u001b[1;32mif\u001b[0m \u001b[1;32mnot\u001b[0m \u001b[0mcrop_bound\u001b[0m\u001b[1;33m.\u001b[0m\u001b[0mcrs\u001b[0m \u001b[1;33m==\u001b[0m \u001b[0mlandsat_src\u001b[0m\u001b[1;33m.\u001b[0m\u001b[0mcrs\u001b[0m\u001b[1;33m:\u001b[0m\u001b[1;33m\u001b[0m\u001b[1;33m\u001b[0m\u001b[0m\n\u001b[0;32m     41\u001b[0m             fire_crop_utmz13 = crop_bound.to_crs(\n",
      "\u001b[1;31mIndexError\u001b[0m: list index out of range"
     ]
    }
   ],
   "source": [
    "# Create loop to process Landsat data in this cell\n",
    "# Set paths to scene directories\n",
    "base_path = os.path.join(\"earthpy-downloads\", \n",
    "                         \"landsat-coldsprings-hw\")\n",
    "                 \n",
    "all_dirs = glob(os.path.join(base_path, \"*\"))\n",
    "\n",
    "# Lists for naming convension dictionaries\n",
    "cleaned_landsat_data = {}\n",
    "\n",
    "# Set paths, create output and run functiond to crop/mask scenes \n",
    "for i in all_dirs:\n",
    "    \n",
    "    # Paths to all landsat scenes\n",
    "    all_scenes = sorted(glob(os.path.join(i, \"*.tif\")))\n",
    "    crop_path = os.path.join(i, \"cropped\")\n",
    "    \n",
    "    # Grabbing identifying names/dates\n",
    "    scene_name = os.path.basename(os.path.normpath(i))\n",
    "    date = scene_name[10:18]\n",
    "\n",
    "    # Crop and stack all landsat scenes \n",
    "    stacked_bands, fire_crop_utmz13 = crop_stack_data(\n",
    "                                      all_scenes, \n",
    "                                      crop_path, \n",
    "                                      fire_crop)\n",
    "    \n",
    "    # Paths to cropped qa and bands\n",
    "    cropped_qa = glob(os.path.join(crop_path, \n",
    "                                  \"*pixel**crop*.tif\"))\n",
    "    cropped_scenes = sorted(glob(os.path.join(crop_path, \n",
    "                                             \"*band*\")))\n",
    "    \n",
    "    # Mask all landsat scenes of bad pixels \n",
    "    bands_arr, bands_meta = es.stack(cropped_scenes, nodata=-9999)\n",
    "    cleaned_landsat_data[date] = mask_data(bands_arr, cropped_qa)\n",
    "    \n",
    "    # Create plotting extent\n",
    "    with rio.open(cropped_scenes[1]) as landsat_src:\n",
    "        extent_landsat = plotting_extent(landsat_src)"
   ]
  },
  {
   "cell_type": "code",
   "execution_count": null,
   "metadata": {
    "ExecuteTime": {
     "end_time": "2020-04-07T01:49:48.045087Z",
     "start_time": "2020-04-07T01:49:45.419Z"
    }
   },
   "outputs": [],
   "source": [
    "cleaned_landsat_data['20160621']"
   ]
  },
  {
   "cell_type": "code",
   "execution_count": null,
   "metadata": {
    "ExecuteTime": {
     "end_time": "2020-04-07T01:49:48.046084Z",
     "start_time": "2020-04-07T01:49:45.422Z"
    }
   },
   "outputs": [],
   "source": [
    "# Landsat NDVI processing\n",
    "landsat_prefire_ndvi = es.normalized_diff(\n",
    "    cleaned_landsat_data[\"20160621\"][4], \n",
    "    cleaned_landsat_data[\"20160621\"][3])\n",
    "landsat_postfire_ndvi = es.normalized_diff(\n",
    "    cleaned_landsat_data[\"20160723\"][4], \n",
    "    cleaned_landsat_data[\"20160723\"][3])\n",
    "    \n",
    "landsat_dndvi = landsat_postfire_ndvi - landsat_prefire_ndvi"
   ]
  },
  {
   "cell_type": "markdown",
   "metadata": {
    "deletable": false,
    "editable": false,
    "nbgrader": {
     "cell_type": "markdown",
     "checksum": "c9747aa296e6525d02b87db803bde962",
     "grade": false,
     "grade_id": "cell-f27c717f70b3896c",
     "locked": true,
     "schema_version": 3,
     "solution": false,
     "task": false
    }
   },
   "source": [
    "## Landsat Function Tests"
   ]
  },
  {
   "cell_type": "code",
   "execution_count": null,
   "metadata": {
    "ExecuteTime": {
     "end_time": "2020-04-07T01:49:48.047082Z",
     "start_time": "2020-04-07T01:49:45.425Z"
    },
    "deletable": false,
    "editable": false,
    "nbgrader": {
     "cell_type": "code",
     "checksum": "ffe0fe93fc20c9669e112a2c63f16e07",
     "grade": true,
     "grade_id": "cell-27e4ee294fcfa584",
     "locked": true,
     "points": 5,
     "schema_version": 3,
     "solution": false,
     "task": false
    }
   },
   "outputs": [],
   "source": [
    "# DO NOT MODIFY - test: crop_stack_data function"
   ]
  },
  {
   "cell_type": "code",
   "execution_count": null,
   "metadata": {
    "ExecuteTime": {
     "end_time": "2020-04-07T01:49:48.048079Z",
     "start_time": "2020-04-07T01:49:45.428Z"
    },
    "deletable": false,
    "editable": false,
    "nbgrader": {
     "cell_type": "code",
     "checksum": "0ee6f7aeffc75f6af1300b730edcf73d",
     "grade": true,
     "grade_id": "cell-a44324eaa47cb6dd",
     "locked": true,
     "points": 5,
     "schema_version": 3,
     "solution": false,
     "task": false
    }
   },
   "outputs": [],
   "source": [
    "# DO NOT MODIFY - test mask_data function\n"
   ]
  },
  {
   "cell_type": "code",
   "execution_count": null,
   "metadata": {
    "ExecuteTime": {
     "end_time": "2020-04-07T01:49:48.049076Z",
     "start_time": "2020-04-07T01:49:45.431Z"
    },
    "deletable": false,
    "editable": false,
    "nbgrader": {
     "cell_type": "code",
     "checksum": "6b0c160de15930419b52cf1fe930e114",
     "grade": true,
     "grade_id": "cell-f555d110a2c0ba38",
     "locked": true,
     "points": 5,
     "schema_version": 3,
     "solution": false,
     "task": false
    }
   },
   "outputs": [],
   "source": [
    "# DO NOT MODIFY - test classify_dnbr function\n"
   ]
  },
  {
   "cell_type": "markdown",
   "metadata": {
    "deletable": false,
    "editable": false,
    "nbgrader": {
     "cell_type": "markdown",
     "checksum": "f72b2bd5c925a990d239e837fe1d5552",
     "grade": false,
     "grade_id": "cell-4c085d457c3cdbb5",
     "locked": true,
     "schema_version": 3,
     "solution": false,
     "task": false
    }
   },
   "source": [
    "## Process NAIP Post Fire Data\n",
    "\n",
    "In the cell below, open and crop the post-fire NAIP data that you downloaded \n",
    "for homework 6."
   ]
  },
  {
   "cell_type": "code",
   "execution_count": null,
   "metadata": {
    "ExecuteTime": {
     "end_time": "2020-04-07T01:49:48.050074Z",
     "start_time": "2020-04-07T01:49:45.436Z"
    },
    "deletable": false,
    "nbgrader": {
     "cell_type": "code",
     "checksum": "02ba8e6b7d3f2fa9c74ed412ef3ca3d1",
     "grade": false,
     "grade_id": "cell-8c391e31f8b2843f",
     "locked": false,
     "schema_version": 3,
     "solution": true,
     "task": false
    }
   },
   "outputs": [],
   "source": [
    "# Process NAIP data\n",
    "#Import NAIP 2017 image\n",
    "naip_2017_path = os.path.join(\"cold-springs-fire\", \"naip\", \n",
    "                              \"m_3910505_nw_13_1_20170902\",\n",
    "                              \"m_3910505_nw_13_1_20170902.tif\")\n",
    "\n",
    "#######################NODATA NOT ACCOUNTED FOR HERE = \"None\"########################################\n",
    "with rio.open(naip_2017_path) as naip_2017_src:\n",
    "    if landsat_src.crs == naip_2017_src.crs:\n",
    "        fire_crop_reproj = fire_crop_utmz13\n",
    "    else:\n",
    "        fire_crop_reproj = fire_crop.to_crs('epsg:26913')\n",
    "    \n",
    "    naip_2017_crop, naip_2017_meta = es.crop_image(\n",
    "                                     naip_2017_src, fire_crop_reproj)\n",
    "    naip_extent = plotting_extent(naip_2017_crop[0], \n",
    "                                  naip_2017_meta['transform'])"
   ]
  },
  {
   "cell_type": "markdown",
   "metadata": {
    "deletable": false,
    "editable": false,
    "nbgrader": {
     "cell_type": "markdown",
     "checksum": "409c3c14996c9127a613d709c11413ec",
     "grade": false,
     "grade_id": "cell-325e79b50edfcb71",
     "locked": true,
     "schema_version": 3,
     "solution": false,
     "task": false
    }
   },
   "source": [
    "## Process MODIS h4 Data - March 18th, 2020\n",
    "\n",
    "In the cells below, open and process your MODIS hdf4 data using loops and \n",
    "string manipulation of paths. You will learn more about working with MODIS \n",
    "in class on March 18th.\n",
    "\n",
    "Use the function `stack_modis_bands()` that you previously wrote in this notebook to open and crop \n",
    "the MODIS data.\n"
   ]
  },
  {
   "cell_type": "code",
   "execution_count": null,
   "metadata": {
    "ExecuteTime": {
     "end_time": "2020-04-07T01:49:48.051071Z",
     "start_time": "2020-04-07T01:49:45.439Z"
    },
    "deletable": false,
    "nbgrader": {
     "cell_type": "code",
     "checksum": "b298c8ab766b8b49e695b31d54f2fb81",
     "grade": false,
     "grade_id": "cell-244689f994e59daa",
     "locked": false,
     "schema_version": 3,
     "solution": true,
     "task": false
    }
   },
   "outputs": [],
   "source": [
    "# Process MODIS Data\n",
    "# Set paths to scene directories\n",
    "modis_dirs = glob(os.path.join(\"cold-springs-modis-h5\", \n",
    "                               \"*\"))\n",
    "\n",
    "# Modis dictionary of scene dates\n",
    "modis_bands_dict = {}\n",
    "\n",
    "for i in modis_dirs:\n",
    "    \n",
    "    # Paths to all modis scenes\n",
    "    all_scenes = glob(os.path.join(i, \"*.hdf\"))\n",
    "    \n",
    "    # Grabbing identifying names/dates\n",
    "    scene_names = os.path.basename(os.path.normpath(i))\n",
    "    date = scene_names\n",
    "    \n",
    "    # Use modis function to stack and crop\n",
    "    cleaned_modis_data, modis_meta, modis_boundary, extent_modis = stack_modis_bands(all_scenes[0], fire_crop)\n",
    "\n",
    "    # Creating dictionary\n",
    "    modis_bands_dict[date] = np.squeeze(cleaned_modis_data)"
   ]
  },
  {
   "cell_type": "code",
   "execution_count": null,
   "metadata": {
    "ExecuteTime": {
     "end_time": "2020-04-07T01:49:48.052069Z",
     "start_time": "2020-04-07T01:49:45.442Z"
    }
   },
   "outputs": [],
   "source": [
    "# Process modis NDVI\n",
    "modis_prefire_ndvi = es.normalized_diff(\n",
    "    modis_bands_dict['07_july_2016'][1], \n",
    "    modis_bands_dict['07_july_2016'][0])\n",
    "modis_postfire_ndvi = es.normalized_diff(\n",
    "    modis_bands_dict['17_july_2016'][1], \n",
    "    modis_bands_dict['17_july_2016'][0])\n",
    "    \n",
    "modis_dndvi = modis_postfire_ndvi - modis_prefire_ndvi"
   ]
  },
  {
   "cell_type": "code",
   "execution_count": null,
   "metadata": {
    "ExecuteTime": {
     "end_time": "2020-04-07T01:49:48.053065Z",
     "start_time": "2020-04-07T01:49:45.444Z"
    },
    "deletable": false,
    "editable": false,
    "nbgrader": {
     "cell_type": "code",
     "checksum": "83e7ea63f169cb7d0df6561fb893953e",
     "grade": true,
     "grade_id": "cell-41e97b2dd5a5c5d5",
     "locked": true,
     "points": 10,
     "schema_version": 3,
     "solution": false,
     "task": false
    }
   },
   "outputs": [],
   "source": [
    "# DO NOT MODIFY THIS CELL - autograding tests for MODIS function stack_modis_bands\n"
   ]
  },
  {
   "cell_type": "markdown",
   "metadata": {
    "deletable": false,
    "editable": false,
    "hideCode": false,
    "hidePrompt": false,
    "nbgrader": {
     "cell_type": "markdown",
     "checksum": "205281d5591ddcd7899f487cccbcc720",
     "grade": false,
     "grade_id": "cell-6ca04a45ff093c62",
     "locked": true,
     "schema_version": 3,
     "solution": false,
     "task": false
    }
   },
   "source": [
    "## Figure 1: Plot CIR for NAIP, Landsat and MODIS Using Post Fire Data (15 points each subplot)\n",
    "\n",
    "In the cell below, create a figure with 3 subplots stacked vertically.\n",
    "\n",
    "In each subplot, plot a CIR composite image using the post-fire data for:\n",
    "\n",
    "* NAIP  (first figure axis) \n",
    "* Landsat (second figure axis) \n",
    "* MODIS (third figure axis)\n",
    "\n",
    "respectively on this figure."
   ]
  },
  {
   "cell_type": "code",
   "execution_count": 1,
   "metadata": {
    "ExecuteTime": {
     "end_time": "2020-05-05T23:33:09.717968Z",
     "start_time": "2020-05-05T23:33:09.386599Z"
    },
    "deletable": false,
    "hideCode": false,
    "hidePrompt": false,
    "nbgrader": {
     "cell_type": "code",
     "checksum": "10a2bc937ebac03fa732cf95c9c6fcf9",
     "grade": false,
     "grade_id": "cell-4feb05c88bb2f0d7",
     "locked": false,
     "schema_version": 3,
     "solution": true,
     "task": false
    }
   },
   "outputs": [
    {
     "ename": "NameError",
     "evalue": "name 'plt' is not defined",
     "output_type": "error",
     "traceback": [
      "\u001b[1;31m---------------------------------------------------------------------------\u001b[0m",
      "\u001b[1;31mNameError\u001b[0m                                 Traceback (most recent call last)",
      "\u001b[1;32m<ipython-input-1-27d304b9b97b>\u001b[0m in \u001b[0;36m<module>\u001b[1;34m\u001b[0m\n\u001b[0;32m      1\u001b[0m \u001b[1;31m# Plot CIR of Post Fire NAIP, Landsat & MODIS together in one figure\u001b[0m\u001b[1;33m\u001b[0m\u001b[1;33m\u001b[0m\u001b[1;33m\u001b[0m\u001b[0m\n\u001b[1;32m----> 2\u001b[1;33m \u001b[0mfig\u001b[0m\u001b[1;33m,\u001b[0m \u001b[1;33m[\u001b[0m\u001b[0max1\u001b[0m\u001b[1;33m,\u001b[0m \u001b[0max2\u001b[0m\u001b[1;33m,\u001b[0m \u001b[0max3\u001b[0m\u001b[1;33m]\u001b[0m \u001b[1;33m=\u001b[0m \u001b[0mplt\u001b[0m\u001b[1;33m.\u001b[0m\u001b[0msubplots\u001b[0m\u001b[1;33m(\u001b[0m\u001b[1;36m3\u001b[0m\u001b[1;33m,\u001b[0m \u001b[1;36m1\u001b[0m\u001b[1;33m,\u001b[0m \u001b[0mfigsize\u001b[0m\u001b[1;33m=\u001b[0m\u001b[1;33m(\u001b[0m\u001b[1;36m12\u001b[0m\u001b[1;33m,\u001b[0m \u001b[1;36m18\u001b[0m\u001b[1;33m)\u001b[0m\u001b[1;33m)\u001b[0m\u001b[1;33m\u001b[0m\u001b[1;33m\u001b[0m\u001b[0m\n\u001b[0m\u001b[0;32m      3\u001b[0m \u001b[1;33m\u001b[0m\u001b[0m\n\u001b[0;32m      4\u001b[0m \u001b[1;31m# Plot NAIP CIR\u001b[0m\u001b[1;33m\u001b[0m\u001b[1;33m\u001b[0m\u001b[1;33m\u001b[0m\u001b[0m\n\u001b[0;32m      5\u001b[0m ep.plot_rgb(naip_2017_crop,\n",
      "\u001b[1;31mNameError\u001b[0m: name 'plt' is not defined"
     ]
    }
   ],
   "source": [
    "# Plot CIR of Post Fire NAIP, Landsat & MODIS together in one figure\n",
    "fig, [ax1, ax2, ax3] = plt.subplots(3, 1, figsize=(12, 18))\n",
    "\n",
    "# Plot NAIP CIR\n",
    "ep.plot_rgb(naip_2017_crop,\n",
    "            extent = naip_extent,\n",
    "            rgb = [3, 0, 1],\n",
    "            ax = ax1,\n",
    "            title=\"NAIP CIR Image\\n Post Cold Springs\" \\\n",
    "                  \" Fire, Colorado\\n 2 September 2017\")\n",
    "\n",
    "fire_crop_reproj.plot(ax = ax1, color = 'None', \n",
    "                           edgecolor = 'white', linewidth=2)\n",
    "\n",
    "# Plot Landsat CIR\n",
    "ep.plot_rgb(cleaned_landsat_data[\"20160723\"],\n",
    "            rgb=[4,3,2],\n",
    "            extent=extent_landsat,\n",
    "            ax=ax2,\n",
    "            title = \"Landsat CIR Composit Image\\n Post Cold Springs\" \\\n",
    "                    \" Fire, Colorado\\n 23 July 2016\")\n",
    "\n",
    "fire_crop_utmz13.plot(ax=ax2, color=\"None\", \n",
    "                      edgecolor=\"white\", linewidth=2)\n",
    "\n",
    "# Plot modis CIR\n",
    "ep.plot_rgb(modis_bands_dict['17_july_2016'],\n",
    "            rgb=[4,3,2],\n",
    "            extent=extent_modis,\n",
    "            ax=ax3,\n",
    "            title = \"Modis CIR Composit Image\\n Post Cold Springs\" \\\n",
    "                    \" Fire, Colorado\\n 17 July 2016\")\n",
    "\n",
    "modis_boundary.plot(ax=ax3, color=\"None\", \n",
    "                    edgecolor=\"white\", linewidth=2)\n",
    "\n",
    "\n",
    "# Captions\n",
    "ax1.text(0, -0.1,'2017 1m NAIP Image Data Source: Earth Explorer\\n'\n",
    "         r'Boundary Data Source: Geospatial Multi-Agency ' \\\n",
    "         r'Coordination (GeoMAC)', verticalalignment='bottom', \n",
    "         horizontalalignment='left', transform=ax1.transAxes)\n",
    "\n",
    "ax2.text(0, -0.1, '2017 30m Landsat Image Data Source: ' \\\n",
    "         'https://ndownloader.figshare.com/files/21941085\\n' \n",
    "         r'Boundary Data Source: Geospatial Multi-Agency ' \\\n",
    "         r'Coordination (GeoMAC)', verticalalignment='bottom',  \n",
    "         horizontalalignment='left', transform=ax2.transAxes)\n",
    "\n",
    "ax3.text(0, -0.1, '2017 500m MODIS Image Data Source: earthpy ' \\\n",
    "         'module key \"cold-springs-modis-h5\" \\n'\n",
    "         r'Boundary Data Source: Geospatial Multi-Agency ' \\\n",
    "         r'Coordination (GeoMAC)', verticalalignment='bottom',  \n",
    "         horizontalalignment='left', transform=ax3.transAxes)\n",
    "\n",
    "### DO NOT REMOVE LINE BELOW ###\n",
    "plot01_CIR_res_comparison = nb.convert_axes(plt, which_axes=\"all\")"
   ]
  },
  {
   "cell_type": "code",
   "execution_count": null,
   "metadata": {
    "ExecuteTime": {
     "end_time": "2020-04-07T01:49:48.055060Z",
     "start_time": "2020-04-07T01:49:45.450Z"
    },
    "deletable": false,
    "editable": false,
    "nbgrader": {
     "cell_type": "code",
     "checksum": "4c71d671391e7025762b243391dd33de",
     "grade": true,
     "grade_id": "cell-3c3e6bc76ded28b5",
     "locked": true,
     "points": 15,
     "schema_version": 3,
     "solution": false,
     "task": false
    }
   },
   "outputs": [],
   "source": [
    "# DO NOT TOUCH THIS CELL - autograding tests for NAIP subplot\n"
   ]
  },
  {
   "cell_type": "code",
   "execution_count": null,
   "metadata": {
    "ExecuteTime": {
     "end_time": "2020-04-07T01:49:48.056056Z",
     "start_time": "2020-04-07T01:49:45.453Z"
    },
    "deletable": false,
    "editable": false,
    "nbgrader": {
     "cell_type": "code",
     "checksum": "3f49955e7629c8a1661161e55f4c2096",
     "grade": true,
     "grade_id": "cell-0259f2c506f88113",
     "locked": true,
     "points": 15,
     "schema_version": 3,
     "solution": false,
     "task": false
    }
   },
   "outputs": [],
   "source": [
    "# DO NOT TOUCH THIS CELL - autograding tests for Landsat subplot\n"
   ]
  },
  {
   "cell_type": "code",
   "execution_count": null,
   "metadata": {
    "ExecuteTime": {
     "end_time": "2020-04-07T01:49:48.057055Z",
     "start_time": "2020-04-07T01:49:45.455Z"
    },
    "deletable": false,
    "editable": false,
    "nbgrader": {
     "cell_type": "code",
     "checksum": "6796d08a5da95c82ab8dfd771066f44d",
     "grade": true,
     "grade_id": "cell-158bfb775a0eddae",
     "locked": true,
     "points": 15,
     "schema_version": 3,
     "solution": false,
     "task": false
    }
   },
   "outputs": [],
   "source": [
    "# DO NOT TOUCH THIS CELL - autograding tests for MODIS subplot\n"
   ]
  },
  {
   "cell_type": "markdown",
   "metadata": {
    "deletable": false,
    "editable": false,
    "nbgrader": {
     "cell_type": "markdown",
     "checksum": "ca8f56767ff74346a9b7f818bd5ee57a",
     "grade": false,
     "grade_id": "cell-fdb313a690f2d6df6",
     "locked": true,
     "schema_version": 3,
     "solution": false,
     "task": false
    }
   },
   "source": [
    "![Colored Bar](colored-bar.png)"
   ]
  },
  {
   "cell_type": "markdown",
   "metadata": {
    "deletable": false,
    "editable": false,
    "nbgrader": {
     "cell_type": "markdown",
     "checksum": "f5ec1487c64cd8a2ae06126fb887049f",
     "grade": false,
     "grade_id": "cell-802d899b1c54f069",
     "locked": true,
     "schema_version": 3,
     "solution": false,
     "task": false
    }
   },
   "source": [
    "# Figure 2: Difference NDVI (dNDVI) Using Landsat & MODIS Data (20 points each subplot)\n",
    "\n",
    "Plot the NDVI difference using before and after Landsat and MODIS data \n",
    "that cover the Cold Springs Fire study area. For each axis be sure to:\n",
    "\n",
    "1. overlay the fire boundary (`vector_layers/fire-boundary-geomac/co_cold_springs_20160711_2200_dd83.shp`) on top of the data.\n",
    "2. Be sure that the data are cropped using the fire boundary extent.\n",
    "\n",
    "In the cell below, create a figure with 2 subplots stacked vertically:\n",
    "* Plot dNDVI for Landsat on the first axis of the figure.\n",
    "* Plot dNDVI using MODIS on the second axis of the figure.\n",
    "\n",
    "Use the \"before\" and \"after\" data that you processed above to calculate NDVI difference for both MODIS and Landsat\n",
    "\n",
    "\n",
    "## NDVI Difference\n",
    "\n",
    "To create the NDVI Difference raster using \"before\" and \"after\" fire \n",
    "Landsat and MODIS data, you must first calculate NDVI for each \n",
    "dataset \"before\" and \"after\" the fire. \n",
    "\n",
    "Once you have the \"before\" and \"after\" NDVI arrays, you can subtract \n",
    "the pre-fire NDVI array FROM the post-fire NDVI array (post-fire minus pre-fire). \n",
    "\n",
    "The resulting array will show you change in the area's NDVI from the first image to the second image.\n",
    "\n",
    "HINT: Remember, you can use `es.normalized_diff(band_1, band_2)` to get the NDVI of an image. "
   ]
  },
  {
   "cell_type": "code",
   "execution_count": null,
   "metadata": {
    "ExecuteTime": {
     "end_time": "2020-04-07T01:49:48.058052Z",
     "start_time": "2020-04-07T01:49:45.458Z"
    },
    "deletable": false,
    "nbgrader": {
     "cell_type": "code",
     "checksum": "5ce10a824f1335df5d08b38da06a1a8e",
     "grade": false,
     "grade_id": "cell-04c708968d254a97",
     "locked": false,
     "schema_version": 3,
     "solution": true,
     "task": false
    }
   },
   "outputs": [],
   "source": [
    "# Plot Difference NDVI for Landsat & MODIS together in one figure\n",
    "fig, [ax1, ax2] = plt.subplots(2, 1, figsize=(12, 12))\n",
    "\n",
    "# Plot Landsat dNDVI\n",
    "ep.plot_bands(landsat_dndvi, cmap=\"RdYlGn\",\n",
    "              vmin=-0.6, vmax=0.6, ax = ax1, extent=extent_landsat,\n",
    "              title=\"Landsat Derived dNDVI\\n 21 June vs. 23 July,\" \\\n",
    "                    \" 2016\\n Cold Springs Fire, Colorado\", scale=False)\n",
    "\n",
    "fire_crop_utmz13.plot(ax=ax1, color='None', \n",
    "                      edgecolor='black', linewidth=2)\n",
    "\n",
    "# Plot modis dNDVI\n",
    "ep.plot_bands(modis_dndvi, cmap=\"RdYlGn\",\n",
    "              vmin=-0.6, vmax=0.6, ax = ax2, extent=extent_modis,\n",
    "              title=\"Modis Derived dNDVI\\n 07 July vs. 17 July,\" \\\n",
    "                    \" 2016\\n Cold Springs Fire, Colorado\", scale=False)\n",
    "\n",
    "modis_boundary.plot(ax=ax2, color='None', \n",
    "                    edgecolor='black', linewidth=2)\n",
    "\n",
    "# Captions\n",
    "ax1.text(0, -0.1, '2017 30m Landsat Image Data Source: ' \\\n",
    "         'https://ndownloader.figshare.com/files/21941085\\n' \n",
    "         r'Boundary Data Source: Geospatial Multi-Agency ' \\\n",
    "         r'Coordination (GeoMAC)', verticalalignment='bottom',  \n",
    "         horizontalalignment='left', transform=ax1.transAxes)\n",
    "\n",
    "ax2.text(0, -0.1, '2017 500m MODIS Image Data Source: earthpy ' \\\n",
    "         'module key \"cold-springs-modis-h5\" \\n'\n",
    "         r'Boundary Data Source: Geospatial Multi-Agency ' \\\n",
    "         r'Coordination (GeoMAC)', verticalalignment='bottom',  \n",
    "         horizontalalignment='left', transform=ax2.transAxes)\n",
    "\n",
    "### DO NOT REMOVE LINE BELOW ###\n",
    "plot02_landsat_modis_ndvi_diff = nb.convert_axes(plt, which_axes=\"all\")"
   ]
  },
  {
   "cell_type": "code",
   "execution_count": null,
   "metadata": {
    "ExecuteTime": {
     "end_time": "2020-04-07T01:49:48.059049Z",
     "start_time": "2020-04-07T01:49:45.460Z"
    },
    "deletable": false,
    "editable": false,
    "nbgrader": {
     "cell_type": "code",
     "checksum": "d44ce4a406159b2eff160d180d433d04",
     "grade": true,
     "grade_id": "cell-9b92af5e76ecf4b8",
     "locked": true,
     "points": 20,
     "schema_version": 3,
     "solution": false,
     "task": false
    }
   },
   "outputs": [],
   "source": [
    "# Ignore this cell - autograding tests for Landsat subplot\n"
   ]
  },
  {
   "cell_type": "code",
   "execution_count": null,
   "metadata": {
    "ExecuteTime": {
     "end_time": "2020-04-07T01:49:48.060047Z",
     "start_time": "2020-04-07T01:49:45.463Z"
    },
    "deletable": false,
    "editable": false,
    "nbgrader": {
     "cell_type": "code",
     "checksum": "3975267f946a232d69d3c5a8af072684",
     "grade": true,
     "grade_id": "cell-88f2a83e96215ddb",
     "locked": true,
     "points": 20,
     "schema_version": 3,
     "solution": false,
     "task": false
    }
   },
   "outputs": [],
   "source": [
    "# Ignore this cell - autograding tests for MODIS subplot\n"
   ]
  },
  {
   "cell_type": "markdown",
   "metadata": {
    "deletable": false,
    "editable": false,
    "nbgrader": {
     "cell_type": "markdown",
     "checksum": "b3bb73ffc4c4f71d8447b659762d60fb",
     "grade": false,
     "grade_id": "cell-fdb313a690f2d6df34",
     "locked": true,
     "schema_version": 3,
     "solution": false,
     "task": false
    }
   },
   "source": [
    "![Colored Bar](colored-bar.png)"
   ]
  },
  {
   "cell_type": "markdown",
   "metadata": {
    "deletable": false,
    "editable": false,
    "nbgrader": {
     "cell_type": "markdown",
     "checksum": "553c4eb20f4f7dd661b8d8a06c50f281",
     "grade": false,
     "grade_id": "cell-0c6f881253c837c1",
     "locked": true,
     "schema_version": 3,
     "solution": false,
     "task": false
    }
   },
   "source": [
    "# Figure 3 Overview: Difference NBR (dNBR) Using Landsat  & MODIS Data (25 points each subplot)\n",
    "\n",
    "Create a figure that has two subplots stacked vertically using the same MODIS and Landsat data that you processed above. \n",
    "\n",
    "* Subplot one: classified dNBR using Landsat data\n",
    "* Subplot two: classified dNBR using MODIS data \n",
    "\n",
    "For each subplot, overlay the fire extent boundary `vector_layers/fire-boundary-geomac/co_cold_springs_20160711_2200_dd83.shp`\n",
    "on top of the dNBR map\n",
    "\n",
    "To classify each dNBR raster, use the `classify_dnbr()` function that you \n",
    "defined above. \n",
    "\n",
    "When you plot your MODIS data, you may notice that the data does not contain all of the classes that Landsat contains which can range from 1-5. To ensure that your colormap plots properly, set the `vmin=` and `vmax=` parameters to 1 and 5 respectively when you call `ep.plot_bands()`:\n",
    "\n",
    "`vmin=1, vmax=5`\n",
    "\n",
    "\n",
    "## Figure Legend\n",
    "\n",
    "You only need one legend for this figure. The `ep.draw_legend()` function will create a legend of \"boxes\" if you provide it with an:\n",
    "\n",
    "1. `imshow()` image object\n",
    "2. classes : a list of numbers that represent the classes in your numpy array\n",
    "3. titles: a list of dNBR class names example: `[\"High Severity\", \"Low Severity\"]`\n",
    "\n",
    "### dNBR Classes\n",
    "\n",
    "Note: if you scaled your data, you may need to scale the values below by a factor of 10.\n",
    "\n",
    "| SEVERITY LEVEL  | dNBR RANGE |\n",
    "|----------------|--------------|\n",
    "| Enhanced Regrowth | < -.1 |\n",
    "| Unburned        | -.1 to +.1 |\n",
    "| Low Severity     | +.1 to +.27 |\n",
    "| Moderate Severity  | +.27 to +.66 |\n",
    "| High Severity    | > .66 |\n",
    "\n",
    "\n",
    "HINT: Your dNBR classification list should look like this:\n",
    "`[-np.inf, -.1, .1, .27, .66, np.inf]`\n",
    "\n",
    "HINT 2: If you want to use them, these are the colors used in the maps on the website:\n",
    "\n",
    "`[\"g\", \"yellowgreen\", \"peachpuff\", \"coral\", \"maroon\"]`\n",
    "\n",
    "The code to create a custom colormap for the plot is below:\n",
    "\n",
    "```\n",
    "nbr_colors = [\"g\", \"yellowgreen\", \"peachpuff\", \"coral\", \"maroon\"]\n",
    "nbr_cmap = ListedColormap(nbr_colors)\n",
    "```"
   ]
  },
  {
   "cell_type": "code",
   "execution_count": null,
   "metadata": {
    "ExecuteTime": {
     "end_time": "2020-04-07T01:49:48.061042Z",
     "start_time": "2020-04-07T01:49:45.469Z"
    },
    "deletable": false,
    "hideCode": false,
    "hidePrompt": false,
    "nbgrader": {
     "cell_type": "code",
     "checksum": "b5dfbf34f41ffe127d60ed6adb882f78",
     "grade": false,
     "grade_id": "cell-296ed0f3c3b010fd",
     "locked": false,
     "schema_version": 3,
     "solution": true,
     "task": false
    },
    "slideshow": {
     "slide_type": "slide"
    },
    "tags": [
     "hide"
    ]
   },
   "outputs": [],
   "source": [
    "# Calculate dNBR for Landsat - be sure to use the correct bands!\n",
    "# Landsat NBR processing\n",
    "landsat_prefire_nbr = es.normalized_diff(\n",
    "    cleaned_landsat_data[\"20160621\"][4], \n",
    "    cleaned_landsat_data[\"20160621\"][6])\n",
    "landsat_postfire_nbr = es.normalized_diff(\n",
    "    cleaned_landsat_data[\"20160723\"][4], \n",
    "    cleaned_landsat_data[\"20160723\"][6])\n",
    "    \n",
    "landsat_dnbr = landsat_prefire_nbr - landsat_postfire_nbr\n",
    "\n",
    "landsat_dnbr_reclass = classify_dnbr(landsat_dnbr)"
   ]
  },
  {
   "cell_type": "code",
   "execution_count": null,
   "metadata": {
    "ExecuteTime": {
     "end_time": "2020-04-07T01:49:48.062043Z",
     "start_time": "2020-04-07T01:49:45.472Z"
    },
    "deletable": false,
    "nbgrader": {
     "cell_type": "code",
     "checksum": "fa211055c7aab6955d5a5dbeb6b7ed87",
     "grade": false,
     "grade_id": "cell-2e02b3f9fa185bca",
     "locked": false,
     "schema_version": 3,
     "solution": true,
     "task": false
    }
   },
   "outputs": [],
   "source": [
    "# Calculate dNBR for MODIS - be sure to use the correct bands!\n",
    "# Modis NBR Processing\n",
    "modis_prefire_nbr = es.normalized_diff(\n",
    "    modis_bands_dict['07_july_2016'][1], \n",
    "    modis_bands_dict['07_july_2016'][6])\n",
    "modis_postfire_nbr = es.normalized_diff(\n",
    "    modis_bands_dict['17_july_2016'][1], \n",
    "    modis_bands_dict['17_july_2016'][6])\n",
    "    \n",
    "modis_dnbr = modis_prefire_nbr - modis_postfire_nbr\n",
    "\n",
    "modis_dnbr_reclass = classify_dnbr(modis_dnbr)"
   ]
  },
  {
   "cell_type": "code",
   "execution_count": null,
   "metadata": {
    "ExecuteTime": {
     "end_time": "2020-04-07T01:49:48.064037Z",
     "start_time": "2020-04-07T01:49:45.476Z"
    },
    "deletable": false,
    "nbgrader": {
     "cell_type": "code",
     "checksum": "40d468a2e395952c712e617adb32cf35",
     "grade": false,
     "grade_id": "cell-1b1b71c7a1d9c6e6",
     "locked": false,
     "schema_version": 3,
     "solution": true,
     "task": false
    },
    "tags": [
     "hide"
    ]
   },
   "outputs": [],
   "source": [
    "# Plot Difference NBR (dNBR) for Landsat & MODIS together in one figure\n",
    "fig, [ax1, ax2] = plt.subplots(2, 1, figsize=(12, 12))\n",
    "\n",
    "colors = [\"g\", \"yellowgreen\", \"peachpuff\", \"coral\", \"maroon\"]\n",
    "class_labels = [\"Enhanced Regrowth\", \"Unburned\", \"Low Severity\",\n",
    "               \"Moderate Severity\", \"High Severity\"]\n",
    "cmap = ListedColormap(colors)\n",
    "\n",
    "# Plot Landsat dNBR\n",
    "im = ax1.imshow(landsat_dnbr_reclass, cmap = cmap, \n",
    "                extent=extent_landsat)\n",
    "\n",
    "fire_crop_utmz13.plot(ax=ax1, color='None', \n",
    "                      edgecolor='black', linewidth=2)\n",
    "\n",
    "ep.draw_legend(im, titles=class_labels)\n",
    "ax1.set_title(\"Landsat Derived dNBR\\n 21 June vs 23 July \" \\\n",
    "          \"2016\\n Cold Springs Fire, Colorado\")\n",
    "ax1.set_axis_off()\n",
    "\n",
    "# Plot Modis dNBR\n",
    "im2 = ax2.imshow(modis_dnbr_reclass, cmap = cmap, \n",
    "                vmin=1, vmax=5, extent=extent_modis)\n",
    "\n",
    "modis_boundary.plot(ax=ax2, color='None', \n",
    "                    edgecolor='black', linewidth=2)\n",
    "\n",
    "ax2.set_title(\"Modis Derived dNBR\\n 21 June vs 23 July \" \\\n",
    "              \"2016\\n Cold Springs Fire, Colorado\")\n",
    "ax2.set_axis_off()\n",
    "\n",
    "# Captions\n",
    "ax1.text(0, -0.1, '2017 30m Landsat Image Data Source: ' \\\n",
    "         'https://ndownloader.figshare.com/files/21941085\\n' \n",
    "         r'Boundary Data Source: Geospatial Multi-Agency ' \\\n",
    "         r'Coordination (GeoMAC)', verticalalignment='bottom',  \n",
    "         horizontalalignment='left', transform=ax1.transAxes)\n",
    "\n",
    "ax2.text(0, -0.1, '2017 500m MODIS Image Data Source: earthpy ' \\\n",
    "         'module key \"cold-springs-modis-h5\" \\n'\n",
    "         r'Boundary Data Source: Geospatial Multi-Agency ' \\\n",
    "         r'Coordination (GeoMAC)', verticalalignment='bottom',  \n",
    "         horizontalalignment='left', transform=ax2.transAxes)\n",
    "\n",
    "### DO NOT REMOVE LINE BELOW ###\n",
    "plot03_landsat_dnbr = nb.convert_axes(plt, which_axes=\"all\")"
   ]
  },
  {
   "cell_type": "code",
   "execution_count": null,
   "metadata": {
    "ExecuteTime": {
     "end_time": "2020-04-07T01:49:48.064037Z",
     "start_time": "2020-04-07T01:49:45.478Z"
    },
    "deletable": false,
    "editable": false,
    "nbgrader": {
     "cell_type": "code",
     "checksum": "3471617e9a4ae30fd5eefc84b8d9a482",
     "grade": true,
     "grade_id": "cell-39ad421822088e36",
     "locked": true,
     "points": 25,
     "schema_version": 3,
     "solution": false,
     "task": false
    }
   },
   "outputs": [],
   "source": [
    "# Ignore this cell - autograding tests for Landsat subplot\n"
   ]
  },
  {
   "cell_type": "code",
   "execution_count": null,
   "metadata": {
    "ExecuteTime": {
     "end_time": "2020-04-07T01:49:48.065034Z",
     "start_time": "2020-04-07T01:49:45.481Z"
    },
    "deletable": false,
    "editable": false,
    "nbgrader": {
     "cell_type": "code",
     "checksum": "82d3c26fd808b9c719c134f768db85f1",
     "grade": true,
     "grade_id": "cell-bf37c466c5974606",
     "locked": true,
     "points": 25,
     "schema_version": 3,
     "solution": false,
     "task": false
    }
   },
   "outputs": [],
   "source": [
    "# Ignore this cell - autograding tests for MODIS subplot\n"
   ]
  },
  {
   "cell_type": "markdown",
   "metadata": {
    "deletable": false,
    "editable": false,
    "nbgrader": {
     "cell_type": "markdown",
     "checksum": "770e92ae1d7e02885bbbbbdbcea018ee",
     "grade": false,
     "grade_id": "cell-fdb313a690f2d6df",
     "locked": true,
     "schema_version": 3,
     "solution": false,
     "task": false
    }
   },
   "source": [
    "![Colored Bar](colored-bar.png)"
   ]
  },
  {
   "cell_type": "markdown",
   "metadata": {
    "deletable": false,
    "editable": false,
    "nbgrader": {
     "cell_type": "markdown",
     "checksum": "7c6ba7dc265112c40f6b5ac6f288f6c2",
     "grade": false,
     "grade_id": "cell-36a8da41cd9c3ca1",
     "locked": true,
     "schema_version": 3,
     "solution": false,
     "task": false
    }
   },
   "source": [
    "# Landsat vs MODIS  Burned Area (10 points)\n",
    "\n",
    "In the cell below, print the total area burned in classes 4 and 5 (moderate to high severity) for both datasets \n",
    "(Landsat and MODIS).\n",
    "\n",
    "HINT: Feel free to experiment with loops to complete this part of the homework. "
   ]
  },
  {
   "cell_type": "code",
   "execution_count": null,
   "metadata": {
    "ExecuteTime": {
     "end_time": "2020-04-07T01:49:48.066031Z",
     "start_time": "2020-04-07T01:49:45.484Z"
    },
    "deletable": false,
    "hideCode": false,
    "hidePrompt": false,
    "nbgrader": {
     "cell_type": "code",
     "checksum": "9971a8ab8c5304aa7fea5bde24645e9d",
     "grade": false,
     "grade_id": "cell-e8ccdd40f3954765",
     "locked": false,
     "schema_version": 3,
     "solution": true,
     "task": false
    }
   },
   "outputs": [],
   "source": [
    "# Total Burned Area in Classes 4 and 5 for Landsat and MODIS\n",
    "landsat_pixel_area = int(landsat_src.res[0]) * int(landsat_src.res[0])\n",
    "modis_pixel_area = int(modis_meta['transform'][0]) * \\\n",
    "    int(modis_meta['transform'][0])\n",
    "\n",
    "burned_area_per_source = [landsat_dnbr_reclass, modis_dnbr_reclass]\n",
    "burned_area_per_pixel = [landsat_pixel_area, modis_pixel_area]\n",
    "total_burned_area = []\n",
    "\n",
    "# for i, z in zip(burned_area_per_source, burned_area_per_pixel):\n",
    "#     area_loop = ((((i[i == 4]).size)*z) + (((i[i == 5]).size)*z))\n",
    "#     total_burned_area.append(area_loop)\n",
    "\n",
    "print('Landsat total burned area (meters squared):', \n",
    "      total_burned_area[0])\n",
    "print('Modis total burned area (meters squared):', \n",
    "      total_burned_area[1])\n",
    "\n",
    "landsat_class_4 = (landsat_dnbr_reclass[landsat_dnbr_reclass == 4]).size\n",
    "landsat_class_5 = (landsat_dnbr_reclass[landsat_dnbr_reclass == 5]).size\n",
    "\n",
    "modis_class_4 = (modis_dnbr_reclass[modis_dnbr_reclass == 4]).size\n",
    "modis_class_5 = (modis_dnbr_reclass[modis_dnbr_reclass == 5]).size\n",
    "\n",
    "landsat_mod_severity_area = landsat_pixel_area * landsat_class_4\n",
    "landsat_high_severity_area = landsat_pixel_area * landsat_class_5\n",
    "\n",
    "landsat_total_burn_area = landsat_mod_severity_area + landsat_high_severity_area\n",
    "\n",
    "modis_mod_severity_area = modis_pixel_area * modis_class_4\n",
    "modis_high_severity_area = modis_pixel_area * modis_class_5\n",
    "\n",
    "modis_total_burn_area = modis_mod_severity_area + modis_high_severity_area\n",
    "\n",
    "print('Landsat total burned area:', landsat_total_burn_area, 'meters')\n",
    "print('Modis total burned area:', modis_total_burn_area, 'meters')"
   ]
  },
  {
   "cell_type": "code",
   "execution_count": null,
   "metadata": {
    "deletable": false,
    "nbgrader": {
     "cell_type": "code",
     "checksum": "2d6236e1f7db15c03682e76193f9850a",
     "grade": true,
     "grade_id": "cell-b8a342e0efca8f12",
     "locked": false,
     "points": 10,
     "schema_version": 3,
     "solution": true,
     "task": false
    }
   },
   "outputs": [],
   "source": []
  },
  {
   "cell_type": "markdown",
   "metadata": {
    "deletable": false,
    "editable": false,
    "nbgrader": {
     "cell_type": "markdown",
     "checksum": "2d153c4d5ec9904b2db35a0019b4b55b",
     "grade": false,
     "grade_id": "cell-abb0c1ad98e21309",
     "locked": true,
     "schema_version": 3,
     "solution": false,
     "task": false
    }
   },
   "source": [
    "![Colored Bar](colored-bar.png)"
   ]
  },
  {
   "cell_type": "markdown",
   "metadata": {
    "deletable": false,
    "editable": false,
    "nbgrader": {
     "cell_type": "markdown",
     "checksum": "08f2f03d36ad5e4e32e4a21d996fbce8",
     "grade": false,
     "grade_id": "cell-ec0d7bea2f290944",
     "locked": true,
     "points": 5,
     "schema_version": 3,
     "solution": false,
     "task": true
    }
   },
   "source": [
    "# Do not edit this cell! (5 points)\n",
    "\n",
    "* Each figure specifies the source of the data (for each plot) using a plot caption created with `ax.text()`."
   ]
  },
  {
   "cell_type": "markdown",
   "metadata": {
    "deletable": false,
    "editable": false,
    "nbgrader": {
     "cell_type": "markdown",
     "checksum": "54f5c8a9f093987d5c43cf376d73b1e1",
     "grade": false,
     "grade_id": "cell-66b64706a43110d3",
     "locked": true,
     "points": 5,
     "schema_version": 3,
     "solution": false,
     "task": true
    }
   },
   "source": [
    "# Do not edit this cell! (5 points)\n",
    "\n",
    "The notebook will also be checked for overall clean code requirements as specified at the **very top** of this notebook! Some of these requirements include (review the top cells for more specifics): \n",
    "\n",
    "* Notebook begins at cell [1] and runs on any machine in its entirety.\n",
    "* PEP 8 format is applied throughout (including lengths of comment and code lines).\n",
    "* No additional code or imports in the notebook\n",
    "* Notebook is fully reproducible. This means:\n",
    "   * reproducible paths using the os module.\n",
    "   * data downloaded using code in the notebook.\n",
    "   * all imports at top of notebook."
   ]
  },
  {
   "cell_type": "markdown",
   "metadata": {
    "deletable": false,
    "editable": false,
    "nbgrader": {
     "cell_type": "markdown",
     "checksum": "9c10aa57cb7a2b9a35afd2937bec3a17",
     "grade": false,
     "grade_id": "cell-ceb0e7464a8b4ca7",
     "locked": true,
     "points": 5,
     "schema_version": 3,
     "solution": false,
     "task": true
    }
   },
   "source": [
    "# Do not edit this cell!  (5 points)\n",
    "\n",
    "All functions contain docstrings with inputs and outputs clearly identified and following numpy docstring standards."
   ]
  },
  {
   "cell_type": "code",
   "execution_count": null,
   "metadata": {},
   "outputs": [],
   "source": []
  }
 ],
 "metadata": {
  "hide_code_all_hidden": false,
  "kernelspec": {
   "display_name": "Python 3",
   "language": "python",
   "name": "python3"
  },
  "language_info": {
   "codemirror_mode": {
    "name": "ipython",
    "version": 3
   },
   "file_extension": ".py",
   "mimetype": "text/x-python",
   "name": "python",
   "nbconvert_exporter": "python",
   "pygments_lexer": "ipython3",
   "version": "3.7.6"
  },
  "toc": {
   "base_numbering": 1,
   "nav_menu": {},
   "number_sections": true,
   "sideBar": true,
   "skip_h1_title": false,
   "title_cell": "Table of Contents",
   "title_sidebar": "Contents",
   "toc_cell": false,
   "toc_position": {
    "height": "calc(100% - 180px)",
    "left": "10px",
    "top": "150px",
    "width": "330.433px"
   },
   "toc_section_display": true,
   "toc_window_display": false
  },
  "varInspector": {
   "cols": {
    "lenName": 16,
    "lenType": 16,
    "lenVar": 40
   },
   "kernels_config": {
    "python": {
     "delete_cmd_postfix": "",
     "delete_cmd_prefix": "del ",
     "library": "var_list.py",
     "varRefreshCmd": "print(var_dic_list())"
    },
    "r": {
     "delete_cmd_postfix": ") ",
     "delete_cmd_prefix": "rm(",
     "library": "var_list.r",
     "varRefreshCmd": "cat(var_dic_list()) "
    }
   },
   "types_to_exclude": [
    "module",
    "function",
    "builtin_function_or_method",
    "instance",
    "_Feature"
   ],
   "window_display": false
  }
 },
 "nbformat": 4,
 "nbformat_minor": 2
}
