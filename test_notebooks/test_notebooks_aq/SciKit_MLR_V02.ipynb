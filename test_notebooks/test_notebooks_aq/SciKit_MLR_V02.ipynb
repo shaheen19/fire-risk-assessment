{
 "cells": [
  {
   "cell_type": "code",
   "execution_count": 105,
   "metadata": {
    "ExecuteTime": {
     "end_time": "2020-06-17T16:54:12.288980Z",
     "start_time": "2020-06-17T16:54:12.283989Z"
    }
   },
   "outputs": [],
   "source": [
    "NAME = \"Robina Shaheen\"\n",
    "DATE = \"06172020\"\n",
    "COLLABORATORS = \"\""
   ]
  },
  {
   "cell_type": "markdown",
   "metadata": {},
   "source": [
    "# Scikit-learn\n",
    "\n",
    "Scikit-learn is a simple and efficient tools for predictive data analysis.\n",
    "\n",
    "It is designed for machine learning in python and built on NumPy, SciPy, and matplotlib.\n",
    "\n",
    "In this notebook I have employed Scikkit-learn to understand relationship between ozone and its precursors.\n",
    "\n",
    "Ozone formation depends on the presence of oxide of nitrogen, carbon monoxide and volatile organic compounds.\n",
    "\n",
    "However, VOC's are not measured at all the stations and few stations have values measured for half of the year. \n",
    "These msissing values cannot be predicted or filled due to spatial variability of its sources. \n"
   ]
  },
  {
   "cell_type": "code",
   "execution_count": 2,
   "metadata": {
    "ExecuteTime": {
     "end_time": "2020-06-15T21:47:35.367689Z",
     "start_time": "2020-06-15T21:47:34.820450Z"
    }
   },
   "outputs": [],
   "source": [
    "# Import packages/ modules\n",
    "import os\n",
    "import matplotlib.pyplot as plt\n",
    "import numpy as np\n",
    "import pandas as pd\n",
    "import earthpy as et\n",
    "import matplotlib.pyplot as plt  \n",
    "import matplotlib.dates as mdates\n",
    "from matplotlib.dates import DateFormatter\n",
    "import seaborn as sns\n",
    "import datetime\n",
    "from textwrap import wrap\n",
    "from statsmodels.formula.api import ols\n",
    "\n",
    "# Handle date time conversions between pandas and matplotlib\n",
    "from pandas.plotting import register_matplotlib_converters\n",
    "register_matplotlib_converters()\n",
    "\n",
    "# Scikit learn to train model and make predictions.\n",
    "from sklearn.model_selection import train_test_split \n",
    "from sklearn.linear_model import LinearRegression\n",
    "from sklearn import metrics\n",
    "\n",
    "\n",
    "# Use white grid plot background from seaborn\n",
    "sns.set(font_scale=1.5, style=\"whitegrid\")\n",
    "%matplotlib inline"
   ]
  },
  {
   "cell_type": "code",
   "execution_count": 3,
   "metadata": {
    "ExecuteTime": {
     "end_time": "2020-06-15T21:47:35.379626Z",
     "start_time": "2020-06-15T21:47:35.368655Z"
    }
   },
   "outputs": [
    {
     "name": "stdout",
     "output_type": "stream",
     "text": [
      "working directory is set to earth-analytics\n"
     ]
    },
    {
     "data": {
      "text/plain": [
       "'C:\\\\Users\\\\bina_\\\\earth-analytics\\\\data'"
      ]
     },
     "execution_count": 3,
     "metadata": {},
     "output_type": "execute_result"
    }
   ],
   "source": [
    "# Conditional statement to check and set working directory. \n",
    "ea_path = os.path.join(et.io.HOME, 'earth-analytics')\n",
    "\n",
    "if os.path.exists(ea_path):\n",
    "    os.chdir(ea_path)\n",
    "    print(\"working directory is set to earth-analytics\") \n",
    "else:     \n",
    "    print(\"This path does not exist\")\n",
    "    \n",
    "# Set base path to download data \n",
    "base_path = os.path.join(ea_path, \"data\")\n",
    "base_path"
   ]
  },
  {
   "cell_type": "code",
   "execution_count": null,
   "metadata": {},
   "outputs": [],
   "source": []
  },
  {
   "cell_type": "code",
   "execution_count": 4,
   "metadata": {
    "ExecuteTime": {
     "end_time": "2020-06-15T21:47:35.395583Z",
     "start_time": "2020-06-15T21:47:35.382618Z"
    }
   },
   "outputs": [
    {
     "data": {
      "text/plain": [
       "True"
      ]
     },
     "execution_count": 4,
     "metadata": {},
     "output_type": "execute_result"
    }
   ],
   "source": [
    "# measurement of PM2  with R & P Model 2025 PM-2.5 Sequential Air Sampler w/VSCC - Gravimetric\n",
    "# PM10_total with HI-VOL SA/GMW-1200 - GRAVIMETRIC\n",
    "# PM25 with Met-one BAM-1020 W/PM2.5 SCC - Beta Attenuation (optical method)\n",
    "# Pressure (mb) withINSTRUMENTAL - BAROMETRIC SENSOR\n",
    "# VOC_ppb_C = 6L Pressurized Canister - Precon Saturn GC/MS\n",
    "# O3_ppb, 8-HR RUN AVG BEGIN HOUR\n",
    "# NO2 ppb, INSTRUMENTAL - CHEMILUMINESCENCE\n",
    "# lead (ng/m3), Lo-Vol-Xontech 920 or 924, Teflon - ICP/Mass Spectrometer\n",
    "# CO ppb,  INSTRUMENTAL - Gas Filter Correlation Thermo Electron 48i-TLE\n",
    "# AQI, R & P Model 2025 PM-2.5 Sequential Air Sampler w/VSCC - Gravimetric\n",
    "\n",
    "\n",
    "\n",
    "# Files to download for further analysis\n",
    "# Define relative path to files\n",
    "file_path1 = os.path.join(\"data\",\"output_figures\", \"sandiego_2014_fires\", \"SD_weather_aq2014\" ,                       \n",
    "                         \"SD_temp.csv\")\n",
    "file_path2 = os.path.join(\"data\",\"output_figures\", \"sandiego_2014_fires\", \"SD_weather_aq2014\",                        \n",
    "                         \"SD_pres.csv\" )\n",
    "file_path3 = os.path.join(\"data\", \"output_figures\", \"sandiego_2014_fires\", \"SD_weather_aq2014\",                        \n",
    "                         \"SD_RH.csv\")\n",
    "file_path4 = os.path.join(\"data\", \"output_figures\", \"sandiego_2014_fires\", \"SD_weather_aq2014\",                        \n",
    "                         \"SD_wind.csv\")\n",
    "file_path5 = os.path.join(\"data\", \"output_figures\", \"sandiego_2014_fires\", \"SD_weather_aq2014\",                       \n",
    "                         \"SD_O3.csv\")\n",
    "file_path6 = os.path.join(\"data\", \"output_figures\", \"sandiego_2014_fires\", \"SD_weather_aq2014\",                       \n",
    "                         \"SD_CO.csv\")\n",
    "file_path7 = os.path.join(\"data\", \"output_figures\", \"sandiego_2014_fires\", \"SD_weather_aq2014\",                       \n",
    "                         \"SD_NO2.csv\")\n",
    "file_path8= os.path.join(\"data\", \"output_figures\", \"sandiego_2014_fires\", \"SD_weather_aq2014\",                       \n",
    "                         \"SD_PM25.csv\")\n",
    "file_path9 = os.path.join(\"data\", \"output_figures\", \"sandiego_2014_fires\", \"SD_weather_aq2014\",                       \n",
    "                         \"SD_PM10.csv\")\n",
    "file_path10 = os.path.join(\"data\", \"output_figures\", \"sandiego_2014_fires\", \"SD_weather_aq2014\",                       \n",
    "                         \"SD_PM2.csv\")\n",
    "file_path11 = os.path.join(\"data\", \"output_figures\", \"sandiego_2014_fires\", \"SD_weather_aq2014\",                       \n",
    "                         \"SD_lead.csv\")\n",
    "file_path12 = os.path.join(\"data\", \"output_figures\", \"sandiego_2014_fires\", \"SD_weather_aq2014\",                       \n",
    "                         \"SD_VOC.csv\")\n",
    "file_path13 = os.path.join(\"data\", \"output_figures\", \"sandiego_2014_fires\", \"SD_weather_aq2014\",                       \n",
    "                         \"SD_AQI.csv\")\n",
    "\n",
    "# To check if path is created\n",
    "os.path.exists(file_path1)"
   ]
  },
  {
   "cell_type": "code",
   "execution_count": 5,
   "metadata": {
    "ExecuteTime": {
     "end_time": "2020-06-15T21:47:36.349389Z",
     "start_time": "2020-06-15T21:47:35.397578Z"
    }
   },
   "outputs": [
    {
     "data": {
      "text/html": [
       "<div>\n",
       "<style scoped>\n",
       "    .dataframe tbody tr th:only-of-type {\n",
       "        vertical-align: middle;\n",
       "    }\n",
       "\n",
       "    .dataframe tbody tr th {\n",
       "        vertical-align: top;\n",
       "    }\n",
       "\n",
       "    .dataframe thead th {\n",
       "        text-align: right;\n",
       "    }\n",
       "</style>\n",
       "<table border=\"1\" class=\"dataframe\">\n",
       "  <thead>\n",
       "    <tr style=\"text-align: right;\">\n",
       "      <th></th>\n",
       "      <th>State Code</th>\n",
       "      <th>County Code</th>\n",
       "      <th>Site Num</th>\n",
       "      <th>Parameter Code</th>\n",
       "      <th>POC</th>\n",
       "      <th>Latitude</th>\n",
       "      <th>Longitude</th>\n",
       "      <th>Datum</th>\n",
       "      <th>Parameter Name</th>\n",
       "      <th>Sample Duration</th>\n",
       "      <th>...</th>\n",
       "      <th>AQI</th>\n",
       "      <th>Method Code</th>\n",
       "      <th>Method Name</th>\n",
       "      <th>Local Site Name</th>\n",
       "      <th>Address</th>\n",
       "      <th>State Name</th>\n",
       "      <th>County Name</th>\n",
       "      <th>City Name</th>\n",
       "      <th>CBSA Name</th>\n",
       "      <th>Date of Last Change</th>\n",
       "    </tr>\n",
       "    <tr>\n",
       "      <th>Date Local</th>\n",
       "      <th></th>\n",
       "      <th></th>\n",
       "      <th></th>\n",
       "      <th></th>\n",
       "      <th></th>\n",
       "      <th></th>\n",
       "      <th></th>\n",
       "      <th></th>\n",
       "      <th></th>\n",
       "      <th></th>\n",
       "      <th></th>\n",
       "      <th></th>\n",
       "      <th></th>\n",
       "      <th></th>\n",
       "      <th></th>\n",
       "      <th></th>\n",
       "      <th></th>\n",
       "      <th></th>\n",
       "      <th></th>\n",
       "      <th></th>\n",
       "      <th></th>\n",
       "    </tr>\n",
       "  </thead>\n",
       "  <tbody>\n",
       "    <tr>\n",
       "      <th>2014-01-01</th>\n",
       "      <td>6</td>\n",
       "      <td>73</td>\n",
       "      <td>1</td>\n",
       "      <td>44201</td>\n",
       "      <td>1</td>\n",
       "      <td>32.631231</td>\n",
       "      <td>-117.059075</td>\n",
       "      <td>WGS84</td>\n",
       "      <td>Ozone</td>\n",
       "      <td>8-HR RUN AVG BEGIN HOUR</td>\n",
       "      <td>...</td>\n",
       "      <td>31</td>\n",
       "      <td>NaN</td>\n",
       "      <td>-</td>\n",
       "      <td>Chula Vista</td>\n",
       "      <td>80 E. 'J' ST., CHULA VISTA</td>\n",
       "      <td>California</td>\n",
       "      <td>San Diego</td>\n",
       "      <td>Chula Vista</td>\n",
       "      <td>San Diego-Carlsbad, CA</td>\n",
       "      <td>7/20/2018</td>\n",
       "    </tr>\n",
       "    <tr>\n",
       "      <th>2014-01-01</th>\n",
       "      <td>6</td>\n",
       "      <td>73</td>\n",
       "      <td>3</td>\n",
       "      <td>44201</td>\n",
       "      <td>1</td>\n",
       "      <td>32.791194</td>\n",
       "      <td>-116.942092</td>\n",
       "      <td>WGS84</td>\n",
       "      <td>Ozone</td>\n",
       "      <td>8-HR RUN AVG BEGIN HOUR</td>\n",
       "      <td>...</td>\n",
       "      <td>38</td>\n",
       "      <td>NaN</td>\n",
       "      <td>-</td>\n",
       "      <td>El Cajon</td>\n",
       "      <td>1155 REDWOOD AVE., EL CAJON</td>\n",
       "      <td>California</td>\n",
       "      <td>San Diego</td>\n",
       "      <td>El Cajon</td>\n",
       "      <td>San Diego-Carlsbad, CA</td>\n",
       "      <td>7/20/2018</td>\n",
       "    </tr>\n",
       "    <tr>\n",
       "      <th>2014-01-01</th>\n",
       "      <td>6</td>\n",
       "      <td>73</td>\n",
       "      <td>1001</td>\n",
       "      <td>44201</td>\n",
       "      <td>1</td>\n",
       "      <td>32.952124</td>\n",
       "      <td>-117.264088</td>\n",
       "      <td>WGS84</td>\n",
       "      <td>Ozone</td>\n",
       "      <td>8-HR RUN AVG BEGIN HOUR</td>\n",
       "      <td>...</td>\n",
       "      <td>35</td>\n",
       "      <td>NaN</td>\n",
       "      <td>-</td>\n",
       "      <td>Del Mar</td>\n",
       "      <td>225 9th Street</td>\n",
       "      <td>California</td>\n",
       "      <td>San Diego</td>\n",
       "      <td>Del Mar</td>\n",
       "      <td>San Diego-Carlsbad, CA</td>\n",
       "      <td>7/20/2018</td>\n",
       "    </tr>\n",
       "  </tbody>\n",
       "</table>\n",
       "<p>3 rows × 29 columns</p>\n",
       "</div>"
      ],
      "text/plain": [
       "            State Code  County Code  Site Num  Parameter Code  POC   Latitude  \\\n",
       "Date Local                                                                      \n",
       "2014-01-01           6           73         1           44201    1  32.631231   \n",
       "2014-01-01           6           73         3           44201    1  32.791194   \n",
       "2014-01-01           6           73      1001           44201    1  32.952124   \n",
       "\n",
       "             Longitude  Datum Parameter Name          Sample Duration  ...  \\\n",
       "Date Local                                                             ...   \n",
       "2014-01-01 -117.059075  WGS84          Ozone  8-HR RUN AVG BEGIN HOUR  ...   \n",
       "2014-01-01 -116.942092  WGS84          Ozone  8-HR RUN AVG BEGIN HOUR  ...   \n",
       "2014-01-01 -117.264088  WGS84          Ozone  8-HR RUN AVG BEGIN HOUR  ...   \n",
       "\n",
       "           AQI Method Code Method Name  Local Site Name  \\\n",
       "Date Local                                                \n",
       "2014-01-01  31         NaN          -       Chula Vista   \n",
       "2014-01-01  38         NaN          -          El Cajon   \n",
       "2014-01-01  35         NaN          -           Del Mar   \n",
       "\n",
       "                                Address  State Name  County Name    City Name  \\\n",
       "Date Local                                                                      \n",
       "2014-01-01   80 E. 'J' ST., CHULA VISTA  California    San Diego  Chula Vista   \n",
       "2014-01-01  1155 REDWOOD AVE., EL CAJON  California    San Diego     El Cajon   \n",
       "2014-01-01               225 9th Street  California    San Diego      Del Mar   \n",
       "\n",
       "                         CBSA Name  Date of Last Change  \n",
       "Date Local                                               \n",
       "2014-01-01  San Diego-Carlsbad, CA            7/20/2018  \n",
       "2014-01-01  San Diego-Carlsbad, CA            7/20/2018  \n",
       "2014-01-01  San Diego-Carlsbad, CA            7/20/2018  \n",
       "\n",
       "[3 rows x 29 columns]"
      ]
     },
     "execution_count": 5,
     "metadata": {},
     "output_type": "execute_result"
    }
   ],
   "source": [
    "sd_temp = pd.read_csv(file_path1, parse_dates=['Date Local'],\n",
    "                                index_col=['Date Local'])\n",
    "sd_pres = pd.read_csv(file_path2, parse_dates=['Date Local'],\n",
    "                                index_col=['Date Local'])\n",
    "sd_RH = pd.read_csv(file_path3, parse_dates=['Date Local'],\n",
    "                                index_col=['Date Local'])\n",
    "sd_wind = pd.read_csv(file_path4, parse_dates=['Date Local'],\n",
    "                                index_col=['Date Local'])\n",
    "sd_O3 = pd.read_csv(file_path5, parse_dates=['Date Local'],\n",
    "                                index_col=['Date Local'])\n",
    "sd_CO = pd.read_csv(file_path6, parse_dates=['Date Local'],\n",
    "                                index_col=['Date Local'])\n",
    "sd_NO2 = pd.read_csv(file_path7, parse_dates=['Date Local'],\n",
    "                                index_col=['Date Local'])\n",
    "sd_PM25 = pd.read_csv(file_path8, parse_dates=['Date Local'],\n",
    "                                index_col=['Date Local'])\n",
    "\n",
    "sd_PM10 = pd.read_csv(file_path9, parse_dates=['Date Local'],\n",
    "                                index_col=['Date Local'])\n",
    "sd_lead = pd.read_csv(file_path11, parse_dates=['Date Local'],\n",
    "                                index_col=['Date Local'])\n",
    "sd_VOC = pd.read_csv(file_path12, parse_dates=['Date Local'],\n",
    "                                index_col=['Date Local'])\n",
    "sd_AQI = pd.read_csv(file_path13, parse_dates=['Date Local'],\n",
    "                                index_col=['Date Local'])\n",
    "sd_O3.head(3)"
   ]
  },
  {
   "cell_type": "code",
   "execution_count": 6,
   "metadata": {
    "ExecuteTime": {
     "end_time": "2020-06-15T21:47:36.359363Z",
     "start_time": "2020-06-15T21:47:36.352380Z"
    }
   },
   "outputs": [
    {
     "data": {
      "text/plain": [
       "Index(['State Code', 'County Code', 'Site Num', 'Parameter Code', 'POC',\n",
       "       'Latitude', 'Longitude', 'Datum', 'Parameter Name', 'Sample Duration',\n",
       "       'Pollutant Standard', 'Units of Measure', 'Event Type',\n",
       "       'Observation Count', 'Observation Percent', 'Arithmetic Mean', 'O3_ppb',\n",
       "       '1st Max Value', '1st Max Hour', 'AQI', 'Method Code', 'Method Name',\n",
       "       'Local Site Name', 'Address', 'State Name', 'County Name', 'City Name',\n",
       "       'CBSA Name', 'Date of Last Change'],\n",
       "      dtype='object')"
      ]
     },
     "execution_count": 6,
     "metadata": {},
     "output_type": "execute_result"
    }
   ],
   "source": [
    "sd_O3['City Name'].unique()\n",
    "sd_O3.columns"
   ]
  },
  {
   "cell_type": "code",
   "execution_count": 7,
   "metadata": {
    "ExecuteTime": {
     "end_time": "2020-06-15T21:47:36.366343Z",
     "start_time": "2020-06-15T21:47:36.363350Z"
    }
   },
   "outputs": [],
   "source": [
    "# # frames = [sd_O3, sd_RH, sd_temp]\n",
    "# # O3_RH_t = pd.concat(frames, sort= False)\n",
    "# # result = df1.append([df2, df3])\n",
    "# # sd_combined_df = sd_O3.append([sd_RH, sd_temp, sd_pres, sd_wind, sd_CO, sd_NO2, sd_PM25], sort = False)\n",
    "# # sd_combined_df.set_index('Date Local', inplace=True)\n",
    "\n",
    "# # pd.DataFrame.to_csv(sd_combined_df)\n",
    "# import pandas as pd\n",
    "\n",
    "# sd_combined_df = pd.concat([sd_O3, sd_RH, sd_temp, sd_pres, sd_wind, sd_CO, sd_NO2], \n",
    "#                            sort = False, axis= 0, join = 'outer').sort_index()\n",
    "# # sd_combined_df.set_index('Date Local', inplace=True)\n",
    "# # finaldf = pd.concat([df1, df2, df3], axis=1, join='inner').sort_index()\n",
    "# # result.head(2)\n",
    "# sd_combined_df.to_csv('data/output_figures/sandiego_2014_fires/air_quality_csv/sd_cumulative_df.csv')\n",
    "# # # print(sd_combined_df['City Name'].unique())\n",
    "# # print(sd_combined_df.columns)\n",
    "# sd_combined_df.head()"
   ]
  },
  {
   "cell_type": "code",
   "execution_count": 8,
   "metadata": {
    "ExecuteTime": {
     "end_time": "2020-06-15T21:47:36.373324Z",
     "start_time": "2020-06-15T21:47:36.369334Z"
    }
   },
   "outputs": [],
   "source": [
    "# # data_frames = [sd_temp, sd_O3, sd_NO2, sd_CO,]\n",
    "# # df_merged = reduce(lambda  left,right: pd.merge(left,right,on=['Date Local'],\n",
    "# #                                             how='outer'), data_frames)\n",
    "# # df_merged.head()\n",
    "\n",
    "# dfs= [sd_RH, sd_temp, sd_pres, sd_wind]\n",
    "# def mergefiles(dfs, countfiles, i=0):\n",
    "#     if i == (countfiles - 2): # it gets to the second to last and merges it with the last\n",
    "#         return\n",
    "\n",
    "#     dfm = dfs[i].merge(mergefiles(dfs[i+1], countfiles, i=i+1), on='Date Local')\n",
    "#     return dfm\n",
    "\n",
    "# print(mergefiles(dfs, len(dfs)))\n",
    "# # print(dfm.columns)\n",
    "# #pd.DataFrame.to_csv('data/output_figures/sandiego_2014_fires/air_quality_csv/weather_chem_sd_stations.csv')"
   ]
  },
  {
   "cell_type": "code",
   "execution_count": null,
   "metadata": {},
   "outputs": [],
   "source": []
  },
  {
   "cell_type": "code",
   "execution_count": 46,
   "metadata": {
    "ExecuteTime": {
     "end_time": "2020-06-16T00:39:46.534383Z",
     "start_time": "2020-06-16T00:39:46.529394Z"
    }
   },
   "outputs": [
    {
     "data": {
      "text/plain": [
       "True"
      ]
     },
     "execution_count": 46,
     "metadata": {},
     "output_type": "execute_result"
    }
   ],
   "source": [
    "file_path21 = os.path.join(base_path,\"output_figures\",\"sandiego_2014_fires\", \"air_quality_csv\",                     \n",
    "                         \"sd_chemical_composition_2014_mean_v02.csv\")\n",
    "\n",
    "# To check if path is created\n",
    "os.path.exists(file_path21)"
   ]
  },
  {
   "cell_type": "code",
   "execution_count": 47,
   "metadata": {
    "ExecuteTime": {
     "end_time": "2020-06-16T00:39:49.923814Z",
     "start_time": "2020-06-16T00:39:49.889906Z"
    }
   },
   "outputs": [
    {
     "data": {
      "text/plain": [
       "Index(['O3_ppm_mean', 'O3 (ppb)', 'NO2 (ppb)', 'PM2.5 (ug/m3)', 'CO_mean',\n",
       "       'CO (ppb)'],\n",
       "      dtype='object')"
      ]
     },
     "execution_count": 47,
     "metadata": {},
     "output_type": "execute_result"
    }
   ],
   "source": [
    "sd_atm_df = pd.read_csv(file_path21, parse_dates=['Date Local'],\n",
    "                                index_col=['Date Local'])\n",
    "sd_atm_df.head(2)\n",
    "sd_atm_df.columns"
   ]
  },
  {
   "cell_type": "code",
   "execution_count": 48,
   "metadata": {
    "ExecuteTime": {
     "end_time": "2020-06-16T00:40:05.657767Z",
     "start_time": "2020-06-16T00:40:05.652780Z"
    }
   },
   "outputs": [
    {
     "data": {
      "text/plain": [
       "(365, 6)"
      ]
     },
     "execution_count": 48,
     "metadata": {},
     "output_type": "execute_result"
    }
   ],
   "source": [
    "# sd_weather_2014_df.reset_index(inplace = True)\n",
    "# sd_weather_2014_df.head()\n",
    "# # Create plot space\n",
    "# fig, (ax1, ax2, ax3, ax4, ax5) = plt.subplots(5, \n",
    "#                             sharex = True, figsize = (10, 12))\n",
    "# # Add subtitle \n",
    "# fig.subplots_adjust(bottom=0.15, left=0.2)\n",
    "# fig.suptitle(\"\"\" Figure 1(a-e). Atmospheric conditions during wildfires\\n\n",
    "#                 Mar - June 2014, San Diego, CA.\"\"\", fontsize = 20)\n",
    "\n",
    "sd_atm_df.shape"
   ]
  },
  {
   "cell_type": "code",
   "execution_count": 49,
   "metadata": {
    "ExecuteTime": {
     "end_time": "2020-06-16T00:41:02.468705Z",
     "start_time": "2020-06-16T00:41:02.259236Z"
    }
   },
   "outputs": [
    {
     "data": {
      "image/png": "[encoded data removed]",
      "text/plain": [
       "<Figure size 432x288 with 1 Axes>"
      ]
     },
     "metadata": {},
     "output_type": "display_data"
    }
   ],
   "source": [
    "sd_atm_df.plot(x='O3 (ppb)', y='NO2 (ppb)', style='o', c='r')  \n",
    "plt.title('O3 vs NO2')  \n",
    "plt.xlabel('O3 (ppb)')  \n",
    "plt.ylabel('NO2 (ppb)')  \n",
    "plt.show()"
   ]
  },
  {
   "cell_type": "code",
   "execution_count": 72,
   "metadata": {
    "ExecuteTime": {
     "end_time": "2020-06-16T00:47:05.910141Z",
     "start_time": "2020-06-16T00:47:05.717653Z"
    }
   },
   "outputs": [
    {
     "data": {
      "image/png": "[encoded data removed]",
      "text/plain": [
       "<Figure size 432x288 with 1 Axes>"
      ]
     },
     "metadata": {},
     "output_type": "display_data"
    }
   ],
   "source": [
    "# fig, (ax1, ax2) = plt.subplots(2, 1\n",
    "#                             sharex = True, figsize = (10, 12))\n",
    "sd_atm_df.plot(x='NO2 (ppb)', y='CO_mean', style='o', c='b')  \n",
    "plt.title('NO2 vs CO')  \n",
    "plt.xlabel('NO2 (ppb)')  \n",
    "plt.ylabel('CO (ppm)')  \n",
    "plt.show()"
   ]
  },
  {
   "cell_type": "code",
   "execution_count": 73,
   "metadata": {
    "ExecuteTime": {
     "end_time": "2020-06-16T00:47:10.345341Z",
     "start_time": "2020-06-16T00:47:10.159805Z"
    }
   },
   "outputs": [
    {
     "data": {
      "text/plain": [
       "<matplotlib.axes._subplots.AxesSubplot at 0x21025502888>"
      ]
     },
     "execution_count": 73,
     "metadata": {},
     "output_type": "execute_result"
    },
    {
     "data": {
      "image/png": "[encoded data removed]",
      "text/plain": [
       "<Figure size 288x288 with 1 Axes>"
      ]
     },
     "metadata": {},
     "output_type": "display_data"
    }
   ],
   "source": [
    "plt.figure(figsize=(4,4))\n",
    "plt.tight_layout()\n",
    "sns.distplot(sd_atm_df['NO2 (ppb)'])"
   ]
  },
  {
   "cell_type": "markdown",
   "metadata": {},
   "source": [
    "Our next step is to divide the data into “attributes” and “labels”.\n",
    "Attributes are the independent variables while labels are dependent variables whose values are to be predicted. In our dataset, we only have two columns. We want to predict the MaxTemp depending upon the MinTemp recorded. Therefore our attribute set will consist of the “MinTemp” column which is stored in the X variable, and the label will be the “MaxTemp” column which is stored in y variable."
   ]
  },
  {
   "cell_type": "code",
   "execution_count": 82,
   "metadata": {
    "ExecuteTime": {
     "end_time": "2020-06-16T00:48:29.715556Z",
     "start_time": "2020-06-16T00:48:29.710572Z"
    }
   },
   "outputs": [],
   "source": [
    "X = sd_atm_df['NO2 (ppb)'].values.reshape(-1,1)\n",
    "y = sd_atm_df['CO_mean'].values.reshape(-1,1)"
   ]
  },
  {
   "cell_type": "markdown",
   "metadata": {},
   "source": [
    "Next, we split 80% of the data to the training set while 20% of the data to test set using below code.\n",
    "The test_size variable is where we actually specify the proportion of the test set."
   ]
  },
  {
   "cell_type": "code",
   "execution_count": 83,
   "metadata": {
    "ExecuteTime": {
     "end_time": "2020-06-16T00:48:39.480474Z",
     "start_time": "2020-06-16T00:48:39.475455Z"
    }
   },
   "outputs": [],
   "source": [
    "X_train, X_test, y_train, y_test = train_test_split(X, y, test_size=0.2, random_state=0)"
   ]
  },
  {
   "cell_type": "markdown",
   "metadata": {},
   "source": [
    "After splitting the data into training and testing sets, finally, the time is to train our algorithm. \n",
    "\n",
    "For that, we need to import LinearRegression class, instantiate it, \n",
    "and call the fit() method along with our training data.\n",
    "\n",
    "As we have discussed that the linear regression model basically finds the best value for the intercept and slope, which results in a line that best fits the data. To see the value of the intercept and slope calculated by the linear regression algorithm for our dataset, execute the following code."
   ]
  },
  {
   "cell_type": "code",
   "execution_count": 84,
   "metadata": {
    "ExecuteTime": {
     "end_time": "2020-06-16T00:48:42.962679Z",
     "start_time": "2020-06-16T00:48:42.955697Z"
    }
   },
   "outputs": [
    {
     "data": {
      "text/plain": [
       "LinearRegression(copy_X=True, fit_intercept=True, n_jobs=None, normalize=False)"
      ]
     },
     "execution_count": 84,
     "metadata": {},
     "output_type": "execute_result"
    }
   ],
   "source": [
    "regressor = LinearRegression()  \n",
    "regressor.fit(X_train, y_train) #training the algorithm"
   ]
  },
  {
   "cell_type": "code",
   "execution_count": 85,
   "metadata": {
    "ExecuteTime": {
     "end_time": "2020-06-16T00:48:46.412468Z",
     "start_time": "2020-06-16T00:48:46.408481Z"
    }
   },
   "outputs": [
    {
     "name": "stdout",
     "output_type": "stream",
     "text": [
      "[0.09713389]\n",
      "[[0.0292762]]\n"
     ]
    }
   ],
   "source": [
    "#To retrieve the intercept:\n",
    "print(regressor.intercept_)\n",
    "#For retrieving the slope:\n",
    "print(regressor.coef_)"
   ]
  },
  {
   "cell_type": "markdown",
   "metadata": {},
   "source": [
    "This means that for every one unit of change in NO2_mean, the change in the CO is about 0.029%.\n",
    "Now that we have trained our algorithm, it’s time to make some predictions. To do so, we will use our test data and see how accurately our algorithm predicts the percentage score. To make predictions on the test data, execute the following script:"
   ]
  },
  {
   "cell_type": "code",
   "execution_count": 86,
   "metadata": {
    "ExecuteTime": {
     "end_time": "2020-06-16T00:48:56.173583Z",
     "start_time": "2020-06-16T00:48:56.169563Z"
    }
   },
   "outputs": [],
   "source": [
    "y_pred = regressor.predict(X_test)"
   ]
  },
  {
   "cell_type": "markdown",
   "metadata": {},
   "source": [
    "Now compare the actual output values for X_test with the predicted values, execute the following script:"
   ]
  },
  {
   "cell_type": "code",
   "execution_count": 87,
   "metadata": {
    "ExecuteTime": {
     "end_time": "2020-06-16T00:48:59.610400Z",
     "start_time": "2020-06-16T00:48:59.602422Z"
    }
   },
   "outputs": [
    {
     "data": {
      "text/html": [
       "<div>\n",
       "<style scoped>\n",
       "    .dataframe tbody tr th:only-of-type {\n",
       "        vertical-align: middle;\n",
       "    }\n",
       "\n",
       "    .dataframe tbody tr th {\n",
       "        vertical-align: top;\n",
       "    }\n",
       "\n",
       "    .dataframe thead th {\n",
       "        text-align: right;\n",
       "    }\n",
       "</style>\n",
       "<table border=\"1\" class=\"dataframe\">\n",
       "  <thead>\n",
       "    <tr style=\"text-align: right;\">\n",
       "      <th></th>\n",
       "      <th>Actual</th>\n",
       "      <th>Predicted</th>\n",
       "    </tr>\n",
       "  </thead>\n",
       "  <tbody>\n",
       "    <tr>\n",
       "      <th>0</th>\n",
       "      <td>0.298769</td>\n",
       "      <td>0.274035</td>\n",
       "    </tr>\n",
       "    <tr>\n",
       "      <th>1</th>\n",
       "      <td>0.299539</td>\n",
       "      <td>0.344760</td>\n",
       "    </tr>\n",
       "    <tr>\n",
       "      <th>2</th>\n",
       "      <td>0.764370</td>\n",
       "      <td>0.764263</td>\n",
       "    </tr>\n",
       "    <tr>\n",
       "      <th>3</th>\n",
       "      <td>0.424460</td>\n",
       "      <td>0.474668</td>\n",
       "    </tr>\n",
       "    <tr>\n",
       "      <th>4</th>\n",
       "      <td>0.400365</td>\n",
       "      <td>0.457575</td>\n",
       "    </tr>\n",
       "  </tbody>\n",
       "</table>\n",
       "</div>"
      ],
      "text/plain": [
       "     Actual  Predicted\n",
       "0  0.298769   0.274035\n",
       "1  0.299539   0.344760\n",
       "2  0.764370   0.764263\n",
       "3  0.424460   0.474668\n",
       "4  0.400365   0.457575"
      ]
     },
     "execution_count": 87,
     "metadata": {},
     "output_type": "execute_result"
    }
   ],
   "source": [
    "df = pd.DataFrame({'Actual': y_test.flatten(), 'Predicted': y_pred.flatten()})\n",
    "df.head()"
   ]
  },
  {
   "cell_type": "markdown",
   "metadata": {},
   "source": [
    "We can also visualize comparison result as a bar graph using the below script :\n",
    "Note: As the number of records is huge, for representation purpose I’m taking just 15 records."
   ]
  },
  {
   "cell_type": "code",
   "execution_count": 88,
   "metadata": {
    "ExecuteTime": {
     "end_time": "2020-06-16T00:49:04.982589Z",
     "start_time": "2020-06-16T00:49:04.729239Z"
    }
   },
   "outputs": [
    {
     "data": {
      "image/png": "[encoded data removed]",
      "text/plain": [
       "<Figure size 576x360 with 1 Axes>"
      ]
     },
     "metadata": {},
     "output_type": "display_data"
    }
   ],
   "source": [
    "df1 = df.head(15)\n",
    "df1.plot(kind='bar',figsize=(8,5))\n",
    "plt.grid(which='major', linestyle='-', linewidth='0.5', color='green')\n",
    "plt.grid(which='minor', linestyle=':', linewidth='0.5', color='black')\n",
    "plt.show()"
   ]
  },
  {
   "cell_type": "raw",
   "metadata": {},
   "source": [
    "Though this model is not very precise, the predicted percentages are not within the error limits for the actual ones.\n",
    "The variation is high as all 10 mo monitoring stations have differnt RH levels. O3 formation and dissocation is complex multivariable parameters and hence changes in water vapor also affect  ozone concetration at photochemical equilibrium.\n",
    "1. add error bar range of the mean---- \n",
    "\n",
    "#### \n",
    "Let's plot our straight line with the test data:"
   ]
  },
  {
   "cell_type": "code",
   "execution_count": 89,
   "metadata": {
    "ExecuteTime": {
     "end_time": "2020-06-16T00:49:09.416305Z",
     "start_time": "2020-06-16T00:49:09.234761Z"
    },
    "scrolled": true
   },
   "outputs": [
    {
     "data": {
      "image/png": "[encoded data removed]",
      "text/plain": [
       "<Figure size 432x288 with 1 Axes>"
      ]
     },
     "metadata": {},
     "output_type": "display_data"
    }
   ],
   "source": [
    "plt.scatter(X_test, y_test,  color='gray')\n",
    "plt.plot(X_test, y_pred, color='red', linewidth=2)\n",
    "plt.show()"
   ]
  },
  {
   "attachments": {
    "MAE%20formulae.png": {
     "image/png": "[encoded data removed]"
    },
    "MSE_formulae.png": {
     "image/png": "[encoded data removed]"
    },
    "RMSE_formulae.png": {
     "image/png": "[encoded data removed]"
    }
   },
   "cell_type": "markdown",
   "metadata": {},
   "source": [
    "The straight line in the above graph shows our algorithm is correct.\n",
    "The final step is to evaluate the performance of the algorithm. This step is particularly important to compare how well different algorithms perform on a particular dataset. For regression algorithms, three evaluation metrics are commonly used:\n",
    "1. Mean Absolute Error (MAE) is the mean of the absolute value of the errors. It is calculated as:\n",
    "\n",
    "![MAE%20formulae.png](attachment:MAE%20formulae.png)\n",
    "\n",
    "2. Mean Squared Error (MSE) is the mean of the squared errors and is calculated as:\n",
    "\n",
    "![MSE_formulae.png](attachment:MSE_formulae.png)\n",
    "3. Root Mean Squared Error (RMSE) is the square root of the mean of the squared errors:\n",
    "\n",
    "![RMSE_formulae.png](attachment:RMSE_formulae.png)\n",
    "\n",
    "Luckily, we don’t have to perform these calculations manually. The Scikit-Learn library comes with pre-built functions that can be used to find out these values for us.\n",
    "Let’s find the values for these metrics using our test data.\n"
   ]
  },
  {
   "cell_type": "code",
   "execution_count": 90,
   "metadata": {
    "ExecuteTime": {
     "end_time": "2020-06-16T00:49:18.116134Z",
     "start_time": "2020-06-16T00:49:18.109124Z"
    }
   },
   "outputs": [
    {
     "name": "stdout",
     "output_type": "stream",
     "text": [
      "Mean Absolute Error: 0.03790606258368175\n",
      "Mean Squared Error: 0.0023326923930414834\n",
      "Root Mean Squared Error: 0.04829795433599112\n"
     ]
    }
   ],
   "source": [
    "print('Mean Absolute Error:', metrics.mean_absolute_error(y_test, y_pred))  \n",
    "print('Mean Squared Error:', metrics.mean_squared_error(y_test, y_pred))  \n",
    "print('Root Mean Squared Error:', np.sqrt(metrics.mean_squared_error(y_test, y_pred)))"
   ]
  },
  {
   "attachments": {
    "image.png": {
     "image/png": "[encoded data removed]"
    }
   },
   "cell_type": "markdown",
   "metadata": {},
   "source": [
    "Multiple Linear Regression\n",
    "\n",
    "![image.png](attachment:image.png)\n",
    "\n",
    "The linear regression in the above section O3 with NO2 involved two variables. In real-world Ozone formation and release of pllutants and atmospheric conditions show large variations and hence we need to include more than two variables. Linear regression involving multiple variables is called “multiple linear regression” or multivariate linear regression. The steps to perform multiple linear regression are almost similar to that of simple linear regression. The difference lies in the evaluation. We can use it to find out which factor has the highest impact on the predicted output and how different variables relate to each other."
   ]
  },
  {
   "cell_type": "code",
   "execution_count": 91,
   "metadata": {
    "ExecuteTime": {
     "end_time": "2020-06-16T00:49:30.936706Z",
     "start_time": "2020-06-16T00:49:30.930696Z"
    }
   },
   "outputs": [
    {
     "data": {
      "text/plain": [
       "O3_ppm_mean      False\n",
       "O3 (ppb)         False\n",
       "NO2 (ppb)        False\n",
       "PM2.5 (ug/m3)    False\n",
       "CO_mean          False\n",
       "CO (ppb)         False\n",
       "dtype: bool"
      ]
     },
     "execution_count": 91,
     "metadata": {},
     "output_type": "execute_result"
    }
   ],
   "source": [
    "# To check empty columns\n",
    "sd_atm_df.isnull().any()"
   ]
  },
  {
   "cell_type": "markdown",
   "metadata": {},
   "source": [
    "Once the above code is executed, all the columns should give False, \n",
    "In case for any column you find True result, then remove all the null values from that column using below code."
   ]
  },
  {
   "cell_type": "code",
   "execution_count": 92,
   "metadata": {
    "ExecuteTime": {
     "end_time": "2020-06-16T00:49:34.339647Z",
     "start_time": "2020-06-16T00:49:34.335627Z"
    }
   },
   "outputs": [],
   "source": [
    "dataset = sd_atm_df.fillna(method='ffill')"
   ]
  },
  {
   "cell_type": "code",
   "execution_count": 93,
   "metadata": {
    "ExecuteTime": {
     "end_time": "2020-06-16T00:49:38.403326Z",
     "start_time": "2020-06-16T00:49:38.380354Z"
    }
   },
   "outputs": [
    {
     "data": {
      "text/html": [
       "<div>\n",
       "<style scoped>\n",
       "    .dataframe tbody tr th:only-of-type {\n",
       "        vertical-align: middle;\n",
       "    }\n",
       "\n",
       "    .dataframe tbody tr th {\n",
       "        vertical-align: top;\n",
       "    }\n",
       "\n",
       "    .dataframe thead th {\n",
       "        text-align: right;\n",
       "    }\n",
       "</style>\n",
       "<table border=\"1\" class=\"dataframe\">\n",
       "  <thead>\n",
       "    <tr style=\"text-align: right;\">\n",
       "      <th></th>\n",
       "      <th>O3_ppm_mean</th>\n",
       "      <th>O3 (ppb)</th>\n",
       "      <th>NO2 (ppb)</th>\n",
       "      <th>PM2.5 (ug/m3)</th>\n",
       "      <th>CO_mean</th>\n",
       "      <th>CO (ppb)</th>\n",
       "    </tr>\n",
       "  </thead>\n",
       "  <tbody>\n",
       "    <tr>\n",
       "      <th>count</th>\n",
       "      <td>365.000000</td>\n",
       "      <td>365.000000</td>\n",
       "      <td>365.000000</td>\n",
       "      <td>365.000000</td>\n",
       "      <td>365.000000</td>\n",
       "      <td>365.000000</td>\n",
       "    </tr>\n",
       "    <tr>\n",
       "      <th>mean</th>\n",
       "      <td>0.030693</td>\n",
       "      <td>30.693122</td>\n",
       "      <td>10.490526</td>\n",
       "      <td>10.493389</td>\n",
       "      <td>0.403001</td>\n",
       "      <td>403.001442</td>\n",
       "    </tr>\n",
       "    <tr>\n",
       "      <th>std</th>\n",
       "      <td>0.006991</td>\n",
       "      <td>6.990947</td>\n",
       "      <td>6.042576</td>\n",
       "      <td>4.754778</td>\n",
       "      <td>0.189696</td>\n",
       "      <td>189.696481</td>\n",
       "    </tr>\n",
       "    <tr>\n",
       "      <th>min</th>\n",
       "      <td>0.011977</td>\n",
       "      <td>11.977000</td>\n",
       "      <td>2.655821</td>\n",
       "      <td>2.066667</td>\n",
       "      <td>0.153409</td>\n",
       "      <td>153.409000</td>\n",
       "    </tr>\n",
       "    <tr>\n",
       "      <th>25%</th>\n",
       "      <td>0.025705</td>\n",
       "      <td>25.704818</td>\n",
       "      <td>5.732708</td>\n",
       "      <td>7.730729</td>\n",
       "      <td>0.260755</td>\n",
       "      <td>260.754833</td>\n",
       "    </tr>\n",
       "    <tr>\n",
       "      <th>50%</th>\n",
       "      <td>0.030571</td>\n",
       "      <td>30.571100</td>\n",
       "      <td>8.517046</td>\n",
       "      <td>10.026191</td>\n",
       "      <td>0.344201</td>\n",
       "      <td>344.200500</td>\n",
       "    </tr>\n",
       "    <tr>\n",
       "      <th>75%</th>\n",
       "      <td>0.035479</td>\n",
       "      <td>35.478700</td>\n",
       "      <td>13.773292</td>\n",
       "      <td>12.513799</td>\n",
       "      <td>0.512228</td>\n",
       "      <td>512.228500</td>\n",
       "    </tr>\n",
       "    <tr>\n",
       "      <th>max</th>\n",
       "      <td>0.052010</td>\n",
       "      <td>52.010000</td>\n",
       "      <td>32.668723</td>\n",
       "      <td>60.135417</td>\n",
       "      <td>1.017736</td>\n",
       "      <td>1017.736333</td>\n",
       "    </tr>\n",
       "  </tbody>\n",
       "</table>\n",
       "</div>"
      ],
      "text/plain": [
       "       O3_ppm_mean    O3 (ppb)   NO2 (ppb)  PM2.5 (ug/m3)     CO_mean  \\\n",
       "count   365.000000  365.000000  365.000000     365.000000  365.000000   \n",
       "mean      0.030693   30.693122   10.490526      10.493389    0.403001   \n",
       "std       0.006991    6.990947    6.042576       4.754778    0.189696   \n",
       "min       0.011977   11.977000    2.655821       2.066667    0.153409   \n",
       "25%       0.025705   25.704818    5.732708       7.730729    0.260755   \n",
       "50%       0.030571   30.571100    8.517046      10.026191    0.344201   \n",
       "75%       0.035479   35.478700   13.773292      12.513799    0.512228   \n",
       "max       0.052010   52.010000   32.668723      60.135417    1.017736   \n",
       "\n",
       "          CO (ppb)  \n",
       "count   365.000000  \n",
       "mean    403.001442  \n",
       "std     189.696481  \n",
       "min     153.409000  \n",
       "25%     260.754833  \n",
       "50%     344.200500  \n",
       "75%     512.228500  \n",
       "max    1017.736333  "
      ]
     },
     "execution_count": 93,
     "metadata": {},
     "output_type": "execute_result"
    }
   ],
   "source": [
    "dataset.describe()"
   ]
  },
  {
   "cell_type": "markdown",
   "metadata": {},
   "source": [
    "Our next step is to divide the data into “attributes” and “labels”. \n",
    "\n",
    "X variable contains all the attributes/features and y variable contains labels."
   ]
  },
  {
   "cell_type": "code",
   "execution_count": 94,
   "metadata": {
    "ExecuteTime": {
     "end_time": "2020-06-16T00:49:56.731706Z",
     "start_time": "2020-06-16T00:49:56.726689Z"
    }
   },
   "outputs": [],
   "source": [
    "X = dataset[[ 'NO2 (ppb)','CO_mean', 'PM2.5 (ug/m3)']].values\n",
    "y = dataset['O3 (ppb)'].values"
   ]
  },
  {
   "cell_type": "code",
   "execution_count": 95,
   "metadata": {
    "ExecuteTime": {
     "end_time": "2020-06-16T00:50:00.298916Z",
     "start_time": "2020-06-16T00:50:00.061810Z"
    }
   },
   "outputs": [
    {
     "data": {
      "text/plain": [
       "<matplotlib.axes._subplots.AxesSubplot at 0x210255e5488>"
      ]
     },
     "execution_count": 95,
     "metadata": {},
     "output_type": "execute_result"
    },
    {
     "data": {
      "image/png": "[encoded data removed]",
      "text/plain": [
       "<Figure size 288x288 with 1 Axes>"
      ]
     },
     "metadata": {},
     "output_type": "display_data"
    }
   ],
   "source": [
    "plt.figure(figsize=(4,4))\n",
    "plt.tight_layout()\n",
    "sns.distplot(dataset['O3 (ppb)'])"
   ]
  },
  {
   "cell_type": "code",
   "execution_count": 96,
   "metadata": {
    "ExecuteTime": {
     "end_time": "2020-06-16T00:50:05.931285Z",
     "start_time": "2020-06-16T00:50:05.926301Z"
    }
   },
   "outputs": [],
   "source": [
    "X_train, X_test, y_train, y_test = train_test_split(X, y, test_size=0.2, random_state=0)"
   ]
  },
  {
   "cell_type": "code",
   "execution_count": 97,
   "metadata": {
    "ExecuteTime": {
     "end_time": "2020-06-16T00:50:09.353215Z",
     "start_time": "2020-06-16T00:50:09.345237Z"
    }
   },
   "outputs": [
    {
     "data": {
      "text/plain": [
       "LinearRegression(copy_X=True, fit_intercept=True, n_jobs=None, normalize=False)"
      ]
     },
     "execution_count": 97,
     "metadata": {},
     "output_type": "execute_result"
    }
   ],
   "source": [
    "regressor = LinearRegression()  \n",
    "regressor.fit(X_train, y_train)\n",
    "\n",
    "# regressor = LinearRegression()  \n",
    "# regressor.fit(X_train, y_train) #training the algorithm"
   ]
  },
  {
   "cell_type": "code",
   "execution_count": 98,
   "metadata": {
    "ExecuteTime": {
     "end_time": "2020-06-16T00:50:12.795537Z",
     "start_time": "2020-06-16T00:50:12.790559Z"
    }
   },
   "outputs": [
    {
     "name": "stdout",
     "output_type": "stream",
     "text": [
      "33.395895011457256\n",
      "[-0.4457463  -0.79214025  0.20259138]\n"
     ]
    }
   ],
   "source": [
    "#To retrieve the intercept:\n",
    "print(regressor.intercept_)\n",
    "#For retrieving the slope:\n",
    "print(regressor.coef_)"
   ]
  },
  {
   "cell_type": "code",
   "execution_count": 99,
   "metadata": {
    "ExecuteTime": {
     "end_time": "2020-06-16T00:50:32.187625Z",
     "start_time": "2020-06-16T00:50:32.178652Z"
    }
   },
   "outputs": [],
   "source": [
    "import pandas as pd  \n",
    "import numpy as np  \n",
    "import matplotlib.pyplot as plt  \n",
    "import seaborn as seabornInstance \n",
    "from sklearn.model_selection import train_test_split \n",
    "from sklearn.linear_model import LinearRegression\n",
    "from sklearn import metrics\n",
    "%matplotlib inline"
   ]
  },
  {
   "cell_type": "code",
   "execution_count": 100,
   "metadata": {
    "ExecuteTime": {
     "end_time": "2020-06-16T00:50:35.598067Z",
     "start_time": "2020-06-16T00:50:35.595061Z"
    }
   },
   "outputs": [],
   "source": [
    "# coeff_df = pd.DataFrame(regressor.coef_, X.columns)  \n",
    "# coeff_df"
   ]
  },
  {
   "cell_type": "code",
   "execution_count": 101,
   "metadata": {
    "ExecuteTime": {
     "end_time": "2020-06-16T00:50:39.013245Z",
     "start_time": "2020-06-16T00:50:39.009256Z"
    }
   },
   "outputs": [],
   "source": [
    "y_pred = regressor.predict(X_test)"
   ]
  },
  {
   "cell_type": "code",
   "execution_count": 102,
   "metadata": {
    "ExecuteTime": {
     "end_time": "2020-06-16T00:50:42.448586Z",
     "start_time": "2020-06-16T00:50:42.439610Z"
    }
   },
   "outputs": [
    {
     "data": {
      "text/html": [
       "<div>\n",
       "<style scoped>\n",
       "    .dataframe tbody tr th:only-of-type {\n",
       "        vertical-align: middle;\n",
       "    }\n",
       "\n",
       "    .dataframe tbody tr th {\n",
       "        vertical-align: top;\n",
       "    }\n",
       "\n",
       "    .dataframe thead th {\n",
       "        text-align: right;\n",
       "    }\n",
       "</style>\n",
       "<table border=\"1\" class=\"dataframe\">\n",
       "  <thead>\n",
       "    <tr style=\"text-align: right;\">\n",
       "      <th></th>\n",
       "      <th>Actual</th>\n",
       "      <th>Predicted</th>\n",
       "    </tr>\n",
       "  </thead>\n",
       "  <tbody>\n",
       "    <tr>\n",
       "      <th>0</th>\n",
       "      <td>39.496778</td>\n",
       "      <td>33.963768</td>\n",
       "    </tr>\n",
       "    <tr>\n",
       "      <th>1</th>\n",
       "      <td>29.229364</td>\n",
       "      <td>31.405086</td>\n",
       "    </tr>\n",
       "    <tr>\n",
       "      <th>2</th>\n",
       "      <td>24.700636</td>\n",
       "      <td>25.743098</td>\n",
       "    </tr>\n",
       "    <tr>\n",
       "      <th>3</th>\n",
       "      <td>23.405000</td>\n",
       "      <td>29.826982</td>\n",
       "    </tr>\n",
       "    <tr>\n",
       "      <th>4</th>\n",
       "      <td>37.794300</td>\n",
       "      <td>30.561945</td>\n",
       "    </tr>\n",
       "  </tbody>\n",
       "</table>\n",
       "</div>"
      ],
      "text/plain": [
       "      Actual  Predicted\n",
       "0  39.496778  33.963768\n",
       "1  29.229364  31.405086\n",
       "2  24.700636  25.743098\n",
       "3  23.405000  29.826982\n",
       "4  37.794300  30.561945"
      ]
     },
     "execution_count": 102,
     "metadata": {},
     "output_type": "execute_result"
    }
   ],
   "source": [
    "df = pd.DataFrame({'Actual': y_test, 'Predicted': y_pred})\n",
    "df.head()"
   ]
  },
  {
   "cell_type": "code",
   "execution_count": 103,
   "metadata": {
    "ExecuteTime": {
     "end_time": "2020-06-16T00:50:46.160208Z",
     "start_time": "2020-06-16T00:50:45.883439Z"
    }
   },
   "outputs": [
    {
     "data": {
      "image/png": "[encoded data removed]",
      "text/plain": [
       "<Figure size 720x432 with 1 Axes>"
      ]
     },
     "metadata": {
      "needs_background": "light"
     },
     "output_type": "display_data"
    }
   ],
   "source": [
    "df1.plot(kind='bar',figsize=(10,6))\n",
    "plt.grid(which='major', linestyle='-', linewidth='0.5', color='green')\n",
    "plt.grid(which='minor', linestyle=':', linewidth='0.5', color='black')\n",
    "plt.show()"
   ]
  },
  {
   "cell_type": "code",
   "execution_count": 104,
   "metadata": {
    "ExecuteTime": {
     "end_time": "2020-06-16T00:50:49.519274Z",
     "start_time": "2020-06-16T00:50:49.513255Z"
    }
   },
   "outputs": [
    {
     "name": "stdout",
     "output_type": "stream",
     "text": [
      "Mean Absolute Error: 5.175979035211536\n",
      "Mean Squared Error: 42.42135163302012\n",
      "Root Mean Squared Error: 6.513167557572899\n"
     ]
    }
   ],
   "source": [
    "print('Mean Absolute Error:', metrics.mean_absolute_error(y_test, y_pred))  \n",
    "print('Mean Squared Error:', metrics.mean_squared_error(y_test, y_pred))  \n",
    "print('Root Mean Squared Error:', np.sqrt(metrics.mean_squared_error(y_test, y_pred)))"
   ]
  },
  {
   "cell_type": "markdown",
   "metadata": {},
   "source": [
    "Mean O3= 30.693\n",
    "RMSE = 6.51\n",
    "# Conclusion:\n",
    "The ozone prediction from model = (6.51/30.69)*100 ~ 20% less than actual value. still quite a good model fit. If we separate inland vs coastal, RMSE will reduce significantly. Taking wildfire days out will improve the parameters and hence MLR coefficents. \n",
    "the O3 fromation depends on temp, pressure and destruction with OH radical, photolysis and collisons with air moleucles.  The data for one of the important source of ozone formation VOC is incomplete and it can signficntly brings predicted values in alignment with the observed one.\n",
    "\n",
    "\n",
    "Robina Shaheen\n"
   ]
  },
  {
   "cell_type": "markdown",
   "metadata": {},
   "source": []
  },
  {
   "cell_type": "code",
   "execution_count": null,
   "metadata": {},
   "outputs": [],
   "source": []
  }
 ],
 "metadata": {
  "kernelspec": {
   "display_name": "Python 3",
   "language": "python",
   "name": "python3"
  },
  "language_info": {
   "codemirror_mode": {
    "name": "ipython",
    "version": 3
   },
   "file_extension": ".py",
   "mimetype": "text/x-python",
   "name": "python",
   "nbconvert_exporter": "python",
   "pygments_lexer": "ipython3",
   "version": "3.7.6"
  },
  "toc": {
   "base_numbering": 1,
   "nav_menu": {},
   "number_sections": true,
   "sideBar": true,
   "skip_h1_title": false,
   "title_cell": "Table of Contents",
   "title_sidebar": "Contents",
   "toc_cell": false,
   "toc_position": {},
   "toc_section_display": true,
   "toc_window_display": false
  },
  "varInspector": {
   "cols": {
    "lenName": 16,
    "lenType": 16,
    "lenVar": 40
   },
   "kernels_config": {
    "python": {
     "delete_cmd_postfix": "",
     "delete_cmd_prefix": "del ",
     "library": "var_list.py",
     "varRefreshCmd": "print(var_dic_list())"
    },
    "r": {
     "delete_cmd_postfix": ") ",
     "delete_cmd_prefix": "rm(",
     "library": "var_list.r",
     "varRefreshCmd": "cat(var_dic_list()) "
    }
   },
   "types_to_exclude": [
    "module",
    "function",
    "builtin_function_or_method",
    "instance",
    "_Feature"
   ],
   "window_display": false
  }
 },
 "nbformat": 4,
 "nbformat_minor": 4
}
