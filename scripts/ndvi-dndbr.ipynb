{
 "cells": [
  {
   "cell_type": "code",
   "execution_count": null,
   "metadata": {
    "ExecuteTime": {
     "end_time": "2020-05-06T10:27:11.326984Z",
     "start_time": "2020-05-06T10:27:11.307853Z"
    }
   },
   "outputs": [],
   "source": [
    "# Function to crop and stack landsat08 images\n",
    "def crop_stack_data(files_to_crop, crop_dir_path, crop_bound):\n",
    "    \"\"\"Crops a set of tif files and saves them \n",
    "    in a crop directory. Returns a stacked numpy \n",
    "    array of bands.\n",
    "    \n",
    "    Parameters\n",
    "    ----------\n",
    "    files_to_crop : list\n",
    "        List of paths to multispectrum scenes \n",
    "        (.tiff) to be cropped.\n",
    "    \n",
    "    crop_dir_path : string\n",
    "        The path to an output directory.  \n",
    "        use conditional statment to create one,\n",
    "        if not in existance. \n",
    "        The directory will store, \n",
    "        cropped and stacked bands.\n",
    "        \n",
    "    crop_bound : gpd (GeoPandas GeoDataFrame)\n",
    "        Vector shape file geodataframe used for \n",
    "        cropping area of interest from the files_to_crop.\n",
    "    \n",
    "    Returns\n",
    "    -------\n",
    "    all_bands_stack : numpy array(s)\n",
    "        Stacked and cropped numpy array bands \n",
    "        (our new aoi's).\n",
    "    \n",
    "    fire_crop_bound : GeoPandas GeoDataFrame\n",
    "        A vector shape file that either shares \n",
    "        the crs of the stacked bands or is \n",
    "        reprojected from the crop_bound crs.\n",
    "    \"\"\"\n",
    "    if not os.path.exists(crop_dir_path):\n",
    "        os.mkdir(crop_dir_path)\n",
    "        \n",
    "    # Reproject boundary .shp to geotiff crs \n",
    "    with rio.open(files_to_crop[0]) as landsat_src:\n",
    "        if not crop_bound.crs == landsat_src.crs:\n",
    "            fire_crop_bound = crop_bound.to_crs(\n",
    "                                  landsat_src.crs)\n",
    "            extent = plotting_extent(landsat_src)\n",
    "#         crop_bound = crop_bound.to_crs(src.crs)\n",
    " \n",
    "    #  crop images using earthpy \n",
    "    es.crop_all(raster_paths=files_to_crop,\n",
    "                output_dir=crop_dir_path,\n",
    "                geoms= fire_crop_bound,\n",
    "                overwrite=True)\n",
    "    \n",
    "    # Retrieve cropped bands from the new directory\n",
    "    all_bands = sorted(glob(os.path.join(\n",
    "                       crop_dir_path, \"*.tif\")))\n",
    "    # Stack cropped bands\n",
    "    all_stack_bands, stack_bands_meta = es.stack(all_bands)\n",
    "    \n",
    "    # return cropped, stacked bands and fire boundary\n",
    "    return all_stack_bands, stack_bands_meta, fire_crop_bound"
   ]
  },
  {
   "cell_type": "code",
   "execution_count": 5,
   "metadata": {
    "ExecuteTime": {
     "end_time": "2020-05-06T10:27:11.354696Z",
     "start_time": "2020-05-06T10:27:11.333748Z"
    }
   },
   "outputs": [],
   "source": [
    "# Function to mask clouds from the landsat08 images\n",
    "def mask_data(arr, path_to_qa):   \n",
    "    \"\"\"Function that masks numpy arrays \n",
    "    using qa layer.\n",
    "    \n",
    "    Parameters\n",
    "    ----------\n",
    "    arr : numpy array\n",
    "        Numpy array(s) of bands of aoi       \n",
    "    \n",
    "    path_to_qa : str\n",
    "        Path to QA layer(s) associated with each band        \n",
    "    \n",
    "    Returns\n",
    "    -------\n",
    "    arr : masked numpy array\n",
    "        Updated numpy array(s) of bands with high cloud\n",
    "        confidence, clouds and cloud shadows masked.        \n",
    "    \"\"\"\n",
    "    # 1. open the qa layer\n",
    "    with rio.open(path_to_qa[0]) as src:\n",
    "        mask_arr = src.read(1)\n",
    "        \n",
    "    # Cloud mask values\n",
    "    high_cloud_confidence = em.pixel_flags[\"pixel_qa\"][\"L8\"][\"High Cloud Confidence\"]\n",
    "    cloud = em.pixel_flags[\"pixel_qa\"][\"L8\"][\"Cloud\"]\n",
    "    cloud_shadow = em.pixel_flags[\"pixel_qa\"][\"L8\"][\"Cloud Shadow\"]\n",
    "\n",
    "    all_masked_values = cloud_shadow + cloud + high_cloud_confidence\n",
    "    \n",
    "    # 2. Mask the numpy array \n",
    "    if any(i in np.unique(mask_arr) for i in all_masked_values):\n",
    "        landsat_masked_bands = em.mask_pixels(arr,\n",
    "                                              mask_arr,\n",
    "                                              vals=all_masked_values)\n",
    "        return landsat_masked_bands\n",
    "    else:\n",
    "        print(\"There are no pixels to mask\")\n",
    "        return arr"
   ]
  },
  {
   "cell_type": "code",
   "execution_count": 6,
   "metadata": {
    "ExecuteTime": {
     "end_time": "2020-05-06T10:27:11.372667Z",
     "start_time": "2020-05-06T10:27:11.361679Z"
    }
   },
   "outputs": [],
   "source": [
    "# Function to classify burned areas\n",
    "def classify_dnbr(arr):\n",
    "    \"\"\"Function that creates a new numpy array of classified\n",
    "    values using difference normalized burn ratio (dNBR) as\n",
    "    numpy array. \n",
    "    \n",
    "    Parameters\n",
    "    ----------\n",
    "    arr : Numpy array\n",
    "        Numpy array(s) containing dNBR data.        \n",
    "    \n",
    "    Returns\n",
    "    -------\n",
    "    arr_class : Numpy array\n",
    "        Numpy array(s) containing reclassified \n",
    "        dNBR values in 5 possible classes.        \n",
    "    \"\"\"\n",
    "\n",
    "    # YOUR CODE HERE\n",
    "    # bins to define fire severity\n",
    "    class_bins = [-np.inf, -.1, .1, .27, .66, np.inf]\n",
    "    \n",
    "    # code to classify dnbr values \n",
    "    arr_reclass = np.digitize(arr, class_bins)\n",
    "        \n",
    "    return arr_reclass"
   ]
  }
 ],
 "metadata": {
  "kernelspec": {
   "display_name": "Python 3",
   "language": "python",
   "name": "python3"
  },
  "language_info": {
   "codemirror_mode": {
    "name": "ipython",
    "version": 3
   },
   "file_extension": ".py",
   "mimetype": "text/x-python",
   "name": "python",
   "nbconvert_exporter": "python",
   "pygments_lexer": "ipython3",
   "version": "3.7.6"
  },
  "toc": {
   "base_numbering": 1,
   "nav_menu": {},
   "number_sections": true,
   "sideBar": true,
   "skip_h1_title": false,
   "title_cell": "Table of Contents",
   "title_sidebar": "Contents",
   "toc_cell": false,
   "toc_position": {},
   "toc_section_display": true,
   "toc_window_display": false
  },
  "varInspector": {
   "cols": {
    "lenName": 16,
    "lenType": 16,
    "lenVar": 40
   },
   "kernels_config": {
    "python": {
     "delete_cmd_postfix": "",
     "delete_cmd_prefix": "del ",
     "library": "var_list.py",
     "varRefreshCmd": "print(var_dic_list())"
    },
    "r": {
     "delete_cmd_postfix": ") ",
     "delete_cmd_prefix": "rm(",
     "library": "var_list.r",
     "varRefreshCmd": "cat(var_dic_list()) "
    }
   },
   "types_to_exclude": [
    "module",
    "function",
    "builtin_function_or_method",
    "instance",
    "_Feature"
   ],
   "window_display": false
  }
 },
 "nbformat": 4,
 "nbformat_minor": 4
}
